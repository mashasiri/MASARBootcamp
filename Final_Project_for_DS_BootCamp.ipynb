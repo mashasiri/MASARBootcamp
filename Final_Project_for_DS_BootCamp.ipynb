{
  "nbformat": 4,
  "nbformat_minor": 0,
  "metadata": {
    "colab": {
      "provenance": [],
      "toc_visible": true,
      "include_colab_link": true
    },
    "kernelspec": {
      "name": "python3",
      "display_name": "Python 3"
    },
    "language_info": {
      "name": "python"
    }
  },
  "cells": [
    {
      "cell_type": "markdown",
      "metadata": {
        "id": "view-in-github",
        "colab_type": "text"
      },
      "source": [
        "<a href=\"https://colab.research.google.com/github/mashasiri/MASARBootcamp/blob/main/Final_Project_for_DS_BootCamp.ipynb\" target=\"_parent\"><img src=\"https://colab.research.google.com/assets/colab-badge.svg\" alt=\"Open In Colab\"/></a>"
      ]
    },
    {
      "cell_type": "markdown",
      "source": [
        "# Project Title\n",
        "The Binary Classification of Network Intrusion in IoT Environments\n",
        "\n",
        "## Team Members\n",
        "\n",
        "- **Mashael Asiri**\n",
        "- **Hajer aljohani**\n",
        "- **Ghaidaa Alasmari**\n",
        "- **Renad Alharbi**\n",
        "\n",
        "## Supervisor\n",
        "- **Eng. Mosab Al-Abdulrahman**\n",
        "\n",
        "---"
      ],
      "metadata": {
        "id": "P909SRWGPfgw"
      }
    },
    {
      "cell_type": "markdown",
      "source": [
        "\n",
        "# PART 1: IoT Network Intrusion Dataset Explanation\n",
        "- **Flow ID:** Flow Identifier\n",
        "- **Src IP Source:** IP Address Src\n",
        "- **Port Source :** Port Number\n",
        "- **Dst IP :** Destination IP Address\n",
        "- **Dst Port :** Destination Port Number\n",
        "- **Protocol :** Internet Protocol used\n",
        "- **Timestamp :** Timestamp of the packet\n",
        "- **Flow duration :** Duration of the flow in Microsecond\n",
        "- **total Fwd Packet :** Total packets in the forward direction\n",
        "- **total Bwd packets :** Total packets in the backward direction\n",
        "- **total Length of Fwd Packet :** Total size of packet in forward direction\n",
        "- **total Length of Bwd Packet :** Total size of packet in backward direction\n",
        "- **Fwd Packet Length Min:** Minimum size of packet in forward direction\n",
        "- **Fwd Packet Length Max:** maximum size of packet in forward direction\n",
        "- **Fwd Packet Length Mean** Mean size of packet in forward direction\n",
        "- **Fwd Packet Length Std:** Standard deviation size of packet in forward direction\n",
        "- **Bwd Packet Length Min:** Minimum size of packet in backward direction\n",
        "- **Bwd Packet Length Max:** Maximum size of packet in backward direction\n",
        "- **Bwd Packet Length Mean:** Mean size of packet in backward direction\n",
        "- **Bwd Packet Length Std:** Standard deviation size of packet in backward direction\n",
        "- **Flow Bytes/s :** Number of flow bytes per second\n",
        "- **Flow Packets/s:** Number of flow packets per second\n",
        "- **Flow IAT Mean:** Mean time between two packets sent in the flow\n",
        "- **Flow IAT Std:** Standard deviation time between two packets sent in the flow\n",
        "- **Flow IAT Max:** Maximum time between two packets sent in the flow\n",
        "- **Flow IAT Min:** Minimum time between two packets sent in the flow Fwd IAT Min Minimum time between two packets sent in the forward direction\n",
        "- **Fwd IAT Max:** Maximum time between two packets sent in the forward direction\n",
        "- **Fwd IAT Mean:** Mean time between two packets sent in the forward direction\n",
        "- **Fwd IAT Std:** Standard deviation time between two packets sent in the forward direction\n",
        "- **Fwd IAT Total:** Total time between two packets sent in the forward direction\n",
        "- **Bwd IAT Min:** Minimum time between two packets sent in the backward direction\n",
        "- **Bwd IAT Max:** Maximum time between two packets sent in the backward direction\n",
        "- **Bwd IAT Mean:** Mean time between two packets sent in the backward direction\n",
        "- **Bwd IAT Std:** Standard deviation time between two packets sent in the backward direction\n",
        "- **Bwd IAT Total:** Total time between two packets sent in the backward direction\n",
        "- **Fwd PSH flags:** Number of times the PSH flag was set in packets travelling in the forward direction (0 for UDP)\n",
        "- **Bwd PSH Flags:** Number of times the PSH flag was set in packets travelling in the backward direction (0 for UDP)\n",
        "- **Fwd URG Flags:** Number of times the URG flag was set in packets travelling in the forward direction (0 for UDP)\n",
        "- **Bwd URG Flags:** Number of times the URG flag was set in packets travelling in the backward direction (0 for UDP)\n",
        "- **Fwd Header Length:** Total bytes used for headers in the forward direction\n",
        "- **Bwd Header Length:** Total bytes used for headers in the backward direction\n",
        "- **FWD Packets/s:** Number of forward packets per second\n",
        "- **Bwd Packets/s:** Number of backward packets per second\n",
        "- **Packet Length Min:** Minimum length of a packet\n",
        "- **Packet Length Max:** Maximum length of a packet\n",
        "- **Packet Length Mean:** Mean length of a packet\n",
        "- **Packet Length Std:** Standard deviation length of a packet\n",
        "- **Packet Length Variance:** Variance length of a packet\n",
        "- **FIN Flag Count:** Number of packets with FIN\n",
        "- **SYN Flag Count:** Number of packets with SYN\n",
        "- **RST Flag Count:** Number of packets with RST\n",
        "- **PSH Flag Count:** Number of packets with PUSH\n",
        "- **ACK Flag Count:** Number of packets with ACK\n",
        "- **URG Flag Count:** Number of packets with URG\n",
        "- **CWR Flag Count:**Number of packets with CWR\n",
        "- **ECE Flag Count:** Number of packets with ECE\n",
        "- **down/Up Ratio:** Download and upload ratio\n",
        "- **Average Packet Size:** Average size of packet\n",
        "- **Fwd Segment Size Avg:** Average size observed in the forward direction\n",
        "- **Bwd Segment Size Avg:** Average number of bytes bulk rate in the backward direction\n",
        "- **Fwd Bytes/Bulk Avg:**Average number of bytes bulk rate in the forward direction\n",
        "- **Fwd Packet/Bulk Avg:** Average number of packets bulk rate in the forward direction\n",
        "- **Fwd Bulk Rate Avg:** Average number of bulk rate in the forward direction\n",
        "- **Bwd Bytes/Bulk Avg:** Average number of bytes bulk rate in the backward direction\n",
        "- **Bwd Packet/Bulk Avg:** Average number of packets bulk rate in the backward direction\n",
        "- **Bwd Bulk Rate Avg:** Average number of bulk rate in the backward direction  \n",
        "- **Subflow Fwd Packets:** The average number of packets in a sub flow in the forward direction\n",
        "- **Subflow Fwd Bytes:** The average number of bytes in a sub flow in the forward direction\n",
        "- **Subflow Bwd Packets:** The average number of packets in a sub flow in the backward direction\n",
        "- **Subflow Bwd Bytes:** The average number of bytes in a sub flow in the backward direction\n",
        "- **Fwd Init Win bytes:** The total number of bytes sent in initial window in the forward direction\n",
        "- **Bwd Init Win bytes:** The total number of bytes sent in initial window in the backward direction\n",
        "- **Fwd Act Data Pkts:** Count of packets with at least 1 byte of TCP data payload in the forward direction\n",
        "- **Fwd Seg Size Min:** Minimum segment size observed in the forward direction\n",
        "- **Active Min:** Minimum time a flow was active before becoming idle\n",
        "- **Active Mean:** Mean time a flow was active before becoming idle\n",
        "- **Active Max:** Maximum time a flow was active before becoming idle\n",
        "- **Active Std :**Standard deviation time a flow was active before becoming idle\n",
        "- **Idle Min:** Minimum time a flow was idle before becoming active I\n",
        "- **dle Mean:** Mean time a flow was idle before becoming active\n",
        "- **Idle Max:** Maximum time a flow was idle before becoming active\n",
        "- **Idle Std:** Standard deviation time a flow was idle before becoming active\n",
        "- **Label:** Anomaly or Normal\n",
        "- **Cat:** Category of attack or Normal\n"
      ],
      "metadata": {
        "id": "nWf-qh48qZix"
      }
    },
    {
      "cell_type": "markdown",
      "source": [
        "## Import Libraries"
      ],
      "metadata": {
        "id": "WUVlaO_qoblB"
      }
    },
    {
      "cell_type": "code",
      "execution_count": 114,
      "metadata": {
        "id": "GsczTXVfP2Q2"
      },
      "outputs": [],
      "source": [
        "import pandas as pd\n",
        "import numpy as np\n",
        "import matplotlib.pyplot as plt\n",
        "from sklearn.preprocessing import MinMaxScaler\n",
        "from sklearn.preprocessing import LabelEncoder\n",
        "import matplotlib.pyplot as plt"
      ]
    },
    {
      "cell_type": "markdown",
      "source": [
        "## Load Dataset"
      ],
      "metadata": {
        "id": "1yCQ_AH9pOVs"
      }
    },
    {
      "cell_type": "code",
      "source": [
        "df = pd.read_csv('https://filebin.net/y1bsepeyn4k39936/IoTID20__1_.csv')\n"
      ],
      "metadata": {
        "id": "oRG1xNaZQEkJ"
      },
      "execution_count": 59,
      "outputs": []
    },
    {
      "cell_type": "markdown",
      "source": [
        "## Exploratory Data Analysis (EDA)"
      ],
      "metadata": {
        "id": "-ZajVkJxrAK4"
      }
    },
    {
      "cell_type": "markdown",
      "source": [
        "### Exploring your data / Diagnosis phase"
      ],
      "metadata": {
        "id": "z7K4VjM3pifn"
      }
    },
    {
      "cell_type": "markdown",
      "source": [
        "When you get a new DataFrame to work with, the first thing you need to do is explore it and see what it contains. There are several useful methods and attributes for this.\n",
        "\n",
        "- .head() returns the first few rows (the “head” of the DataFrame).\n",
        "- .tail() returns the first few rows (the “tail” of the DataFrame).\n",
        "- .info() shows information on each of the columns, such as the data type and number of missing values.\n",
        "- .shape returns the number of rows and columns of the DataFrame.\n",
        "- .columns: An index of columns: the column names.\n"
      ],
      "metadata": {
        "id": "N6W6V3E7p1k8"
      }
    },
    {
      "cell_type": "code",
      "source": [
        "df.head()"
      ],
      "metadata": {
        "colab": {
          "base_uri": "https://localhost:8080/",
          "height": 429
        },
        "id": "jOIOyHeqPal1",
        "outputId": "8bb8d7e5-d6e4-420c-e8df-ff9e72ac8698"
      },
      "execution_count": 60,
      "outputs": [
        {
          "output_type": "execute_result",
          "data": {
            "text/plain": [
              "                                     Flow_ID           Src_IP  Src_Port  \\\n",
              "0   192.168.0.13-192.168.0.16-10000-10101-17     192.168.0.13     10000   \n",
              "1    192.168.0.13-222.160.179.132-554-2179-6  222.160.179.132      2179   \n",
              "2     192.168.0.13-192.168.0.16-9020-52727-6     192.168.0.16     52727   \n",
              "3     192.168.0.13-192.168.0.16-9020-52964-6     192.168.0.16     52964   \n",
              "4  192.168.0.1-239.255.255.250-36763-1900-17      192.168.0.1     36763   \n",
              "\n",
              "            Dst_IP  Dst_Port  Protocol               Timestamp  Flow_Duration  \\\n",
              "0     192.168.0.16     10101        17  25/07/2019 03:25:53 AM             75   \n",
              "1     192.168.0.13       554         6  26/05/2019 10:11:06 PM           5310   \n",
              "2     192.168.0.13      9020         6          11/7/2019 1:24            141   \n",
              "3     192.168.0.13      9020         6           4/9/2019 3:58            151   \n",
              "4  239.255.255.250      1900        17          10/9/2019 1:41            153   \n",
              "\n",
              "   Tot_Fwd_Pkts  Tot_Bwd_Pkts  ...  Active_Std  Active_Max  Active_Min  \\\n",
              "0             1             1  ...         0.0           0           0   \n",
              "1             1             2  ...         0.0           0           0   \n",
              "2             0             3  ...         0.0           0           0   \n",
              "3             0             2  ...         0.0           0           0   \n",
              "4             2             1  ...         0.0           0           0   \n",
              "\n",
              "   Idle_Mean     Idle_Std  Idle_Max  Idle_Min    Label    Cat  \\\n",
              "0       75.0     0.000000        75        75  Anomaly  Mirai   \n",
              "1     2655.0  2261.327486      4254      1056  Anomaly    DoS   \n",
              "2       70.5     0.707107        71        70  Anomaly   Scan   \n",
              "3      151.0     0.000000       151       151  Anomaly  Mirai   \n",
              "4       76.5     0.707107        77        76  Anomaly  Mirai   \n",
              "\n",
              "                 Sub_Cat  \n",
              "0      Mirai-Ackflooding  \n",
              "1        DoS-Synflooding  \n",
              "2           Scan Port OS  \n",
              "3  Mirai-Hostbruteforceg  \n",
              "4  Mirai-Hostbruteforceg  \n",
              "\n",
              "[5 rows x 86 columns]"
            ],
            "text/html": [
              "\n",
              "  <div id=\"df-ea205dd1-9dc1-4494-9805-50fef1a1fae8\" class=\"colab-df-container\">\n",
              "    <div>\n",
              "<style scoped>\n",
              "    .dataframe tbody tr th:only-of-type {\n",
              "        vertical-align: middle;\n",
              "    }\n",
              "\n",
              "    .dataframe tbody tr th {\n",
              "        vertical-align: top;\n",
              "    }\n",
              "\n",
              "    .dataframe thead th {\n",
              "        text-align: right;\n",
              "    }\n",
              "</style>\n",
              "<table border=\"1\" class=\"dataframe\">\n",
              "  <thead>\n",
              "    <tr style=\"text-align: right;\">\n",
              "      <th></th>\n",
              "      <th>Flow_ID</th>\n",
              "      <th>Src_IP</th>\n",
              "      <th>Src_Port</th>\n",
              "      <th>Dst_IP</th>\n",
              "      <th>Dst_Port</th>\n",
              "      <th>Protocol</th>\n",
              "      <th>Timestamp</th>\n",
              "      <th>Flow_Duration</th>\n",
              "      <th>Tot_Fwd_Pkts</th>\n",
              "      <th>Tot_Bwd_Pkts</th>\n",
              "      <th>...</th>\n",
              "      <th>Active_Std</th>\n",
              "      <th>Active_Max</th>\n",
              "      <th>Active_Min</th>\n",
              "      <th>Idle_Mean</th>\n",
              "      <th>Idle_Std</th>\n",
              "      <th>Idle_Max</th>\n",
              "      <th>Idle_Min</th>\n",
              "      <th>Label</th>\n",
              "      <th>Cat</th>\n",
              "      <th>Sub_Cat</th>\n",
              "    </tr>\n",
              "  </thead>\n",
              "  <tbody>\n",
              "    <tr>\n",
              "      <th>0</th>\n",
              "      <td>192.168.0.13-192.168.0.16-10000-10101-17</td>\n",
              "      <td>192.168.0.13</td>\n",
              "      <td>10000</td>\n",
              "      <td>192.168.0.16</td>\n",
              "      <td>10101</td>\n",
              "      <td>17</td>\n",
              "      <td>25/07/2019 03:25:53 AM</td>\n",
              "      <td>75</td>\n",
              "      <td>1</td>\n",
              "      <td>1</td>\n",
              "      <td>...</td>\n",
              "      <td>0.0</td>\n",
              "      <td>0</td>\n",
              "      <td>0</td>\n",
              "      <td>75.0</td>\n",
              "      <td>0.000000</td>\n",
              "      <td>75</td>\n",
              "      <td>75</td>\n",
              "      <td>Anomaly</td>\n",
              "      <td>Mirai</td>\n",
              "      <td>Mirai-Ackflooding</td>\n",
              "    </tr>\n",
              "    <tr>\n",
              "      <th>1</th>\n",
              "      <td>192.168.0.13-222.160.179.132-554-2179-6</td>\n",
              "      <td>222.160.179.132</td>\n",
              "      <td>2179</td>\n",
              "      <td>192.168.0.13</td>\n",
              "      <td>554</td>\n",
              "      <td>6</td>\n",
              "      <td>26/05/2019 10:11:06 PM</td>\n",
              "      <td>5310</td>\n",
              "      <td>1</td>\n",
              "      <td>2</td>\n",
              "      <td>...</td>\n",
              "      <td>0.0</td>\n",
              "      <td>0</td>\n",
              "      <td>0</td>\n",
              "      <td>2655.0</td>\n",
              "      <td>2261.327486</td>\n",
              "      <td>4254</td>\n",
              "      <td>1056</td>\n",
              "      <td>Anomaly</td>\n",
              "      <td>DoS</td>\n",
              "      <td>DoS-Synflooding</td>\n",
              "    </tr>\n",
              "    <tr>\n",
              "      <th>2</th>\n",
              "      <td>192.168.0.13-192.168.0.16-9020-52727-6</td>\n",
              "      <td>192.168.0.16</td>\n",
              "      <td>52727</td>\n",
              "      <td>192.168.0.13</td>\n",
              "      <td>9020</td>\n",
              "      <td>6</td>\n",
              "      <td>11/7/2019 1:24</td>\n",
              "      <td>141</td>\n",
              "      <td>0</td>\n",
              "      <td>3</td>\n",
              "      <td>...</td>\n",
              "      <td>0.0</td>\n",
              "      <td>0</td>\n",
              "      <td>0</td>\n",
              "      <td>70.5</td>\n",
              "      <td>0.707107</td>\n",
              "      <td>71</td>\n",
              "      <td>70</td>\n",
              "      <td>Anomaly</td>\n",
              "      <td>Scan</td>\n",
              "      <td>Scan Port OS</td>\n",
              "    </tr>\n",
              "    <tr>\n",
              "      <th>3</th>\n",
              "      <td>192.168.0.13-192.168.0.16-9020-52964-6</td>\n",
              "      <td>192.168.0.16</td>\n",
              "      <td>52964</td>\n",
              "      <td>192.168.0.13</td>\n",
              "      <td>9020</td>\n",
              "      <td>6</td>\n",
              "      <td>4/9/2019 3:58</td>\n",
              "      <td>151</td>\n",
              "      <td>0</td>\n",
              "      <td>2</td>\n",
              "      <td>...</td>\n",
              "      <td>0.0</td>\n",
              "      <td>0</td>\n",
              "      <td>0</td>\n",
              "      <td>151.0</td>\n",
              "      <td>0.000000</td>\n",
              "      <td>151</td>\n",
              "      <td>151</td>\n",
              "      <td>Anomaly</td>\n",
              "      <td>Mirai</td>\n",
              "      <td>Mirai-Hostbruteforceg</td>\n",
              "    </tr>\n",
              "    <tr>\n",
              "      <th>4</th>\n",
              "      <td>192.168.0.1-239.255.255.250-36763-1900-17</td>\n",
              "      <td>192.168.0.1</td>\n",
              "      <td>36763</td>\n",
              "      <td>239.255.255.250</td>\n",
              "      <td>1900</td>\n",
              "      <td>17</td>\n",
              "      <td>10/9/2019 1:41</td>\n",
              "      <td>153</td>\n",
              "      <td>2</td>\n",
              "      <td>1</td>\n",
              "      <td>...</td>\n",
              "      <td>0.0</td>\n",
              "      <td>0</td>\n",
              "      <td>0</td>\n",
              "      <td>76.5</td>\n",
              "      <td>0.707107</td>\n",
              "      <td>77</td>\n",
              "      <td>76</td>\n",
              "      <td>Anomaly</td>\n",
              "      <td>Mirai</td>\n",
              "      <td>Mirai-Hostbruteforceg</td>\n",
              "    </tr>\n",
              "  </tbody>\n",
              "</table>\n",
              "<p>5 rows × 86 columns</p>\n",
              "</div>\n",
              "    <div class=\"colab-df-buttons\">\n",
              "\n",
              "  <div class=\"colab-df-container\">\n",
              "    <button class=\"colab-df-convert\" onclick=\"convertToInteractive('df-ea205dd1-9dc1-4494-9805-50fef1a1fae8')\"\n",
              "            title=\"Convert this dataframe to an interactive table.\"\n",
              "            style=\"display:none;\">\n",
              "\n",
              "  <svg xmlns=\"http://www.w3.org/2000/svg\" height=\"24px\" viewBox=\"0 -960 960 960\">\n",
              "    <path d=\"M120-120v-720h720v720H120Zm60-500h600v-160H180v160Zm220 220h160v-160H400v160Zm0 220h160v-160H400v160ZM180-400h160v-160H180v160Zm440 0h160v-160H620v160ZM180-180h160v-160H180v160Zm440 0h160v-160H620v160Z\"/>\n",
              "  </svg>\n",
              "    </button>\n",
              "\n",
              "  <style>\n",
              "    .colab-df-container {\n",
              "      display:flex;\n",
              "      gap: 12px;\n",
              "    }\n",
              "\n",
              "    .colab-df-convert {\n",
              "      background-color: #E8F0FE;\n",
              "      border: none;\n",
              "      border-radius: 50%;\n",
              "      cursor: pointer;\n",
              "      display: none;\n",
              "      fill: #1967D2;\n",
              "      height: 32px;\n",
              "      padding: 0 0 0 0;\n",
              "      width: 32px;\n",
              "    }\n",
              "\n",
              "    .colab-df-convert:hover {\n",
              "      background-color: #E2EBFA;\n",
              "      box-shadow: 0px 1px 2px rgba(60, 64, 67, 0.3), 0px 1px 3px 1px rgba(60, 64, 67, 0.15);\n",
              "      fill: #174EA6;\n",
              "    }\n",
              "\n",
              "    .colab-df-buttons div {\n",
              "      margin-bottom: 4px;\n",
              "    }\n",
              "\n",
              "    [theme=dark] .colab-df-convert {\n",
              "      background-color: #3B4455;\n",
              "      fill: #D2E3FC;\n",
              "    }\n",
              "\n",
              "    [theme=dark] .colab-df-convert:hover {\n",
              "      background-color: #434B5C;\n",
              "      box-shadow: 0px 1px 3px 1px rgba(0, 0, 0, 0.15);\n",
              "      filter: drop-shadow(0px 1px 2px rgba(0, 0, 0, 0.3));\n",
              "      fill: #FFFFFF;\n",
              "    }\n",
              "  </style>\n",
              "\n",
              "    <script>\n",
              "      const buttonEl =\n",
              "        document.querySelector('#df-ea205dd1-9dc1-4494-9805-50fef1a1fae8 button.colab-df-convert');\n",
              "      buttonEl.style.display =\n",
              "        google.colab.kernel.accessAllowed ? 'block' : 'none';\n",
              "\n",
              "      async function convertToInteractive(key) {\n",
              "        const element = document.querySelector('#df-ea205dd1-9dc1-4494-9805-50fef1a1fae8');\n",
              "        const dataTable =\n",
              "          await google.colab.kernel.invokeFunction('convertToInteractive',\n",
              "                                                    [key], {});\n",
              "        if (!dataTable) return;\n",
              "\n",
              "        const docLinkHtml = 'Like what you see? Visit the ' +\n",
              "          '<a target=\"_blank\" href=https://colab.research.google.com/notebooks/data_table.ipynb>data table notebook</a>'\n",
              "          + ' to learn more about interactive tables.';\n",
              "        element.innerHTML = '';\n",
              "        dataTable['output_type'] = 'display_data';\n",
              "        await google.colab.output.renderOutput(dataTable, element);\n",
              "        const docLink = document.createElement('div');\n",
              "        docLink.innerHTML = docLinkHtml;\n",
              "        element.appendChild(docLink);\n",
              "      }\n",
              "    </script>\n",
              "  </div>\n",
              "\n",
              "\n",
              "<div id=\"df-814171f1-e94d-416a-98c0-3e8f74a5ce78\">\n",
              "  <button class=\"colab-df-quickchart\" onclick=\"quickchart('df-814171f1-e94d-416a-98c0-3e8f74a5ce78')\"\n",
              "            title=\"Suggest charts\"\n",
              "            style=\"display:none;\">\n",
              "\n",
              "<svg xmlns=\"http://www.w3.org/2000/svg\" height=\"24px\"viewBox=\"0 0 24 24\"\n",
              "     width=\"24px\">\n",
              "    <g>\n",
              "        <path d=\"M19 3H5c-1.1 0-2 .9-2 2v14c0 1.1.9 2 2 2h14c1.1 0 2-.9 2-2V5c0-1.1-.9-2-2-2zM9 17H7v-7h2v7zm4 0h-2V7h2v10zm4 0h-2v-4h2v4z\"/>\n",
              "    </g>\n",
              "</svg>\n",
              "  </button>\n",
              "\n",
              "<style>\n",
              "  .colab-df-quickchart {\n",
              "      --bg-color: #E8F0FE;\n",
              "      --fill-color: #1967D2;\n",
              "      --hover-bg-color: #E2EBFA;\n",
              "      --hover-fill-color: #174EA6;\n",
              "      --disabled-fill-color: #AAA;\n",
              "      --disabled-bg-color: #DDD;\n",
              "  }\n",
              "\n",
              "  [theme=dark] .colab-df-quickchart {\n",
              "      --bg-color: #3B4455;\n",
              "      --fill-color: #D2E3FC;\n",
              "      --hover-bg-color: #434B5C;\n",
              "      --hover-fill-color: #FFFFFF;\n",
              "      --disabled-bg-color: #3B4455;\n",
              "      --disabled-fill-color: #666;\n",
              "  }\n",
              "\n",
              "  .colab-df-quickchart {\n",
              "    background-color: var(--bg-color);\n",
              "    border: none;\n",
              "    border-radius: 50%;\n",
              "    cursor: pointer;\n",
              "    display: none;\n",
              "    fill: var(--fill-color);\n",
              "    height: 32px;\n",
              "    padding: 0;\n",
              "    width: 32px;\n",
              "  }\n",
              "\n",
              "  .colab-df-quickchart:hover {\n",
              "    background-color: var(--hover-bg-color);\n",
              "    box-shadow: 0 1px 2px rgba(60, 64, 67, 0.3), 0 1px 3px 1px rgba(60, 64, 67, 0.15);\n",
              "    fill: var(--button-hover-fill-color);\n",
              "  }\n",
              "\n",
              "  .colab-df-quickchart-complete:disabled,\n",
              "  .colab-df-quickchart-complete:disabled:hover {\n",
              "    background-color: var(--disabled-bg-color);\n",
              "    fill: var(--disabled-fill-color);\n",
              "    box-shadow: none;\n",
              "  }\n",
              "\n",
              "  .colab-df-spinner {\n",
              "    border: 2px solid var(--fill-color);\n",
              "    border-color: transparent;\n",
              "    border-bottom-color: var(--fill-color);\n",
              "    animation:\n",
              "      spin 1s steps(1) infinite;\n",
              "  }\n",
              "\n",
              "  @keyframes spin {\n",
              "    0% {\n",
              "      border-color: transparent;\n",
              "      border-bottom-color: var(--fill-color);\n",
              "      border-left-color: var(--fill-color);\n",
              "    }\n",
              "    20% {\n",
              "      border-color: transparent;\n",
              "      border-left-color: var(--fill-color);\n",
              "      border-top-color: var(--fill-color);\n",
              "    }\n",
              "    30% {\n",
              "      border-color: transparent;\n",
              "      border-left-color: var(--fill-color);\n",
              "      border-top-color: var(--fill-color);\n",
              "      border-right-color: var(--fill-color);\n",
              "    }\n",
              "    40% {\n",
              "      border-color: transparent;\n",
              "      border-right-color: var(--fill-color);\n",
              "      border-top-color: var(--fill-color);\n",
              "    }\n",
              "    60% {\n",
              "      border-color: transparent;\n",
              "      border-right-color: var(--fill-color);\n",
              "    }\n",
              "    80% {\n",
              "      border-color: transparent;\n",
              "      border-right-color: var(--fill-color);\n",
              "      border-bottom-color: var(--fill-color);\n",
              "    }\n",
              "    90% {\n",
              "      border-color: transparent;\n",
              "      border-bottom-color: var(--fill-color);\n",
              "    }\n",
              "  }\n",
              "</style>\n",
              "\n",
              "  <script>\n",
              "    async function quickchart(key) {\n",
              "      const quickchartButtonEl =\n",
              "        document.querySelector('#' + key + ' button');\n",
              "      quickchartButtonEl.disabled = true;  // To prevent multiple clicks.\n",
              "      quickchartButtonEl.classList.add('colab-df-spinner');\n",
              "      try {\n",
              "        const charts = await google.colab.kernel.invokeFunction(\n",
              "            'suggestCharts', [key], {});\n",
              "      } catch (error) {\n",
              "        console.error('Error during call to suggestCharts:', error);\n",
              "      }\n",
              "      quickchartButtonEl.classList.remove('colab-df-spinner');\n",
              "      quickchartButtonEl.classList.add('colab-df-quickchart-complete');\n",
              "    }\n",
              "    (() => {\n",
              "      let quickchartButtonEl =\n",
              "        document.querySelector('#df-814171f1-e94d-416a-98c0-3e8f74a5ce78 button');\n",
              "      quickchartButtonEl.style.display =\n",
              "        google.colab.kernel.accessAllowed ? 'block' : 'none';\n",
              "    })();\n",
              "  </script>\n",
              "</div>\n",
              "\n",
              "    </div>\n",
              "  </div>\n"
            ],
            "application/vnd.google.colaboratory.intrinsic+json": {
              "type": "dataframe",
              "variable_name": "df"
            }
          },
          "metadata": {},
          "execution_count": 60
        }
      ]
    },
    {
      "cell_type": "code",
      "source": [
        "df.tail()"
      ],
      "metadata": {
        "colab": {
          "base_uri": "https://localhost:8080/",
          "height": 429
        },
        "id": "g6NpzTTipzbZ",
        "outputId": "8c7bbb69-6337-47c1-ad73-8313fa086fc1"
      },
      "execution_count": 61,
      "outputs": [
        {
          "output_type": "execute_result",
          "data": {
            "text/plain": [
              "                                         Flow_ID           Src_IP  Src_Port  \\\n",
              "625778  192.168.0.24-210.89.164.90-56112-8043-17     192.168.0.24     56112   \n",
              "625779   192.168.0.13-222.131.171.244-554-4570-6  222.131.171.244      4570   \n",
              "625780    192.168.0.13-192.168.0.16-9020-52739-6     192.168.0.16     52739   \n",
              "625781    192.168.0.13-192.168.0.16-9020-49784-6     192.168.0.13      9020   \n",
              "625782  192.168.0.13-192.168.0.16-10000-10101-17     192.168.0.13     10000   \n",
              "\n",
              "               Dst_IP  Dst_Port  Protocol               Timestamp  \\\n",
              "625778  210.89.164.90      8043        17  25/07/2019 03:25:00 AM   \n",
              "625779   192.168.0.13       554         6  26/05/2019 10:06:51 PM   \n",
              "625780   192.168.0.13      9020         6          11/7/2019 1:29   \n",
              "625781   192.168.0.16     49784         6  20/05/2019 05:00:29 AM   \n",
              "625782   192.168.0.16     10101        17  25/07/2019 03:25:10 AM   \n",
              "\n",
              "        Flow_Duration  Tot_Fwd_Pkts  Tot_Bwd_Pkts  ...  Active_Std  \\\n",
              "625778            277             1             1  ...         0.0   \n",
              "625779           1658             0             2  ...         0.0   \n",
              "625780             77             1             1  ...         0.0   \n",
              "625781            240             2             1  ...         0.0   \n",
              "625782            198             2             1  ...         0.0   \n",
              "\n",
              "        Active_Max  Active_Min  Idle_Mean   Idle_Std  Idle_Max  Idle_Min  \\\n",
              "625778           0           0      277.0   0.000000       277       277   \n",
              "625779           0           0     1658.0   0.000000      1658      1658   \n",
              "625780           0           0       77.0   0.000000        77        77   \n",
              "625781           0           0      120.0   7.071068       125       115   \n",
              "625782           0           0       99.0  32.526912       122        76   \n",
              "\n",
              "          Label     Cat             Sub_Cat  \n",
              "625778  Anomaly   Mirai  Mirai-UDP Flooding  \n",
              "625779  Anomaly     DoS     DoS-Synflooding  \n",
              "625780  Anomaly    Scan        Scan Port OS  \n",
              "625781   Normal  Normal              Normal  \n",
              "625782  Anomaly   Mirai  Mirai-UDP Flooding  \n",
              "\n",
              "[5 rows x 86 columns]"
            ],
            "text/html": [
              "\n",
              "  <div id=\"df-4aaf3845-f23a-4995-a2c4-4835868c3bc5\" class=\"colab-df-container\">\n",
              "    <div>\n",
              "<style scoped>\n",
              "    .dataframe tbody tr th:only-of-type {\n",
              "        vertical-align: middle;\n",
              "    }\n",
              "\n",
              "    .dataframe tbody tr th {\n",
              "        vertical-align: top;\n",
              "    }\n",
              "\n",
              "    .dataframe thead th {\n",
              "        text-align: right;\n",
              "    }\n",
              "</style>\n",
              "<table border=\"1\" class=\"dataframe\">\n",
              "  <thead>\n",
              "    <tr style=\"text-align: right;\">\n",
              "      <th></th>\n",
              "      <th>Flow_ID</th>\n",
              "      <th>Src_IP</th>\n",
              "      <th>Src_Port</th>\n",
              "      <th>Dst_IP</th>\n",
              "      <th>Dst_Port</th>\n",
              "      <th>Protocol</th>\n",
              "      <th>Timestamp</th>\n",
              "      <th>Flow_Duration</th>\n",
              "      <th>Tot_Fwd_Pkts</th>\n",
              "      <th>Tot_Bwd_Pkts</th>\n",
              "      <th>...</th>\n",
              "      <th>Active_Std</th>\n",
              "      <th>Active_Max</th>\n",
              "      <th>Active_Min</th>\n",
              "      <th>Idle_Mean</th>\n",
              "      <th>Idle_Std</th>\n",
              "      <th>Idle_Max</th>\n",
              "      <th>Idle_Min</th>\n",
              "      <th>Label</th>\n",
              "      <th>Cat</th>\n",
              "      <th>Sub_Cat</th>\n",
              "    </tr>\n",
              "  </thead>\n",
              "  <tbody>\n",
              "    <tr>\n",
              "      <th>625778</th>\n",
              "      <td>192.168.0.24-210.89.164.90-56112-8043-17</td>\n",
              "      <td>192.168.0.24</td>\n",
              "      <td>56112</td>\n",
              "      <td>210.89.164.90</td>\n",
              "      <td>8043</td>\n",
              "      <td>17</td>\n",
              "      <td>25/07/2019 03:25:00 AM</td>\n",
              "      <td>277</td>\n",
              "      <td>1</td>\n",
              "      <td>1</td>\n",
              "      <td>...</td>\n",
              "      <td>0.0</td>\n",
              "      <td>0</td>\n",
              "      <td>0</td>\n",
              "      <td>277.0</td>\n",
              "      <td>0.000000</td>\n",
              "      <td>277</td>\n",
              "      <td>277</td>\n",
              "      <td>Anomaly</td>\n",
              "      <td>Mirai</td>\n",
              "      <td>Mirai-UDP Flooding</td>\n",
              "    </tr>\n",
              "    <tr>\n",
              "      <th>625779</th>\n",
              "      <td>192.168.0.13-222.131.171.244-554-4570-6</td>\n",
              "      <td>222.131.171.244</td>\n",
              "      <td>4570</td>\n",
              "      <td>192.168.0.13</td>\n",
              "      <td>554</td>\n",
              "      <td>6</td>\n",
              "      <td>26/05/2019 10:06:51 PM</td>\n",
              "      <td>1658</td>\n",
              "      <td>0</td>\n",
              "      <td>2</td>\n",
              "      <td>...</td>\n",
              "      <td>0.0</td>\n",
              "      <td>0</td>\n",
              "      <td>0</td>\n",
              "      <td>1658.0</td>\n",
              "      <td>0.000000</td>\n",
              "      <td>1658</td>\n",
              "      <td>1658</td>\n",
              "      <td>Anomaly</td>\n",
              "      <td>DoS</td>\n",
              "      <td>DoS-Synflooding</td>\n",
              "    </tr>\n",
              "    <tr>\n",
              "      <th>625780</th>\n",
              "      <td>192.168.0.13-192.168.0.16-9020-52739-6</td>\n",
              "      <td>192.168.0.16</td>\n",
              "      <td>52739</td>\n",
              "      <td>192.168.0.13</td>\n",
              "      <td>9020</td>\n",
              "      <td>6</td>\n",
              "      <td>11/7/2019 1:29</td>\n",
              "      <td>77</td>\n",
              "      <td>1</td>\n",
              "      <td>1</td>\n",
              "      <td>...</td>\n",
              "      <td>0.0</td>\n",
              "      <td>0</td>\n",
              "      <td>0</td>\n",
              "      <td>77.0</td>\n",
              "      <td>0.000000</td>\n",
              "      <td>77</td>\n",
              "      <td>77</td>\n",
              "      <td>Anomaly</td>\n",
              "      <td>Scan</td>\n",
              "      <td>Scan Port OS</td>\n",
              "    </tr>\n",
              "    <tr>\n",
              "      <th>625781</th>\n",
              "      <td>192.168.0.13-192.168.0.16-9020-49784-6</td>\n",
              "      <td>192.168.0.13</td>\n",
              "      <td>9020</td>\n",
              "      <td>192.168.0.16</td>\n",
              "      <td>49784</td>\n",
              "      <td>6</td>\n",
              "      <td>20/05/2019 05:00:29 AM</td>\n",
              "      <td>240</td>\n",
              "      <td>2</td>\n",
              "      <td>1</td>\n",
              "      <td>...</td>\n",
              "      <td>0.0</td>\n",
              "      <td>0</td>\n",
              "      <td>0</td>\n",
              "      <td>120.0</td>\n",
              "      <td>7.071068</td>\n",
              "      <td>125</td>\n",
              "      <td>115</td>\n",
              "      <td>Normal</td>\n",
              "      <td>Normal</td>\n",
              "      <td>Normal</td>\n",
              "    </tr>\n",
              "    <tr>\n",
              "      <th>625782</th>\n",
              "      <td>192.168.0.13-192.168.0.16-10000-10101-17</td>\n",
              "      <td>192.168.0.13</td>\n",
              "      <td>10000</td>\n",
              "      <td>192.168.0.16</td>\n",
              "      <td>10101</td>\n",
              "      <td>17</td>\n",
              "      <td>25/07/2019 03:25:10 AM</td>\n",
              "      <td>198</td>\n",
              "      <td>2</td>\n",
              "      <td>1</td>\n",
              "      <td>...</td>\n",
              "      <td>0.0</td>\n",
              "      <td>0</td>\n",
              "      <td>0</td>\n",
              "      <td>99.0</td>\n",
              "      <td>32.526912</td>\n",
              "      <td>122</td>\n",
              "      <td>76</td>\n",
              "      <td>Anomaly</td>\n",
              "      <td>Mirai</td>\n",
              "      <td>Mirai-UDP Flooding</td>\n",
              "    </tr>\n",
              "  </tbody>\n",
              "</table>\n",
              "<p>5 rows × 86 columns</p>\n",
              "</div>\n",
              "    <div class=\"colab-df-buttons\">\n",
              "\n",
              "  <div class=\"colab-df-container\">\n",
              "    <button class=\"colab-df-convert\" onclick=\"convertToInteractive('df-4aaf3845-f23a-4995-a2c4-4835868c3bc5')\"\n",
              "            title=\"Convert this dataframe to an interactive table.\"\n",
              "            style=\"display:none;\">\n",
              "\n",
              "  <svg xmlns=\"http://www.w3.org/2000/svg\" height=\"24px\" viewBox=\"0 -960 960 960\">\n",
              "    <path d=\"M120-120v-720h720v720H120Zm60-500h600v-160H180v160Zm220 220h160v-160H400v160Zm0 220h160v-160H400v160ZM180-400h160v-160H180v160Zm440 0h160v-160H620v160ZM180-180h160v-160H180v160Zm440 0h160v-160H620v160Z\"/>\n",
              "  </svg>\n",
              "    </button>\n",
              "\n",
              "  <style>\n",
              "    .colab-df-container {\n",
              "      display:flex;\n",
              "      gap: 12px;\n",
              "    }\n",
              "\n",
              "    .colab-df-convert {\n",
              "      background-color: #E8F0FE;\n",
              "      border: none;\n",
              "      border-radius: 50%;\n",
              "      cursor: pointer;\n",
              "      display: none;\n",
              "      fill: #1967D2;\n",
              "      height: 32px;\n",
              "      padding: 0 0 0 0;\n",
              "      width: 32px;\n",
              "    }\n",
              "\n",
              "    .colab-df-convert:hover {\n",
              "      background-color: #E2EBFA;\n",
              "      box-shadow: 0px 1px 2px rgba(60, 64, 67, 0.3), 0px 1px 3px 1px rgba(60, 64, 67, 0.15);\n",
              "      fill: #174EA6;\n",
              "    }\n",
              "\n",
              "    .colab-df-buttons div {\n",
              "      margin-bottom: 4px;\n",
              "    }\n",
              "\n",
              "    [theme=dark] .colab-df-convert {\n",
              "      background-color: #3B4455;\n",
              "      fill: #D2E3FC;\n",
              "    }\n",
              "\n",
              "    [theme=dark] .colab-df-convert:hover {\n",
              "      background-color: #434B5C;\n",
              "      box-shadow: 0px 1px 3px 1px rgba(0, 0, 0, 0.15);\n",
              "      filter: drop-shadow(0px 1px 2px rgba(0, 0, 0, 0.3));\n",
              "      fill: #FFFFFF;\n",
              "    }\n",
              "  </style>\n",
              "\n",
              "    <script>\n",
              "      const buttonEl =\n",
              "        document.querySelector('#df-4aaf3845-f23a-4995-a2c4-4835868c3bc5 button.colab-df-convert');\n",
              "      buttonEl.style.display =\n",
              "        google.colab.kernel.accessAllowed ? 'block' : 'none';\n",
              "\n",
              "      async function convertToInteractive(key) {\n",
              "        const element = document.querySelector('#df-4aaf3845-f23a-4995-a2c4-4835868c3bc5');\n",
              "        const dataTable =\n",
              "          await google.colab.kernel.invokeFunction('convertToInteractive',\n",
              "                                                    [key], {});\n",
              "        if (!dataTable) return;\n",
              "\n",
              "        const docLinkHtml = 'Like what you see? Visit the ' +\n",
              "          '<a target=\"_blank\" href=https://colab.research.google.com/notebooks/data_table.ipynb>data table notebook</a>'\n",
              "          + ' to learn more about interactive tables.';\n",
              "        element.innerHTML = '';\n",
              "        dataTable['output_type'] = 'display_data';\n",
              "        await google.colab.output.renderOutput(dataTable, element);\n",
              "        const docLink = document.createElement('div');\n",
              "        docLink.innerHTML = docLinkHtml;\n",
              "        element.appendChild(docLink);\n",
              "      }\n",
              "    </script>\n",
              "  </div>\n",
              "\n",
              "\n",
              "<div id=\"df-08192cc0-561a-4d11-8152-773e95d78cb6\">\n",
              "  <button class=\"colab-df-quickchart\" onclick=\"quickchart('df-08192cc0-561a-4d11-8152-773e95d78cb6')\"\n",
              "            title=\"Suggest charts\"\n",
              "            style=\"display:none;\">\n",
              "\n",
              "<svg xmlns=\"http://www.w3.org/2000/svg\" height=\"24px\"viewBox=\"0 0 24 24\"\n",
              "     width=\"24px\">\n",
              "    <g>\n",
              "        <path d=\"M19 3H5c-1.1 0-2 .9-2 2v14c0 1.1.9 2 2 2h14c1.1 0 2-.9 2-2V5c0-1.1-.9-2-2-2zM9 17H7v-7h2v7zm4 0h-2V7h2v10zm4 0h-2v-4h2v4z\"/>\n",
              "    </g>\n",
              "</svg>\n",
              "  </button>\n",
              "\n",
              "<style>\n",
              "  .colab-df-quickchart {\n",
              "      --bg-color: #E8F0FE;\n",
              "      --fill-color: #1967D2;\n",
              "      --hover-bg-color: #E2EBFA;\n",
              "      --hover-fill-color: #174EA6;\n",
              "      --disabled-fill-color: #AAA;\n",
              "      --disabled-bg-color: #DDD;\n",
              "  }\n",
              "\n",
              "  [theme=dark] .colab-df-quickchart {\n",
              "      --bg-color: #3B4455;\n",
              "      --fill-color: #D2E3FC;\n",
              "      --hover-bg-color: #434B5C;\n",
              "      --hover-fill-color: #FFFFFF;\n",
              "      --disabled-bg-color: #3B4455;\n",
              "      --disabled-fill-color: #666;\n",
              "  }\n",
              "\n",
              "  .colab-df-quickchart {\n",
              "    background-color: var(--bg-color);\n",
              "    border: none;\n",
              "    border-radius: 50%;\n",
              "    cursor: pointer;\n",
              "    display: none;\n",
              "    fill: var(--fill-color);\n",
              "    height: 32px;\n",
              "    padding: 0;\n",
              "    width: 32px;\n",
              "  }\n",
              "\n",
              "  .colab-df-quickchart:hover {\n",
              "    background-color: var(--hover-bg-color);\n",
              "    box-shadow: 0 1px 2px rgba(60, 64, 67, 0.3), 0 1px 3px 1px rgba(60, 64, 67, 0.15);\n",
              "    fill: var(--button-hover-fill-color);\n",
              "  }\n",
              "\n",
              "  .colab-df-quickchart-complete:disabled,\n",
              "  .colab-df-quickchart-complete:disabled:hover {\n",
              "    background-color: var(--disabled-bg-color);\n",
              "    fill: var(--disabled-fill-color);\n",
              "    box-shadow: none;\n",
              "  }\n",
              "\n",
              "  .colab-df-spinner {\n",
              "    border: 2px solid var(--fill-color);\n",
              "    border-color: transparent;\n",
              "    border-bottom-color: var(--fill-color);\n",
              "    animation:\n",
              "      spin 1s steps(1) infinite;\n",
              "  }\n",
              "\n",
              "  @keyframes spin {\n",
              "    0% {\n",
              "      border-color: transparent;\n",
              "      border-bottom-color: var(--fill-color);\n",
              "      border-left-color: var(--fill-color);\n",
              "    }\n",
              "    20% {\n",
              "      border-color: transparent;\n",
              "      border-left-color: var(--fill-color);\n",
              "      border-top-color: var(--fill-color);\n",
              "    }\n",
              "    30% {\n",
              "      border-color: transparent;\n",
              "      border-left-color: var(--fill-color);\n",
              "      border-top-color: var(--fill-color);\n",
              "      border-right-color: var(--fill-color);\n",
              "    }\n",
              "    40% {\n",
              "      border-color: transparent;\n",
              "      border-right-color: var(--fill-color);\n",
              "      border-top-color: var(--fill-color);\n",
              "    }\n",
              "    60% {\n",
              "      border-color: transparent;\n",
              "      border-right-color: var(--fill-color);\n",
              "    }\n",
              "    80% {\n",
              "      border-color: transparent;\n",
              "      border-right-color: var(--fill-color);\n",
              "      border-bottom-color: var(--fill-color);\n",
              "    }\n",
              "    90% {\n",
              "      border-color: transparent;\n",
              "      border-bottom-color: var(--fill-color);\n",
              "    }\n",
              "  }\n",
              "</style>\n",
              "\n",
              "  <script>\n",
              "    async function quickchart(key) {\n",
              "      const quickchartButtonEl =\n",
              "        document.querySelector('#' + key + ' button');\n",
              "      quickchartButtonEl.disabled = true;  // To prevent multiple clicks.\n",
              "      quickchartButtonEl.classList.add('colab-df-spinner');\n",
              "      try {\n",
              "        const charts = await google.colab.kernel.invokeFunction(\n",
              "            'suggestCharts', [key], {});\n",
              "      } catch (error) {\n",
              "        console.error('Error during call to suggestCharts:', error);\n",
              "      }\n",
              "      quickchartButtonEl.classList.remove('colab-df-spinner');\n",
              "      quickchartButtonEl.classList.add('colab-df-quickchart-complete');\n",
              "    }\n",
              "    (() => {\n",
              "      let quickchartButtonEl =\n",
              "        document.querySelector('#df-08192cc0-561a-4d11-8152-773e95d78cb6 button');\n",
              "      quickchartButtonEl.style.display =\n",
              "        google.colab.kernel.accessAllowed ? 'block' : 'none';\n",
              "    })();\n",
              "  </script>\n",
              "</div>\n",
              "\n",
              "    </div>\n",
              "  </div>\n"
            ],
            "application/vnd.google.colaboratory.intrinsic+json": {
              "type": "dataframe"
            }
          },
          "metadata": {},
          "execution_count": 61
        }
      ]
    },
    {
      "cell_type": "code",
      "source": [
        "df.info()"
      ],
      "metadata": {
        "colab": {
          "base_uri": "https://localhost:8080/"
        },
        "id": "O4s-xji4p-e4",
        "outputId": "e3f56ad1-8c4b-47c3-815f-d3d6a78f2b2c"
      },
      "execution_count": 62,
      "outputs": [
        {
          "output_type": "stream",
          "name": "stdout",
          "text": [
            "<class 'pandas.core.frame.DataFrame'>\n",
            "RangeIndex: 625783 entries, 0 to 625782\n",
            "Data columns (total 86 columns):\n",
            " #   Column             Non-Null Count   Dtype  \n",
            "---  ------             --------------   -----  \n",
            " 0   Flow_ID            625783 non-null  object \n",
            " 1   Src_IP             625783 non-null  object \n",
            " 2   Src_Port           625783 non-null  int64  \n",
            " 3   Dst_IP             625783 non-null  object \n",
            " 4   Dst_Port           625783 non-null  int64  \n",
            " 5   Protocol           625783 non-null  int64  \n",
            " 6   Timestamp          625783 non-null  object \n",
            " 7   Flow_Duration      625783 non-null  int64  \n",
            " 8   Tot_Fwd_Pkts       625783 non-null  int64  \n",
            " 9   Tot_Bwd_Pkts       625783 non-null  int64  \n",
            " 10  TotLen_Fwd_Pkts    625783 non-null  int64  \n",
            " 11  TotLen_Bwd_Pkts    625783 non-null  int64  \n",
            " 12  Fwd_Pkt_Len_Max    625783 non-null  int64  \n",
            " 13  Fwd_Pkt_Len_Min    625783 non-null  int64  \n",
            " 14  Fwd_Pkt_Len_Mean   625783 non-null  float64\n",
            " 15  Fwd_Pkt_Len_Std    625783 non-null  float64\n",
            " 16  Bwd_Pkt_Len_Max    625783 non-null  int64  \n",
            " 17  Bwd_Pkt_Len_Min    625783 non-null  int64  \n",
            " 18  Bwd_Pkt_Len_Mean   625783 non-null  float64\n",
            " 19  Bwd_Pkt_Len_Std    625783 non-null  float64\n",
            " 20  Flow_Byts/s        625783 non-null  float64\n",
            " 21  Flow_Pkts/s        625783 non-null  float64\n",
            " 22  Flow_IAT_Mean      625783 non-null  float64\n",
            " 23  Flow_IAT_Std       625783 non-null  float64\n",
            " 24  Flow_IAT_Max       625783 non-null  int64  \n",
            " 25  Flow_IAT_Min       625783 non-null  int64  \n",
            " 26  Fwd_IAT_Tot        625783 non-null  int64  \n",
            " 27  Fwd_IAT_Mean       625783 non-null  float64\n",
            " 28  Bwd_IAT_Mean       625783 non-null  float64\n",
            " 29  Fwd_IAT_Max        625783 non-null  int64  \n",
            " 30  Fwd_IAT_Min        625783 non-null  int64  \n",
            " 31  Bwd_IAT_Tot        625783 non-null  int64  \n",
            " 32  Bwd_IAT_Mean.1     625783 non-null  float64\n",
            " 33  Bwd_IAT_Std        625783 non-null  float64\n",
            " 34  Bwd_IAT_Max        625783 non-null  int64  \n",
            " 35  Bwd_IAT_Min        625783 non-null  int64  \n",
            " 36  Fwd_PSH_Flags      625783 non-null  int64  \n",
            " 37  Bwd_PSH_Flags      625783 non-null  int64  \n",
            " 38  Fwd_URG_Flags      625783 non-null  int64  \n",
            " 39  Bwd_URG_Flags      625783 non-null  int64  \n",
            " 40  Fwd_Header_Len     625783 non-null  int64  \n",
            " 41  Bwd_Header_Len     625783 non-null  int64  \n",
            " 42  Fwd_Pkts/s         625783 non-null  float64\n",
            " 43  Bwd_Pkts/s         625783 non-null  float64\n",
            " 44  Pkt_Len_Min        625783 non-null  int64  \n",
            " 45  Pkt_Len_Max        625783 non-null  int64  \n",
            " 46  Pkt_Len_Mean       625783 non-null  float64\n",
            " 47  Pkt_Len_Std        625783 non-null  float64\n",
            " 48  Pkt_Len_Var        625783 non-null  float64\n",
            " 49  FIN_Flag_Cnt       625783 non-null  int64  \n",
            " 50  SYN_Flag_Cnt       625783 non-null  int64  \n",
            " 51  RST_Flag_Cnt       625783 non-null  int64  \n",
            " 52  PSH_Flag_Cnt       625783 non-null  int64  \n",
            " 53  ACK_Flag_Cnt       625783 non-null  int64  \n",
            " 54  URG_Flag_Cnt       625783 non-null  int64  \n",
            " 55  CWE_Flag_Count     625783 non-null  int64  \n",
            " 56  ECE_Flag_Cnt       625783 non-null  int64  \n",
            " 57  Down/Up_Ratio      625783 non-null  int64  \n",
            " 58  Pkt_Size_Avg       625783 non-null  float64\n",
            " 59  Fwd_Seg_Size_Avg   625783 non-null  float64\n",
            " 60  Bwd_Seg_Size_Avg   625783 non-null  float64\n",
            " 61  Fwd_Byts/b_Avg     625783 non-null  int64  \n",
            " 62  Fwd_Pkts/b_Avg     625783 non-null  int64  \n",
            " 63  Fwd_Blk_Rate_Avg   625783 non-null  int64  \n",
            " 64  Bwd_Byts/b_Avg     625783 non-null  int64  \n",
            " 65  Bwd_Pkts/b_Avg     625783 non-null  int64  \n",
            " 66  Bwd_Blk_Rate_Avg   625783 non-null  int64  \n",
            " 67  Subflow_Fwd_Pkts   625783 non-null  int64  \n",
            " 68  Subflow_Fwd_Byts   625783 non-null  int64  \n",
            " 69  Subflow_Bwd_Pkts   625783 non-null  int64  \n",
            " 70  Subflow_Bwd_Byts   625783 non-null  int64  \n",
            " 71  Init_Fwd_Win_Byts  625783 non-null  int64  \n",
            " 72  Init_Bwd_Win_Byts  625783 non-null  int64  \n",
            " 73  Fwd_Act_Data_Pkts  625783 non-null  int64  \n",
            " 74  Fwd_Seg_Size_Min   625783 non-null  int64  \n",
            " 75  Active_Mean        625783 non-null  float64\n",
            " 76  Active_Std         625783 non-null  float64\n",
            " 77  Active_Max         625783 non-null  int64  \n",
            " 78  Active_Min         625783 non-null  int64  \n",
            " 79  Idle_Mean          625783 non-null  float64\n",
            " 80  Idle_Std           625783 non-null  float64\n",
            " 81  Idle_Max           625783 non-null  int64  \n",
            " 82  Idle_Min           625783 non-null  int64  \n",
            " 83  Label              625783 non-null  object \n",
            " 84  Cat                625783 non-null  object \n",
            " 85  Sub_Cat            625783 non-null  object \n",
            "dtypes: float64(24), int64(55), object(7)\n",
            "memory usage: 410.6+ MB\n"
          ]
        }
      ]
    },
    {
      "cell_type": "code",
      "source": [
        "df.shape"
      ],
      "metadata": {
        "colab": {
          "base_uri": "https://localhost:8080/"
        },
        "id": "_8ivBMUbqIfR",
        "outputId": "46bb888f-57a9-4058-fc06-1f5f40540500"
      },
      "execution_count": 63,
      "outputs": [
        {
          "output_type": "execute_result",
          "data": {
            "text/plain": [
              "(625783, 86)"
            ]
          },
          "metadata": {},
          "execution_count": 63
        }
      ]
    },
    {
      "cell_type": "markdown",
      "source": [
        "\n",
        "\n",
        "### Data Cleaning"
      ],
      "metadata": {
        "id": "O2HeKiUm-3rY"
      }
    },
    {
      "cell_type": "markdown",
      "source": [
        "- **Checking for Missing Values**"
      ],
      "metadata": {
        "id": "75DvFWnUsjcS"
      }
    },
    {
      "cell_type": "markdown",
      "source": [
        "Missing data can affect your analysis and models. Determine if any columns have missing values and decide how to handle them."
      ],
      "metadata": {
        "id": "gGYax3gksuxf"
      }
    },
    {
      "cell_type": "code",
      "source": [
        " # Count of missing values in each column (Hajer)\n",
        "df.isnull().sum()"
      ],
      "metadata": {
        "colab": {
          "base_uri": "https://localhost:8080/"
        },
        "id": "yEbTY8EVs0W5",
        "outputId": "dcece420-233d-4006-9d95-1223d6179588"
      },
      "execution_count": 64,
      "outputs": [
        {
          "output_type": "execute_result",
          "data": {
            "text/plain": [
              "Flow_ID     0\n",
              "Src_IP      0\n",
              "Src_Port    0\n",
              "Dst_IP      0\n",
              "Dst_Port    0\n",
              "           ..\n",
              "Idle_Max    0\n",
              "Idle_Min    0\n",
              "Label       0\n",
              "Cat         0\n",
              "Sub_Cat     0\n",
              "Length: 86, dtype: int64"
            ]
          },
          "metadata": {},
          "execution_count": 64
        }
      ]
    },
    {
      "cell_type": "markdown",
      "source": [
        "- **Drop Rows with  Missing Data**"
      ],
      "metadata": {
        "id": "Oj-MwlfW1DUm"
      }
    },
    {
      "cell_type": "code",
      "source": [
        "\n",
        "# drop rows where all values are missing\n",
        "df_cleaned_all = df.dropna(how='all')\n",
        "# To apply the changes to the original DataFrame\n",
        "df.dropna(inplace=True)"
      ],
      "metadata": {
        "id": "1hCZnU4v1PPl"
      },
      "execution_count": 65,
      "outputs": []
    },
    {
      "cell_type": "markdown",
      "source": [
        "- **Check and Remove duplicated Data**"
      ],
      "metadata": {
        "id": "eEoeFjln1ZwD"
      }
    },
    {
      "cell_type": "code",
      "source": [
        "# check duplicated rows\n",
        "df.duplicated()"
      ],
      "metadata": {
        "colab": {
          "base_uri": "https://localhost:8080/"
        },
        "id": "xbLf3HVx1YZB",
        "outputId": "8f860a86-2b6a-4da6-e8d9-5da7107cb871"
      },
      "execution_count": 66,
      "outputs": [
        {
          "output_type": "execute_result",
          "data": {
            "text/plain": [
              "0         False\n",
              "1         False\n",
              "2         False\n",
              "3         False\n",
              "4         False\n",
              "          ...  \n",
              "625778    False\n",
              "625779    False\n",
              "625780     True\n",
              "625781    False\n",
              "625782     True\n",
              "Length: 625783, dtype: bool"
            ]
          },
          "metadata": {},
          "execution_count": 66
        }
      ]
    },
    {
      "cell_type": "code",
      "source": [
        "# remove duplicated rows\n",
        "df.drop_duplicates(inplace=True)"
      ],
      "metadata": {
        "id": "vOzr5V5G1o7P"
      },
      "execution_count": 67,
      "outputs": []
    },
    {
      "cell_type": "code",
      "source": [
        "df.shape"
      ],
      "metadata": {
        "colab": {
          "base_uri": "https://localhost:8080/"
        },
        "id": "FlBWbAIN2BLy",
        "outputId": "02c44b7e-1219-4f56-98bf-cc94abda5e4b"
      },
      "execution_count": 68,
      "outputs": [
        {
          "output_type": "execute_result",
          "data": {
            "text/plain": [
              "(406573, 86)"
            ]
          },
          "metadata": {},
          "execution_count": 68
        }
      ]
    },
    {
      "cell_type": "markdown",
      "source": [
        "- **Drop unimportant columns**"
      ],
      "metadata": {
        "id": "XsO2ABhIPBkR"
      }
    },
    {
      "cell_type": "code",
      "source": [
        "unimportant_columns = [\"Flow_ID\", \"Src_IP\", \"Dst_IP\", \"Src_Port\", \"Timestamp\" ,\"Dst_Port\", \"Fwd_PSH_Flags\", \"Fwd_URG_Flags\", \"Fwd_Byts/b_Avg\", \"Fwd_Pkts/b_Avg\", \"Fwd_Blk_Rate_Avg\", \"Bwd_Byts/b_Avg\", \"Bwd_Pkts/b_Avg\", \"Bwd_Blk_Rate_Avg\", \"Init_Fwd_Win_Byts\", \"Fwd_Seg_Size_Min\",\"Cat\",\"Sub_Cat\"]\n",
        "df.drop(columns = unimportant_columns, inplace=True)\n",
        "df.shape"
      ],
      "metadata": {
        "colab": {
          "base_uri": "https://localhost:8080/"
        },
        "id": "nByV4QXKO8uG",
        "outputId": "4984cbe2-ea44-4f0d-f0b2-b3064909e48c"
      },
      "execution_count": 83,
      "outputs": [
        {
          "output_type": "execute_result",
          "data": {
            "text/plain": [
              "(406250, 69)"
            ]
          },
          "metadata": {},
          "execution_count": 83
        }
      ]
    },
    {
      "cell_type": "markdown",
      "source": [
        "- **Data Types**"
      ],
      "metadata": {
        "id": "QLAhamzMBur9"
      }
    },
    {
      "cell_type": "markdown",
      "source": [
        "Check Unique Values for df column to know whether column type is correct or not"
      ],
      "metadata": {
        "id": "VnSdfDzkCSoh"
      }
    },
    {
      "cell_type": "code",
      "source": [
        "for i in df.columns:\n",
        "    x = df[i].value_counts()\n",
        "    print(\"Column name \",i,\" has different values of:\",len(x))"
      ],
      "metadata": {
        "colab": {
          "base_uri": "https://localhost:8080/"
        },
        "id": "B7un_e_xCJFZ",
        "outputId": "a5ef0cb7-0327-4541-bc51-579070479045"
      },
      "execution_count": 69,
      "outputs": [
        {
          "output_type": "stream",
          "name": "stdout",
          "text": [
            "Column name  Flow_ID  has different values of: 64064\n",
            "Column name  Src_IP  has different values of: 57985\n",
            "Column name  Src_Port  has different values of: 11205\n",
            "Column name  Dst_IP  has different values of: 478\n",
            "Column name  Dst_Port  has different values of: 1034\n",
            "Column name  Protocol  has different values of: 3\n",
            "Column name  Timestamp  has different values of: 1755\n",
            "Column name  Flow_Duration  has different values of: 12670\n",
            "Column name  Tot_Fwd_Pkts  has different values of: 116\n",
            "Column name  Tot_Bwd_Pkts  has different values of: 42\n",
            "Column name  TotLen_Fwd_Pkts  has different values of: 2479\n",
            "Column name  TotLen_Bwd_Pkts  has different values of: 2612\n",
            "Column name  Fwd_Pkt_Len_Max  has different values of: 1156\n",
            "Column name  Fwd_Pkt_Len_Min  has different values of: 1165\n",
            "Column name  Fwd_Pkt_Len_Mean  has different values of: 2141\n",
            "Column name  Fwd_Pkt_Len_Std  has different values of: 1602\n",
            "Column name  Bwd_Pkt_Len_Max  has different values of: 1114\n",
            "Column name  Bwd_Pkt_Len_Min  has different values of: 1191\n",
            "Column name  Bwd_Pkt_Len_Mean  has different values of: 2583\n",
            "Column name  Bwd_Pkt_Len_Std  has different values of: 2219\n",
            "Column name  Flow_Byts/s  has different values of: 30354\n",
            "Column name  Flow_Pkts/s  has different values of: 19578\n",
            "Column name  Flow_IAT_Mean  has different values of: 19053\n",
            "Column name  Flow_IAT_Std  has different values of: 28879\n",
            "Column name  Flow_IAT_Max  has different values of: 12399\n",
            "Column name  Flow_IAT_Min  has different values of: 11041\n",
            "Column name  Fwd_IAT_Tot  has different values of: 1922\n",
            "Column name  Fwd_IAT_Mean  has different values of: 6221\n",
            "Column name  Bwd_IAT_Mean  has different values of: 16998\n",
            "Column name  Fwd_IAT_Max  has different values of: 1793\n",
            "Column name  Fwd_IAT_Min  has different values of: 1196\n",
            "Column name  Bwd_IAT_Tot  has different values of: 12341\n",
            "Column name  Bwd_IAT_Mean.1  has different values of: 13466\n",
            "Column name  Bwd_IAT_Std  has different values of: 4560\n",
            "Column name  Bwd_IAT_Max  has different values of: 12223\n",
            "Column name  Bwd_IAT_Min  has different values of: 11529\n",
            "Column name  Fwd_PSH_Flags  has different values of: 1\n",
            "Column name  Bwd_PSH_Flags  has different values of: 2\n",
            "Column name  Fwd_URG_Flags  has different values of: 1\n",
            "Column name  Bwd_URG_Flags  has different values of: 2\n",
            "Column name  Fwd_Header_Len  has different values of: 162\n",
            "Column name  Bwd_Header_Len  has different values of: 86\n",
            "Column name  Fwd_Pkts/s  has different values of: 9360\n",
            "Column name  Bwd_Pkts/s  has different values of: 14067\n",
            "Column name  Pkt_Len_Min  has different values of: 1240\n",
            "Column name  Pkt_Len_Max  has different values of: 1122\n",
            "Column name  Pkt_Len_Mean  has different values of: 5176\n",
            "Column name  Pkt_Len_Std  has different values of: 4673\n",
            "Column name  Pkt_Len_Var  has different values of: 4673\n",
            "Column name  FIN_Flag_Cnt  has different values of: 2\n",
            "Column name  SYN_Flag_Cnt  has different values of: 2\n",
            "Column name  RST_Flag_Cnt  has different values of: 2\n",
            "Column name  PSH_Flag_Cnt  has different values of: 2\n",
            "Column name  ACK_Flag_Cnt  has different values of: 2\n",
            "Column name  URG_Flag_Cnt  has different values of: 2\n",
            "Column name  CWE_Flag_Count  has different values of: 2\n",
            "Column name  ECE_Flag_Cnt  has different values of: 2\n",
            "Column name  Down/Up_Ratio  has different values of: 15\n",
            "Column name  Pkt_Size_Avg  has different values of: 5327\n",
            "Column name  Fwd_Seg_Size_Avg  has different values of: 2141\n",
            "Column name  Bwd_Seg_Size_Avg  has different values of: 2583\n",
            "Column name  Fwd_Byts/b_Avg  has different values of: 1\n",
            "Column name  Fwd_Pkts/b_Avg  has different values of: 1\n",
            "Column name  Fwd_Blk_Rate_Avg  has different values of: 1\n",
            "Column name  Bwd_Byts/b_Avg  has different values of: 1\n",
            "Column name  Bwd_Pkts/b_Avg  has different values of: 1\n",
            "Column name  Bwd_Blk_Rate_Avg  has different values of: 1\n",
            "Column name  Subflow_Fwd_Pkts  has different values of: 116\n",
            "Column name  Subflow_Fwd_Byts  has different values of: 2479\n",
            "Column name  Subflow_Bwd_Pkts  has different values of: 42\n",
            "Column name  Subflow_Bwd_Byts  has different values of: 2612\n",
            "Column name  Init_Fwd_Win_Byts  has different values of: 1\n",
            "Column name  Init_Bwd_Win_Byts  has different values of: 3616\n",
            "Column name  Fwd_Act_Data_Pkts  has different values of: 116\n",
            "Column name  Fwd_Seg_Size_Min  has different values of: 1\n",
            "Column name  Active_Mean  has different values of: 1820\n",
            "Column name  Active_Std  has different values of: 1138\n",
            "Column name  Active_Max  has different values of: 1346\n",
            "Column name  Active_Min  has different values of: 1207\n",
            "Column name  Idle_Mean  has different values of: 16386\n",
            "Column name  Idle_Std  has different values of: 22807\n",
            "Column name  Idle_Max  has different values of: 11956\n",
            "Column name  Idle_Min  has different values of: 10872\n",
            "Column name  Label  has different values of: 2\n",
            "Column name  Cat  has different values of: 5\n",
            "Column name  Sub_Cat  has different values of: 9\n"
          ]
        }
      ]
    },
    {
      "cell_type": "code",
      "source": [
        "#check the Sub_Cat column values if there is entering error\n",
        "df['Label'].unique()"
      ],
      "metadata": {
        "colab": {
          "base_uri": "https://localhost:8080/"
        },
        "id": "oObfeqouIChd",
        "outputId": "86a45904-b1a3-4c7a-92d4-0dfd149c9b70"
      },
      "execution_count": 70,
      "outputs": [
        {
          "output_type": "execute_result",
          "data": {
            "text/plain": [
              "array(['Anomaly', 'Normal'], dtype=object)"
            ]
          },
          "metadata": {},
          "execution_count": 70
        }
      ]
    },
    {
      "cell_type": "markdown",
      "source": [
        "### Data Exploration"
      ],
      "metadata": {
        "id": "DUvGwfHftBW3"
      }
    },
    {
      "cell_type": "markdown",
      "source": [
        "- **Explore the Descriptive Statistics**"
      ],
      "metadata": {
        "id": "94PwNZuTmQcP"
      }
    },
    {
      "cell_type": "code",
      "source": [
        " # Summary statistics for numerical columns (Hajer)\n",
        "df.describe()"
      ],
      "metadata": {
        "colab": {
          "base_uri": "https://localhost:8080/",
          "height": 350
        },
        "id": "gEnWqQqVsixt",
        "outputId": "88ff45ea-d743-432b-ea2a-9cdae7270e3c"
      },
      "execution_count": 84,
      "outputs": [
        {
          "output_type": "execute_result",
          "data": {
            "text/plain": [
              "            Protocol  Flow_Duration   Tot_Fwd_Pkts   Tot_Bwd_Pkts  \\\n",
              "count  406250.000000  406250.000000  406250.000000  406250.000000   \n",
              "mean        0.616638       0.009065       0.011439       0.000822   \n",
              "std         0.323702       0.043160       0.028205       0.002550   \n",
              "min         0.000000       0.000000       0.000000       0.000000   \n",
              "25%         0.352941       0.000730       0.000000       0.000000   \n",
              "50%         0.352941       0.001450       0.005376       0.000000   \n",
              "75%         1.000000       0.002680       0.010753       0.001789   \n",
              "max         1.000000       1.000000       1.000000       1.000000   \n",
              "\n",
              "       TotLen_Fwd_Pkts  TotLen_Bwd_Pkts  Fwd_Pkt_Len_Max  Fwd_Pkt_Len_Min  \\\n",
              "count    406250.000000    406250.000000    406250.000000    406250.000000   \n",
              "mean          0.004691         0.000918         0.223595         0.189498   \n",
              "std           0.011184         0.002527         0.393530         0.364530   \n",
              "min           0.000000         0.000000         0.000000         0.000000   \n",
              "25%           0.000000         0.000000         0.000000         0.000000   \n",
              "50%           0.000291         0.000041         0.021858         0.020492   \n",
              "75%           0.004661         0.001849         0.025956         0.021858   \n",
              "max           1.000000         1.000000         1.000000         1.000000   \n",
              "\n",
              "       Fwd_Pkt_Len_Mean  Fwd_Pkt_Len_Std  ...  Fwd_Act_Data_Pkts  \\\n",
              "count     406250.000000    406250.000000  ...      406250.000000   \n",
              "mean           0.209286         0.030538  ...           0.010599   \n",
              "std            0.373195         0.149745  ...           0.028355   \n",
              "min            0.000000         0.000000  ...           0.000000   \n",
              "25%            0.000000         0.000000  ...           0.000000   \n",
              "50%            0.021858         0.000000  ...           0.005376   \n",
              "75%            0.025273         0.000000  ...           0.010753   \n",
              "max            1.000000         1.000000  ...           1.000000   \n",
              "\n",
              "         Active_Mean     Active_Std     Active_Max     Active_Min  \\\n",
              "count  406250.000000  406250.000000  406250.000000  406250.000000   \n",
              "mean        0.000641       0.000063       0.000244       0.000801   \n",
              "std         0.009332       0.002991       0.004118       0.011940   \n",
              "min         0.000000       0.000000       0.000000       0.000000   \n",
              "25%         0.000000       0.000000       0.000000       0.000000   \n",
              "50%         0.000000       0.000000       0.000000       0.000000   \n",
              "75%         0.000000       0.000000       0.000000       0.000000   \n",
              "max         1.000000       1.000000       1.000000       1.000000   \n",
              "\n",
              "           Idle_Mean       Idle_Std       Idle_Max       Idle_Min  \\\n",
              "count  406250.000000  406250.000000  406250.000000  406250.000000   \n",
              "mean        0.007174       0.001173       0.008067       0.006645   \n",
              "std         0.025977       0.021328       0.035343       0.023749   \n",
              "min         0.000000       0.000000       0.000000       0.000000   \n",
              "25%         0.000480       0.000000       0.000710       0.000150   \n",
              "50%         0.000900       0.000000       0.001150       0.000760   \n",
              "75%         0.001710       0.000046       0.001971       0.001580   \n",
              "max         1.000000       1.000000       1.000000       1.000000   \n",
              "\n",
              "       Label_encoded  \n",
              "count   406250.00000  \n",
              "mean         0.09501  \n",
              "std          0.29323  \n",
              "min          0.00000  \n",
              "25%          0.00000  \n",
              "50%          0.00000  \n",
              "75%          0.00000  \n",
              "max          1.00000  \n",
              "\n",
              "[8 rows x 68 columns]"
            ],
            "text/html": [
              "\n",
              "  <div id=\"df-a98d9833-89da-461a-9ec0-5a86bbcb4ee2\" class=\"colab-df-container\">\n",
              "    <div>\n",
              "<style scoped>\n",
              "    .dataframe tbody tr th:only-of-type {\n",
              "        vertical-align: middle;\n",
              "    }\n",
              "\n",
              "    .dataframe tbody tr th {\n",
              "        vertical-align: top;\n",
              "    }\n",
              "\n",
              "    .dataframe thead th {\n",
              "        text-align: right;\n",
              "    }\n",
              "</style>\n",
              "<table border=\"1\" class=\"dataframe\">\n",
              "  <thead>\n",
              "    <tr style=\"text-align: right;\">\n",
              "      <th></th>\n",
              "      <th>Protocol</th>\n",
              "      <th>Flow_Duration</th>\n",
              "      <th>Tot_Fwd_Pkts</th>\n",
              "      <th>Tot_Bwd_Pkts</th>\n",
              "      <th>TotLen_Fwd_Pkts</th>\n",
              "      <th>TotLen_Bwd_Pkts</th>\n",
              "      <th>Fwd_Pkt_Len_Max</th>\n",
              "      <th>Fwd_Pkt_Len_Min</th>\n",
              "      <th>Fwd_Pkt_Len_Mean</th>\n",
              "      <th>Fwd_Pkt_Len_Std</th>\n",
              "      <th>...</th>\n",
              "      <th>Fwd_Act_Data_Pkts</th>\n",
              "      <th>Active_Mean</th>\n",
              "      <th>Active_Std</th>\n",
              "      <th>Active_Max</th>\n",
              "      <th>Active_Min</th>\n",
              "      <th>Idle_Mean</th>\n",
              "      <th>Idle_Std</th>\n",
              "      <th>Idle_Max</th>\n",
              "      <th>Idle_Min</th>\n",
              "      <th>Label_encoded</th>\n",
              "    </tr>\n",
              "  </thead>\n",
              "  <tbody>\n",
              "    <tr>\n",
              "      <th>count</th>\n",
              "      <td>406250.000000</td>\n",
              "      <td>406250.000000</td>\n",
              "      <td>406250.000000</td>\n",
              "      <td>406250.000000</td>\n",
              "      <td>406250.000000</td>\n",
              "      <td>406250.000000</td>\n",
              "      <td>406250.000000</td>\n",
              "      <td>406250.000000</td>\n",
              "      <td>406250.000000</td>\n",
              "      <td>406250.000000</td>\n",
              "      <td>...</td>\n",
              "      <td>406250.000000</td>\n",
              "      <td>406250.000000</td>\n",
              "      <td>406250.000000</td>\n",
              "      <td>406250.000000</td>\n",
              "      <td>406250.000000</td>\n",
              "      <td>406250.000000</td>\n",
              "      <td>406250.000000</td>\n",
              "      <td>406250.000000</td>\n",
              "      <td>406250.000000</td>\n",
              "      <td>406250.00000</td>\n",
              "    </tr>\n",
              "    <tr>\n",
              "      <th>mean</th>\n",
              "      <td>0.616638</td>\n",
              "      <td>0.009065</td>\n",
              "      <td>0.011439</td>\n",
              "      <td>0.000822</td>\n",
              "      <td>0.004691</td>\n",
              "      <td>0.000918</td>\n",
              "      <td>0.223595</td>\n",
              "      <td>0.189498</td>\n",
              "      <td>0.209286</td>\n",
              "      <td>0.030538</td>\n",
              "      <td>...</td>\n",
              "      <td>0.010599</td>\n",
              "      <td>0.000641</td>\n",
              "      <td>0.000063</td>\n",
              "      <td>0.000244</td>\n",
              "      <td>0.000801</td>\n",
              "      <td>0.007174</td>\n",
              "      <td>0.001173</td>\n",
              "      <td>0.008067</td>\n",
              "      <td>0.006645</td>\n",
              "      <td>0.09501</td>\n",
              "    </tr>\n",
              "    <tr>\n",
              "      <th>std</th>\n",
              "      <td>0.323702</td>\n",
              "      <td>0.043160</td>\n",
              "      <td>0.028205</td>\n",
              "      <td>0.002550</td>\n",
              "      <td>0.011184</td>\n",
              "      <td>0.002527</td>\n",
              "      <td>0.393530</td>\n",
              "      <td>0.364530</td>\n",
              "      <td>0.373195</td>\n",
              "      <td>0.149745</td>\n",
              "      <td>...</td>\n",
              "      <td>0.028355</td>\n",
              "      <td>0.009332</td>\n",
              "      <td>0.002991</td>\n",
              "      <td>0.004118</td>\n",
              "      <td>0.011940</td>\n",
              "      <td>0.025977</td>\n",
              "      <td>0.021328</td>\n",
              "      <td>0.035343</td>\n",
              "      <td>0.023749</td>\n",
              "      <td>0.29323</td>\n",
              "    </tr>\n",
              "    <tr>\n",
              "      <th>min</th>\n",
              "      <td>0.000000</td>\n",
              "      <td>0.000000</td>\n",
              "      <td>0.000000</td>\n",
              "      <td>0.000000</td>\n",
              "      <td>0.000000</td>\n",
              "      <td>0.000000</td>\n",
              "      <td>0.000000</td>\n",
              "      <td>0.000000</td>\n",
              "      <td>0.000000</td>\n",
              "      <td>0.000000</td>\n",
              "      <td>...</td>\n",
              "      <td>0.000000</td>\n",
              "      <td>0.000000</td>\n",
              "      <td>0.000000</td>\n",
              "      <td>0.000000</td>\n",
              "      <td>0.000000</td>\n",
              "      <td>0.000000</td>\n",
              "      <td>0.000000</td>\n",
              "      <td>0.000000</td>\n",
              "      <td>0.000000</td>\n",
              "      <td>0.00000</td>\n",
              "    </tr>\n",
              "    <tr>\n",
              "      <th>25%</th>\n",
              "      <td>0.352941</td>\n",
              "      <td>0.000730</td>\n",
              "      <td>0.000000</td>\n",
              "      <td>0.000000</td>\n",
              "      <td>0.000000</td>\n",
              "      <td>0.000000</td>\n",
              "      <td>0.000000</td>\n",
              "      <td>0.000000</td>\n",
              "      <td>0.000000</td>\n",
              "      <td>0.000000</td>\n",
              "      <td>...</td>\n",
              "      <td>0.000000</td>\n",
              "      <td>0.000000</td>\n",
              "      <td>0.000000</td>\n",
              "      <td>0.000000</td>\n",
              "      <td>0.000000</td>\n",
              "      <td>0.000480</td>\n",
              "      <td>0.000000</td>\n",
              "      <td>0.000710</td>\n",
              "      <td>0.000150</td>\n",
              "      <td>0.00000</td>\n",
              "    </tr>\n",
              "    <tr>\n",
              "      <th>50%</th>\n",
              "      <td>0.352941</td>\n",
              "      <td>0.001450</td>\n",
              "      <td>0.005376</td>\n",
              "      <td>0.000000</td>\n",
              "      <td>0.000291</td>\n",
              "      <td>0.000041</td>\n",
              "      <td>0.021858</td>\n",
              "      <td>0.020492</td>\n",
              "      <td>0.021858</td>\n",
              "      <td>0.000000</td>\n",
              "      <td>...</td>\n",
              "      <td>0.005376</td>\n",
              "      <td>0.000000</td>\n",
              "      <td>0.000000</td>\n",
              "      <td>0.000000</td>\n",
              "      <td>0.000000</td>\n",
              "      <td>0.000900</td>\n",
              "      <td>0.000000</td>\n",
              "      <td>0.001150</td>\n",
              "      <td>0.000760</td>\n",
              "      <td>0.00000</td>\n",
              "    </tr>\n",
              "    <tr>\n",
              "      <th>75%</th>\n",
              "      <td>1.000000</td>\n",
              "      <td>0.002680</td>\n",
              "      <td>0.010753</td>\n",
              "      <td>0.001789</td>\n",
              "      <td>0.004661</td>\n",
              "      <td>0.001849</td>\n",
              "      <td>0.025956</td>\n",
              "      <td>0.021858</td>\n",
              "      <td>0.025273</td>\n",
              "      <td>0.000000</td>\n",
              "      <td>...</td>\n",
              "      <td>0.010753</td>\n",
              "      <td>0.000000</td>\n",
              "      <td>0.000000</td>\n",
              "      <td>0.000000</td>\n",
              "      <td>0.000000</td>\n",
              "      <td>0.001710</td>\n",
              "      <td>0.000046</td>\n",
              "      <td>0.001971</td>\n",
              "      <td>0.001580</td>\n",
              "      <td>0.00000</td>\n",
              "    </tr>\n",
              "    <tr>\n",
              "      <th>max</th>\n",
              "      <td>1.000000</td>\n",
              "      <td>1.000000</td>\n",
              "      <td>1.000000</td>\n",
              "      <td>1.000000</td>\n",
              "      <td>1.000000</td>\n",
              "      <td>1.000000</td>\n",
              "      <td>1.000000</td>\n",
              "      <td>1.000000</td>\n",
              "      <td>1.000000</td>\n",
              "      <td>1.000000</td>\n",
              "      <td>...</td>\n",
              "      <td>1.000000</td>\n",
              "      <td>1.000000</td>\n",
              "      <td>1.000000</td>\n",
              "      <td>1.000000</td>\n",
              "      <td>1.000000</td>\n",
              "      <td>1.000000</td>\n",
              "      <td>1.000000</td>\n",
              "      <td>1.000000</td>\n",
              "      <td>1.000000</td>\n",
              "      <td>1.00000</td>\n",
              "    </tr>\n",
              "  </tbody>\n",
              "</table>\n",
              "<p>8 rows × 68 columns</p>\n",
              "</div>\n",
              "    <div class=\"colab-df-buttons\">\n",
              "\n",
              "  <div class=\"colab-df-container\">\n",
              "    <button class=\"colab-df-convert\" onclick=\"convertToInteractive('df-a98d9833-89da-461a-9ec0-5a86bbcb4ee2')\"\n",
              "            title=\"Convert this dataframe to an interactive table.\"\n",
              "            style=\"display:none;\">\n",
              "\n",
              "  <svg xmlns=\"http://www.w3.org/2000/svg\" height=\"24px\" viewBox=\"0 -960 960 960\">\n",
              "    <path d=\"M120-120v-720h720v720H120Zm60-500h600v-160H180v160Zm220 220h160v-160H400v160Zm0 220h160v-160H400v160ZM180-400h160v-160H180v160Zm440 0h160v-160H620v160ZM180-180h160v-160H180v160Zm440 0h160v-160H620v160Z\"/>\n",
              "  </svg>\n",
              "    </button>\n",
              "\n",
              "  <style>\n",
              "    .colab-df-container {\n",
              "      display:flex;\n",
              "      gap: 12px;\n",
              "    }\n",
              "\n",
              "    .colab-df-convert {\n",
              "      background-color: #E8F0FE;\n",
              "      border: none;\n",
              "      border-radius: 50%;\n",
              "      cursor: pointer;\n",
              "      display: none;\n",
              "      fill: #1967D2;\n",
              "      height: 32px;\n",
              "      padding: 0 0 0 0;\n",
              "      width: 32px;\n",
              "    }\n",
              "\n",
              "    .colab-df-convert:hover {\n",
              "      background-color: #E2EBFA;\n",
              "      box-shadow: 0px 1px 2px rgba(60, 64, 67, 0.3), 0px 1px 3px 1px rgba(60, 64, 67, 0.15);\n",
              "      fill: #174EA6;\n",
              "    }\n",
              "\n",
              "    .colab-df-buttons div {\n",
              "      margin-bottom: 4px;\n",
              "    }\n",
              "\n",
              "    [theme=dark] .colab-df-convert {\n",
              "      background-color: #3B4455;\n",
              "      fill: #D2E3FC;\n",
              "    }\n",
              "\n",
              "    [theme=dark] .colab-df-convert:hover {\n",
              "      background-color: #434B5C;\n",
              "      box-shadow: 0px 1px 3px 1px rgba(0, 0, 0, 0.15);\n",
              "      filter: drop-shadow(0px 1px 2px rgba(0, 0, 0, 0.3));\n",
              "      fill: #FFFFFF;\n",
              "    }\n",
              "  </style>\n",
              "\n",
              "    <script>\n",
              "      const buttonEl =\n",
              "        document.querySelector('#df-a98d9833-89da-461a-9ec0-5a86bbcb4ee2 button.colab-df-convert');\n",
              "      buttonEl.style.display =\n",
              "        google.colab.kernel.accessAllowed ? 'block' : 'none';\n",
              "\n",
              "      async function convertToInteractive(key) {\n",
              "        const element = document.querySelector('#df-a98d9833-89da-461a-9ec0-5a86bbcb4ee2');\n",
              "        const dataTable =\n",
              "          await google.colab.kernel.invokeFunction('convertToInteractive',\n",
              "                                                    [key], {});\n",
              "        if (!dataTable) return;\n",
              "\n",
              "        const docLinkHtml = 'Like what you see? Visit the ' +\n",
              "          '<a target=\"_blank\" href=https://colab.research.google.com/notebooks/data_table.ipynb>data table notebook</a>'\n",
              "          + ' to learn more about interactive tables.';\n",
              "        element.innerHTML = '';\n",
              "        dataTable['output_type'] = 'display_data';\n",
              "        await google.colab.output.renderOutput(dataTable, element);\n",
              "        const docLink = document.createElement('div');\n",
              "        docLink.innerHTML = docLinkHtml;\n",
              "        element.appendChild(docLink);\n",
              "      }\n",
              "    </script>\n",
              "  </div>\n",
              "\n",
              "\n",
              "<div id=\"df-4e1bec26-d511-4e4d-99c6-4811fd2eb13d\">\n",
              "  <button class=\"colab-df-quickchart\" onclick=\"quickchart('df-4e1bec26-d511-4e4d-99c6-4811fd2eb13d')\"\n",
              "            title=\"Suggest charts\"\n",
              "            style=\"display:none;\">\n",
              "\n",
              "<svg xmlns=\"http://www.w3.org/2000/svg\" height=\"24px\"viewBox=\"0 0 24 24\"\n",
              "     width=\"24px\">\n",
              "    <g>\n",
              "        <path d=\"M19 3H5c-1.1 0-2 .9-2 2v14c0 1.1.9 2 2 2h14c1.1 0 2-.9 2-2V5c0-1.1-.9-2-2-2zM9 17H7v-7h2v7zm4 0h-2V7h2v10zm4 0h-2v-4h2v4z\"/>\n",
              "    </g>\n",
              "</svg>\n",
              "  </button>\n",
              "\n",
              "<style>\n",
              "  .colab-df-quickchart {\n",
              "      --bg-color: #E8F0FE;\n",
              "      --fill-color: #1967D2;\n",
              "      --hover-bg-color: #E2EBFA;\n",
              "      --hover-fill-color: #174EA6;\n",
              "      --disabled-fill-color: #AAA;\n",
              "      --disabled-bg-color: #DDD;\n",
              "  }\n",
              "\n",
              "  [theme=dark] .colab-df-quickchart {\n",
              "      --bg-color: #3B4455;\n",
              "      --fill-color: #D2E3FC;\n",
              "      --hover-bg-color: #434B5C;\n",
              "      --hover-fill-color: #FFFFFF;\n",
              "      --disabled-bg-color: #3B4455;\n",
              "      --disabled-fill-color: #666;\n",
              "  }\n",
              "\n",
              "  .colab-df-quickchart {\n",
              "    background-color: var(--bg-color);\n",
              "    border: none;\n",
              "    border-radius: 50%;\n",
              "    cursor: pointer;\n",
              "    display: none;\n",
              "    fill: var(--fill-color);\n",
              "    height: 32px;\n",
              "    padding: 0;\n",
              "    width: 32px;\n",
              "  }\n",
              "\n",
              "  .colab-df-quickchart:hover {\n",
              "    background-color: var(--hover-bg-color);\n",
              "    box-shadow: 0 1px 2px rgba(60, 64, 67, 0.3), 0 1px 3px 1px rgba(60, 64, 67, 0.15);\n",
              "    fill: var(--button-hover-fill-color);\n",
              "  }\n",
              "\n",
              "  .colab-df-quickchart-complete:disabled,\n",
              "  .colab-df-quickchart-complete:disabled:hover {\n",
              "    background-color: var(--disabled-bg-color);\n",
              "    fill: var(--disabled-fill-color);\n",
              "    box-shadow: none;\n",
              "  }\n",
              "\n",
              "  .colab-df-spinner {\n",
              "    border: 2px solid var(--fill-color);\n",
              "    border-color: transparent;\n",
              "    border-bottom-color: var(--fill-color);\n",
              "    animation:\n",
              "      spin 1s steps(1) infinite;\n",
              "  }\n",
              "\n",
              "  @keyframes spin {\n",
              "    0% {\n",
              "      border-color: transparent;\n",
              "      border-bottom-color: var(--fill-color);\n",
              "      border-left-color: var(--fill-color);\n",
              "    }\n",
              "    20% {\n",
              "      border-color: transparent;\n",
              "      border-left-color: var(--fill-color);\n",
              "      border-top-color: var(--fill-color);\n",
              "    }\n",
              "    30% {\n",
              "      border-color: transparent;\n",
              "      border-left-color: var(--fill-color);\n",
              "      border-top-color: var(--fill-color);\n",
              "      border-right-color: var(--fill-color);\n",
              "    }\n",
              "    40% {\n",
              "      border-color: transparent;\n",
              "      border-right-color: var(--fill-color);\n",
              "      border-top-color: var(--fill-color);\n",
              "    }\n",
              "    60% {\n",
              "      border-color: transparent;\n",
              "      border-right-color: var(--fill-color);\n",
              "    }\n",
              "    80% {\n",
              "      border-color: transparent;\n",
              "      border-right-color: var(--fill-color);\n",
              "      border-bottom-color: var(--fill-color);\n",
              "    }\n",
              "    90% {\n",
              "      border-color: transparent;\n",
              "      border-bottom-color: var(--fill-color);\n",
              "    }\n",
              "  }\n",
              "</style>\n",
              "\n",
              "  <script>\n",
              "    async function quickchart(key) {\n",
              "      const quickchartButtonEl =\n",
              "        document.querySelector('#' + key + ' button');\n",
              "      quickchartButtonEl.disabled = true;  // To prevent multiple clicks.\n",
              "      quickchartButtonEl.classList.add('colab-df-spinner');\n",
              "      try {\n",
              "        const charts = await google.colab.kernel.invokeFunction(\n",
              "            'suggestCharts', [key], {});\n",
              "      } catch (error) {\n",
              "        console.error('Error during call to suggestCharts:', error);\n",
              "      }\n",
              "      quickchartButtonEl.classList.remove('colab-df-spinner');\n",
              "      quickchartButtonEl.classList.add('colab-df-quickchart-complete');\n",
              "    }\n",
              "    (() => {\n",
              "      let quickchartButtonEl =\n",
              "        document.querySelector('#df-4e1bec26-d511-4e4d-99c6-4811fd2eb13d button');\n",
              "      quickchartButtonEl.style.display =\n",
              "        google.colab.kernel.accessAllowed ? 'block' : 'none';\n",
              "    })();\n",
              "  </script>\n",
              "</div>\n",
              "\n",
              "    </div>\n",
              "  </div>\n"
            ],
            "application/vnd.google.colaboratory.intrinsic+json": {
              "type": "dataframe"
            }
          },
          "metadata": {},
          "execution_count": 84
        }
      ]
    },
    {
      "cell_type": "markdown",
      "source": [
        "- **Data Visualization**"
      ],
      "metadata": {
        "id": "HRnoipNCtOPf"
      }
    },
    {
      "cell_type": "code",
      "source": [
        "import matplotlib.pyplot as plt\n",
        "import seaborn as sns\n",
        "\n",
        "# Creating the histogram\n",
        "plt.figure(figsize=(10, 6))  # Set the figure size (optional)\n",
        "plt.hist(df['Flow_Duration'], bins=30, color='skyblue', edgecolor='black')\n",
        "\n",
        "# Adding title and labels\n",
        "plt.title('Histogram of Flow Duration')\n",
        "plt.xlabel('Flow Duration')\n",
        "plt.ylabel('Frequency')\n",
        "\n",
        "# Show the plot\n",
        "plt.show()"
      ],
      "metadata": {
        "id": "sCWB5xfMPJGE",
        "colab": {
          "base_uri": "https://localhost:8080/",
          "height": 478
        },
        "outputId": "35e05c1d-df4b-41af-e873-7a734cd29b06"
      },
      "execution_count": 85,
      "outputs": [
        {
          "output_type": "display_data",
          "data": {
            "text/plain": [
              "<Figure size 1000x600 with 1 Axes>"
            ],
            "image/png": "[encoded data removed]"
          },
          "metadata": {}
        }
      ]
    },
    {
      "cell_type": "code",
      "source": [
        "# Encoding the categorical target variable to numeric\n",
        "label_encoder = LabelEncoder()\n",
        "encoded_data = df.copy()\n",
        "encoded_data['Label'] = label_encoder.fit_transform(df['Label'])\n",
        "\n",
        "\n",
        "# Create the correlation matrix for these top features + the encoded target\n",
        "corr_matrix = encoded_data.corr()\n",
        "\n",
        "\n",
        "# Sort the correlations and select the top 40 features\n",
        "top_40_correlation_features = corr_matrix['Label'].sort_values(ascending=False)[:30].head(40)\n",
        "\n",
        "# extract the correlation values for these features\n",
        "\n",
        "top_40_correlation=corr_matrix.loc[top_40_correlation_features.index,top_40_correlation_features.index]\n",
        "\n",
        "\n",
        "# Plotting the heatmap\n",
        "plt.figure(figsize=(10, 8))  # Size of the heatmap\n",
        "sns.heatmap(top_40_correlation, annot=True, fmt=\".2f\", cmap='coolwarm', cbar=True, square=True,\n",
        "            cbar_kws={'shrink': .5}, annot_kws={'size': 6}, linewidths=.5)\n",
        "plt.title('Correlation Heatmap of Top 40 Features with Label')\n",
        "plt.xticks(rotation=45, ha=\"right\")\n",
        "plt.yticks(rotation=0)\n",
        "plt.tight_layout()\n",
        "\n",
        "plt.show()\n",
        "\n"
      ],
      "metadata": {
        "colab": {
          "base_uri": "https://localhost:8080/",
          "height": 667
        },
        "id": "LggBnpPq8h3D",
        "outputId": "2296c973-4808-4a26-aafc-55b38d469064"
      },
      "execution_count": 86,
      "outputs": [
        {
          "output_type": "display_data",
          "data": {
            "text/plain": [
              "<Figure size 1000x800 with 2 Axes>"
            ],
            "image/png": "[encoded data removed]"
          },
          "metadata": {}
        }
      ]
    },
    {
      "cell_type": "code",
      "source": [
        "# Assuming 'df' is your DataFrame and 'label' is the column with categorical labels\n",
        "label_counts = df['Label'].value_counts()\n",
        "\n",
        "# Creating the pie chart\n",
        "plt.figure(figsize=(6, 6))\n",
        "# Define your shades of pink. You can add more or use different shades as per your preference.\n",
        "pink_shades = ['#FFC0CB', '#FFB6C1', '#FF69B4', '#FF1493', '#DB7093']\n",
        "\n",
        "plt.pie(label_counts, labels=label_counts.index, autopct='%1.1f%%', startangle=200, colors=pink_shades)\n",
        "\n",
        "plt.title('Distribution of Labels')\n",
        "plt.show()"
      ],
      "metadata": {
        "colab": {
          "base_uri": "https://localhost:8080/",
          "height": 521
        },
        "id": "DAuhZTyezs5n",
        "outputId": "2287742d-aa29-40ce-8d87-336f0a2be3a2"
      },
      "execution_count": 81,
      "outputs": [
        {
          "output_type": "display_data",
          "data": {
            "text/plain": [
              "<Figure size 600x600 with 1 Axes>"
            ],
            "image/png": "[encoded data removed]"
          },
          "metadata": {}
        }
      ]
    },
    {
      "cell_type": "markdown",
      "source": [
        "###Data Preprocessing"
      ],
      "metadata": {
        "id": "VF_191yxEbbf"
      }
    },
    {
      "cell_type": "markdown",
      "source": [
        "- **Data Encoding for catagoical columns**"
      ],
      "metadata": {
        "id": "as6hGK5CE34a"
      }
    },
    {
      "cell_type": "code",
      "source": [
        "# we make it in the visualization part\n"
      ],
      "metadata": {
        "id": "ccF8JwzREPub"
      },
      "execution_count": 87,
      "outputs": []
    },
    {
      "cell_type": "markdown",
      "source": [
        "- **Scaling**\n",
        "Normalization or Standarization of data to convert it from 0 to 1"
      ],
      "metadata": {
        "id": "Bp_2YyyaMfI3"
      }
    },
    {
      "cell_type": "code",
      "source": [
        "# Now you can apply the scaler\n",
        "scaler = MinMaxScaler()\n",
        "\n",
        "# Select the numerical (int64 and float64) columns in the DataFrame\n",
        "numerical_columns = df.select_dtypes(include=['int64', 'float64']).columns\n",
        "\n",
        "# Fit the scaler to the data and then transform it\n",
        "df[numerical_columns] = scaler.fit_transform(df[numerical_columns])\n",
        "df.head(10)"
      ],
      "metadata": {
        "colab": {
          "base_uri": "https://localhost:8080/",
          "height": 412
        },
        "id": "GhKuhD8QISij",
        "outputId": "be4a9b34-ba76-48c8-d351-8aa71c3c1080"
      },
      "execution_count": 98,
      "outputs": [
        {
          "output_type": "execute_result",
          "data": {
            "text/plain": [
              "   Protocol  Flow_Duration  Tot_Fwd_Pkts  Tot_Bwd_Pkts  TotLen_Fwd_Pkts  \\\n",
              "0  1.000000       0.000740      0.005376      0.000000         0.008940   \n",
              "1  0.352941       0.053099      0.005376      0.001789         0.000000   \n",
              "2  0.352941       0.001400      0.000000      0.003578         0.000000   \n",
              "3  0.352941       0.001500      0.000000      0.001789         0.000000   \n",
              "4  1.000000       0.001520      0.010753      0.000000         0.008066   \n",
              "5  0.352941       0.001560      0.010753      0.000000         0.000000   \n",
              "6  1.000000       0.001380      0.107527      0.000000         0.005826   \n",
              "7  0.352941       0.001110      0.000000      0.001789         0.000000   \n",
              "8  1.000000       0.000850      0.005376      0.000000         0.000291   \n",
              "9  0.352941       0.067992      0.000000      0.001789         0.000000   \n",
              "\n",
              "   TotLen_Bwd_Pkts  Fwd_Pkt_Len_Max  Fwd_Pkt_Len_Min  Fwd_Pkt_Len_Mean  \\\n",
              "0         0.001849         0.670765         0.670765          0.670765   \n",
              "1         0.000000         0.000000         0.000000          0.000000   \n",
              "2         0.003629         0.000000         0.000000          0.000000   \n",
              "3         0.003590         0.000000         0.000000          0.000000   \n",
              "4         0.000543         0.308743         0.296448          0.302596   \n",
              "5         0.000000         0.000000         0.000000          0.000000   \n",
              "6         0.000041         0.021858         0.021858          0.021858   \n",
              "7         0.003745         0.000000         0.000000          0.000000   \n",
              "8         0.000041         0.021858         0.021858          0.021858   \n",
              "9         0.000000         0.000000         0.000000          0.000000   \n",
              "\n",
              "   Fwd_Pkt_Len_Std  ...  Active_Mean  Active_Std  Active_Max  Active_Min  \\\n",
              "0         0.000000  ...          0.0         0.0         0.0         0.0   \n",
              "1         0.000000  ...          0.0         0.0         0.0         0.0   \n",
              "2         0.000000  ...          0.0         0.0         0.0         0.0   \n",
              "3         0.000000  ...          0.0         0.0         0.0         0.0   \n",
              "4         0.012329  ...          0.0         0.0         0.0         0.0   \n",
              "5         0.000000  ...          0.0         0.0         0.0         0.0   \n",
              "6         0.000000  ...          0.0         0.0         0.0         0.0   \n",
              "7         0.000000  ...          0.0         0.0         0.0         0.0   \n",
              "8         0.000000  ...          0.0         0.0         0.0         0.0   \n",
              "9         0.000000  ...          0.0         0.0         0.0         0.0   \n",
              "\n",
              "   Idle_Mean  Idle_Std  Idle_Max  Idle_Min    Label  Label_encoded  \n",
              "0   0.000750  0.000000  0.000750  0.000750  Anomaly            0.0  \n",
              "1   0.026557  0.033715  0.042551  0.010563  Anomaly            0.0  \n",
              "2   0.000705  0.000011  0.000710  0.000700  Anomaly            0.0  \n",
              "3   0.001510  0.000000  0.001510  0.001510  Anomaly            0.0  \n",
              "4   0.000765  0.000011  0.000770  0.000760  Anomaly            0.0  \n",
              "5   0.000785  0.000095  0.000830  0.000740  Anomaly            0.0  \n",
              "6   0.000070  0.000025  0.000100  0.000040  Anomaly            0.0  \n",
              "7   0.001120  0.000000  0.001120  0.001120  Anomaly            0.0  \n",
              "8   0.000860  0.000000  0.000860  0.000860  Anomaly            0.0  \n",
              "9   0.068008  0.000000  0.068008  0.068008  Anomaly            0.0  \n",
              "\n",
              "[10 rows x 69 columns]"
            ],
            "text/html": [
              "\n",
              "  <div id=\"df-4cbc75f6-2a58-4eeb-9a44-bcdba3f810b6\" class=\"colab-df-container\">\n",
              "    <div>\n",
              "<style scoped>\n",
              "    .dataframe tbody tr th:only-of-type {\n",
              "        vertical-align: middle;\n",
              "    }\n",
              "\n",
              "    .dataframe tbody tr th {\n",
              "        vertical-align: top;\n",
              "    }\n",
              "\n",
              "    .dataframe thead th {\n",
              "        text-align: right;\n",
              "    }\n",
              "</style>\n",
              "<table border=\"1\" class=\"dataframe\">\n",
              "  <thead>\n",
              "    <tr style=\"text-align: right;\">\n",
              "      <th></th>\n",
              "      <th>Protocol</th>\n",
              "      <th>Flow_Duration</th>\n",
              "      <th>Tot_Fwd_Pkts</th>\n",
              "      <th>Tot_Bwd_Pkts</th>\n",
              "      <th>TotLen_Fwd_Pkts</th>\n",
              "      <th>TotLen_Bwd_Pkts</th>\n",
              "      <th>Fwd_Pkt_Len_Max</th>\n",
              "      <th>Fwd_Pkt_Len_Min</th>\n",
              "      <th>Fwd_Pkt_Len_Mean</th>\n",
              "      <th>Fwd_Pkt_Len_Std</th>\n",
              "      <th>...</th>\n",
              "      <th>Active_Mean</th>\n",
              "      <th>Active_Std</th>\n",
              "      <th>Active_Max</th>\n",
              "      <th>Active_Min</th>\n",
              "      <th>Idle_Mean</th>\n",
              "      <th>Idle_Std</th>\n",
              "      <th>Idle_Max</th>\n",
              "      <th>Idle_Min</th>\n",
              "      <th>Label</th>\n",
              "      <th>Label_encoded</th>\n",
              "    </tr>\n",
              "  </thead>\n",
              "  <tbody>\n",
              "    <tr>\n",
              "      <th>0</th>\n",
              "      <td>1.000000</td>\n",
              "      <td>0.000740</td>\n",
              "      <td>0.005376</td>\n",
              "      <td>0.000000</td>\n",
              "      <td>0.008940</td>\n",
              "      <td>0.001849</td>\n",
              "      <td>0.670765</td>\n",
              "      <td>0.670765</td>\n",
              "      <td>0.670765</td>\n",
              "      <td>0.000000</td>\n",
              "      <td>...</td>\n",
              "      <td>0.0</td>\n",
              "      <td>0.0</td>\n",
              "      <td>0.0</td>\n",
              "      <td>0.0</td>\n",
              "      <td>0.000750</td>\n",
              "      <td>0.000000</td>\n",
              "      <td>0.000750</td>\n",
              "      <td>0.000750</td>\n",
              "      <td>Anomaly</td>\n",
              "      <td>0.0</td>\n",
              "    </tr>\n",
              "    <tr>\n",
              "      <th>1</th>\n",
              "      <td>0.352941</td>\n",
              "      <td>0.053099</td>\n",
              "      <td>0.005376</td>\n",
              "      <td>0.001789</td>\n",
              "      <td>0.000000</td>\n",
              "      <td>0.000000</td>\n",
              "      <td>0.000000</td>\n",
              "      <td>0.000000</td>\n",
              "      <td>0.000000</td>\n",
              "      <td>0.000000</td>\n",
              "      <td>...</td>\n",
              "      <td>0.0</td>\n",
              "      <td>0.0</td>\n",
              "      <td>0.0</td>\n",
              "      <td>0.0</td>\n",
              "      <td>0.026557</td>\n",
              "      <td>0.033715</td>\n",
              "      <td>0.042551</td>\n",
              "      <td>0.010563</td>\n",
              "      <td>Anomaly</td>\n",
              "      <td>0.0</td>\n",
              "    </tr>\n",
              "    <tr>\n",
              "      <th>2</th>\n",
              "      <td>0.352941</td>\n",
              "      <td>0.001400</td>\n",
              "      <td>0.000000</td>\n",
              "      <td>0.003578</td>\n",
              "      <td>0.000000</td>\n",
              "      <td>0.003629</td>\n",
              "      <td>0.000000</td>\n",
              "      <td>0.000000</td>\n",
              "      <td>0.000000</td>\n",
              "      <td>0.000000</td>\n",
              "      <td>...</td>\n",
              "      <td>0.0</td>\n",
              "      <td>0.0</td>\n",
              "      <td>0.0</td>\n",
              "      <td>0.0</td>\n",
              "      <td>0.000705</td>\n",
              "      <td>0.000011</td>\n",
              "      <td>0.000710</td>\n",
              "      <td>0.000700</td>\n",
              "      <td>Anomaly</td>\n",
              "      <td>0.0</td>\n",
              "    </tr>\n",
              "    <tr>\n",
              "      <th>3</th>\n",
              "      <td>0.352941</td>\n",
              "      <td>0.001500</td>\n",
              "      <td>0.000000</td>\n",
              "      <td>0.001789</td>\n",
              "      <td>0.000000</td>\n",
              "      <td>0.003590</td>\n",
              "      <td>0.000000</td>\n",
              "      <td>0.000000</td>\n",
              "      <td>0.000000</td>\n",
              "      <td>0.000000</td>\n",
              "      <td>...</td>\n",
              "      <td>0.0</td>\n",
              "      <td>0.0</td>\n",
              "      <td>0.0</td>\n",
              "      <td>0.0</td>\n",
              "      <td>0.001510</td>\n",
              "      <td>0.000000</td>\n",
              "      <td>0.001510</td>\n",
              "      <td>0.001510</td>\n",
              "      <td>Anomaly</td>\n",
              "      <td>0.0</td>\n",
              "    </tr>\n",
              "    <tr>\n",
              "      <th>4</th>\n",
              "      <td>1.000000</td>\n",
              "      <td>0.001520</td>\n",
              "      <td>0.010753</td>\n",
              "      <td>0.000000</td>\n",
              "      <td>0.008066</td>\n",
              "      <td>0.000543</td>\n",
              "      <td>0.308743</td>\n",
              "      <td>0.296448</td>\n",
              "      <td>0.302596</td>\n",
              "      <td>0.012329</td>\n",
              "      <td>...</td>\n",
              "      <td>0.0</td>\n",
              "      <td>0.0</td>\n",
              "      <td>0.0</td>\n",
              "      <td>0.0</td>\n",
              "      <td>0.000765</td>\n",
              "      <td>0.000011</td>\n",
              "      <td>0.000770</td>\n",
              "      <td>0.000760</td>\n",
              "      <td>Anomaly</td>\n",
              "      <td>0.0</td>\n",
              "    </tr>\n",
              "    <tr>\n",
              "      <th>5</th>\n",
              "      <td>0.352941</td>\n",
              "      <td>0.001560</td>\n",
              "      <td>0.010753</td>\n",
              "      <td>0.000000</td>\n",
              "      <td>0.000000</td>\n",
              "      <td>0.000000</td>\n",
              "      <td>0.000000</td>\n",
              "      <td>0.000000</td>\n",
              "      <td>0.000000</td>\n",
              "      <td>0.000000</td>\n",
              "      <td>...</td>\n",
              "      <td>0.0</td>\n",
              "      <td>0.0</td>\n",
              "      <td>0.0</td>\n",
              "      <td>0.0</td>\n",
              "      <td>0.000785</td>\n",
              "      <td>0.000095</td>\n",
              "      <td>0.000830</td>\n",
              "      <td>0.000740</td>\n",
              "      <td>Anomaly</td>\n",
              "      <td>0.0</td>\n",
              "    </tr>\n",
              "    <tr>\n",
              "      <th>6</th>\n",
              "      <td>1.000000</td>\n",
              "      <td>0.001380</td>\n",
              "      <td>0.107527</td>\n",
              "      <td>0.000000</td>\n",
              "      <td>0.005826</td>\n",
              "      <td>0.000041</td>\n",
              "      <td>0.021858</td>\n",
              "      <td>0.021858</td>\n",
              "      <td>0.021858</td>\n",
              "      <td>0.000000</td>\n",
              "      <td>...</td>\n",
              "      <td>0.0</td>\n",
              "      <td>0.0</td>\n",
              "      <td>0.0</td>\n",
              "      <td>0.0</td>\n",
              "      <td>0.000070</td>\n",
              "      <td>0.000025</td>\n",
              "      <td>0.000100</td>\n",
              "      <td>0.000040</td>\n",
              "      <td>Anomaly</td>\n",
              "      <td>0.0</td>\n",
              "    </tr>\n",
              "    <tr>\n",
              "      <th>7</th>\n",
              "      <td>0.352941</td>\n",
              "      <td>0.001110</td>\n",
              "      <td>0.000000</td>\n",
              "      <td>0.001789</td>\n",
              "      <td>0.000000</td>\n",
              "      <td>0.003745</td>\n",
              "      <td>0.000000</td>\n",
              "      <td>0.000000</td>\n",
              "      <td>0.000000</td>\n",
              "      <td>0.000000</td>\n",
              "      <td>...</td>\n",
              "      <td>0.0</td>\n",
              "      <td>0.0</td>\n",
              "      <td>0.0</td>\n",
              "      <td>0.0</td>\n",
              "      <td>0.001120</td>\n",
              "      <td>0.000000</td>\n",
              "      <td>0.001120</td>\n",
              "      <td>0.001120</td>\n",
              "      <td>Anomaly</td>\n",
              "      <td>0.0</td>\n",
              "    </tr>\n",
              "    <tr>\n",
              "      <th>8</th>\n",
              "      <td>1.000000</td>\n",
              "      <td>0.000850</td>\n",
              "      <td>0.005376</td>\n",
              "      <td>0.000000</td>\n",
              "      <td>0.000291</td>\n",
              "      <td>0.000041</td>\n",
              "      <td>0.021858</td>\n",
              "      <td>0.021858</td>\n",
              "      <td>0.021858</td>\n",
              "      <td>0.000000</td>\n",
              "      <td>...</td>\n",
              "      <td>0.0</td>\n",
              "      <td>0.0</td>\n",
              "      <td>0.0</td>\n",
              "      <td>0.0</td>\n",
              "      <td>0.000860</td>\n",
              "      <td>0.000000</td>\n",
              "      <td>0.000860</td>\n",
              "      <td>0.000860</td>\n",
              "      <td>Anomaly</td>\n",
              "      <td>0.0</td>\n",
              "    </tr>\n",
              "    <tr>\n",
              "      <th>9</th>\n",
              "      <td>0.352941</td>\n",
              "      <td>0.067992</td>\n",
              "      <td>0.000000</td>\n",
              "      <td>0.001789</td>\n",
              "      <td>0.000000</td>\n",
              "      <td>0.000000</td>\n",
              "      <td>0.000000</td>\n",
              "      <td>0.000000</td>\n",
              "      <td>0.000000</td>\n",
              "      <td>0.000000</td>\n",
              "      <td>...</td>\n",
              "      <td>0.0</td>\n",
              "      <td>0.0</td>\n",
              "      <td>0.0</td>\n",
              "      <td>0.0</td>\n",
              "      <td>0.068008</td>\n",
              "      <td>0.000000</td>\n",
              "      <td>0.068008</td>\n",
              "      <td>0.068008</td>\n",
              "      <td>Anomaly</td>\n",
              "      <td>0.0</td>\n",
              "    </tr>\n",
              "  </tbody>\n",
              "</table>\n",
              "<p>10 rows × 69 columns</p>\n",
              "</div>\n",
              "    <div class=\"colab-df-buttons\">\n",
              "\n",
              "  <div class=\"colab-df-container\">\n",
              "    <button class=\"colab-df-convert\" onclick=\"convertToInteractive('df-4cbc75f6-2a58-4eeb-9a44-bcdba3f810b6')\"\n",
              "            title=\"Convert this dataframe to an interactive table.\"\n",
              "            style=\"display:none;\">\n",
              "\n",
              "  <svg xmlns=\"http://www.w3.org/2000/svg\" height=\"24px\" viewBox=\"0 -960 960 960\">\n",
              "    <path d=\"M120-120v-720h720v720H120Zm60-500h600v-160H180v160Zm220 220h160v-160H400v160Zm0 220h160v-160H400v160ZM180-400h160v-160H180v160Zm440 0h160v-160H620v160ZM180-180h160v-160H180v160Zm440 0h160v-160H620v160Z\"/>\n",
              "  </svg>\n",
              "    </button>\n",
              "\n",
              "  <style>\n",
              "    .colab-df-container {\n",
              "      display:flex;\n",
              "      gap: 12px;\n",
              "    }\n",
              "\n",
              "    .colab-df-convert {\n",
              "      background-color: #E8F0FE;\n",
              "      border: none;\n",
              "      border-radius: 50%;\n",
              "      cursor: pointer;\n",
              "      display: none;\n",
              "      fill: #1967D2;\n",
              "      height: 32px;\n",
              "      padding: 0 0 0 0;\n",
              "      width: 32px;\n",
              "    }\n",
              "\n",
              "    .colab-df-convert:hover {\n",
              "      background-color: #E2EBFA;\n",
              "      box-shadow: 0px 1px 2px rgba(60, 64, 67, 0.3), 0px 1px 3px 1px rgba(60, 64, 67, 0.15);\n",
              "      fill: #174EA6;\n",
              "    }\n",
              "\n",
              "    .colab-df-buttons div {\n",
              "      margin-bottom: 4px;\n",
              "    }\n",
              "\n",
              "    [theme=dark] .colab-df-convert {\n",
              "      background-color: #3B4455;\n",
              "      fill: #D2E3FC;\n",
              "    }\n",
              "\n",
              "    [theme=dark] .colab-df-convert:hover {\n",
              "      background-color: #434B5C;\n",
              "      box-shadow: 0px 1px 3px 1px rgba(0, 0, 0, 0.15);\n",
              "      filter: drop-shadow(0px 1px 2px rgba(0, 0, 0, 0.3));\n",
              "      fill: #FFFFFF;\n",
              "    }\n",
              "  </style>\n",
              "\n",
              "    <script>\n",
              "      const buttonEl =\n",
              "        document.querySelector('#df-4cbc75f6-2a58-4eeb-9a44-bcdba3f810b6 button.colab-df-convert');\n",
              "      buttonEl.style.display =\n",
              "        google.colab.kernel.accessAllowed ? 'block' : 'none';\n",
              "\n",
              "      async function convertToInteractive(key) {\n",
              "        const element = document.querySelector('#df-4cbc75f6-2a58-4eeb-9a44-bcdba3f810b6');\n",
              "        const dataTable =\n",
              "          await google.colab.kernel.invokeFunction('convertToInteractive',\n",
              "                                                    [key], {});\n",
              "        if (!dataTable) return;\n",
              "\n",
              "        const docLinkHtml = 'Like what you see? Visit the ' +\n",
              "          '<a target=\"_blank\" href=https://colab.research.google.com/notebooks/data_table.ipynb>data table notebook</a>'\n",
              "          + ' to learn more about interactive tables.';\n",
              "        element.innerHTML = '';\n",
              "        dataTable['output_type'] = 'display_data';\n",
              "        await google.colab.output.renderOutput(dataTable, element);\n",
              "        const docLink = document.createElement('div');\n",
              "        docLink.innerHTML = docLinkHtml;\n",
              "        element.appendChild(docLink);\n",
              "      }\n",
              "    </script>\n",
              "  </div>\n",
              "\n",
              "\n",
              "<div id=\"df-bc455d6b-40b8-4540-b83a-9525e934af15\">\n",
              "  <button class=\"colab-df-quickchart\" onclick=\"quickchart('df-bc455d6b-40b8-4540-b83a-9525e934af15')\"\n",
              "            title=\"Suggest charts\"\n",
              "            style=\"display:none;\">\n",
              "\n",
              "<svg xmlns=\"http://www.w3.org/2000/svg\" height=\"24px\"viewBox=\"0 0 24 24\"\n",
              "     width=\"24px\">\n",
              "    <g>\n",
              "        <path d=\"M19 3H5c-1.1 0-2 .9-2 2v14c0 1.1.9 2 2 2h14c1.1 0 2-.9 2-2V5c0-1.1-.9-2-2-2zM9 17H7v-7h2v7zm4 0h-2V7h2v10zm4 0h-2v-4h2v4z\"/>\n",
              "    </g>\n",
              "</svg>\n",
              "  </button>\n",
              "\n",
              "<style>\n",
              "  .colab-df-quickchart {\n",
              "      --bg-color: #E8F0FE;\n",
              "      --fill-color: #1967D2;\n",
              "      --hover-bg-color: #E2EBFA;\n",
              "      --hover-fill-color: #174EA6;\n",
              "      --disabled-fill-color: #AAA;\n",
              "      --disabled-bg-color: #DDD;\n",
              "  }\n",
              "\n",
              "  [theme=dark] .colab-df-quickchart {\n",
              "      --bg-color: #3B4455;\n",
              "      --fill-color: #D2E3FC;\n",
              "      --hover-bg-color: #434B5C;\n",
              "      --hover-fill-color: #FFFFFF;\n",
              "      --disabled-bg-color: #3B4455;\n",
              "      --disabled-fill-color: #666;\n",
              "  }\n",
              "\n",
              "  .colab-df-quickchart {\n",
              "    background-color: var(--bg-color);\n",
              "    border: none;\n",
              "    border-radius: 50%;\n",
              "    cursor: pointer;\n",
              "    display: none;\n",
              "    fill: var(--fill-color);\n",
              "    height: 32px;\n",
              "    padding: 0;\n",
              "    width: 32px;\n",
              "  }\n",
              "\n",
              "  .colab-df-quickchart:hover {\n",
              "    background-color: var(--hover-bg-color);\n",
              "    box-shadow: 0 1px 2px rgba(60, 64, 67, 0.3), 0 1px 3px 1px rgba(60, 64, 67, 0.15);\n",
              "    fill: var(--button-hover-fill-color);\n",
              "  }\n",
              "\n",
              "  .colab-df-quickchart-complete:disabled,\n",
              "  .colab-df-quickchart-complete:disabled:hover {\n",
              "    background-color: var(--disabled-bg-color);\n",
              "    fill: var(--disabled-fill-color);\n",
              "    box-shadow: none;\n",
              "  }\n",
              "\n",
              "  .colab-df-spinner {\n",
              "    border: 2px solid var(--fill-color);\n",
              "    border-color: transparent;\n",
              "    border-bottom-color: var(--fill-color);\n",
              "    animation:\n",
              "      spin 1s steps(1) infinite;\n",
              "  }\n",
              "\n",
              "  @keyframes spin {\n",
              "    0% {\n",
              "      border-color: transparent;\n",
              "      border-bottom-color: var(--fill-color);\n",
              "      border-left-color: var(--fill-color);\n",
              "    }\n",
              "    20% {\n",
              "      border-color: transparent;\n",
              "      border-left-color: var(--fill-color);\n",
              "      border-top-color: var(--fill-color);\n",
              "    }\n",
              "    30% {\n",
              "      border-color: transparent;\n",
              "      border-left-color: var(--fill-color);\n",
              "      border-top-color: var(--fill-color);\n",
              "      border-right-color: var(--fill-color);\n",
              "    }\n",
              "    40% {\n",
              "      border-color: transparent;\n",
              "      border-right-color: var(--fill-color);\n",
              "      border-top-color: var(--fill-color);\n",
              "    }\n",
              "    60% {\n",
              "      border-color: transparent;\n",
              "      border-right-color: var(--fill-color);\n",
              "    }\n",
              "    80% {\n",
              "      border-color: transparent;\n",
              "      border-right-color: var(--fill-color);\n",
              "      border-bottom-color: var(--fill-color);\n",
              "    }\n",
              "    90% {\n",
              "      border-color: transparent;\n",
              "      border-bottom-color: var(--fill-color);\n",
              "    }\n",
              "  }\n",
              "</style>\n",
              "\n",
              "  <script>\n",
              "    async function quickchart(key) {\n",
              "      const quickchartButtonEl =\n",
              "        document.querySelector('#' + key + ' button');\n",
              "      quickchartButtonEl.disabled = true;  // To prevent multiple clicks.\n",
              "      quickchartButtonEl.classList.add('colab-df-spinner');\n",
              "      try {\n",
              "        const charts = await google.colab.kernel.invokeFunction(\n",
              "            'suggestCharts', [key], {});\n",
              "      } catch (error) {\n",
              "        console.error('Error during call to suggestCharts:', error);\n",
              "      }\n",
              "      quickchartButtonEl.classList.remove('colab-df-spinner');\n",
              "      quickchartButtonEl.classList.add('colab-df-quickchart-complete');\n",
              "    }\n",
              "    (() => {\n",
              "      let quickchartButtonEl =\n",
              "        document.querySelector('#df-bc455d6b-40b8-4540-b83a-9525e934af15 button');\n",
              "      quickchartButtonEl.style.display =\n",
              "        google.colab.kernel.accessAllowed ? 'block' : 'none';\n",
              "    })();\n",
              "  </script>\n",
              "</div>\n",
              "\n",
              "    </div>\n",
              "  </div>\n"
            ],
            "application/vnd.google.colaboratory.intrinsic+json": {
              "type": "dataframe",
              "variable_name": "df"
            }
          },
          "metadata": {},
          "execution_count": 98
        }
      ]
    },
    {
      "cell_type": "markdown",
      "source": [
        "## Models Building & Evaluation Metrics"
      ],
      "metadata": {
        "id": "OFMSRL-aRqE5"
      }
    },
    {
      "cell_type": "markdown",
      "source": [
        "### Model 1 : Logistic Regression Modeling\n",
        "\n",
        "logistic regression is a powerful and widely-used tool for classification problems, especially when the outcome to be predicted is binary. Its simplicity and interpretability make it a popular choice for many applications,"
      ],
      "metadata": {
        "id": "uhH1kTv-VrcC"
      }
    },
    {
      "cell_type": "markdown",
      "source": [
        "- **Data splits**\n",
        "\n",
        "Before training, we need to split data into training (80%) & testing (20%)"
      ],
      "metadata": {
        "id": "HJw2vQuLTWRY"
      }
    },
    {
      "cell_type": "code",
      "source": [
        "from sklearn.model_selection import train_test_split\n",
        "from sklearn.linear_model import LogisticRegression\n",
        "features = ['Protocol', 'Flow_Duration', 'Tot_Fwd_Pkts', 'Tot_Bwd_Pkts',\n",
        "       'TotLen_Fwd_Pkts', 'TotLen_Bwd_Pkts', 'Fwd_Pkt_Len_Max',\n",
        "       'Fwd_Pkt_Len_Min', 'Fwd_Pkt_Len_Mean', 'Fwd_Pkt_Len_Std',\n",
        "       'Bwd_Pkt_Len_Max', 'Bwd_Pkt_Len_Min', 'Bwd_Pkt_Len_Mean',\n",
        "       'Bwd_Pkt_Len_Std', 'Flow_Byts/s', 'Flow_Pkts/s', 'Flow_IAT_Mean',\n",
        "       'Flow_IAT_Std', 'Flow_IAT_Max', 'Flow_IAT_Min', 'Fwd_IAT_Tot',\n",
        "       'Fwd_IAT_Mean', 'Bwd_IAT_Mean', 'Fwd_IAT_Max', 'Fwd_IAT_Min',\n",
        "       'Bwd_IAT_Tot', 'Bwd_IAT_Mean.1', 'Bwd_IAT_Std', 'Bwd_IAT_Max',\n",
        "       'Bwd_IAT_Min', 'Bwd_PSH_Flags', 'Bwd_URG_Flags', 'Fwd_Header_Len',\n",
        "       'Bwd_Header_Len', 'Fwd_Pkts/s', 'Bwd_Pkts/s', 'Pkt_Len_Min',\n",
        "       'Pkt_Len_Max', 'Pkt_Len_Mean', 'Pkt_Len_Std', 'Pkt_Len_Var',\n",
        "       'FIN_Flag_Cnt', 'SYN_Flag_Cnt', 'RST_Flag_Cnt', 'PSH_Flag_Cnt',\n",
        "       'ACK_Flag_Cnt', 'URG_Flag_Cnt', 'CWE_Flag_Count', 'ECE_Flag_Cnt',\n",
        "       'Down/Up_Ratio', 'Pkt_Size_Avg', 'Fwd_Seg_Size_Avg', 'Bwd_Seg_Size_Avg',\n",
        "       'Subflow_Fwd_Pkts', 'Subflow_Fwd_Byts', 'Subflow_Bwd_Pkts',\n",
        "       'Subflow_Bwd_Byts', 'Init_Bwd_Win_Byts', 'Fwd_Act_Data_Pkts',\n",
        "       'Active_Mean', 'Active_Std', 'Active_Max', 'Active_Min', 'Idle_Mean',\n",
        "       'Idle_Std', 'Idle_Max', 'Idle_Min']\n",
        "X = df[features]\n",
        "\n",
        "y = df['Label_encoded']\n",
        "\n",
        "# split dataset in a 80/20 split\n",
        "x_train, x_test, y_train, y_test = train_test_split(X, y, test_size=0.2, random_state=42)\n",
        "\n",
        "\n",
        "print(x_train.shape, y_train.shape)\n",
        "print(x_test.shape, y_test.shape)"
      ],
      "metadata": {
        "id": "s1pHB88rTP4N",
        "colab": {
          "base_uri": "https://localhost:8080/"
        },
        "outputId": "b45c6452-e244-4b48-c8be-b0ed5055147e"
      },
      "execution_count": null,
      "outputs": [
        {
          "output_type": "stream",
          "name": "stdout",
          "text": [
            "(325000, 67) (325000,)\n",
            "(81250, 67) (81250,)\n"
          ]
        }
      ]
    },
    {
      "cell_type": "markdown",
      "source": [
        "- **Model Evaluation**"
      ],
      "metadata": {
        "id": "P7-HlIfdTlGN"
      }
    },
    {
      "cell_type": "code",
      "source": [
        "from sklearn.linear_model import LogisticRegression\n",
        "from sklearn.metrics import accuracy_score, precision_score, recall_score, f1_score\n",
        "# define our regression model\n",
        "model = LogisticRegression()\n",
        "# train our model\n",
        "model.fit(x_train, y_train)\n",
        "y_pred = model.predict(x_test)\n",
        "\n",
        "\n",
        "accuracy_model_1 = accuracy_score(y_pred, y_test)\n",
        "precision_model1 = precision_score(y_test, y_pred)\n",
        "recall_model1 = recall_score(y_test, y_pred)\n",
        "f1_score_model1 = f1_score(y_test, y_pred)\n",
        "\n",
        "print(\"Accuracy:\", accuracy_model_1,\n",
        "      \"\\nPrecision:\",precision_model1,\n",
        "      \"\\nRecall:\", recall_model1,\n",
        "      \"\\nF1 Score:\", f1_score_model1)"
      ],
      "metadata": {
        "colab": {
          "base_uri": "https://localhost:8080/"
        },
        "id": "MFQlNTjIVkk0",
        "outputId": "389dda67-518c-4711-b71b-d5ed2ef5d9b3"
      },
      "execution_count": null,
      "outputs": [
        {
          "output_type": "stream",
          "name": "stdout",
          "text": [
            "Accuracy: 0.9263876923076924 \n",
            "Precision: 0.8078647809589513 \n",
            "Recall: 0.30157095029616277 \n",
            "F1 Score: 0.43919362400375056\n"
          ]
        },
        {
          "output_type": "stream",
          "name": "stderr",
          "text": [
            "/usr/local/lib/python3.10/dist-packages/sklearn/linear_model/_logistic.py:458: ConvergenceWarning: lbfgs failed to converge (status=1):\n",
            "STOP: TOTAL NO. of ITERATIONS REACHED LIMIT.\n",
            "\n",
            "Increase the number of iterations (max_iter) or scale the data as shown in:\n",
            "    https://scikit-learn.org/stable/modules/preprocessing.html\n",
            "Please also refer to the documentation for alternative solver options:\n",
            "    https://scikit-learn.org/stable/modules/linear_model.html#logistic-regression\n",
            "  n_iter_i = _check_optimize_result(\n"
          ]
        }
      ]
    },
    {
      "cell_type": "code",
      "source": [
        "df['Label'].hist()"
      ],
      "metadata": {
        "colab": {
          "base_uri": "https://localhost:8080/",
          "height": 448
        },
        "id": "usa4mYHNm1cF",
        "outputId": "fbf27e97-3516-49e5-ebb6-54b5ceeddddc"
      },
      "execution_count": null,
      "outputs": [
        {
          "output_type": "execute_result",
          "data": {
            "text/plain": [
              "<Axes: >"
            ]
          },
          "metadata": {},
          "execution_count": 38
        },
        {
          "output_type": "display_data",
          "data": {
            "text/plain": [
              "<Figure size 640x480 with 1 Axes>"
            ],
            "image/png": "[encoded data removed]"
          },
          "metadata": {}
        }
      ]
    },
    {
      "cell_type": "markdown",
      "source": [
        "- **Model Improvement**"
      ],
      "metadata": {
        "id": "OOcKcVPfn0jX"
      }
    },
    {
      "cell_type": "markdown",
      "source": [
        "we can see that we have a clearly imbalanced dataset. To handle it, we choose to do 2 steps:\n",
        "* Oversampling the minority class with a factor of 0.5\n",
        "* Undersampling the majority class to obtain the same number in the 2 classes\n",
        "<br>\n",
        "We do that by using the RandomOverSaampler and RandomUnderSampler from the imblearn library."
      ],
      "metadata": {
        "id": "raZ3CE55oDVF"
      }
    },
    {
      "cell_type": "code",
      "source": [
        "from imblearn.over_sampling import RandomOverSampler\n",
        "from imblearn.under_sampling import RandomUnderSampler\n",
        "\n",
        "over = RandomOverSampler(sampling_strategy= 0.5)\n",
        "x_new, y_new = over.fit_resample(X, y)\n",
        "under = RandomUnderSampler(sampling_strategy= 1)\n",
        "x_new, y_new = under.fit_resample(x_new, y_new)"
      ],
      "metadata": {
        "id": "AI7nLnfeoFQ1"
      },
      "execution_count": null,
      "outputs": []
    },
    {
      "cell_type": "code",
      "source": [
        "plt.hist(y_new)"
      ],
      "metadata": {
        "colab": {
          "base_uri": "https://localhost:8080/",
          "height": 501
        },
        "id": "s9JJAazxog6k",
        "outputId": "4605f4fd-975a-4193-e22c-27c864766b0b"
      },
      "execution_count": null,
      "outputs": [
        {
          "output_type": "execute_result",
          "data": {
            "text/plain": [
              "(array([183826.,      0.,      0.,      0.,      0.,      0.,      0.,\n",
              "             0.,      0., 183826.]),\n",
              " array([0. , 0.1, 0.2, 0.3, 0.4, 0.5, 0.6, 0.7, 0.8, 0.9, 1. ]),\n",
              " <BarContainer object of 10 artists>)"
            ]
          },
          "metadata": {},
          "execution_count": 40
        },
        {
          "output_type": "display_data",
          "data": {
            "text/plain": [
              "<Figure size 640x480 with 1 Axes>"
            ],
            "image/png": "[encoded data removed]"
          },
          "metadata": {}
        }
      ]
    },
    {
      "cell_type": "code",
      "source": [
        "x_train, x_test, y_train, y_test = train_test_split(x_new, y_new, test_size=0.2, random_state=42)\n",
        "model = LogisticRegression()\n",
        "model.fit(x_train, y_train)\n",
        "y_pred = model.predict(x_test)\n",
        "\n",
        "accuracy_model2 = accuracy_score(y_test, y_pred)\n",
        "precision_model2 = precision_score(y_test, y_pred)\n",
        "recall_model2 = recall_score(y_test, y_pred)\n",
        "f1_score_model2 = f1_score(y_test, y_pred)\n",
        "\n",
        "print(\"Accuracy:\", accuracy_model2,\n",
        "      \"\\nPrecision:\",precision_model2,\n",
        "      \"\\nRecall:\", recall_model2,\n",
        "      \"\\nF1 Score:\", f1_score_model2)"
      ],
      "metadata": {
        "colab": {
          "base_uri": "https://localhost:8080/"
        },
        "id": "y2Ajc-vyo7Fp",
        "outputId": "0decd81a-20d8-4ddd-a196-e947a91c3fb9"
      },
      "execution_count": null,
      "outputs": [
        {
          "output_type": "stream",
          "name": "stderr",
          "text": [
            "/usr/local/lib/python3.10/dist-packages/sklearn/linear_model/_logistic.py:458: ConvergenceWarning: lbfgs failed to converge (status=1):\n",
            "STOP: TOTAL NO. of ITERATIONS REACHED LIMIT.\n",
            "\n",
            "Increase the number of iterations (max_iter) or scale the data as shown in:\n",
            "    https://scikit-learn.org/stable/modules/preprocessing.html\n",
            "Please also refer to the documentation for alternative solver options:\n",
            "    https://scikit-learn.org/stable/modules/linear_model.html#logistic-regression\n",
            "  n_iter_i = _check_optimize_result(\n"
          ]
        },
        {
          "output_type": "stream",
          "name": "stdout",
          "text": [
            "Accuracy: 0.871877167453183 \n",
            "Precision: 0.8210461770671195 \n",
            "Recall: 0.9499822632139057 \n",
            "F1 Score: 0.8808207567458158\n"
          ]
        }
      ]
    },
    {
      "cell_type": "markdown",
      "source": [
        "**Explanation why the model performance is changed after making the dataset balanced**\n",
        "\n",
        "performance differences arise because in imbalanced datasets, there are many more instances of one class than the other. This often leads to high accuracy but poor recall or precision for the minority class. Models can simply predict the majority class for all instances and still achieve high accuracy, but this is not usually desirable.\n",
        "\n",
        "When the dataset is balanced, the distribution of classes is more even. This means that the model has to learn to distinguish between the classes more effectively, rather than predominantly predicting the majority class. As a result, the precision, recall, and F1 scores are usually more indicative of the model's true performance.\n",
        "\n",
        "For the imbalanced dataset (model before improvment), even with a high accuracy of 92%, the recall is relatively low (30%). This suggests that the model likely predicted the majority class well but missed a significant portion of the minority class.\n",
        "\n",
        "For the balanced dataset (model after improvment), the accuracy decreased slightly to 87%, but the precision, recall, and F1 scores increased significantly, indicating a model that is better at classifying instances of the minority class. This is a more desirable outcome in most real-world classification tasks because it demonstrates that the model is more robust and performs well across all classes.\n",
        "\n",
        "\n",
        "\n",
        "\n",
        "\n",
        "\n",
        "\n"
      ],
      "metadata": {
        "id": "1Izt00xKq1kD"
      }
    },
    {
      "cell_type": "markdown",
      "source": [
        " ### Model 2:  Random Forest classifier\n",
        "\n",
        " is a powerful, versatile, and widely-used machine learning algorithm that offers high accuracy and robustness against overfitting, making it suitable for a wide range of classification and regression tasks"
      ],
      "metadata": {
        "id": "kJ6TNLSNYU0B"
      }
    },
    {
      "cell_type": "code",
      "source": [
        "from sklearn.datasets import make_classification\n",
        "from sklearn.model_selection import train_test_split\n",
        "from sklearn.linear_model import LogisticRegression\n",
        "from sklearn.ensemble import RandomForestClassifier\n",
        "from sklearn.metrics import accuracy_score\n",
        "from sklearn.model_selection import cross_val_score\n",
        "\n",
        "# Split the dataset into training and testing sets\n",
        "X_train, X_test, y_train, y_test = train_test_split(X, y, test_size=0.2, random_state=42)\n",
        "\n",
        "# Initialize the Random Forest classifier\n",
        "random_forest_model = RandomForestClassifier(n_estimators=100, random_state=42)\n",
        "\n",
        "# Train the Random Forest classifier\n",
        "random_forest_model.fit(X_train, y_train)\n",
        "\n",
        "# Predict the labels for the test set with Random Forest Classifier\n",
        "random_forest_predictions = random_forest_model.predict(X_test)\n",
        "\n",
        "# Calculate performance  for both mRandom Forest Classifier\n",
        "random_forest_accuracy = accuracy_score(y_test, random_forest_predictions)\n",
        "random_forest_precision= precision_score(y_test, random_forest_predictions)\n",
        "random_forest_recall_score= recall_score(y_test, random_forest_predictions)\n",
        "random_forest_f1_score= f1_score(y_test, random_forest_predictions)\n",
        "\n",
        "print(f'Random Forest Classifier Accuracy: {random_forest_accuracy:.2f}')\n",
        "print(f'Random_forest_recall_score: {random_forest_precision:.2f}')\n",
        "print(f'Random_forest_recall_score: {random_forest_recall_score:.2f}')\n",
        "print(f'Random_forest_f1_score: {random_forest_f1_score:.2f}')\n"
      ],
      "metadata": {
        "id": "46qGj7tjaZUb",
        "colab": {
          "base_uri": "https://localhost:8080/"
        },
        "outputId": "ecee44f8-d450-49a8-ad12-e07e1ffc5e2b"
      },
      "execution_count": null,
      "outputs": [
        {
          "output_type": "stream",
          "name": "stdout",
          "text": [
            "Random Forest Classifier Accuracy: 0.99\n",
            "Random_forest_recall_score: 0.95\n",
            "Random_forest_recall_score: 0.93\n",
            "Random_forest_f1_score: 0.94\n"
          ]
        }
      ]
    },
    {
      "cell_type": "markdown",
      "source": [
        " ### Model 3:  Support Vector Machine (SVM)\n",
        "\n",
        "\n",
        " SVM is a robust and versatile classification technique for both linear and non-linear data. Its ability to work well with high-dimensional data and its flexibility through the kernel trick make it a powerful tool for complex classification tasks."
      ],
      "metadata": {
        "id": "QqjuC6fp7WrC"
      }
    },
    {
      "cell_type": "code",
      "source": [
        "from sklearn.datasets import make_classification\n",
        "from sklearn.model_selection import train_test_split\n",
        "from sklearn.svm import SVC\n",
        "from sklearn.metrics import accuracy_score, classification_report\n",
        "from sklearn.preprocessing import StandardScaler\n",
        "\n",
        "# Generating a synthetic dataset\n",
        "X1, y1 = make_classification(n_samples=1000, n_features=20, n_informative=2, n_redundant=10, n_classes=2, random_state=42)\n",
        "\n",
        "# Splitting the dataset into training and testing sets\n",
        "X_train, X_test, y_train, y_test = train_test_split(X1, y1, test_size=0.25, random_state=42)\n",
        "\n",
        "# Initializing the SVM\n",
        "svm_classifier = SVC(kernel='linear', C=1.0, random_state=42)\n",
        "\n",
        "# Training the model\n",
        "svm_classifier.fit(X_train, y_train)\n",
        "\n",
        "# Making predictions on the test set\n",
        "svm_predictions = svm_classifier.predict(X_test)\n",
        "\n",
        "# Evaluating the model\n",
        "svm_accuracy = accuracy_score(y_test, svm_predictions)\n",
        "report = classification_report(y_test, svm_predictions)\n",
        "\n",
        "# Calculate performance  for SVM\n",
        "svm_accuracy = accuracy_score(y_test, svm_predictions)\n",
        "svm_precision= precision_score(y_test, svm_predictions)\n",
        "svm_recall_score= recall_score(y_test, svm_predictions)\n",
        "svm_f1_score= f1_score(y_test, svm_predictions)\n",
        "\n",
        "print(f'svm_Accuracy: {svm_accuracy:.2f}')\n",
        "print(f'svm_recall_score: {svm_precision:.2f}')\n",
        "print(f'svm_recall_score: {svm_recall_score:.2f}')\n",
        "print(f'svm__f1_score: {svm_f1_score:.2f}')"
      ],
      "metadata": {
        "colab": {
          "base_uri": "https://localhost:8080/"
        },
        "id": "KzhatZUO8U6z",
        "outputId": "581d9bf1-e6d5-4f50-d616-d115bc1bd67e"
      },
      "execution_count": null,
      "outputs": [
        {
          "output_type": "stream",
          "name": "stdout",
          "text": [
            "svm_Accuracy: 0.88\n",
            "svm_recall_score: 0.85\n",
            "svm_recall_score: 0.89\n",
            "svm__f1_score: 0.87\n"
          ]
        }
      ]
    },
    {
      "cell_type": "markdown",
      "source": [
        " ### Model 4: the Gradient Boosting Classifier (XGBoost)\n",
        "\n",
        " Gradient Boosting Classifier is a sophisticated and highly effective machine learning technique that builds an ensemble model by combining the predictions from several simpler models. Through careful optimization and tuning, it can achieve high accuracy and performance on a wide variety of tasks."
      ],
      "metadata": {
        "id": "yUICjwZ8NUEY"
      }
    },
    {
      "cell_type": "code",
      "source": [
        "pip install xgboost"
      ],
      "metadata": {
        "colab": {
          "base_uri": "https://localhost:8080/"
        },
        "id": "NCcUi6fhN2MT",
        "outputId": "2435cf61-e6c0-46cb-cf74-f6a0a509cd0f"
      },
      "execution_count": null,
      "outputs": [
        {
          "output_type": "stream",
          "name": "stdout",
          "text": [
            "Requirement already satisfied: xgboost in /usr/local/lib/python3.10/dist-packages (2.0.3)\n",
            "Requirement already satisfied: numpy in /usr/local/lib/python3.10/dist-packages (from xgboost) (1.25.2)\n",
            "Requirement already satisfied: scipy in /usr/local/lib/python3.10/dist-packages (from xgboost) (1.11.4)\n"
          ]
        }
      ]
    },
    {
      "cell_type": "code",
      "source": [
        "import xgboost as xgb\n",
        "from sklearn.model_selection import train_test_split\n",
        "from sklearn.metrics import accuracy_score\n",
        "from sklearn.datasets import make_classification\n",
        "\n",
        "# Generate a synthetic dataset\n",
        "X3, y3 = make_classification(n_samples=1000, n_features=20, n_informative=2, n_redundant=10, n_classes=2, random_state=42)\n",
        "\n",
        "# Split the dataset into training and testing sets\n",
        "X_train, X_test, y_train, y_test = train_test_split(X3, y3, test_size=0.2, random_state=42)\n",
        "\n",
        "# Initialize the XGBoost classifier\n",
        "xgb_classifier = xgb.XGBClassifier(use_label_encoder=False, eval_metric='logloss')\n",
        "\n",
        "# Train the model\n",
        "xgb_classifier.fit(X_train, y_train)\n",
        "\n",
        "# Predict the labels for the test set\n",
        "xgb_predictions = xgb_classifier.predict(X_test)\n",
        "\n",
        "# Calculate performance  for SVM\n",
        "xgb_accuracy = accuracy_score(y_test, xgb_predictions)\n",
        "xgb_precision= precision_score(y_test, xgb_predictions)\n",
        "xgb_recall_score= recall_score(y_test, xgb_predictions)\n",
        "xgb_f1_score= f1_score(y_test, xgb_predictions)\n",
        "\n",
        "print(f'Accuracy of the XGBoost classifier:: {xgb_accuracy:.2f}')\n",
        "print(f'The precision of the XGBoost classifier: {xgb_precision:.2f}')\n",
        "print(f'The recall of the XGBoost classifier: {xgb_recall_score:.2f}')\n",
        "print(f'f1_score of the XGBoost classifier: {xgb_f1_score:.2f}')"
      ],
      "metadata": {
        "colab": {
          "base_uri": "https://localhost:8080/"
        },
        "id": "KVy260TXN5Fz",
        "outputId": "bf664ff9-a5fe-4399-876f-a6b1ab991039"
      },
      "execution_count": null,
      "outputs": [
        {
          "output_type": "stream",
          "name": "stdout",
          "text": [
            "Accuracy of the XGBoost classifier:: 0.92\n",
            "The precision of the XGBoost classifier: 0.89\n",
            "The recall of the XGBoost classifier: 0.92\n",
            "f1_score of the XGBoost classifier: 0.91\n"
          ]
        }
      ]
    },
    {
      "cell_type": "markdown",
      "source": [
        "##Comparing models in machine learning\n",
        "\n",
        "involves evaluating and contrasting their performance, complexity, scalability, and suitability for a specific task or dataset\n",
        "(Logistic Regression Modeling+ Random Forest classifier+ Support Vector Machine (SVM))+Gradient Boosting Classifier (XGBoost)"
      ],
      "metadata": {
        "id": "kwxKrYFDFbht"
      }
    },
    {
      "cell_type": "code",
      "source": [
        "from tabulate import tabulate\n",
        "\n",
        "# Define the table data\n",
        "table_data = [\n",
        "    [\"Logistic Regression\", 0.87, 0.82, 0.94, 0.88],\n",
        "    [\"Random Forest\", 0.99, 0.95, 0.93,0.94],\n",
        "    [\"SVM\", 0.88, 0.85, 0.89, 0.87],\n",
        "    [\"XGBoost\", 0.92, 0.89, 0.92, 0.91]\n",
        "]\n",
        "\n",
        "# Create the table\n",
        "table = tabulate(table_data, headers=[\"Model\", \"Accuracy\",\"Precision\",\"Recall Score\",\"F1 score\"], tablefmt=\"grid\")\n",
        "\n",
        "# Print the table\n",
        "print(table)"
      ],
      "metadata": {
        "colab": {
          "base_uri": "https://localhost:8080/"
        },
        "id": "N82RMfAMUgYQ",
        "outputId": "4b2f836b-d253-4889-dbae-381f67a6ab37"
      },
      "execution_count": 113,
      "outputs": [
        {
          "output_type": "stream",
          "name": "stdout",
          "text": [
            "+---------------------+------------+-------------+----------------+------------+\n",
            "| Model               |   Accuracy |   Precision |   Recall Score |   F1 score |\n",
            "+=====================+============+=============+================+============+\n",
            "| Logistic Regression |       0.87 |        0.82 |           0.94 |       0.88 |\n",
            "+---------------------+------------+-------------+----------------+------------+\n",
            "| Random Forest       |       0.99 |        0.95 |           0.93 |       0.94 |\n",
            "+---------------------+------------+-------------+----------------+------------+\n",
            "| SVM                 |       0.88 |        0.85 |           0.89 |       0.87 |\n",
            "+---------------------+------------+-------------+----------------+------------+\n",
            "| XGBoost             |       0.92 |        0.89 |           0.92 |       0.91 |\n",
            "+---------------------+------------+-------------+----------------+------------+\n"
          ]
        }
      ]
    },
    {
      "cell_type": "markdown",
      "source": [
        "**Performance Metrics**\n",
        "- Accuracy: The proportion of correct predictions among the total number of cases examined. Used for classification tasks.\n",
        "- Precision and Recall: Precision is the ratio of correctly predicted positive observations to the total predicted positives. Recall (Sensitivity) is the ratio of correctly predicted positive observations to all observations in actual class. These are critical for imbalanced datasets.\n",
        "- F1 Score: The weighted average of Precision and Recall. Useful when you need to balance Precision and Recall."
      ],
      "metadata": {
        "id": "PRiEKQv2zXVN"
      }
    },
    {
      "cell_type": "code",
      "source": [
        "import matplotlib.pyplot as plt\n",
        "\n",
        "\n",
        "# Model names\n",
        "models = ['Logistic Regression', 'Random Forest', 'SVM', 'xgboost']\n",
        "\n",
        "# Accuracy scores\n",
        "accuracies = [accuracy_model2, random_forest_accuracy, svm_accuracy, xgb_accuracy]\n",
        "\n",
        "\n",
        "# Create a bar chart\n",
        "fig, ax = plt.subplots()\n",
        "bars = ax.bar(models, accuracies, color=['darkgrey', 'lightblue', 'pink','grey'])\n",
        "\n",
        "# Add the accuracy values on top of the bars\n",
        "for bar in bars:\n",
        "    height = bar.get_height()\n",
        "    ax.annotate(f'{height:.2f}%',\n",
        "                xy=(bar.get_x() + bar.get_width() / 2, height),\n",
        "                xytext=(0, 2),  # 3 points vertical offset\n",
        "                textcoords=\"offset points\",\n",
        "                ha='center', va='bottom')\n",
        "plt.xticks(fontsize=8)  # Adjust fontsize to your preference\n",
        "plt.xlabel('Model')\n",
        "plt.ylabel('Accuracy')\n",
        "plt.title('Comparison of Model Accuracies')\n",
        "plt.ylim(0, 1.10)  # Assuming accuracy scores are between 0 and 1\n",
        "plt.show()"
      ],
      "metadata": {
        "colab": {
          "base_uri": "https://localhost:8080/",
          "height": 468
        },
        "id": "3PVAMjjdFZ_n",
        "outputId": "52cad39e-d40c-40c4-e682-18d80307be3c"
      },
      "execution_count": 105,
      "outputs": [
        {
          "output_type": "display_data",
          "data": {
            "text/plain": [
              "<Figure size 640x480 with 1 Axes>"
            ],
            "image/png": "[encoded data removed]"
          },
          "metadata": {}
        }
      ]
    },
    {
      "cell_type": "markdown",
      "source": [
        "# PART 2: Coding in Python"
      ],
      "metadata": {
        "id": "pHGvopcCVARm"
      }
    },
    {
      "cell_type": "markdown",
      "source": [
        "1. Loop:\n",
        "Question:\n",
        "Write a Python program that uses a 'for' loop to print all even numbers from 1 to 10. Then, use 'while' loop."
      ],
      "metadata": {
        "id": "RYKgd3SsVRZg"
      }
    },
    {
      "cell_type": "code",
      "source": [
        "# Print all even numbers from 1 to 10 using a for loop\n",
        "for number in range(1, 11):  # Loop from 1 to 10\n",
        "    if number % 2 == 0:  # Check if the number is even\n",
        "        print(number)"
      ],
      "metadata": {
        "colab": {
          "base_uri": "https://localhost:8080/"
        },
        "id": "fU7j_KJmVURF",
        "outputId": "809068b2-abfe-41fe-fa85-6f4baa98662c"
      },
      "execution_count": null,
      "outputs": [
        {
          "output_type": "stream",
          "name": "stdout",
          "text": [
            "2\n",
            "4\n",
            "6\n",
            "8\n",
            "10\n"
          ]
        }
      ]
    },
    {
      "cell_type": "markdown",
      "source": [
        "2. Control Flows:\n",
        "Question:\n",
        "Create a Python function named grade_classifier that takes a student's score as an argument and returns a string indicating their grade. Use the following criteria:\n",
        "\n",
        "Score >= 90: \"A\"\n",
        "80 <= Score < 90: \"B\"\n",
        "70 <= Score < 80: \"C\"\n",
        "60 <= Score < 70: \"D\"\n",
        "Score < 60: \"F\""
      ],
      "metadata": {
        "id": "MtJ0IPxCVUph"
      }
    },
    {
      "cell_type": "code",
      "source": [
        "def grade_classifier(score):\n",
        "    if score >= 90:\n",
        "        return \"A\"\n",
        "    elif 80 <= score < 90:\n",
        "        return \"B\"\n",
        "    elif 70 <= score < 80:\n",
        "        return \"C\"\n",
        "    elif 60 <= score < 70:\n",
        "        return \"D\"\n",
        "    else:\n",
        "        return \"F\"\n",
        "\n",
        "# Examples of using the function\n",
        "print(grade_classifier(95))  # Should return \"A\"\n",
        "print(grade_classifier(85))  # Should return \"B\"\n",
        "print(grade_classifier(75))  # Should return \"C\"\n",
        "print(grade_classifier(65))  # Should return \"D\"\n",
        "print(grade_classifier(55))  # Should return \"F\""
      ],
      "metadata": {
        "colab": {
          "base_uri": "https://localhost:8080/"
        },
        "id": "vIAXvS3MVbY9",
        "outputId": "dd35d6d8-a061-4a89-c31a-d4988623b920"
      },
      "execution_count": null,
      "outputs": [
        {
          "output_type": "stream",
          "name": "stdout",
          "text": [
            "A\n",
            "B\n",
            "C\n",
            "D\n",
            "F\n"
          ]
        }
      ]
    },
    {
      "cell_type": "markdown",
      "source": [
        "4. Functions:\n",
        "Question:\n",
        "Define a Python function named multiply_numbers that takes two parameters (num1 and num2) and returns their product. Test the function with values 5 and 7."
      ],
      "metadata": {
        "id": "_V9wiXaFVclY"
      }
    },
    {
      "cell_type": "code",
      "source": [
        "def multiply_numbers(num1, num2):\n",
        "    return num1 * num2\n",
        "\n",
        "# Test the function with values 233 and 244\n",
        "product = multiply_numbers(233, 244)\n",
        "print(product)  # Expected output: 56852"
      ],
      "metadata": {
        "colab": {
          "base_uri": "https://localhost:8080/"
        },
        "id": "VHj_Kj6dWzvK",
        "outputId": "77e52814-24a4-437e-d16d-776758f30287"
      },
      "execution_count": null,
      "outputs": [
        {
          "output_type": "stream",
          "name": "stdout",
          "text": [
            "56852\n"
          ]
        }
      ]
    },
    {
      "cell_type": "markdown",
      "source": [
        "5.\n",
        "Write a Python program that does the following:\n",
        "\n",
        "Prompts the user to enter a number (user_num).\n",
        "Uses a loop to print all numbers from 1 to user_num (inclusive) that are divisible by 3."
      ],
      "metadata": {
        "id": "8CkGPnnpXN3s"
      }
    },
    {
      "cell_type": "code",
      "source": [
        "# Prompt the user to enter a number\n",
        "user_num = int(input(\"Enter a number: \"))\n",
        "\n",
        "# Use a loop to print numbers from 1 to user_num (inclusive) that are divisible by 3\n",
        "for number in range(1, user_num + 1):\n",
        "    if number % 3 == 0:\n",
        "        print(number)"
      ],
      "metadata": {
        "colab": {
          "base_uri": "https://localhost:8080/"
        },
        "id": "HuAriSmodmuS",
        "outputId": "63939070-5db8-4fdd-b40c-664707c4c942"
      },
      "execution_count": null,
      "outputs": [
        {
          "output_type": "stream",
          "name": "stdout",
          "text": [
            "Enter a number: 10\n",
            "3\n",
            "6\n",
            "9\n"
          ]
        }
      ]
    }
  ]
}