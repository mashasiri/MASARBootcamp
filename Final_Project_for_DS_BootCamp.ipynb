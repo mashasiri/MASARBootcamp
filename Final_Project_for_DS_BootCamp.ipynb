{
  "nbformat": 4,
  "nbformat_minor": 0,
  "metadata": {
    "colab": {
      "provenance": [],
      "include_colab_link": true
    },
    "kernelspec": {
      "name": "python3",
      "display_name": "Python 3"
    },
    "language_info": {
      "name": "python"
    }
  },
  "cells": [
    {
      "cell_type": "markdown",
      "metadata": {
        "id": "view-in-github",
        "colab_type": "text"
      },
      "source": [
        "<a href=\"https://colab.research.google.com/github/mashasiri/MASARBootcamp/blob/main/Final_Project_for_DS_BootCamp.ipynb\" target=\"_parent\"><img src=\"https://colab.research.google.com/assets/colab-badge.svg\" alt=\"Open In Colab\"/></a>"
      ]
    },
    {
      "cell_type": "markdown",
      "source": [
        "# IoT Network Intrusion Dataset\n",
        "BY\n",
        "- **Mashael Asiri**\n",
        "- **Hajer aljohani**\n",
        "- **Ghaydaa Alasmari**\n",
        "- **Renad Alharbi**\n",
        "\n",
        "Supervisor\n",
        "- **Eng. Mosab**\n",
        "\n",
        "---\n",
        "**Objective:**\n",
        "\n",
        "In this notebook, we are going to go through all of data science steps to better explore our dataset and clean it .after that we can find the best model performane.\n",
        "## Dataset Explanation\n",
        "- **Flow ID:** Flow Identifier\n",
        "- **Src IP Source:** IP Address Src\n",
        "- **Port Source :** Port Number\n",
        "- **Dst IP :** Destination IP Address\n",
        "- **Dst Port :** Destination Port Number\n",
        "- **Protocol :** Internet Protocol used\n",
        "- **Timestamp :** Timestamp of the packet\n",
        "- **Flow duration :** Duration of the flow in Microsecond\n",
        "- **total Fwd Packet :** Total packets in the forward direction\n",
        "- **total Bwd packets :** Total packets in the backward direction\n",
        "- **total Length of Fwd Packet :** Total size of packet in forward direction\n",
        "- **total Length of Bwd Packet :** Total size of packet in backward direction\n",
        "- **Fwd Packet Length Min:** Minimum size of packet in forward direction\n",
        "- **Fwd Packet Length Max:** maximum size of packet in forward direction\n",
        "- **Fwd Packet Length Mean** Mean size of packet in forward direction\n",
        "- **Fwd Packet Length Std:** Standard deviation size of packet in forward direction\n",
        "- **Bwd Packet Length Min:** Minimum size of packet in backward direction\n",
        "- **Bwd Packet Length Max:** Maximum size of packet in backward direction\n",
        "- **Bwd Packet Length Mean:** Mean size of packet in backward direction\n",
        "- **Bwd Packet Length Std:** Standard deviation size of packet in backward direction\n",
        "- **Flow Bytes/s :** Number of flow bytes per second\n",
        "- **Flow Packets/s:** Number of flow packets per second\n",
        "- **Flow IAT Mean:** Mean time between two packets sent in the flow\n",
        "- **Flow IAT Std:** Standard deviation time between two packets sent in the flow\n",
        "- **Flow IAT Max:** Maximum time between two packets sent in the flow\n",
        "- **Flow IAT Min:** Minimum time between two packets sent in the flow Fwd IAT Min Minimum time between two packets sent in the forward direction\n",
        "- **Fwd IAT Max:** Maximum time between two packets sent in the forward direction\n",
        "- **Fwd IAT Mean:** Mean time between two packets sent in the forward direction\n",
        "- **Fwd IAT Std:** Standard deviation time between two packets sent in the forward direction\n",
        "- **Fwd IAT Total:** Total time between two packets sent in the forward direction\n",
        "- **Bwd IAT Min:** Minimum time between two packets sent in the backward direction\n",
        "- **Bwd IAT Max:** Maximum time between two packets sent in the backward direction\n",
        "- **Bwd IAT Mean:** Mean time between two packets sent in the backward direction\n",
        "- **Bwd IAT Std:** Standard deviation time between two packets sent in the backward direction\n",
        "- **Bwd IAT Total:** Total time between two packets sent in the backward direction\n",
        "- **Fwd PSH flags:** Number of times the PSH flag was set in packets travelling in the forward direction (0 for UDP)\n",
        "- **Bwd PSH Flags:** Number of times the PSH flag was set in packets travelling in the backward direction (0 for UDP)\n",
        "- **Fwd URG Flags:** Number of times the URG flag was set in packets travelling in the forward direction (0 for UDP)\n",
        "- **Bwd URG Flags:** Number of times the URG flag was set in packets travelling in the backward direction (0 for UDP)\n",
        "- **Fwd Header Length:** Total bytes used for headers in the forward direction\n",
        "- **Bwd Header Length:** Total bytes used for headers in the backward direction\n",
        "- **FWD Packets/s:** Number of forward packets per second\n",
        "- **Bwd Packets/s:** Number of backward packets per second\n",
        "- **Packet Length Min:** Minimum length of a packet\n",
        "- **Packet Length Max:** Maximum length of a packet\n",
        "- **Packet Length Mean:** Mean length of a packet\n",
        "- **Packet Length Std:** Standard deviation length of a packet\n",
        "- **Packet Length Variance:** Variance length of a packet\n",
        "- **FIN Flag Count:** Number of packets with FIN\n",
        "- **SYN Flag Count:** Number of packets with SYN\n",
        "- **RST Flag Count:** Number of packets with RST\n",
        "- **PSH Flag Count:** Number of packets with PUSH\n",
        "- **ACK Flag Count:** Number of packets with ACK\n",
        "- **URG Flag Count:** Number of packets with URG\n",
        "- **CWR Flag Count:**Number of packets with CWR\n",
        "- **ECE Flag Count:** Number of packets with ECE\n",
        "- **down/Up Ratio:** Download and upload ratio\n",
        "- **Average Packet Size:** Average size of packet\n",
        "- **Fwd Segment Size Avg:** Average size observed in the forward direction\n",
        "- **Bwd Segment Size Avg:** Average number of bytes bulk rate in the backward direction\n",
        "- **Fwd Bytes/Bulk Avg:**Average number of bytes bulk rate in the forward direction\n",
        "- **Fwd Packet/Bulk Avg:** Average number of packets bulk rate in the forward direction\n",
        "- **Fwd Bulk Rate Avg:** Average number of bulk rate in the forward direction\n",
        "- **Bwd Bytes/Bulk Avg:** Average number of bytes bulk rate in the backward direction\n",
        "- **Bwd Packet/Bulk Avg:** Average number of packets bulk rate in the backward direction\n",
        "- **Bwd Bulk Rate Avg:** Average number of bulk rate in the backward direction  \n",
        "- **Subflow Fwd Packets:** The average number of packets in a sub flow in the forward direction\n",
        "- **Subflow Fwd Bytes:** The average number of bytes in a sub flow in the forward direction\n",
        "- **Subflow Bwd Packets:** The average number of packets in a sub flow in the backward direction\n",
        "- **Subflow Bwd Bytes:** The average number of bytes in a sub flow in the backward direction\n",
        "- **Fwd Init Win bytes:** The total number of bytes sent in initial window in the forward direction\n",
        "- **Bwd Init Win bytes:** The total number of bytes sent in initial window in the backward direction\n",
        "- **Fwd Act Data Pkts:** Count of packets with at least 1 byte of TCP data payload in the forward direction\n",
        "- **Fwd Seg Size Min:** Minimum segment size observed in the forward direction\n",
        "- **Active Min:** Minimum time a flow was active before becoming idle\n",
        "- **Active Mean:** Mean time a flow was active before becoming idle\n",
        "- **Active Max:** Maximum time a flow was active before becoming idle\n",
        "- **Active Std :**Standard deviation time a flow was active before becoming idle\n",
        "- **Idle Min:** Minimum time a flow was idle before becoming active I\n",
        "- **dle Mean:** Mean time a flow was idle before becoming active\n",
        "- **Idle Max:** Maximum time a flow was idle before becoming active\n",
        "- **Idle Std:** Standard deviation time a flow was idle before becoming active\n",
        "- **Label:** Anomaly or Normal\n",
        "- **Cat:** Category of attack or Normal\n"
      ],
      "metadata": {
        "id": "nWf-qh48qZix"
      }
    },
    {
      "cell_type": "markdown",
      "source": [
        "# Import Libraries"
      ],
      "metadata": {
        "id": "WUVlaO_qoblB"
      }
    },
    {
      "cell_type": "code",
      "execution_count": null,
      "metadata": {
        "id": "GsczTXVfP2Q2"
      },
      "outputs": [],
      "source": [
        "import pandas as pd\n",
        "import numpy as np\n",
        "import matplotlib.pyplot as plt\n"
      ]
    },
    {
      "cell_type": "markdown",
      "source": [
        "# Load Dataset"
      ],
      "metadata": {
        "id": "1yCQ_AH9pOVs"
      }
    },
    {
      "cell_type": "code",
      "source": [
        "df = pd.read_csv('https://filebin.net/y64r3eprvbrxmszq/IoTID20.csv')\n"
      ],
      "metadata": {
        "id": "oRG1xNaZQEkJ"
      },
      "execution_count": null,
      "outputs": []
    },
    {
      "cell_type": "markdown",
      "source": [
        "# 1. Exploring your data / Diagnosis phase"
      ],
      "metadata": {
        "id": "z7K4VjM3pifn"
      }
    },
    {
      "cell_type": "markdown",
      "source": [
        "When you get a new DataFrame to work with, the first thing you need to do is explore it and see what it contains. There are several useful methods and attributes for this.\n",
        "\n",
        "- .head() returns the first few rows (the “head” of the DataFrame).\n",
        "- .tail() returns the first few rows (the “tail” of the DataFrame).\n",
        "- .info() shows information on each of the columns, such as the data type and number of missing values.\n",
        "- .shape returns the number of rows and columns of the DataFrame.\n",
        "- .columns: An index of columns: the column names.\n"
      ],
      "metadata": {
        "id": "N6W6V3E7p1k8"
      }
    },
    {
      "cell_type": "code",
      "source": [
        "df.head()"
      ],
      "metadata": {
        "colab": {
          "base_uri": "https://localhost:8080/",
          "height": 429
        },
        "id": "jOIOyHeqPal1",
        "outputId": "36d6c2b8-4840-4d97-86af-e7f63f8b345e"
      },
      "execution_count": null,
      "outputs": [
        {
          "output_type": "execute_result",
          "data": {
            "text/plain": [
              "                                     Flow_ID           Src_IP  Src_Port  \\\n",
              "0   192.168.0.13-192.168.0.16-10000-10101-17     192.168.0.13     10000   \n",
              "1    192.168.0.13-222.160.179.132-554-2179-6  222.160.179.132      2179   \n",
              "2     192.168.0.13-192.168.0.16-9020-52727-6     192.168.0.16     52727   \n",
              "3     192.168.0.13-192.168.0.16-9020-52964-6     192.168.0.16     52964   \n",
              "4  192.168.0.1-239.255.255.250-36763-1900-17      192.168.0.1     36763   \n",
              "\n",
              "            Dst_IP  Dst_Port  Protocol               Timestamp  Flow_Duration  \\\n",
              "0     192.168.0.16     10101        17  25/07/2019 03:25:53 AM             75   \n",
              "1     192.168.0.13       554         6  26/05/2019 10:11:06 PM           5310   \n",
              "2     192.168.0.13      9020         6          11/7/2019 1:24            141   \n",
              "3     192.168.0.13      9020         6           4/9/2019 3:58            151   \n",
              "4  239.255.255.250      1900        17          10/9/2019 1:41            153   \n",
              "\n",
              "   Tot_Fwd_Pkts  Tot_Bwd_Pkts  ...  Active_Std  Active_Max  Active_Min  \\\n",
              "0             1             1  ...         0.0           0           0   \n",
              "1             1             2  ...         0.0           0           0   \n",
              "2             0             3  ...         0.0           0           0   \n",
              "3             0             2  ...         0.0           0           0   \n",
              "4             2             1  ...         0.0           0           0   \n",
              "\n",
              "   Idle_Mean     Idle_Std  Idle_Max  Idle_Min    Label    Cat  \\\n",
              "0       75.0     0.000000        75        75  Anomaly  Mirai   \n",
              "1     2655.0  2261.327486      4254      1056  Anomaly    DoS   \n",
              "2       70.5     0.707107        71        70  Anomaly   Scan   \n",
              "3      151.0     0.000000       151       151  Anomaly  Mirai   \n",
              "4       76.5     0.707107        77        76  Anomaly  Mirai   \n",
              "\n",
              "                 Sub_Cat  \n",
              "0      Mirai-Ackflooding  \n",
              "1        DoS-Synflooding  \n",
              "2           Scan Port OS  \n",
              "3  Mirai-Hostbruteforceg  \n",
              "4  Mirai-Hostbruteforceg  \n",
              "\n",
              "[5 rows x 86 columns]"
            ],
            "text/html": [
              "\n",
              "  <div id=\"df-9897a2d9-f71f-4494-a9f7-f3a15eed0d1f\" class=\"colab-df-container\">\n",
              "    <div>\n",
              "<style scoped>\n",
              "    .dataframe tbody tr th:only-of-type {\n",
              "        vertical-align: middle;\n",
              "    }\n",
              "\n",
              "    .dataframe tbody tr th {\n",
              "        vertical-align: top;\n",
              "    }\n",
              "\n",
              "    .dataframe thead th {\n",
              "        text-align: right;\n",
              "    }\n",
              "</style>\n",
              "<table border=\"1\" class=\"dataframe\">\n",
              "  <thead>\n",
              "    <tr style=\"text-align: right;\">\n",
              "      <th></th>\n",
              "      <th>Flow_ID</th>\n",
              "      <th>Src_IP</th>\n",
              "      <th>Src_Port</th>\n",
              "      <th>Dst_IP</th>\n",
              "      <th>Dst_Port</th>\n",
              "      <th>Protocol</th>\n",
              "      <th>Timestamp</th>\n",
              "      <th>Flow_Duration</th>\n",
              "      <th>Tot_Fwd_Pkts</th>\n",
              "      <th>Tot_Bwd_Pkts</th>\n",
              "      <th>...</th>\n",
              "      <th>Active_Std</th>\n",
              "      <th>Active_Max</th>\n",
              "      <th>Active_Min</th>\n",
              "      <th>Idle_Mean</th>\n",
              "      <th>Idle_Std</th>\n",
              "      <th>Idle_Max</th>\n",
              "      <th>Idle_Min</th>\n",
              "      <th>Label</th>\n",
              "      <th>Cat</th>\n",
              "      <th>Sub_Cat</th>\n",
              "    </tr>\n",
              "  </thead>\n",
              "  <tbody>\n",
              "    <tr>\n",
              "      <th>0</th>\n",
              "      <td>192.168.0.13-192.168.0.16-10000-10101-17</td>\n",
              "      <td>192.168.0.13</td>\n",
              "      <td>10000</td>\n",
              "      <td>192.168.0.16</td>\n",
              "      <td>10101</td>\n",
              "      <td>17</td>\n",
              "      <td>25/07/2019 03:25:53 AM</td>\n",
              "      <td>75</td>\n",
              "      <td>1</td>\n",
              "      <td>1</td>\n",
              "      <td>...</td>\n",
              "      <td>0.0</td>\n",
              "      <td>0</td>\n",
              "      <td>0</td>\n",
              "      <td>75.0</td>\n",
              "      <td>0.000000</td>\n",
              "      <td>75</td>\n",
              "      <td>75</td>\n",
              "      <td>Anomaly</td>\n",
              "      <td>Mirai</td>\n",
              "      <td>Mirai-Ackflooding</td>\n",
              "    </tr>\n",
              "    <tr>\n",
              "      <th>1</th>\n",
              "      <td>192.168.0.13-222.160.179.132-554-2179-6</td>\n",
              "      <td>222.160.179.132</td>\n",
              "      <td>2179</td>\n",
              "      <td>192.168.0.13</td>\n",
              "      <td>554</td>\n",
              "      <td>6</td>\n",
              "      <td>26/05/2019 10:11:06 PM</td>\n",
              "      <td>5310</td>\n",
              "      <td>1</td>\n",
              "      <td>2</td>\n",
              "      <td>...</td>\n",
              "      <td>0.0</td>\n",
              "      <td>0</td>\n",
              "      <td>0</td>\n",
              "      <td>2655.0</td>\n",
              "      <td>2261.327486</td>\n",
              "      <td>4254</td>\n",
              "      <td>1056</td>\n",
              "      <td>Anomaly</td>\n",
              "      <td>DoS</td>\n",
              "      <td>DoS-Synflooding</td>\n",
              "    </tr>\n",
              "    <tr>\n",
              "      <th>2</th>\n",
              "      <td>192.168.0.13-192.168.0.16-9020-52727-6</td>\n",
              "      <td>192.168.0.16</td>\n",
              "      <td>52727</td>\n",
              "      <td>192.168.0.13</td>\n",
              "      <td>9020</td>\n",
              "      <td>6</td>\n",
              "      <td>11/7/2019 1:24</td>\n",
              "      <td>141</td>\n",
              "      <td>0</td>\n",
              "      <td>3</td>\n",
              "      <td>...</td>\n",
              "      <td>0.0</td>\n",
              "      <td>0</td>\n",
              "      <td>0</td>\n",
              "      <td>70.5</td>\n",
              "      <td>0.707107</td>\n",
              "      <td>71</td>\n",
              "      <td>70</td>\n",
              "      <td>Anomaly</td>\n",
              "      <td>Scan</td>\n",
              "      <td>Scan Port OS</td>\n",
              "    </tr>\n",
              "    <tr>\n",
              "      <th>3</th>\n",
              "      <td>192.168.0.13-192.168.0.16-9020-52964-6</td>\n",
              "      <td>192.168.0.16</td>\n",
              "      <td>52964</td>\n",
              "      <td>192.168.0.13</td>\n",
              "      <td>9020</td>\n",
              "      <td>6</td>\n",
              "      <td>4/9/2019 3:58</td>\n",
              "      <td>151</td>\n",
              "      <td>0</td>\n",
              "      <td>2</td>\n",
              "      <td>...</td>\n",
              "      <td>0.0</td>\n",
              "      <td>0</td>\n",
              "      <td>0</td>\n",
              "      <td>151.0</td>\n",
              "      <td>0.000000</td>\n",
              "      <td>151</td>\n",
              "      <td>151</td>\n",
              "      <td>Anomaly</td>\n",
              "      <td>Mirai</td>\n",
              "      <td>Mirai-Hostbruteforceg</td>\n",
              "    </tr>\n",
              "    <tr>\n",
              "      <th>4</th>\n",
              "      <td>192.168.0.1-239.255.255.250-36763-1900-17</td>\n",
              "      <td>192.168.0.1</td>\n",
              "      <td>36763</td>\n",
              "      <td>239.255.255.250</td>\n",
              "      <td>1900</td>\n",
              "      <td>17</td>\n",
              "      <td>10/9/2019 1:41</td>\n",
              "      <td>153</td>\n",
              "      <td>2</td>\n",
              "      <td>1</td>\n",
              "      <td>...</td>\n",
              "      <td>0.0</td>\n",
              "      <td>0</td>\n",
              "      <td>0</td>\n",
              "      <td>76.5</td>\n",
              "      <td>0.707107</td>\n",
              "      <td>77</td>\n",
              "      <td>76</td>\n",
              "      <td>Anomaly</td>\n",
              "      <td>Mirai</td>\n",
              "      <td>Mirai-Hostbruteforceg</td>\n",
              "    </tr>\n",
              "  </tbody>\n",
              "</table>\n",
              "<p>5 rows × 86 columns</p>\n",
              "</div>\n",
              "    <div class=\"colab-df-buttons\">\n",
              "\n",
              "  <div class=\"colab-df-container\">\n",
              "    <button class=\"colab-df-convert\" onclick=\"convertToInteractive('df-9897a2d9-f71f-4494-a9f7-f3a15eed0d1f')\"\n",
              "            title=\"Convert this dataframe to an interactive table.\"\n",
              "            style=\"display:none;\">\n",
              "\n",
              "  <svg xmlns=\"http://www.w3.org/2000/svg\" height=\"24px\" viewBox=\"0 -960 960 960\">\n",
              "    <path d=\"M120-120v-720h720v720H120Zm60-500h600v-160H180v160Zm220 220h160v-160H400v160Zm0 220h160v-160H400v160ZM180-400h160v-160H180v160Zm440 0h160v-160H620v160ZM180-180h160v-160H180v160Zm440 0h160v-160H620v160Z\"/>\n",
              "  </svg>\n",
              "    </button>\n",
              "\n",
              "  <style>\n",
              "    .colab-df-container {\n",
              "      display:flex;\n",
              "      gap: 12px;\n",
              "    }\n",
              "\n",
              "    .colab-df-convert {\n",
              "      background-color: #E8F0FE;\n",
              "      border: none;\n",
              "      border-radius: 50%;\n",
              "      cursor: pointer;\n",
              "      display: none;\n",
              "      fill: #1967D2;\n",
              "      height: 32px;\n",
              "      padding: 0 0 0 0;\n",
              "      width: 32px;\n",
              "    }\n",
              "\n",
              "    .colab-df-convert:hover {\n",
              "      background-color: #E2EBFA;\n",
              "      box-shadow: 0px 1px 2px rgba(60, 64, 67, 0.3), 0px 1px 3px 1px rgba(60, 64, 67, 0.15);\n",
              "      fill: #174EA6;\n",
              "    }\n",
              "\n",
              "    .colab-df-buttons div {\n",
              "      margin-bottom: 4px;\n",
              "    }\n",
              "\n",
              "    [theme=dark] .colab-df-convert {\n",
              "      background-color: #3B4455;\n",
              "      fill: #D2E3FC;\n",
              "    }\n",
              "\n",
              "    [theme=dark] .colab-df-convert:hover {\n",
              "      background-color: #434B5C;\n",
              "      box-shadow: 0px 1px 3px 1px rgba(0, 0, 0, 0.15);\n",
              "      filter: drop-shadow(0px 1px 2px rgba(0, 0, 0, 0.3));\n",
              "      fill: #FFFFFF;\n",
              "    }\n",
              "  </style>\n",
              "\n",
              "    <script>\n",
              "      const buttonEl =\n",
              "        document.querySelector('#df-9897a2d9-f71f-4494-a9f7-f3a15eed0d1f button.colab-df-convert');\n",
              "      buttonEl.style.display =\n",
              "        google.colab.kernel.accessAllowed ? 'block' : 'none';\n",
              "\n",
              "      async function convertToInteractive(key) {\n",
              "        const element = document.querySelector('#df-9897a2d9-f71f-4494-a9f7-f3a15eed0d1f');\n",
              "        const dataTable =\n",
              "          await google.colab.kernel.invokeFunction('convertToInteractive',\n",
              "                                                    [key], {});\n",
              "        if (!dataTable) return;\n",
              "\n",
              "        const docLinkHtml = 'Like what you see? Visit the ' +\n",
              "          '<a target=\"_blank\" href=https://colab.research.google.com/notebooks/data_table.ipynb>data table notebook</a>'\n",
              "          + ' to learn more about interactive tables.';\n",
              "        element.innerHTML = '';\n",
              "        dataTable['output_type'] = 'display_data';\n",
              "        await google.colab.output.renderOutput(dataTable, element);\n",
              "        const docLink = document.createElement('div');\n",
              "        docLink.innerHTML = docLinkHtml;\n",
              "        element.appendChild(docLink);\n",
              "      }\n",
              "    </script>\n",
              "  </div>\n",
              "\n",
              "\n",
              "<div id=\"df-bc4669ab-d823-451b-a26d-c1ac66909c08\">\n",
              "  <button class=\"colab-df-quickchart\" onclick=\"quickchart('df-bc4669ab-d823-451b-a26d-c1ac66909c08')\"\n",
              "            title=\"Suggest charts\"\n",
              "            style=\"display:none;\">\n",
              "\n",
              "<svg xmlns=\"http://www.w3.org/2000/svg\" height=\"24px\"viewBox=\"0 0 24 24\"\n",
              "     width=\"24px\">\n",
              "    <g>\n",
              "        <path d=\"M19 3H5c-1.1 0-2 .9-2 2v14c0 1.1.9 2 2 2h14c1.1 0 2-.9 2-2V5c0-1.1-.9-2-2-2zM9 17H7v-7h2v7zm4 0h-2V7h2v10zm4 0h-2v-4h2v4z\"/>\n",
              "    </g>\n",
              "</svg>\n",
              "  </button>\n",
              "\n",
              "<style>\n",
              "  .colab-df-quickchart {\n",
              "      --bg-color: #E8F0FE;\n",
              "      --fill-color: #1967D2;\n",
              "      --hover-bg-color: #E2EBFA;\n",
              "      --hover-fill-color: #174EA6;\n",
              "      --disabled-fill-color: #AAA;\n",
              "      --disabled-bg-color: #DDD;\n",
              "  }\n",
              "\n",
              "  [theme=dark] .colab-df-quickchart {\n",
              "      --bg-color: #3B4455;\n",
              "      --fill-color: #D2E3FC;\n",
              "      --hover-bg-color: #434B5C;\n",
              "      --hover-fill-color: #FFFFFF;\n",
              "      --disabled-bg-color: #3B4455;\n",
              "      --disabled-fill-color: #666;\n",
              "  }\n",
              "\n",
              "  .colab-df-quickchart {\n",
              "    background-color: var(--bg-color);\n",
              "    border: none;\n",
              "    border-radius: 50%;\n",
              "    cursor: pointer;\n",
              "    display: none;\n",
              "    fill: var(--fill-color);\n",
              "    height: 32px;\n",
              "    padding: 0;\n",
              "    width: 32px;\n",
              "  }\n",
              "\n",
              "  .colab-df-quickchart:hover {\n",
              "    background-color: var(--hover-bg-color);\n",
              "    box-shadow: 0 1px 2px rgba(60, 64, 67, 0.3), 0 1px 3px 1px rgba(60, 64, 67, 0.15);\n",
              "    fill: var(--button-hover-fill-color);\n",
              "  }\n",
              "\n",
              "  .colab-df-quickchart-complete:disabled,\n",
              "  .colab-df-quickchart-complete:disabled:hover {\n",
              "    background-color: var(--disabled-bg-color);\n",
              "    fill: var(--disabled-fill-color);\n",
              "    box-shadow: none;\n",
              "  }\n",
              "\n",
              "  .colab-df-spinner {\n",
              "    border: 2px solid var(--fill-color);\n",
              "    border-color: transparent;\n",
              "    border-bottom-color: var(--fill-color);\n",
              "    animation:\n",
              "      spin 1s steps(1) infinite;\n",
              "  }\n",
              "\n",
              "  @keyframes spin {\n",
              "    0% {\n",
              "      border-color: transparent;\n",
              "      border-bottom-color: var(--fill-color);\n",
              "      border-left-color: var(--fill-color);\n",
              "    }\n",
              "    20% {\n",
              "      border-color: transparent;\n",
              "      border-left-color: var(--fill-color);\n",
              "      border-top-color: var(--fill-color);\n",
              "    }\n",
              "    30% {\n",
              "      border-color: transparent;\n",
              "      border-left-color: var(--fill-color);\n",
              "      border-top-color: var(--fill-color);\n",
              "      border-right-color: var(--fill-color);\n",
              "    }\n",
              "    40% {\n",
              "      border-color: transparent;\n",
              "      border-right-color: var(--fill-color);\n",
              "      border-top-color: var(--fill-color);\n",
              "    }\n",
              "    60% {\n",
              "      border-color: transparent;\n",
              "      border-right-color: var(--fill-color);\n",
              "    }\n",
              "    80% {\n",
              "      border-color: transparent;\n",
              "      border-right-color: var(--fill-color);\n",
              "      border-bottom-color: var(--fill-color);\n",
              "    }\n",
              "    90% {\n",
              "      border-color: transparent;\n",
              "      border-bottom-color: var(--fill-color);\n",
              "    }\n",
              "  }\n",
              "</style>\n",
              "\n",
              "  <script>\n",
              "    async function quickchart(key) {\n",
              "      const quickchartButtonEl =\n",
              "        document.querySelector('#' + key + ' button');\n",
              "      quickchartButtonEl.disabled = true;  // To prevent multiple clicks.\n",
              "      quickchartButtonEl.classList.add('colab-df-spinner');\n",
              "      try {\n",
              "        const charts = await google.colab.kernel.invokeFunction(\n",
              "            'suggestCharts', [key], {});\n",
              "      } catch (error) {\n",
              "        console.error('Error during call to suggestCharts:', error);\n",
              "      }\n",
              "      quickchartButtonEl.classList.remove('colab-df-spinner');\n",
              "      quickchartButtonEl.classList.add('colab-df-quickchart-complete');\n",
              "    }\n",
              "    (() => {\n",
              "      let quickchartButtonEl =\n",
              "        document.querySelector('#df-bc4669ab-d823-451b-a26d-c1ac66909c08 button');\n",
              "      quickchartButtonEl.style.display =\n",
              "        google.colab.kernel.accessAllowed ? 'block' : 'none';\n",
              "    })();\n",
              "  </script>\n",
              "</div>\n",
              "\n",
              "    </div>\n",
              "  </div>\n"
            ],
            "application/vnd.google.colaboratory.intrinsic+json": {
              "type": "dataframe",
              "variable_name": "df"
            }
          },
          "metadata": {},
          "execution_count": 3
        }
      ]
    },
    {
      "cell_type": "code",
      "source": [
        "df.tail()"
      ],
      "metadata": {
        "colab": {
          "base_uri": "https://localhost:8080/",
          "height": 429
        },
        "id": "g6NpzTTipzbZ",
        "outputId": "4f93bdb3-9c11-42c1-bdf6-303bf952d414"
      },
      "execution_count": null,
      "outputs": [
        {
          "output_type": "execute_result",
          "data": {
            "text/plain": [
              "                                         Flow_ID           Src_IP  Src_Port  \\\n",
              "625778  192.168.0.24-210.89.164.90-56112-8043-17     192.168.0.24     56112   \n",
              "625779   192.168.0.13-222.131.171.244-554-4570-6  222.131.171.244      4570   \n",
              "625780    192.168.0.13-192.168.0.16-9020-52739-6     192.168.0.16     52739   \n",
              "625781    192.168.0.13-192.168.0.16-9020-49784-6     192.168.0.13      9020   \n",
              "625782  192.168.0.13-192.168.0.16-10000-10101-17     192.168.0.13     10000   \n",
              "\n",
              "               Dst_IP  Dst_Port  Protocol               Timestamp  \\\n",
              "625778  210.89.164.90      8043        17  25/07/2019 03:25:00 AM   \n",
              "625779   192.168.0.13       554         6  26/05/2019 10:06:51 PM   \n",
              "625780   192.168.0.13      9020         6          11/7/2019 1:29   \n",
              "625781   192.168.0.16     49784         6  20/05/2019 05:00:29 AM   \n",
              "625782   192.168.0.16     10101        17  25/07/2019 03:25:10 AM   \n",
              "\n",
              "        Flow_Duration  Tot_Fwd_Pkts  Tot_Bwd_Pkts  ...  Active_Std  \\\n",
              "625778            277             1             1  ...         0.0   \n",
              "625779           1658             0             2  ...         0.0   \n",
              "625780             77             1             1  ...         0.0   \n",
              "625781            240             2             1  ...         0.0   \n",
              "625782            198             2             1  ...         0.0   \n",
              "\n",
              "        Active_Max  Active_Min  Idle_Mean   Idle_Std  Idle_Max  Idle_Min  \\\n",
              "625778           0           0      277.0   0.000000       277       277   \n",
              "625779           0           0     1658.0   0.000000      1658      1658   \n",
              "625780           0           0       77.0   0.000000        77        77   \n",
              "625781           0           0      120.0   7.071068       125       115   \n",
              "625782           0           0       99.0  32.526912       122        76   \n",
              "\n",
              "          Label     Cat             Sub_Cat  \n",
              "625778  Anomaly   Mirai  Mirai-UDP Flooding  \n",
              "625779  Anomaly     DoS     DoS-Synflooding  \n",
              "625780  Anomaly    Scan        Scan Port OS  \n",
              "625781   Normal  Normal              Normal  \n",
              "625782  Anomaly   Mirai  Mirai-UDP Flooding  \n",
              "\n",
              "[5 rows x 86 columns]"
            ],
            "text/html": [
              "\n",
              "  <div id=\"df-f8cea909-4c54-4141-9a54-0c5a49c2055f\" class=\"colab-df-container\">\n",
              "    <div>\n",
              "<style scoped>\n",
              "    .dataframe tbody tr th:only-of-type {\n",
              "        vertical-align: middle;\n",
              "    }\n",
              "\n",
              "    .dataframe tbody tr th {\n",
              "        vertical-align: top;\n",
              "    }\n",
              "\n",
              "    .dataframe thead th {\n",
              "        text-align: right;\n",
              "    }\n",
              "</style>\n",
              "<table border=\"1\" class=\"dataframe\">\n",
              "  <thead>\n",
              "    <tr style=\"text-align: right;\">\n",
              "      <th></th>\n",
              "      <th>Flow_ID</th>\n",
              "      <th>Src_IP</th>\n",
              "      <th>Src_Port</th>\n",
              "      <th>Dst_IP</th>\n",
              "      <th>Dst_Port</th>\n",
              "      <th>Protocol</th>\n",
              "      <th>Timestamp</th>\n",
              "      <th>Flow_Duration</th>\n",
              "      <th>Tot_Fwd_Pkts</th>\n",
              "      <th>Tot_Bwd_Pkts</th>\n",
              "      <th>...</th>\n",
              "      <th>Active_Std</th>\n",
              "      <th>Active_Max</th>\n",
              "      <th>Active_Min</th>\n",
              "      <th>Idle_Mean</th>\n",
              "      <th>Idle_Std</th>\n",
              "      <th>Idle_Max</th>\n",
              "      <th>Idle_Min</th>\n",
              "      <th>Label</th>\n",
              "      <th>Cat</th>\n",
              "      <th>Sub_Cat</th>\n",
              "    </tr>\n",
              "  </thead>\n",
              "  <tbody>\n",
              "    <tr>\n",
              "      <th>625778</th>\n",
              "      <td>192.168.0.24-210.89.164.90-56112-8043-17</td>\n",
              "      <td>192.168.0.24</td>\n",
              "      <td>56112</td>\n",
              "      <td>210.89.164.90</td>\n",
              "      <td>8043</td>\n",
              "      <td>17</td>\n",
              "      <td>25/07/2019 03:25:00 AM</td>\n",
              "      <td>277</td>\n",
              "      <td>1</td>\n",
              "      <td>1</td>\n",
              "      <td>...</td>\n",
              "      <td>0.0</td>\n",
              "      <td>0</td>\n",
              "      <td>0</td>\n",
              "      <td>277.0</td>\n",
              "      <td>0.000000</td>\n",
              "      <td>277</td>\n",
              "      <td>277</td>\n",
              "      <td>Anomaly</td>\n",
              "      <td>Mirai</td>\n",
              "      <td>Mirai-UDP Flooding</td>\n",
              "    </tr>\n",
              "    <tr>\n",
              "      <th>625779</th>\n",
              "      <td>192.168.0.13-222.131.171.244-554-4570-6</td>\n",
              "      <td>222.131.171.244</td>\n",
              "      <td>4570</td>\n",
              "      <td>192.168.0.13</td>\n",
              "      <td>554</td>\n",
              "      <td>6</td>\n",
              "      <td>26/05/2019 10:06:51 PM</td>\n",
              "      <td>1658</td>\n",
              "      <td>0</td>\n",
              "      <td>2</td>\n",
              "      <td>...</td>\n",
              "      <td>0.0</td>\n",
              "      <td>0</td>\n",
              "      <td>0</td>\n",
              "      <td>1658.0</td>\n",
              "      <td>0.000000</td>\n",
              "      <td>1658</td>\n",
              "      <td>1658</td>\n",
              "      <td>Anomaly</td>\n",
              "      <td>DoS</td>\n",
              "      <td>DoS-Synflooding</td>\n",
              "    </tr>\n",
              "    <tr>\n",
              "      <th>625780</th>\n",
              "      <td>192.168.0.13-192.168.0.16-9020-52739-6</td>\n",
              "      <td>192.168.0.16</td>\n",
              "      <td>52739</td>\n",
              "      <td>192.168.0.13</td>\n",
              "      <td>9020</td>\n",
              "      <td>6</td>\n",
              "      <td>11/7/2019 1:29</td>\n",
              "      <td>77</td>\n",
              "      <td>1</td>\n",
              "      <td>1</td>\n",
              "      <td>...</td>\n",
              "      <td>0.0</td>\n",
              "      <td>0</td>\n",
              "      <td>0</td>\n",
              "      <td>77.0</td>\n",
              "      <td>0.000000</td>\n",
              "      <td>77</td>\n",
              "      <td>77</td>\n",
              "      <td>Anomaly</td>\n",
              "      <td>Scan</td>\n",
              "      <td>Scan Port OS</td>\n",
              "    </tr>\n",
              "    <tr>\n",
              "      <th>625781</th>\n",
              "      <td>192.168.0.13-192.168.0.16-9020-49784-6</td>\n",
              "      <td>192.168.0.13</td>\n",
              "      <td>9020</td>\n",
              "      <td>192.168.0.16</td>\n",
              "      <td>49784</td>\n",
              "      <td>6</td>\n",
              "      <td>20/05/2019 05:00:29 AM</td>\n",
              "      <td>240</td>\n",
              "      <td>2</td>\n",
              "      <td>1</td>\n",
              "      <td>...</td>\n",
              "      <td>0.0</td>\n",
              "      <td>0</td>\n",
              "      <td>0</td>\n",
              "      <td>120.0</td>\n",
              "      <td>7.071068</td>\n",
              "      <td>125</td>\n",
              "      <td>115</td>\n",
              "      <td>Normal</td>\n",
              "      <td>Normal</td>\n",
              "      <td>Normal</td>\n",
              "    </tr>\n",
              "    <tr>\n",
              "      <th>625782</th>\n",
              "      <td>192.168.0.13-192.168.0.16-10000-10101-17</td>\n",
              "      <td>192.168.0.13</td>\n",
              "      <td>10000</td>\n",
              "      <td>192.168.0.16</td>\n",
              "      <td>10101</td>\n",
              "      <td>17</td>\n",
              "      <td>25/07/2019 03:25:10 AM</td>\n",
              "      <td>198</td>\n",
              "      <td>2</td>\n",
              "      <td>1</td>\n",
              "      <td>...</td>\n",
              "      <td>0.0</td>\n",
              "      <td>0</td>\n",
              "      <td>0</td>\n",
              "      <td>99.0</td>\n",
              "      <td>32.526912</td>\n",
              "      <td>122</td>\n",
              "      <td>76</td>\n",
              "      <td>Anomaly</td>\n",
              "      <td>Mirai</td>\n",
              "      <td>Mirai-UDP Flooding</td>\n",
              "    </tr>\n",
              "  </tbody>\n",
              "</table>\n",
              "<p>5 rows × 86 columns</p>\n",
              "</div>\n",
              "    <div class=\"colab-df-buttons\">\n",
              "\n",
              "  <div class=\"colab-df-container\">\n",
              "    <button class=\"colab-df-convert\" onclick=\"convertToInteractive('df-f8cea909-4c54-4141-9a54-0c5a49c2055f')\"\n",
              "            title=\"Convert this dataframe to an interactive table.\"\n",
              "            style=\"display:none;\">\n",
              "\n",
              "  <svg xmlns=\"http://www.w3.org/2000/svg\" height=\"24px\" viewBox=\"0 -960 960 960\">\n",
              "    <path d=\"M120-120v-720h720v720H120Zm60-500h600v-160H180v160Zm220 220h160v-160H400v160Zm0 220h160v-160H400v160ZM180-400h160v-160H180v160Zm440 0h160v-160H620v160ZM180-180h160v-160H180v160Zm440 0h160v-160H620v160Z\"/>\n",
              "  </svg>\n",
              "    </button>\n",
              "\n",
              "  <style>\n",
              "    .colab-df-container {\n",
              "      display:flex;\n",
              "      gap: 12px;\n",
              "    }\n",
              "\n",
              "    .colab-df-convert {\n",
              "      background-color: #E8F0FE;\n",
              "      border: none;\n",
              "      border-radius: 50%;\n",
              "      cursor: pointer;\n",
              "      display: none;\n",
              "      fill: #1967D2;\n",
              "      height: 32px;\n",
              "      padding: 0 0 0 0;\n",
              "      width: 32px;\n",
              "    }\n",
              "\n",
              "    .colab-df-convert:hover {\n",
              "      background-color: #E2EBFA;\n",
              "      box-shadow: 0px 1px 2px rgba(60, 64, 67, 0.3), 0px 1px 3px 1px rgba(60, 64, 67, 0.15);\n",
              "      fill: #174EA6;\n",
              "    }\n",
              "\n",
              "    .colab-df-buttons div {\n",
              "      margin-bottom: 4px;\n",
              "    }\n",
              "\n",
              "    [theme=dark] .colab-df-convert {\n",
              "      background-color: #3B4455;\n",
              "      fill: #D2E3FC;\n",
              "    }\n",
              "\n",
              "    [theme=dark] .colab-df-convert:hover {\n",
              "      background-color: #434B5C;\n",
              "      box-shadow: 0px 1px 3px 1px rgba(0, 0, 0, 0.15);\n",
              "      filter: drop-shadow(0px 1px 2px rgba(0, 0, 0, 0.3));\n",
              "      fill: #FFFFFF;\n",
              "    }\n",
              "  </style>\n",
              "\n",
              "    <script>\n",
              "      const buttonEl =\n",
              "        document.querySelector('#df-f8cea909-4c54-4141-9a54-0c5a49c2055f button.colab-df-convert');\n",
              "      buttonEl.style.display =\n",
              "        google.colab.kernel.accessAllowed ? 'block' : 'none';\n",
              "\n",
              "      async function convertToInteractive(key) {\n",
              "        const element = document.querySelector('#df-f8cea909-4c54-4141-9a54-0c5a49c2055f');\n",
              "        const dataTable =\n",
              "          await google.colab.kernel.invokeFunction('convertToInteractive',\n",
              "                                                    [key], {});\n",
              "        if (!dataTable) return;\n",
              "\n",
              "        const docLinkHtml = 'Like what you see? Visit the ' +\n",
              "          '<a target=\"_blank\" href=https://colab.research.google.com/notebooks/data_table.ipynb>data table notebook</a>'\n",
              "          + ' to learn more about interactive tables.';\n",
              "        element.innerHTML = '';\n",
              "        dataTable['output_type'] = 'display_data';\n",
              "        await google.colab.output.renderOutput(dataTable, element);\n",
              "        const docLink = document.createElement('div');\n",
              "        docLink.innerHTML = docLinkHtml;\n",
              "        element.appendChild(docLink);\n",
              "      }\n",
              "    </script>\n",
              "  </div>\n",
              "\n",
              "\n",
              "<div id=\"df-6219cebc-821d-482b-bf60-84073dab5eef\">\n",
              "  <button class=\"colab-df-quickchart\" onclick=\"quickchart('df-6219cebc-821d-482b-bf60-84073dab5eef')\"\n",
              "            title=\"Suggest charts\"\n",
              "            style=\"display:none;\">\n",
              "\n",
              "<svg xmlns=\"http://www.w3.org/2000/svg\" height=\"24px\"viewBox=\"0 0 24 24\"\n",
              "     width=\"24px\">\n",
              "    <g>\n",
              "        <path d=\"M19 3H5c-1.1 0-2 .9-2 2v14c0 1.1.9 2 2 2h14c1.1 0 2-.9 2-2V5c0-1.1-.9-2-2-2zM9 17H7v-7h2v7zm4 0h-2V7h2v10zm4 0h-2v-4h2v4z\"/>\n",
              "    </g>\n",
              "</svg>\n",
              "  </button>\n",
              "\n",
              "<style>\n",
              "  .colab-df-quickchart {\n",
              "      --bg-color: #E8F0FE;\n",
              "      --fill-color: #1967D2;\n",
              "      --hover-bg-color: #E2EBFA;\n",
              "      --hover-fill-color: #174EA6;\n",
              "      --disabled-fill-color: #AAA;\n",
              "      --disabled-bg-color: #DDD;\n",
              "  }\n",
              "\n",
              "  [theme=dark] .colab-df-quickchart {\n",
              "      --bg-color: #3B4455;\n",
              "      --fill-color: #D2E3FC;\n",
              "      --hover-bg-color: #434B5C;\n",
              "      --hover-fill-color: #FFFFFF;\n",
              "      --disabled-bg-color: #3B4455;\n",
              "      --disabled-fill-color: #666;\n",
              "  }\n",
              "\n",
              "  .colab-df-quickchart {\n",
              "    background-color: var(--bg-color);\n",
              "    border: none;\n",
              "    border-radius: 50%;\n",
              "    cursor: pointer;\n",
              "    display: none;\n",
              "    fill: var(--fill-color);\n",
              "    height: 32px;\n",
              "    padding: 0;\n",
              "    width: 32px;\n",
              "  }\n",
              "\n",
              "  .colab-df-quickchart:hover {\n",
              "    background-color: var(--hover-bg-color);\n",
              "    box-shadow: 0 1px 2px rgba(60, 64, 67, 0.3), 0 1px 3px 1px rgba(60, 64, 67, 0.15);\n",
              "    fill: var(--button-hover-fill-color);\n",
              "  }\n",
              "\n",
              "  .colab-df-quickchart-complete:disabled,\n",
              "  .colab-df-quickchart-complete:disabled:hover {\n",
              "    background-color: var(--disabled-bg-color);\n",
              "    fill: var(--disabled-fill-color);\n",
              "    box-shadow: none;\n",
              "  }\n",
              "\n",
              "  .colab-df-spinner {\n",
              "    border: 2px solid var(--fill-color);\n",
              "    border-color: transparent;\n",
              "    border-bottom-color: var(--fill-color);\n",
              "    animation:\n",
              "      spin 1s steps(1) infinite;\n",
              "  }\n",
              "\n",
              "  @keyframes spin {\n",
              "    0% {\n",
              "      border-color: transparent;\n",
              "      border-bottom-color: var(--fill-color);\n",
              "      border-left-color: var(--fill-color);\n",
              "    }\n",
              "    20% {\n",
              "      border-color: transparent;\n",
              "      border-left-color: var(--fill-color);\n",
              "      border-top-color: var(--fill-color);\n",
              "    }\n",
              "    30% {\n",
              "      border-color: transparent;\n",
              "      border-left-color: var(--fill-color);\n",
              "      border-top-color: var(--fill-color);\n",
              "      border-right-color: var(--fill-color);\n",
              "    }\n",
              "    40% {\n",
              "      border-color: transparent;\n",
              "      border-right-color: var(--fill-color);\n",
              "      border-top-color: var(--fill-color);\n",
              "    }\n",
              "    60% {\n",
              "      border-color: transparent;\n",
              "      border-right-color: var(--fill-color);\n",
              "    }\n",
              "    80% {\n",
              "      border-color: transparent;\n",
              "      border-right-color: var(--fill-color);\n",
              "      border-bottom-color: var(--fill-color);\n",
              "    }\n",
              "    90% {\n",
              "      border-color: transparent;\n",
              "      border-bottom-color: var(--fill-color);\n",
              "    }\n",
              "  }\n",
              "</style>\n",
              "\n",
              "  <script>\n",
              "    async function quickchart(key) {\n",
              "      const quickchartButtonEl =\n",
              "        document.querySelector('#' + key + ' button');\n",
              "      quickchartButtonEl.disabled = true;  // To prevent multiple clicks.\n",
              "      quickchartButtonEl.classList.add('colab-df-spinner');\n",
              "      try {\n",
              "        const charts = await google.colab.kernel.invokeFunction(\n",
              "            'suggestCharts', [key], {});\n",
              "      } catch (error) {\n",
              "        console.error('Error during call to suggestCharts:', error);\n",
              "      }\n",
              "      quickchartButtonEl.classList.remove('colab-df-spinner');\n",
              "      quickchartButtonEl.classList.add('colab-df-quickchart-complete');\n",
              "    }\n",
              "    (() => {\n",
              "      let quickchartButtonEl =\n",
              "        document.querySelector('#df-6219cebc-821d-482b-bf60-84073dab5eef button');\n",
              "      quickchartButtonEl.style.display =\n",
              "        google.colab.kernel.accessAllowed ? 'block' : 'none';\n",
              "    })();\n",
              "  </script>\n",
              "</div>\n",
              "\n",
              "    </div>\n",
              "  </div>\n"
            ],
            "application/vnd.google.colaboratory.intrinsic+json": {
              "type": "dataframe"
            }
          },
          "metadata": {},
          "execution_count": 4
        }
      ]
    },
    {
      "cell_type": "code",
      "source": [
        "df.info()"
      ],
      "metadata": {
        "colab": {
          "base_uri": "https://localhost:8080/"
        },
        "id": "O4s-xji4p-e4",
        "outputId": "10eaa120-703f-469d-ba2d-55bdc7f2bdfa"
      },
      "execution_count": null,
      "outputs": [
        {
          "output_type": "stream",
          "name": "stdout",
          "text": [
            "<class 'pandas.core.frame.DataFrame'>\n",
            "RangeIndex: 625783 entries, 0 to 625782\n",
            "Data columns (total 86 columns):\n",
            " #   Column             Non-Null Count   Dtype  \n",
            "---  ------             --------------   -----  \n",
            " 0   Flow_ID            625783 non-null  object \n",
            " 1   Src_IP             625783 non-null  object \n",
            " 2   Src_Port           625783 non-null  int64  \n",
            " 3   Dst_IP             625783 non-null  object \n",
            " 4   Dst_Port           625783 non-null  int64  \n",
            " 5   Protocol           625783 non-null  int64  \n",
            " 6   Timestamp          625783 non-null  object \n",
            " 7   Flow_Duration      625783 non-null  int64  \n",
            " 8   Tot_Fwd_Pkts       625783 non-null  int64  \n",
            " 9   Tot_Bwd_Pkts       625783 non-null  int64  \n",
            " 10  TotLen_Fwd_Pkts    625783 non-null  int64  \n",
            " 11  TotLen_Bwd_Pkts    625783 non-null  int64  \n",
            " 12  Fwd_Pkt_Len_Max    625783 non-null  int64  \n",
            " 13  Fwd_Pkt_Len_Min    625783 non-null  int64  \n",
            " 14  Fwd_Pkt_Len_Mean   625783 non-null  float64\n",
            " 15  Fwd_Pkt_Len_Std    625783 non-null  float64\n",
            " 16  Bwd_Pkt_Len_Max    625783 non-null  int64  \n",
            " 17  Bwd_Pkt_Len_Min    625783 non-null  int64  \n",
            " 18  Bwd_Pkt_Len_Mean   625783 non-null  float64\n",
            " 19  Bwd_Pkt_Len_Std    625783 non-null  float64\n",
            " 20  Flow_Byts/s        625783 non-null  float64\n",
            " 21  Flow_Pkts/s        625783 non-null  float64\n",
            " 22  Flow_IAT_Mean      625783 non-null  float64\n",
            " 23  Flow_IAT_Std       625783 non-null  float64\n",
            " 24  Flow_IAT_Max       625783 non-null  int64  \n",
            " 25  Flow_IAT_Min       625783 non-null  int64  \n",
            " 26  Fwd_IAT_Tot        625783 non-null  int64  \n",
            " 27  Fwd_IAT_Mean       625783 non-null  float64\n",
            " 28  Bwd_IAT_Mean       625783 non-null  float64\n",
            " 29  Fwd_IAT_Max        625783 non-null  int64  \n",
            " 30  Fwd_IAT_Min        625783 non-null  int64  \n",
            " 31  Bwd_IAT_Tot        625783 non-null  int64  \n",
            " 32  Bwd_IAT_Mean.1     625783 non-null  float64\n",
            " 33  Bwd_IAT_Std        625783 non-null  float64\n",
            " 34  Bwd_IAT_Max        625783 non-null  int64  \n",
            " 35  Bwd_IAT_Min        625783 non-null  int64  \n",
            " 36  Fwd_PSH_Flags      625783 non-null  int64  \n",
            " 37  Bwd_PSH_Flags      625783 non-null  int64  \n",
            " 38  Fwd_URG_Flags      625783 non-null  int64  \n",
            " 39  Bwd_URG_Flags      625783 non-null  int64  \n",
            " 40  Fwd_Header_Len     625783 non-null  int64  \n",
            " 41  Bwd_Header_Len     625783 non-null  int64  \n",
            " 42  Fwd_Pkts/s         625783 non-null  float64\n",
            " 43  Bwd_Pkts/s         625783 non-null  float64\n",
            " 44  Pkt_Len_Min        625783 non-null  int64  \n",
            " 45  Pkt_Len_Max        625783 non-null  int64  \n",
            " 46  Pkt_Len_Mean       625783 non-null  float64\n",
            " 47  Pkt_Len_Std        625783 non-null  float64\n",
            " 48  Pkt_Len_Var        625783 non-null  float64\n",
            " 49  FIN_Flag_Cnt       625783 non-null  int64  \n",
            " 50  SYN_Flag_Cnt       625783 non-null  int64  \n",
            " 51  RST_Flag_Cnt       625783 non-null  int64  \n",
            " 52  PSH_Flag_Cnt       625783 non-null  int64  \n",
            " 53  ACK_Flag_Cnt       625783 non-null  int64  \n",
            " 54  URG_Flag_Cnt       625783 non-null  int64  \n",
            " 55  CWE_Flag_Count     625783 non-null  int64  \n",
            " 56  ECE_Flag_Cnt       625783 non-null  int64  \n",
            " 57  Down/Up_Ratio      625783 non-null  int64  \n",
            " 58  Pkt_Size_Avg       625783 non-null  float64\n",
            " 59  Fwd_Seg_Size_Avg   625783 non-null  float64\n",
            " 60  Bwd_Seg_Size_Avg   625783 non-null  float64\n",
            " 61  Fwd_Byts/b_Avg     625783 non-null  int64  \n",
            " 62  Fwd_Pkts/b_Avg     625783 non-null  int64  \n",
            " 63  Fwd_Blk_Rate_Avg   625783 non-null  int64  \n",
            " 64  Bwd_Byts/b_Avg     625783 non-null  int64  \n",
            " 65  Bwd_Pkts/b_Avg     625783 non-null  int64  \n",
            " 66  Bwd_Blk_Rate_Avg   625783 non-null  int64  \n",
            " 67  Subflow_Fwd_Pkts   625783 non-null  int64  \n",
            " 68  Subflow_Fwd_Byts   625783 non-null  int64  \n",
            " 69  Subflow_Bwd_Pkts   625783 non-null  int64  \n",
            " 70  Subflow_Bwd_Byts   625783 non-null  int64  \n",
            " 71  Init_Fwd_Win_Byts  625783 non-null  int64  \n",
            " 72  Init_Bwd_Win_Byts  625783 non-null  int64  \n",
            " 73  Fwd_Act_Data_Pkts  625783 non-null  int64  \n",
            " 74  Fwd_Seg_Size_Min   625783 non-null  int64  \n",
            " 75  Active_Mean        625783 non-null  float64\n",
            " 76  Active_Std         625783 non-null  float64\n",
            " 77  Active_Max         625783 non-null  int64  \n",
            " 78  Active_Min         625783 non-null  int64  \n",
            " 79  Idle_Mean          625783 non-null  float64\n",
            " 80  Idle_Std           625783 non-null  float64\n",
            " 81  Idle_Max           625783 non-null  int64  \n",
            " 82  Idle_Min           625783 non-null  int64  \n",
            " 83  Label              625783 non-null  object \n",
            " 84  Cat                625783 non-null  object \n",
            " 85  Sub_Cat            625783 non-null  object \n",
            "dtypes: float64(24), int64(55), object(7)\n",
            "memory usage: 410.6+ MB\n"
          ]
        }
      ]
    },
    {
      "cell_type": "code",
      "source": [
        "df.shape"
      ],
      "metadata": {
        "colab": {
          "base_uri": "https://localhost:8080/"
        },
        "id": "_8ivBMUbqIfR",
        "outputId": "b33bd89e-e7aa-4a16-db4a-5ff6b86468ec"
      },
      "execution_count": null,
      "outputs": [
        {
          "output_type": "execute_result",
          "data": {
            "text/plain": [
              "(625783, 86)"
            ]
          },
          "metadata": {},
          "execution_count": 6
        }
      ]
    },
    {
      "cell_type": "code",
      "source": [
        "df.columns"
      ],
      "metadata": {
        "colab": {
          "base_uri": "https://localhost:8080/"
        },
        "id": "3cMqQKFZqgqd",
        "outputId": "893deb65-3c1e-4f0f-bb04-64993566cfef"
      },
      "execution_count": null,
      "outputs": [
        {
          "output_type": "execute_result",
          "data": {
            "text/plain": [
              "Index(['Flow_ID', 'Src_IP', 'Src_Port', 'Dst_IP', 'Dst_Port', 'Protocol',\n",
              "       'Timestamp', 'Flow_Duration', 'Tot_Fwd_Pkts', 'Tot_Bwd_Pkts',\n",
              "       'TotLen_Fwd_Pkts', 'TotLen_Bwd_Pkts', 'Fwd_Pkt_Len_Max',\n",
              "       'Fwd_Pkt_Len_Min', 'Fwd_Pkt_Len_Mean', 'Fwd_Pkt_Len_Std',\n",
              "       'Bwd_Pkt_Len_Max', 'Bwd_Pkt_Len_Min', 'Bwd_Pkt_Len_Mean',\n",
              "       'Bwd_Pkt_Len_Std', 'Flow_Byts/s', 'Flow_Pkts/s', 'Flow_IAT_Mean',\n",
              "       'Flow_IAT_Std', 'Flow_IAT_Max', 'Flow_IAT_Min', 'Fwd_IAT_Tot',\n",
              "       'Fwd_IAT_Mean', 'Bwd_IAT_Mean', 'Fwd_IAT_Max', 'Fwd_IAT_Min',\n",
              "       'Bwd_IAT_Tot', 'Bwd_IAT_Mean.1', 'Bwd_IAT_Std', 'Bwd_IAT_Max',\n",
              "       'Bwd_IAT_Min', 'Fwd_PSH_Flags', 'Bwd_PSH_Flags', 'Fwd_URG_Flags',\n",
              "       'Bwd_URG_Flags', 'Fwd_Header_Len', 'Bwd_Header_Len', 'Fwd_Pkts/s',\n",
              "       'Bwd_Pkts/s', 'Pkt_Len_Min', 'Pkt_Len_Max', 'Pkt_Len_Mean',\n",
              "       'Pkt_Len_Std', 'Pkt_Len_Var', 'FIN_Flag_Cnt', 'SYN_Flag_Cnt',\n",
              "       'RST_Flag_Cnt', 'PSH_Flag_Cnt', 'ACK_Flag_Cnt', 'URG_Flag_Cnt',\n",
              "       'CWE_Flag_Count', 'ECE_Flag_Cnt', 'Down/Up_Ratio', 'Pkt_Size_Avg',\n",
              "       'Fwd_Seg_Size_Avg', 'Bwd_Seg_Size_Avg', 'Fwd_Byts/b_Avg',\n",
              "       'Fwd_Pkts/b_Avg', 'Fwd_Blk_Rate_Avg', 'Bwd_Byts/b_Avg',\n",
              "       'Bwd_Pkts/b_Avg', 'Bwd_Blk_Rate_Avg', 'Subflow_Fwd_Pkts',\n",
              "       'Subflow_Fwd_Byts', 'Subflow_Bwd_Pkts', 'Subflow_Bwd_Byts',\n",
              "       'Init_Fwd_Win_Byts', 'Init_Bwd_Win_Byts', 'Fwd_Act_Data_Pkts',\n",
              "       'Fwd_Seg_Size_Min', 'Active_Mean', 'Active_Std', 'Active_Max',\n",
              "       'Active_Min', 'Idle_Mean', 'Idle_Std', 'Idle_Max', 'Idle_Min', 'Label',\n",
              "       'Cat', 'Sub_Cat'],\n",
              "      dtype='object')"
            ]
          },
          "metadata": {},
          "execution_count": 7
        }
      ]
    },
    {
      "cell_type": "markdown",
      "source": [
        "# 2. Exploratory data analysis"
      ],
      "metadata": {
        "id": "-ZajVkJxrAK4"
      }
    },
    {
      "cell_type": "markdown",
      "source": [
        "#Check for missing Values"
      ],
      "metadata": {
        "id": "75DvFWnUsjcS"
      }
    },
    {
      "cell_type": "markdown",
      "source": [
        "Missing data can affect your analysis and models. Determine if any columns have missing values and decide how to handle them."
      ],
      "metadata": {
        "id": "gGYax3gksuxf"
      }
    },
    {
      "cell_type": "code",
      "source": [
        " # Count of missing values in each column (Hajer)\n",
        "df.isnull().sum()"
      ],
      "metadata": {
        "colab": {
          "base_uri": "https://localhost:8080/"
        },
        "id": "yEbTY8EVs0W5",
        "outputId": "18d836e8-a2f2-465a-cf9c-c9486feb14dc"
      },
      "execution_count": null,
      "outputs": [
        {
          "output_type": "execute_result",
          "data": {
            "text/plain": [
              "Flow_ID     0\n",
              "Src_IP      0\n",
              "Src_Port    0\n",
              "Dst_IP      0\n",
              "Dst_Port    0\n",
              "           ..\n",
              "Idle_Max    0\n",
              "Idle_Min    0\n",
              "Label       0\n",
              "Cat         0\n",
              "Sub_Cat     0\n",
              "Length: 86, dtype: int64"
            ]
          },
          "metadata": {},
          "execution_count": 8
        }
      ]
    },
    {
      "cell_type": "markdown",
      "source": [
        "#Explore descriptive statistics"
      ],
      "metadata": {
        "id": "DUvGwfHftBW3"
      }
    },
    {
      "cell_type": "code",
      "source": [
        " # Summary statistics for numerical columns (Hajer)\n",
        "df.describe()"
      ],
      "metadata": {
        "colab": {
          "base_uri": "https://localhost:8080/",
          "height": 350
        },
        "id": "gEnWqQqVsixt",
        "outputId": "07480038-2e0e-4ba3-cf4a-06a3842a81b6"
      },
      "execution_count": null,
      "outputs": [
        {
          "output_type": "execute_result",
          "data": {
            "text/plain": [
              "            Src_Port       Dst_Port       Protocol  Flow_Duration  \\\n",
              "count  625783.000000  625783.000000  625783.000000  625783.000000   \n",
              "mean    35026.156190   16387.027479       9.971436     635.422865   \n",
              "std     24721.047752   17550.363037       5.379857    3496.740723   \n",
              "min         0.000000       0.000000       0.000000       0.000000   \n",
              "25%      9020.000000    8899.000000       6.000000      76.000000   \n",
              "50%     51991.000000    9020.000000       6.000000     132.000000   \n",
              "75%     56361.000000   10101.000000      17.000000     221.000000   \n",
              "max     65500.000000   65371.000000      17.000000   99984.000000   \n",
              "\n",
              "        Tot_Fwd_Pkts  Tot_Bwd_Pkts  TotLen_Fwd_Pkts  TotLen_Bwd_Pkts  \\\n",
              "count  625783.000000  625783.00000    625783.000000    625783.000000   \n",
              "mean        1.675566       1.46853       570.738980       929.280973   \n",
              "std         4.309970       1.21949      1161.873195      1731.760875   \n",
              "min         0.000000       1.00000         0.000000         0.000000   \n",
              "25%         0.000000       1.00000         0.000000        18.000000   \n",
              "50%         1.000000       1.00000        32.000000       104.000000   \n",
              "75%         2.000000       2.00000      1388.000000      1441.000000   \n",
              "max       186.000000     560.00000    109846.000000    773284.000000   \n",
              "\n",
              "       Fwd_Pkt_Len_Max  Fwd_Pkt_Len_Min  ...  Fwd_Act_Data_Pkts  \\\n",
              "count    625783.000000    625783.000000  ...      625783.000000   \n",
              "mean        392.489726       348.126571  ...           1.509913   \n",
              "std         619.575865       588.161845  ...           4.332737   \n",
              "min           0.000000         0.000000  ...           0.000000   \n",
              "25%           0.000000         0.000000  ...           0.000000   \n",
              "50%          30.000000        30.000000  ...           1.000000   \n",
              "75%        1388.000000       386.000000  ...           1.000000   \n",
              "max        1464.000000      1464.000000  ...         186.000000   \n",
              "\n",
              "       Fwd_Seg_Size_Min    Active_Mean     Active_Std     Active_Max  \\\n",
              "count          625783.0  625783.000000  625783.000000  625783.000000   \n",
              "mean                0.0       3.764405       0.353385       4.248735   \n",
              "std                 0.0      68.064508      20.723370      88.934148   \n",
              "min                 0.0       0.000000       0.000000       0.000000   \n",
              "25%                 0.0       0.000000       0.000000       0.000000   \n",
              "50%                 0.0       0.000000       0.000000       0.000000   \n",
              "75%                 0.0       0.000000       0.000000       0.000000   \n",
              "max                 0.0    9044.625000    8598.658250   26785.000000   \n",
              "\n",
              "          Active_Min      Idle_Mean       Idle_Std       Idle_Max  \\\n",
              "count  625783.000000  625783.000000  625783.000000  625783.000000   \n",
              "mean        3.462159     502.503832      52.403995     561.540512   \n",
              "std        64.111043    2112.957360    1153.184897    2866.497606   \n",
              "min         0.000000       0.000000       0.000000       0.000000   \n",
              "25%         0.000000      73.000000       0.000000      74.000000   \n",
              "50%         0.000000      93.500000       0.000000     114.000000   \n",
              "75%         0.000000     141.000000       1.527525     154.000000   \n",
              "max      6659.000000   99973.000000   67071.906620   99973.000000   \n",
              "\n",
              "            Idle_Min  \n",
              "count  625783.000000  \n",
              "mean      467.264459  \n",
              "std      1931.909971  \n",
              "min         0.000000  \n",
              "25%        71.000000  \n",
              "50%        78.000000  \n",
              "75%       130.000000  \n",
              "max     99973.000000  \n",
              "\n",
              "[8 rows x 79 columns]"
            ],
            "text/html": [
              "\n",
              "  <div id=\"df-ced6a221-f14f-44be-9c43-ff28cb0c1544\" class=\"colab-df-container\">\n",
              "    <div>\n",
              "<style scoped>\n",
              "    .dataframe tbody tr th:only-of-type {\n",
              "        vertical-align: middle;\n",
              "    }\n",
              "\n",
              "    .dataframe tbody tr th {\n",
              "        vertical-align: top;\n",
              "    }\n",
              "\n",
              "    .dataframe thead th {\n",
              "        text-align: right;\n",
              "    }\n",
              "</style>\n",
              "<table border=\"1\" class=\"dataframe\">\n",
              "  <thead>\n",
              "    <tr style=\"text-align: right;\">\n",
              "      <th></th>\n",
              "      <th>Src_Port</th>\n",
              "      <th>Dst_Port</th>\n",
              "      <th>Protocol</th>\n",
              "      <th>Flow_Duration</th>\n",
              "      <th>Tot_Fwd_Pkts</th>\n",
              "      <th>Tot_Bwd_Pkts</th>\n",
              "      <th>TotLen_Fwd_Pkts</th>\n",
              "      <th>TotLen_Bwd_Pkts</th>\n",
              "      <th>Fwd_Pkt_Len_Max</th>\n",
              "      <th>Fwd_Pkt_Len_Min</th>\n",
              "      <th>...</th>\n",
              "      <th>Fwd_Act_Data_Pkts</th>\n",
              "      <th>Fwd_Seg_Size_Min</th>\n",
              "      <th>Active_Mean</th>\n",
              "      <th>Active_Std</th>\n",
              "      <th>Active_Max</th>\n",
              "      <th>Active_Min</th>\n",
              "      <th>Idle_Mean</th>\n",
              "      <th>Idle_Std</th>\n",
              "      <th>Idle_Max</th>\n",
              "      <th>Idle_Min</th>\n",
              "    </tr>\n",
              "  </thead>\n",
              "  <tbody>\n",
              "    <tr>\n",
              "      <th>count</th>\n",
              "      <td>625783.000000</td>\n",
              "      <td>625783.000000</td>\n",
              "      <td>625783.000000</td>\n",
              "      <td>625783.000000</td>\n",
              "      <td>625783.000000</td>\n",
              "      <td>625783.00000</td>\n",
              "      <td>625783.000000</td>\n",
              "      <td>625783.000000</td>\n",
              "      <td>625783.000000</td>\n",
              "      <td>625783.000000</td>\n",
              "      <td>...</td>\n",
              "      <td>625783.000000</td>\n",
              "      <td>625783.0</td>\n",
              "      <td>625783.000000</td>\n",
              "      <td>625783.000000</td>\n",
              "      <td>625783.000000</td>\n",
              "      <td>625783.000000</td>\n",
              "      <td>625783.000000</td>\n",
              "      <td>625783.000000</td>\n",
              "      <td>625783.000000</td>\n",
              "      <td>625783.000000</td>\n",
              "    </tr>\n",
              "    <tr>\n",
              "      <th>mean</th>\n",
              "      <td>35026.156190</td>\n",
              "      <td>16387.027479</td>\n",
              "      <td>9.971436</td>\n",
              "      <td>635.422865</td>\n",
              "      <td>1.675566</td>\n",
              "      <td>1.46853</td>\n",
              "      <td>570.738980</td>\n",
              "      <td>929.280973</td>\n",
              "      <td>392.489726</td>\n",
              "      <td>348.126571</td>\n",
              "      <td>...</td>\n",
              "      <td>1.509913</td>\n",
              "      <td>0.0</td>\n",
              "      <td>3.764405</td>\n",
              "      <td>0.353385</td>\n",
              "      <td>4.248735</td>\n",
              "      <td>3.462159</td>\n",
              "      <td>502.503832</td>\n",
              "      <td>52.403995</td>\n",
              "      <td>561.540512</td>\n",
              "      <td>467.264459</td>\n",
              "    </tr>\n",
              "    <tr>\n",
              "      <th>std</th>\n",
              "      <td>24721.047752</td>\n",
              "      <td>17550.363037</td>\n",
              "      <td>5.379857</td>\n",
              "      <td>3496.740723</td>\n",
              "      <td>4.309970</td>\n",
              "      <td>1.21949</td>\n",
              "      <td>1161.873195</td>\n",
              "      <td>1731.760875</td>\n",
              "      <td>619.575865</td>\n",
              "      <td>588.161845</td>\n",
              "      <td>...</td>\n",
              "      <td>4.332737</td>\n",
              "      <td>0.0</td>\n",
              "      <td>68.064508</td>\n",
              "      <td>20.723370</td>\n",
              "      <td>88.934148</td>\n",
              "      <td>64.111043</td>\n",
              "      <td>2112.957360</td>\n",
              "      <td>1153.184897</td>\n",
              "      <td>2866.497606</td>\n",
              "      <td>1931.909971</td>\n",
              "    </tr>\n",
              "    <tr>\n",
              "      <th>min</th>\n",
              "      <td>0.000000</td>\n",
              "      <td>0.000000</td>\n",
              "      <td>0.000000</td>\n",
              "      <td>0.000000</td>\n",
              "      <td>0.000000</td>\n",
              "      <td>1.00000</td>\n",
              "      <td>0.000000</td>\n",
              "      <td>0.000000</td>\n",
              "      <td>0.000000</td>\n",
              "      <td>0.000000</td>\n",
              "      <td>...</td>\n",
              "      <td>0.000000</td>\n",
              "      <td>0.0</td>\n",
              "      <td>0.000000</td>\n",
              "      <td>0.000000</td>\n",
              "      <td>0.000000</td>\n",
              "      <td>0.000000</td>\n",
              "      <td>0.000000</td>\n",
              "      <td>0.000000</td>\n",
              "      <td>0.000000</td>\n",
              "      <td>0.000000</td>\n",
              "    </tr>\n",
              "    <tr>\n",
              "      <th>25%</th>\n",
              "      <td>9020.000000</td>\n",
              "      <td>8899.000000</td>\n",
              "      <td>6.000000</td>\n",
              "      <td>76.000000</td>\n",
              "      <td>0.000000</td>\n",
              "      <td>1.00000</td>\n",
              "      <td>0.000000</td>\n",
              "      <td>18.000000</td>\n",
              "      <td>0.000000</td>\n",
              "      <td>0.000000</td>\n",
              "      <td>...</td>\n",
              "      <td>0.000000</td>\n",
              "      <td>0.0</td>\n",
              "      <td>0.000000</td>\n",
              "      <td>0.000000</td>\n",
              "      <td>0.000000</td>\n",
              "      <td>0.000000</td>\n",
              "      <td>73.000000</td>\n",
              "      <td>0.000000</td>\n",
              "      <td>74.000000</td>\n",
              "      <td>71.000000</td>\n",
              "    </tr>\n",
              "    <tr>\n",
              "      <th>50%</th>\n",
              "      <td>51991.000000</td>\n",
              "      <td>9020.000000</td>\n",
              "      <td>6.000000</td>\n",
              "      <td>132.000000</td>\n",
              "      <td>1.000000</td>\n",
              "      <td>1.00000</td>\n",
              "      <td>32.000000</td>\n",
              "      <td>104.000000</td>\n",
              "      <td>30.000000</td>\n",
              "      <td>30.000000</td>\n",
              "      <td>...</td>\n",
              "      <td>1.000000</td>\n",
              "      <td>0.0</td>\n",
              "      <td>0.000000</td>\n",
              "      <td>0.000000</td>\n",
              "      <td>0.000000</td>\n",
              "      <td>0.000000</td>\n",
              "      <td>93.500000</td>\n",
              "      <td>0.000000</td>\n",
              "      <td>114.000000</td>\n",
              "      <td>78.000000</td>\n",
              "    </tr>\n",
              "    <tr>\n",
              "      <th>75%</th>\n",
              "      <td>56361.000000</td>\n",
              "      <td>10101.000000</td>\n",
              "      <td>17.000000</td>\n",
              "      <td>221.000000</td>\n",
              "      <td>2.000000</td>\n",
              "      <td>2.00000</td>\n",
              "      <td>1388.000000</td>\n",
              "      <td>1441.000000</td>\n",
              "      <td>1388.000000</td>\n",
              "      <td>386.000000</td>\n",
              "      <td>...</td>\n",
              "      <td>1.000000</td>\n",
              "      <td>0.0</td>\n",
              "      <td>0.000000</td>\n",
              "      <td>0.000000</td>\n",
              "      <td>0.000000</td>\n",
              "      <td>0.000000</td>\n",
              "      <td>141.000000</td>\n",
              "      <td>1.527525</td>\n",
              "      <td>154.000000</td>\n",
              "      <td>130.000000</td>\n",
              "    </tr>\n",
              "    <tr>\n",
              "      <th>max</th>\n",
              "      <td>65500.000000</td>\n",
              "      <td>65371.000000</td>\n",
              "      <td>17.000000</td>\n",
              "      <td>99984.000000</td>\n",
              "      <td>186.000000</td>\n",
              "      <td>560.00000</td>\n",
              "      <td>109846.000000</td>\n",
              "      <td>773284.000000</td>\n",
              "      <td>1464.000000</td>\n",
              "      <td>1464.000000</td>\n",
              "      <td>...</td>\n",
              "      <td>186.000000</td>\n",
              "      <td>0.0</td>\n",
              "      <td>9044.625000</td>\n",
              "      <td>8598.658250</td>\n",
              "      <td>26785.000000</td>\n",
              "      <td>6659.000000</td>\n",
              "      <td>99973.000000</td>\n",
              "      <td>67071.906620</td>\n",
              "      <td>99973.000000</td>\n",
              "      <td>99973.000000</td>\n",
              "    </tr>\n",
              "  </tbody>\n",
              "</table>\n",
              "<p>8 rows × 79 columns</p>\n",
              "</div>\n",
              "    <div class=\"colab-df-buttons\">\n",
              "\n",
              "  <div class=\"colab-df-container\">\n",
              "    <button class=\"colab-df-convert\" onclick=\"convertToInteractive('df-ced6a221-f14f-44be-9c43-ff28cb0c1544')\"\n",
              "            title=\"Convert this dataframe to an interactive table.\"\n",
              "            style=\"display:none;\">\n",
              "\n",
              "  <svg xmlns=\"http://www.w3.org/2000/svg\" height=\"24px\" viewBox=\"0 -960 960 960\">\n",
              "    <path d=\"M120-120v-720h720v720H120Zm60-500h600v-160H180v160Zm220 220h160v-160H400v160Zm0 220h160v-160H400v160ZM180-400h160v-160H180v160Zm440 0h160v-160H620v160ZM180-180h160v-160H180v160Zm440 0h160v-160H620v160Z\"/>\n",
              "  </svg>\n",
              "    </button>\n",
              "\n",
              "  <style>\n",
              "    .colab-df-container {\n",
              "      display:flex;\n",
              "      gap: 12px;\n",
              "    }\n",
              "\n",
              "    .colab-df-convert {\n",
              "      background-color: #E8F0FE;\n",
              "      border: none;\n",
              "      border-radius: 50%;\n",
              "      cursor: pointer;\n",
              "      display: none;\n",
              "      fill: #1967D2;\n",
              "      height: 32px;\n",
              "      padding: 0 0 0 0;\n",
              "      width: 32px;\n",
              "    }\n",
              "\n",
              "    .colab-df-convert:hover {\n",
              "      background-color: #E2EBFA;\n",
              "      box-shadow: 0px 1px 2px rgba(60, 64, 67, 0.3), 0px 1px 3px 1px rgba(60, 64, 67, 0.15);\n",
              "      fill: #174EA6;\n",
              "    }\n",
              "\n",
              "    .colab-df-buttons div {\n",
              "      margin-bottom: 4px;\n",
              "    }\n",
              "\n",
              "    [theme=dark] .colab-df-convert {\n",
              "      background-color: #3B4455;\n",
              "      fill: #D2E3FC;\n",
              "    }\n",
              "\n",
              "    [theme=dark] .colab-df-convert:hover {\n",
              "      background-color: #434B5C;\n",
              "      box-shadow: 0px 1px 3px 1px rgba(0, 0, 0, 0.15);\n",
              "      filter: drop-shadow(0px 1px 2px rgba(0, 0, 0, 0.3));\n",
              "      fill: #FFFFFF;\n",
              "    }\n",
              "  </style>\n",
              "\n",
              "    <script>\n",
              "      const buttonEl =\n",
              "        document.querySelector('#df-ced6a221-f14f-44be-9c43-ff28cb0c1544 button.colab-df-convert');\n",
              "      buttonEl.style.display =\n",
              "        google.colab.kernel.accessAllowed ? 'block' : 'none';\n",
              "\n",
              "      async function convertToInteractive(key) {\n",
              "        const element = document.querySelector('#df-ced6a221-f14f-44be-9c43-ff28cb0c1544');\n",
              "        const dataTable =\n",
              "          await google.colab.kernel.invokeFunction('convertToInteractive',\n",
              "                                                    [key], {});\n",
              "        if (!dataTable) return;\n",
              "\n",
              "        const docLinkHtml = 'Like what you see? Visit the ' +\n",
              "          '<a target=\"_blank\" href=https://colab.research.google.com/notebooks/data_table.ipynb>data table notebook</a>'\n",
              "          + ' to learn more about interactive tables.';\n",
              "        element.innerHTML = '';\n",
              "        dataTable['output_type'] = 'display_data';\n",
              "        await google.colab.output.renderOutput(dataTable, element);\n",
              "        const docLink = document.createElement('div');\n",
              "        docLink.innerHTML = docLinkHtml;\n",
              "        element.appendChild(docLink);\n",
              "      }\n",
              "    </script>\n",
              "  </div>\n",
              "\n",
              "\n",
              "<div id=\"df-9833e5fb-4ba1-42d2-a8d1-613b7046401d\">\n",
              "  <button class=\"colab-df-quickchart\" onclick=\"quickchart('df-9833e5fb-4ba1-42d2-a8d1-613b7046401d')\"\n",
              "            title=\"Suggest charts\"\n",
              "            style=\"display:none;\">\n",
              "\n",
              "<svg xmlns=\"http://www.w3.org/2000/svg\" height=\"24px\"viewBox=\"0 0 24 24\"\n",
              "     width=\"24px\">\n",
              "    <g>\n",
              "        <path d=\"M19 3H5c-1.1 0-2 .9-2 2v14c0 1.1.9 2 2 2h14c1.1 0 2-.9 2-2V5c0-1.1-.9-2-2-2zM9 17H7v-7h2v7zm4 0h-2V7h2v10zm4 0h-2v-4h2v4z\"/>\n",
              "    </g>\n",
              "</svg>\n",
              "  </button>\n",
              "\n",
              "<style>\n",
              "  .colab-df-quickchart {\n",
              "      --bg-color: #E8F0FE;\n",
              "      --fill-color: #1967D2;\n",
              "      --hover-bg-color: #E2EBFA;\n",
              "      --hover-fill-color: #174EA6;\n",
              "      --disabled-fill-color: #AAA;\n",
              "      --disabled-bg-color: #DDD;\n",
              "  }\n",
              "\n",
              "  [theme=dark] .colab-df-quickchart {\n",
              "      --bg-color: #3B4455;\n",
              "      --fill-color: #D2E3FC;\n",
              "      --hover-bg-color: #434B5C;\n",
              "      --hover-fill-color: #FFFFFF;\n",
              "      --disabled-bg-color: #3B4455;\n",
              "      --disabled-fill-color: #666;\n",
              "  }\n",
              "\n",
              "  .colab-df-quickchart {\n",
              "    background-color: var(--bg-color);\n",
              "    border: none;\n",
              "    border-radius: 50%;\n",
              "    cursor: pointer;\n",
              "    display: none;\n",
              "    fill: var(--fill-color);\n",
              "    height: 32px;\n",
              "    padding: 0;\n",
              "    width: 32px;\n",
              "  }\n",
              "\n",
              "  .colab-df-quickchart:hover {\n",
              "    background-color: var(--hover-bg-color);\n",
              "    box-shadow: 0 1px 2px rgba(60, 64, 67, 0.3), 0 1px 3px 1px rgba(60, 64, 67, 0.15);\n",
              "    fill: var(--button-hover-fill-color);\n",
              "  }\n",
              "\n",
              "  .colab-df-quickchart-complete:disabled,\n",
              "  .colab-df-quickchart-complete:disabled:hover {\n",
              "    background-color: var(--disabled-bg-color);\n",
              "    fill: var(--disabled-fill-color);\n",
              "    box-shadow: none;\n",
              "  }\n",
              "\n",
              "  .colab-df-spinner {\n",
              "    border: 2px solid var(--fill-color);\n",
              "    border-color: transparent;\n",
              "    border-bottom-color: var(--fill-color);\n",
              "    animation:\n",
              "      spin 1s steps(1) infinite;\n",
              "  }\n",
              "\n",
              "  @keyframes spin {\n",
              "    0% {\n",
              "      border-color: transparent;\n",
              "      border-bottom-color: var(--fill-color);\n",
              "      border-left-color: var(--fill-color);\n",
              "    }\n",
              "    20% {\n",
              "      border-color: transparent;\n",
              "      border-left-color: var(--fill-color);\n",
              "      border-top-color: var(--fill-color);\n",
              "    }\n",
              "    30% {\n",
              "      border-color: transparent;\n",
              "      border-left-color: var(--fill-color);\n",
              "      border-top-color: var(--fill-color);\n",
              "      border-right-color: var(--fill-color);\n",
              "    }\n",
              "    40% {\n",
              "      border-color: transparent;\n",
              "      border-right-color: var(--fill-color);\n",
              "      border-top-color: var(--fill-color);\n",
              "    }\n",
              "    60% {\n",
              "      border-color: transparent;\n",
              "      border-right-color: var(--fill-color);\n",
              "    }\n",
              "    80% {\n",
              "      border-color: transparent;\n",
              "      border-right-color: var(--fill-color);\n",
              "      border-bottom-color: var(--fill-color);\n",
              "    }\n",
              "    90% {\n",
              "      border-color: transparent;\n",
              "      border-bottom-color: var(--fill-color);\n",
              "    }\n",
              "  }\n",
              "</style>\n",
              "\n",
              "  <script>\n",
              "    async function quickchart(key) {\n",
              "      const quickchartButtonEl =\n",
              "        document.querySelector('#' + key + ' button');\n",
              "      quickchartButtonEl.disabled = true;  // To prevent multiple clicks.\n",
              "      quickchartButtonEl.classList.add('colab-df-spinner');\n",
              "      try {\n",
              "        const charts = await google.colab.kernel.invokeFunction(\n",
              "            'suggestCharts', [key], {});\n",
              "      } catch (error) {\n",
              "        console.error('Error during call to suggestCharts:', error);\n",
              "      }\n",
              "      quickchartButtonEl.classList.remove('colab-df-spinner');\n",
              "      quickchartButtonEl.classList.add('colab-df-quickchart-complete');\n",
              "    }\n",
              "    (() => {\n",
              "      let quickchartButtonEl =\n",
              "        document.querySelector('#df-9833e5fb-4ba1-42d2-a8d1-613b7046401d button');\n",
              "      quickchartButtonEl.style.display =\n",
              "        google.colab.kernel.accessAllowed ? 'block' : 'none';\n",
              "    })();\n",
              "  </script>\n",
              "</div>\n",
              "\n",
              "    </div>\n",
              "  </div>\n"
            ],
            "application/vnd.google.colaboratory.intrinsic+json": {
              "type": "dataframe"
            }
          },
          "metadata": {},
          "execution_count": 9
        }
      ]
    },
    {
      "cell_type": "markdown",
      "source": [
        "# Data Visualization"
      ],
      "metadata": {
        "id": "HRnoipNCtOPf"
      }
    },
    {
      "cell_type": "code",
      "source": [
        "import matplotlib.pyplot as plt\n",
        "import seaborn as sns\n",
        "# Histogram for the 'Fwd Packet Length Max' feature\n",
        "plt.figure(figsize=(10, 6))\n",
        "sns.histplot(df['Fwd_Pkt_Len_Max'], bins=30, kde=False)\n",
        "plt.title('Histogram of Fwd Packet Length Max')\n",
        "plt.xlabel('Fwd Packet Length Max')\n",
        "plt.ylabel('Frequency')\n",
        "plt.show()"
      ],
      "metadata": {
        "id": "sCWB5xfMPJGE",
        "colab": {
          "base_uri": "https://localhost:8080/",
          "height": 564
        },
        "outputId": "e0162e32-2067-49a9-9ca5-940fdb5c13ba"
      },
      "execution_count": null,
      "outputs": [
        {
          "output_type": "display_data",
          "data": {
            "text/plain": [
              "<Figure size 1000x600 with 1 Axes>"
            ],
            "image/png": "[encoded data removed]"
          },
          "metadata": {}
        }
      ]
    },
    {
      "cell_type": "markdown",
      "source": [
        "#Explaining for the Result#\n",
        "Such a distribution indicates a heavily right-skewed dataset where most of the packets have a small maximum length, with a few larger packets. These could be normal packets or could indicate larger-than-usual packets which, depending on the context, could be anomalies or could be part of normal network operations that occasionally require larger packets.\n",
        "\n",
        "In the context of network intrusion detection, it may be important to investigate why some packets are much larger than the majority. If the larger packets are associated with anomalous labels, they might be indicative of intrusion or malicious activity"
      ],
      "metadata": {
        "id": "GbcjrZX2-Ftq"
      }
    },
    {
      "cell_type": "markdown",
      "source": [
        "\n",
        "\n",
        "# 3. Cleaning"
      ],
      "metadata": {
        "id": "O2HeKiUm-3rY"
      }
    },
    {
      "cell_type": "markdown",
      "source": [
        "#  Drop unimportant columns"
      ],
      "metadata": {
        "id": "XsO2ABhIPBkR"
      }
    },
    {
      "cell_type": "code",
      "source": [
        "unimportant_columns = [\"Flow_ID\", \"Src_IP\", \"Dst_IP\", \"Src_Port\", \"Timestamp\" ,\"Dst_Port\", \"Fwd_PSH_Flags\", \"Fwd_URG_Flags\", \"Fwd_Byts/b_Avg\", \"Fwd_Pkts/b_Avg\", \"Fwd_Blk_Rate_Avg\", \"Bwd_Byts/b_Avg\", \"Bwd_Pkts/b_Avg\", \"Bwd_Blk_Rate_Avg\", \"Init_Fwd_Win_Byts\", \"Fwd_Seg_Size_Min\",\"Cat\",\"Sub_Cat\"]\n",
        "df.drop(columns = unimportant_columns, inplace=True)\n",
        "df.shape"
      ],
      "metadata": {
        "colab": {
          "base_uri": "https://localhost:8080/"
        },
        "id": "nByV4QXKO8uG",
        "outputId": "7440a736-6a8c-4463-a80d-89682732eea1"
      },
      "execution_count": null,
      "outputs": [
        {
          "output_type": "execute_result",
          "data": {
            "text/plain": [
              "(625783, 68)"
            ]
          },
          "metadata": {},
          "execution_count": 11
        }
      ]
    },
    {
      "cell_type": "code",
      "source": [
        "df.info()"
      ],
      "metadata": {
        "colab": {
          "base_uri": "https://localhost:8080/"
        },
        "id": "drG6sghoP1II",
        "outputId": "7f6e59c8-fb5a-4aa3-b0f9-b7220f729e5a"
      },
      "execution_count": null,
      "outputs": [
        {
          "output_type": "stream",
          "name": "stdout",
          "text": [
            "<class 'pandas.core.frame.DataFrame'>\n",
            "RangeIndex: 625783 entries, 0 to 625782\n",
            "Data columns (total 68 columns):\n",
            " #   Column             Non-Null Count   Dtype  \n",
            "---  ------             --------------   -----  \n",
            " 0   Protocol           625783 non-null  int64  \n",
            " 1   Flow_Duration      625783 non-null  int64  \n",
            " 2   Tot_Fwd_Pkts       625783 non-null  int64  \n",
            " 3   Tot_Bwd_Pkts       625783 non-null  int64  \n",
            " 4   TotLen_Fwd_Pkts    625783 non-null  int64  \n",
            " 5   TotLen_Bwd_Pkts    625783 non-null  int64  \n",
            " 6   Fwd_Pkt_Len_Max    625783 non-null  int64  \n",
            " 7   Fwd_Pkt_Len_Min    625783 non-null  int64  \n",
            " 8   Fwd_Pkt_Len_Mean   625783 non-null  float64\n",
            " 9   Fwd_Pkt_Len_Std    625783 non-null  float64\n",
            " 10  Bwd_Pkt_Len_Max    625783 non-null  int64  \n",
            " 11  Bwd_Pkt_Len_Min    625783 non-null  int64  \n",
            " 12  Bwd_Pkt_Len_Mean   625783 non-null  float64\n",
            " 13  Bwd_Pkt_Len_Std    625783 non-null  float64\n",
            " 14  Flow_Byts/s        625783 non-null  float64\n",
            " 15  Flow_Pkts/s        625783 non-null  float64\n",
            " 16  Flow_IAT_Mean      625783 non-null  float64\n",
            " 17  Flow_IAT_Std       625783 non-null  float64\n",
            " 18  Flow_IAT_Max       625783 non-null  int64  \n",
            " 19  Flow_IAT_Min       625783 non-null  int64  \n",
            " 20  Fwd_IAT_Tot        625783 non-null  int64  \n",
            " 21  Fwd_IAT_Mean       625783 non-null  float64\n",
            " 22  Bwd_IAT_Mean       625783 non-null  float64\n",
            " 23  Fwd_IAT_Max        625783 non-null  int64  \n",
            " 24  Fwd_IAT_Min        625783 non-null  int64  \n",
            " 25  Bwd_IAT_Tot        625783 non-null  int64  \n",
            " 26  Bwd_IAT_Mean.1     625783 non-null  float64\n",
            " 27  Bwd_IAT_Std        625783 non-null  float64\n",
            " 28  Bwd_IAT_Max        625783 non-null  int64  \n",
            " 29  Bwd_IAT_Min        625783 non-null  int64  \n",
            " 30  Bwd_PSH_Flags      625783 non-null  int64  \n",
            " 31  Bwd_URG_Flags      625783 non-null  int64  \n",
            " 32  Fwd_Header_Len     625783 non-null  int64  \n",
            " 33  Bwd_Header_Len     625783 non-null  int64  \n",
            " 34  Fwd_Pkts/s         625783 non-null  float64\n",
            " 35  Bwd_Pkts/s         625783 non-null  float64\n",
            " 36  Pkt_Len_Min        625783 non-null  int64  \n",
            " 37  Pkt_Len_Max        625783 non-null  int64  \n",
            " 38  Pkt_Len_Mean       625783 non-null  float64\n",
            " 39  Pkt_Len_Std        625783 non-null  float64\n",
            " 40  Pkt_Len_Var        625783 non-null  float64\n",
            " 41  FIN_Flag_Cnt       625783 non-null  int64  \n",
            " 42  SYN_Flag_Cnt       625783 non-null  int64  \n",
            " 43  RST_Flag_Cnt       625783 non-null  int64  \n",
            " 44  PSH_Flag_Cnt       625783 non-null  int64  \n",
            " 45  ACK_Flag_Cnt       625783 non-null  int64  \n",
            " 46  URG_Flag_Cnt       625783 non-null  int64  \n",
            " 47  CWE_Flag_Count     625783 non-null  int64  \n",
            " 48  ECE_Flag_Cnt       625783 non-null  int64  \n",
            " 49  Down/Up_Ratio      625783 non-null  int64  \n",
            " 50  Pkt_Size_Avg       625783 non-null  float64\n",
            " 51  Fwd_Seg_Size_Avg   625783 non-null  float64\n",
            " 52  Bwd_Seg_Size_Avg   625783 non-null  float64\n",
            " 53  Subflow_Fwd_Pkts   625783 non-null  int64  \n",
            " 54  Subflow_Fwd_Byts   625783 non-null  int64  \n",
            " 55  Subflow_Bwd_Pkts   625783 non-null  int64  \n",
            " 56  Subflow_Bwd_Byts   625783 non-null  int64  \n",
            " 57  Init_Bwd_Win_Byts  625783 non-null  int64  \n",
            " 58  Fwd_Act_Data_Pkts  625783 non-null  int64  \n",
            " 59  Active_Mean        625783 non-null  float64\n",
            " 60  Active_Std         625783 non-null  float64\n",
            " 61  Active_Max         625783 non-null  int64  \n",
            " 62  Active_Min         625783 non-null  int64  \n",
            " 63  Idle_Mean          625783 non-null  float64\n",
            " 64  Idle_Std           625783 non-null  float64\n",
            " 65  Idle_Max           625783 non-null  int64  \n",
            " 66  Idle_Min           625783 non-null  int64  \n",
            " 67  Label              625783 non-null  object \n",
            "dtypes: float64(24), int64(43), object(1)\n",
            "memory usage: 324.7+ MB\n"
          ]
        }
      ]
    },
    {
      "cell_type": "code",
      "source": [
        "df.shape"
      ],
      "metadata": {
        "colab": {
          "base_uri": "https://localhost:8080/"
        },
        "id": "lxKfJKCdP7jz",
        "outputId": "79bca7cc-24c3-4411-96a0-01ed66e26de4"
      },
      "execution_count": null,
      "outputs": [
        {
          "output_type": "execute_result",
          "data": {
            "text/plain": [
              "(625783, 68)"
            ]
          },
          "metadata": {},
          "execution_count": 13
        }
      ]
    },
    {
      "cell_type": "markdown",
      "source": [
        "#  Drop Rows with  missing data"
      ],
      "metadata": {
        "id": "nxM4E70xAr18"
      }
    },
    {
      "cell_type": "code",
      "source": [
        "\n",
        "# drop rows where all values are missing\n",
        "df_cleaned_all = df.dropna(how='all')\n",
        "# To apply the changes to the original DataFrame\n",
        "df.dropna(inplace=True)"
      ],
      "metadata": {
        "id": "b7rHMc-FupIb"
      },
      "execution_count": null,
      "outputs": []
    },
    {
      "cell_type": "code",
      "source": [
        "# check duplicated rows\n",
        "df.duplicated()"
      ],
      "metadata": {
        "colab": {
          "base_uri": "https://localhost:8080/"
        },
        "id": "-MWAbZD9DUqC",
        "outputId": "4e99087b-a12f-4448-f98f-8a7e50044124"
      },
      "execution_count": null,
      "outputs": [
        {
          "output_type": "execute_result",
          "data": {
            "text/plain": [
              "0         False\n",
              "1         False\n",
              "2         False\n",
              "3         False\n",
              "4         False\n",
              "          ...  \n",
              "625778    False\n",
              "625779     True\n",
              "625780     True\n",
              "625781    False\n",
              "625782     True\n",
              "Length: 625783, dtype: bool"
            ]
          },
          "metadata": {},
          "execution_count": 15
        }
      ]
    },
    {
      "cell_type": "code",
      "source": [
        "# remove duplicated rows\n",
        "df.drop_duplicates(inplace=True)"
      ],
      "metadata": {
        "id": "mL-WOcb-DnuC"
      },
      "execution_count": null,
      "outputs": []
    },
    {
      "cell_type": "code",
      "source": [
        "df.shape"
      ],
      "metadata": {
        "colab": {
          "base_uri": "https://localhost:8080/"
        },
        "id": "FYVRpzGLDq0l",
        "outputId": "6b21c0f9-0c77-46da-fec3-3bc58e4fafc7"
      },
      "execution_count": null,
      "outputs": [
        {
          "output_type": "execute_result",
          "data": {
            "text/plain": [
              "(162388, 68)"
            ]
          },
          "metadata": {},
          "execution_count": 17
        }
      ]
    },
    {
      "cell_type": "markdown",
      "source": [
        "### Data Types"
      ],
      "metadata": {
        "id": "QLAhamzMBur9"
      }
    },
    {
      "cell_type": "markdown",
      "source": [
        "Check Unique Values for df column to know whether column type is correct or not"
      ],
      "metadata": {
        "id": "VnSdfDzkCSoh"
      }
    },
    {
      "cell_type": "code",
      "source": [
        "for i in df.columns:\n",
        "    x = df[i].value_counts()\n",
        "    print(\"Column name \",i,\" has different values of:\",len(x))"
      ],
      "metadata": {
        "colab": {
          "base_uri": "https://localhost:8080/"
        },
        "id": "B7un_e_xCJFZ",
        "outputId": "9b9ca514-e250-41b0-a4e9-67bfef99be10"
      },
      "execution_count": null,
      "outputs": [
        {
          "output_type": "stream",
          "name": "stdout",
          "text": [
            "Column name  Protocol  has different values of: 3\n",
            "Column name  Flow_Duration  has different values of: 12670\n",
            "Column name  Tot_Fwd_Pkts  has different values of: 116\n",
            "Column name  Tot_Bwd_Pkts  has different values of: 42\n",
            "Column name  TotLen_Fwd_Pkts  has different values of: 2479\n",
            "Column name  TotLen_Bwd_Pkts  has different values of: 2612\n",
            "Column name  Fwd_Pkt_Len_Max  has different values of: 1156\n",
            "Column name  Fwd_Pkt_Len_Min  has different values of: 1165\n",
            "Column name  Fwd_Pkt_Len_Mean  has different values of: 2141\n",
            "Column name  Fwd_Pkt_Len_Std  has different values of: 1602\n",
            "Column name  Bwd_Pkt_Len_Max  has different values of: 1114\n",
            "Column name  Bwd_Pkt_Len_Min  has different values of: 1191\n",
            "Column name  Bwd_Pkt_Len_Mean  has different values of: 2583\n",
            "Column name  Bwd_Pkt_Len_Std  has different values of: 2219\n",
            "Column name  Flow_Byts/s  has different values of: 30354\n",
            "Column name  Flow_Pkts/s  has different values of: 19578\n",
            "Column name  Flow_IAT_Mean  has different values of: 19053\n",
            "Column name  Flow_IAT_Std  has different values of: 28879\n",
            "Column name  Flow_IAT_Max  has different values of: 12399\n",
            "Column name  Flow_IAT_Min  has different values of: 11041\n",
            "Column name  Fwd_IAT_Tot  has different values of: 1922\n",
            "Column name  Fwd_IAT_Mean  has different values of: 6221\n",
            "Column name  Bwd_IAT_Mean  has different values of: 16998\n",
            "Column name  Fwd_IAT_Max  has different values of: 1793\n",
            "Column name  Fwd_IAT_Min  has different values of: 1196\n",
            "Column name  Bwd_IAT_Tot  has different values of: 12341\n",
            "Column name  Bwd_IAT_Mean.1  has different values of: 13466\n",
            "Column name  Bwd_IAT_Std  has different values of: 4560\n",
            "Column name  Bwd_IAT_Max  has different values of: 12223\n",
            "Column name  Bwd_IAT_Min  has different values of: 11529\n",
            "Column name  Bwd_PSH_Flags  has different values of: 2\n",
            "Column name  Bwd_URG_Flags  has different values of: 2\n",
            "Column name  Fwd_Header_Len  has different values of: 162\n",
            "Column name  Bwd_Header_Len  has different values of: 86\n",
            "Column name  Fwd_Pkts/s  has different values of: 9360\n",
            "Column name  Bwd_Pkts/s  has different values of: 14067\n",
            "Column name  Pkt_Len_Min  has different values of: 1240\n",
            "Column name  Pkt_Len_Max  has different values of: 1122\n",
            "Column name  Pkt_Len_Mean  has different values of: 5176\n",
            "Column name  Pkt_Len_Std  has different values of: 4673\n",
            "Column name  Pkt_Len_Var  has different values of: 4673\n",
            "Column name  FIN_Flag_Cnt  has different values of: 2\n",
            "Column name  SYN_Flag_Cnt  has different values of: 2\n",
            "Column name  RST_Flag_Cnt  has different values of: 2\n",
            "Column name  PSH_Flag_Cnt  has different values of: 2\n",
            "Column name  ACK_Flag_Cnt  has different values of: 2\n",
            "Column name  URG_Flag_Cnt  has different values of: 2\n",
            "Column name  CWE_Flag_Count  has different values of: 2\n",
            "Column name  ECE_Flag_Cnt  has different values of: 2\n",
            "Column name  Down/Up_Ratio  has different values of: 15\n",
            "Column name  Pkt_Size_Avg  has different values of: 5327\n",
            "Column name  Fwd_Seg_Size_Avg  has different values of: 2141\n",
            "Column name  Bwd_Seg_Size_Avg  has different values of: 2583\n",
            "Column name  Subflow_Fwd_Pkts  has different values of: 116\n",
            "Column name  Subflow_Fwd_Byts  has different values of: 2479\n",
            "Column name  Subflow_Bwd_Pkts  has different values of: 42\n",
            "Column name  Subflow_Bwd_Byts  has different values of: 2612\n",
            "Column name  Init_Bwd_Win_Byts  has different values of: 3616\n",
            "Column name  Fwd_Act_Data_Pkts  has different values of: 116\n",
            "Column name  Active_Mean  has different values of: 1820\n",
            "Column name  Active_Std  has different values of: 1138\n",
            "Column name  Active_Max  has different values of: 1346\n",
            "Column name  Active_Min  has different values of: 1207\n",
            "Column name  Idle_Mean  has different values of: 16386\n",
            "Column name  Idle_Std  has different values of: 22807\n",
            "Column name  Idle_Max  has different values of: 11956\n",
            "Column name  Idle_Min  has different values of: 10872\n",
            "Column name  Label  has different values of: 2\n"
          ]
        }
      ]
    },
    {
      "cell_type": "code",
      "source": [
        "#check the Sub_Cat column values if there is entering error\n",
        "df['Label'].unique()"
      ],
      "metadata": {
        "colab": {
          "base_uri": "https://localhost:8080/"
        },
        "id": "oObfeqouIChd",
        "outputId": "fd95bce3-614f-41c0-ac97-57e070569f33"
      },
      "execution_count": null,
      "outputs": [
        {
          "output_type": "execute_result",
          "data": {
            "text/plain": [
              "array(['Anomaly', 'Normal'], dtype=object)"
            ]
          },
          "metadata": {},
          "execution_count": 19
        }
      ]
    },
    {
      "cell_type": "markdown",
      "source": [
        "##4. Data Preprocessing"
      ],
      "metadata": {
        "id": "VF_191yxEbbf"
      }
    },
    {
      "cell_type": "markdown",
      "source": [
        "##Data Encoding for catagoical columns"
      ],
      "metadata": {
        "id": "as6hGK5CE34a"
      }
    },
    {
      "cell_type": "code",
      "source": [
        "from sklearn.preprocessing import LabelEncoder\n",
        "# encoding 'Cat' is the column with Cat.\n",
        "# Initialize the label encoder\n",
        "label_encoder = LabelEncoder()\n",
        "\n",
        "# Fit label encoder and return encoded labels\n",
        "df['Label_encoded'] = label_encoder.fit_transform(df['Label'])\n",
        "\n",
        "# Now df['Cat_encoded'] contains the encoded values for the Cat\n",
        "df['Label_encoded']"
      ],
      "metadata": {
        "colab": {
          "base_uri": "https://localhost:8080/"
        },
        "id": "ccF8JwzREPub",
        "outputId": "097f4058-6dc1-49a5-f1d6-0bee2b9bb150"
      },
      "execution_count": null,
      "outputs": [
        {
          "output_type": "execute_result",
          "data": {
            "text/plain": [
              "0         0\n",
              "1         0\n",
              "2         0\n",
              "3         0\n",
              "4         0\n",
              "         ..\n",
              "625753    0\n",
              "625769    0\n",
              "625772    0\n",
              "625778    0\n",
              "625781    1\n",
              "Name: Label_encoded, Length: 162388, dtype: int64"
            ]
          },
          "metadata": {},
          "execution_count": 20
        }
      ]
    },
    {
      "cell_type": "markdown",
      "source": [
        "###Normalization and Standarization of data to convert it from 0 to 1"
      ],
      "metadata": {
        "id": "Bp_2YyyaMfI3"
      }
    },
    {
      "cell_type": "code",
      "source": [
        "from sklearn.preprocessing import MinMaxScaler\n",
        "import pandas as pd\n",
        "import numpy as np\n",
        "\n",
        "# Replace inf/-inf with NaN\n",
        "df.replace([np.inf, -np.inf], np.nan, inplace=True)\n",
        "\n",
        "# Drop rows with NaN values\n",
        "df.dropna(inplace=True)\n",
        "\n",
        "# Now you can apply the scaler\n",
        "scaler = MinMaxScaler()\n",
        "\n",
        "# Select the numerical (int64 and float64) columns in the DataFrame\n",
        "numerical_columns = df.select_dtypes(include=['int64', 'float64']).columns\n",
        "\n",
        "# Fit the scaler to the data and then transform it\n",
        "df[numerical_columns] = scaler.fit_transform(df[numerical_columns])\n",
        "df.head()"
      ],
      "metadata": {
        "colab": {
          "base_uri": "https://localhost:8080/",
          "height": 256
        },
        "id": "GhKuhD8QISij",
        "outputId": "b9d00d18-15a8-4037-d407-9869b126ab3c"
      },
      "execution_count": null,
      "outputs": [
        {
          "output_type": "execute_result",
          "data": {
            "text/plain": [
              "   Protocol  Flow_Duration  Tot_Fwd_Pkts  Tot_Bwd_Pkts  TotLen_Fwd_Pkts  \\\n",
              "0  1.000000       0.000740      0.005376      0.000000         0.008940   \n",
              "1  0.352941       0.053099      0.005376      0.001789         0.000000   \n",
              "2  0.352941       0.001400      0.000000      0.003578         0.000000   \n",
              "3  0.352941       0.001500      0.000000      0.001789         0.000000   \n",
              "4  1.000000       0.001520      0.010753      0.000000         0.008066   \n",
              "\n",
              "   TotLen_Bwd_Pkts  Fwd_Pkt_Len_Max  Fwd_Pkt_Len_Min  Fwd_Pkt_Len_Mean  \\\n",
              "0         0.001849         0.670765         0.670765          0.670765   \n",
              "1         0.000000         0.000000         0.000000          0.000000   \n",
              "2         0.003629         0.000000         0.000000          0.000000   \n",
              "3         0.003590         0.000000         0.000000          0.000000   \n",
              "4         0.000543         0.308743         0.296448          0.302596   \n",
              "\n",
              "   Fwd_Pkt_Len_Std  ...  Active_Mean  Active_Std  Active_Max  Active_Min  \\\n",
              "0         0.000000  ...          0.0         0.0         0.0         0.0   \n",
              "1         0.000000  ...          0.0         0.0         0.0         0.0   \n",
              "2         0.000000  ...          0.0         0.0         0.0         0.0   \n",
              "3         0.000000  ...          0.0         0.0         0.0         0.0   \n",
              "4         0.012329  ...          0.0         0.0         0.0         0.0   \n",
              "\n",
              "   Idle_Mean  Idle_Std  Idle_Max  Idle_Min    Label  Label_encoded  \n",
              "0   0.000750  0.000000  0.000750  0.000750  Anomaly            0.0  \n",
              "1   0.026557  0.033715  0.042551  0.010563  Anomaly            0.0  \n",
              "2   0.000705  0.000011  0.000710  0.000700  Anomaly            0.0  \n",
              "3   0.001510  0.000000  0.001510  0.001510  Anomaly            0.0  \n",
              "4   0.000765  0.000011  0.000770  0.000760  Anomaly            0.0  \n",
              "\n",
              "[5 rows x 69 columns]"
            ],
            "text/html": [
              "\n",
              "  <div id=\"df-0ba5686f-3199-4853-bfd3-73597949dc62\" class=\"colab-df-container\">\n",
              "    <div>\n",
              "<style scoped>\n",
              "    .dataframe tbody tr th:only-of-type {\n",
              "        vertical-align: middle;\n",
              "    }\n",
              "\n",
              "    .dataframe tbody tr th {\n",
              "        vertical-align: top;\n",
              "    }\n",
              "\n",
              "    .dataframe thead th {\n",
              "        text-align: right;\n",
              "    }\n",
              "</style>\n",
              "<table border=\"1\" class=\"dataframe\">\n",
              "  <thead>\n",
              "    <tr style=\"text-align: right;\">\n",
              "      <th></th>\n",
              "      <th>Protocol</th>\n",
              "      <th>Flow_Duration</th>\n",
              "      <th>Tot_Fwd_Pkts</th>\n",
              "      <th>Tot_Bwd_Pkts</th>\n",
              "      <th>TotLen_Fwd_Pkts</th>\n",
              "      <th>TotLen_Bwd_Pkts</th>\n",
              "      <th>Fwd_Pkt_Len_Max</th>\n",
              "      <th>Fwd_Pkt_Len_Min</th>\n",
              "      <th>Fwd_Pkt_Len_Mean</th>\n",
              "      <th>Fwd_Pkt_Len_Std</th>\n",
              "      <th>...</th>\n",
              "      <th>Active_Mean</th>\n",
              "      <th>Active_Std</th>\n",
              "      <th>Active_Max</th>\n",
              "      <th>Active_Min</th>\n",
              "      <th>Idle_Mean</th>\n",
              "      <th>Idle_Std</th>\n",
              "      <th>Idle_Max</th>\n",
              "      <th>Idle_Min</th>\n",
              "      <th>Label</th>\n",
              "      <th>Label_encoded</th>\n",
              "    </tr>\n",
              "  </thead>\n",
              "  <tbody>\n",
              "    <tr>\n",
              "      <th>0</th>\n",
              "      <td>1.000000</td>\n",
              "      <td>0.000740</td>\n",
              "      <td>0.005376</td>\n",
              "      <td>0.000000</td>\n",
              "      <td>0.008940</td>\n",
              "      <td>0.001849</td>\n",
              "      <td>0.670765</td>\n",
              "      <td>0.670765</td>\n",
              "      <td>0.670765</td>\n",
              "      <td>0.000000</td>\n",
              "      <td>...</td>\n",
              "      <td>0.0</td>\n",
              "      <td>0.0</td>\n",
              "      <td>0.0</td>\n",
              "      <td>0.0</td>\n",
              "      <td>0.000750</td>\n",
              "      <td>0.000000</td>\n",
              "      <td>0.000750</td>\n",
              "      <td>0.000750</td>\n",
              "      <td>Anomaly</td>\n",
              "      <td>0.0</td>\n",
              "    </tr>\n",
              "    <tr>\n",
              "      <th>1</th>\n",
              "      <td>0.352941</td>\n",
              "      <td>0.053099</td>\n",
              "      <td>0.005376</td>\n",
              "      <td>0.001789</td>\n",
              "      <td>0.000000</td>\n",
              "      <td>0.000000</td>\n",
              "      <td>0.000000</td>\n",
              "      <td>0.000000</td>\n",
              "      <td>0.000000</td>\n",
              "      <td>0.000000</td>\n",
              "      <td>...</td>\n",
              "      <td>0.0</td>\n",
              "      <td>0.0</td>\n",
              "      <td>0.0</td>\n",
              "      <td>0.0</td>\n",
              "      <td>0.026557</td>\n",
              "      <td>0.033715</td>\n",
              "      <td>0.042551</td>\n",
              "      <td>0.010563</td>\n",
              "      <td>Anomaly</td>\n",
              "      <td>0.0</td>\n",
              "    </tr>\n",
              "    <tr>\n",
              "      <th>2</th>\n",
              "      <td>0.352941</td>\n",
              "      <td>0.001400</td>\n",
              "      <td>0.000000</td>\n",
              "      <td>0.003578</td>\n",
              "      <td>0.000000</td>\n",
              "      <td>0.003629</td>\n",
              "      <td>0.000000</td>\n",
              "      <td>0.000000</td>\n",
              "      <td>0.000000</td>\n",
              "      <td>0.000000</td>\n",
              "      <td>...</td>\n",
              "      <td>0.0</td>\n",
              "      <td>0.0</td>\n",
              "      <td>0.0</td>\n",
              "      <td>0.0</td>\n",
              "      <td>0.000705</td>\n",
              "      <td>0.000011</td>\n",
              "      <td>0.000710</td>\n",
              "      <td>0.000700</td>\n",
              "      <td>Anomaly</td>\n",
              "      <td>0.0</td>\n",
              "    </tr>\n",
              "    <tr>\n",
              "      <th>3</th>\n",
              "      <td>0.352941</td>\n",
              "      <td>0.001500</td>\n",
              "      <td>0.000000</td>\n",
              "      <td>0.001789</td>\n",
              "      <td>0.000000</td>\n",
              "      <td>0.003590</td>\n",
              "      <td>0.000000</td>\n",
              "      <td>0.000000</td>\n",
              "      <td>0.000000</td>\n",
              "      <td>0.000000</td>\n",
              "      <td>...</td>\n",
              "      <td>0.0</td>\n",
              "      <td>0.0</td>\n",
              "      <td>0.0</td>\n",
              "      <td>0.0</td>\n",
              "      <td>0.001510</td>\n",
              "      <td>0.000000</td>\n",
              "      <td>0.001510</td>\n",
              "      <td>0.001510</td>\n",
              "      <td>Anomaly</td>\n",
              "      <td>0.0</td>\n",
              "    </tr>\n",
              "    <tr>\n",
              "      <th>4</th>\n",
              "      <td>1.000000</td>\n",
              "      <td>0.001520</td>\n",
              "      <td>0.010753</td>\n",
              "      <td>0.000000</td>\n",
              "      <td>0.008066</td>\n",
              "      <td>0.000543</td>\n",
              "      <td>0.308743</td>\n",
              "      <td>0.296448</td>\n",
              "      <td>0.302596</td>\n",
              "      <td>0.012329</td>\n",
              "      <td>...</td>\n",
              "      <td>0.0</td>\n",
              "      <td>0.0</td>\n",
              "      <td>0.0</td>\n",
              "      <td>0.0</td>\n",
              "      <td>0.000765</td>\n",
              "      <td>0.000011</td>\n",
              "      <td>0.000770</td>\n",
              "      <td>0.000760</td>\n",
              "      <td>Anomaly</td>\n",
              "      <td>0.0</td>\n",
              "    </tr>\n",
              "  </tbody>\n",
              "</table>\n",
              "<p>5 rows × 69 columns</p>\n",
              "</div>\n",
              "    <div class=\"colab-df-buttons\">\n",
              "\n",
              "  <div class=\"colab-df-container\">\n",
              "    <button class=\"colab-df-convert\" onclick=\"convertToInteractive('df-0ba5686f-3199-4853-bfd3-73597949dc62')\"\n",
              "            title=\"Convert this dataframe to an interactive table.\"\n",
              "            style=\"display:none;\">\n",
              "\n",
              "  <svg xmlns=\"http://www.w3.org/2000/svg\" height=\"24px\" viewBox=\"0 -960 960 960\">\n",
              "    <path d=\"M120-120v-720h720v720H120Zm60-500h600v-160H180v160Zm220 220h160v-160H400v160Zm0 220h160v-160H400v160ZM180-400h160v-160H180v160Zm440 0h160v-160H620v160ZM180-180h160v-160H180v160Zm440 0h160v-160H620v160Z\"/>\n",
              "  </svg>\n",
              "    </button>\n",
              "\n",
              "  <style>\n",
              "    .colab-df-container {\n",
              "      display:flex;\n",
              "      gap: 12px;\n",
              "    }\n",
              "\n",
              "    .colab-df-convert {\n",
              "      background-color: #E8F0FE;\n",
              "      border: none;\n",
              "      border-radius: 50%;\n",
              "      cursor: pointer;\n",
              "      display: none;\n",
              "      fill: #1967D2;\n",
              "      height: 32px;\n",
              "      padding: 0 0 0 0;\n",
              "      width: 32px;\n",
              "    }\n",
              "\n",
              "    .colab-df-convert:hover {\n",
              "      background-color: #E2EBFA;\n",
              "      box-shadow: 0px 1px 2px rgba(60, 64, 67, 0.3), 0px 1px 3px 1px rgba(60, 64, 67, 0.15);\n",
              "      fill: #174EA6;\n",
              "    }\n",
              "\n",
              "    .colab-df-buttons div {\n",
              "      margin-bottom: 4px;\n",
              "    }\n",
              "\n",
              "    [theme=dark] .colab-df-convert {\n",
              "      background-color: #3B4455;\n",
              "      fill: #D2E3FC;\n",
              "    }\n",
              "\n",
              "    [theme=dark] .colab-df-convert:hover {\n",
              "      background-color: #434B5C;\n",
              "      box-shadow: 0px 1px 3px 1px rgba(0, 0, 0, 0.15);\n",
              "      filter: drop-shadow(0px 1px 2px rgba(0, 0, 0, 0.3));\n",
              "      fill: #FFFFFF;\n",
              "    }\n",
              "  </style>\n",
              "\n",
              "    <script>\n",
              "      const buttonEl =\n",
              "        document.querySelector('#df-0ba5686f-3199-4853-bfd3-73597949dc62 button.colab-df-convert');\n",
              "      buttonEl.style.display =\n",
              "        google.colab.kernel.accessAllowed ? 'block' : 'none';\n",
              "\n",
              "      async function convertToInteractive(key) {\n",
              "        const element = document.querySelector('#df-0ba5686f-3199-4853-bfd3-73597949dc62');\n",
              "        const dataTable =\n",
              "          await google.colab.kernel.invokeFunction('convertToInteractive',\n",
              "                                                    [key], {});\n",
              "        if (!dataTable) return;\n",
              "\n",
              "        const docLinkHtml = 'Like what you see? Visit the ' +\n",
              "          '<a target=\"_blank\" href=https://colab.research.google.com/notebooks/data_table.ipynb>data table notebook</a>'\n",
              "          + ' to learn more about interactive tables.';\n",
              "        element.innerHTML = '';\n",
              "        dataTable['output_type'] = 'display_data';\n",
              "        await google.colab.output.renderOutput(dataTable, element);\n",
              "        const docLink = document.createElement('div');\n",
              "        docLink.innerHTML = docLinkHtml;\n",
              "        element.appendChild(docLink);\n",
              "      }\n",
              "    </script>\n",
              "  </div>\n",
              "\n",
              "\n",
              "<div id=\"df-9dd148a8-b1ec-4168-a6dd-d547e770719c\">\n",
              "  <button class=\"colab-df-quickchart\" onclick=\"quickchart('df-9dd148a8-b1ec-4168-a6dd-d547e770719c')\"\n",
              "            title=\"Suggest charts\"\n",
              "            style=\"display:none;\">\n",
              "\n",
              "<svg xmlns=\"http://www.w3.org/2000/svg\" height=\"24px\"viewBox=\"0 0 24 24\"\n",
              "     width=\"24px\">\n",
              "    <g>\n",
              "        <path d=\"M19 3H5c-1.1 0-2 .9-2 2v14c0 1.1.9 2 2 2h14c1.1 0 2-.9 2-2V5c0-1.1-.9-2-2-2zM9 17H7v-7h2v7zm4 0h-2V7h2v10zm4 0h-2v-4h2v4z\"/>\n",
              "    </g>\n",
              "</svg>\n",
              "  </button>\n",
              "\n",
              "<style>\n",
              "  .colab-df-quickchart {\n",
              "      --bg-color: #E8F0FE;\n",
              "      --fill-color: #1967D2;\n",
              "      --hover-bg-color: #E2EBFA;\n",
              "      --hover-fill-color: #174EA6;\n",
              "      --disabled-fill-color: #AAA;\n",
              "      --disabled-bg-color: #DDD;\n",
              "  }\n",
              "\n",
              "  [theme=dark] .colab-df-quickchart {\n",
              "      --bg-color: #3B4455;\n",
              "      --fill-color: #D2E3FC;\n",
              "      --hover-bg-color: #434B5C;\n",
              "      --hover-fill-color: #FFFFFF;\n",
              "      --disabled-bg-color: #3B4455;\n",
              "      --disabled-fill-color: #666;\n",
              "  }\n",
              "\n",
              "  .colab-df-quickchart {\n",
              "    background-color: var(--bg-color);\n",
              "    border: none;\n",
              "    border-radius: 50%;\n",
              "    cursor: pointer;\n",
              "    display: none;\n",
              "    fill: var(--fill-color);\n",
              "    height: 32px;\n",
              "    padding: 0;\n",
              "    width: 32px;\n",
              "  }\n",
              "\n",
              "  .colab-df-quickchart:hover {\n",
              "    background-color: var(--hover-bg-color);\n",
              "    box-shadow: 0 1px 2px rgba(60, 64, 67, 0.3), 0 1px 3px 1px rgba(60, 64, 67, 0.15);\n",
              "    fill: var(--button-hover-fill-color);\n",
              "  }\n",
              "\n",
              "  .colab-df-quickchart-complete:disabled,\n",
              "  .colab-df-quickchart-complete:disabled:hover {\n",
              "    background-color: var(--disabled-bg-color);\n",
              "    fill: var(--disabled-fill-color);\n",
              "    box-shadow: none;\n",
              "  }\n",
              "\n",
              "  .colab-df-spinner {\n",
              "    border: 2px solid var(--fill-color);\n",
              "    border-color: transparent;\n",
              "    border-bottom-color: var(--fill-color);\n",
              "    animation:\n",
              "      spin 1s steps(1) infinite;\n",
              "  }\n",
              "\n",
              "  @keyframes spin {\n",
              "    0% {\n",
              "      border-color: transparent;\n",
              "      border-bottom-color: var(--fill-color);\n",
              "      border-left-color: var(--fill-color);\n",
              "    }\n",
              "    20% {\n",
              "      border-color: transparent;\n",
              "      border-left-color: var(--fill-color);\n",
              "      border-top-color: var(--fill-color);\n",
              "    }\n",
              "    30% {\n",
              "      border-color: transparent;\n",
              "      border-left-color: var(--fill-color);\n",
              "      border-top-color: var(--fill-color);\n",
              "      border-right-color: var(--fill-color);\n",
              "    }\n",
              "    40% {\n",
              "      border-color: transparent;\n",
              "      border-right-color: var(--fill-color);\n",
              "      border-top-color: var(--fill-color);\n",
              "    }\n",
              "    60% {\n",
              "      border-color: transparent;\n",
              "      border-right-color: var(--fill-color);\n",
              "    }\n",
              "    80% {\n",
              "      border-color: transparent;\n",
              "      border-right-color: var(--fill-color);\n",
              "      border-bottom-color: var(--fill-color);\n",
              "    }\n",
              "    90% {\n",
              "      border-color: transparent;\n",
              "      border-bottom-color: var(--fill-color);\n",
              "    }\n",
              "  }\n",
              "</style>\n",
              "\n",
              "  <script>\n",
              "    async function quickchart(key) {\n",
              "      const quickchartButtonEl =\n",
              "        document.querySelector('#' + key + ' button');\n",
              "      quickchartButtonEl.disabled = true;  // To prevent multiple clicks.\n",
              "      quickchartButtonEl.classList.add('colab-df-spinner');\n",
              "      try {\n",
              "        const charts = await google.colab.kernel.invokeFunction(\n",
              "            'suggestCharts', [key], {});\n",
              "      } catch (error) {\n",
              "        console.error('Error during call to suggestCharts:', error);\n",
              "      }\n",
              "      quickchartButtonEl.classList.remove('colab-df-spinner');\n",
              "      quickchartButtonEl.classList.add('colab-df-quickchart-complete');\n",
              "    }\n",
              "    (() => {\n",
              "      let quickchartButtonEl =\n",
              "        document.querySelector('#df-9dd148a8-b1ec-4168-a6dd-d547e770719c button');\n",
              "      quickchartButtonEl.style.display =\n",
              "        google.colab.kernel.accessAllowed ? 'block' : 'none';\n",
              "    })();\n",
              "  </script>\n",
              "</div>\n",
              "\n",
              "    </div>\n",
              "  </div>\n"
            ],
            "application/vnd.google.colaboratory.intrinsic+json": {
              "type": "dataframe",
              "variable_name": "df"
            }
          },
          "metadata": {},
          "execution_count": 21
        }
      ]
    },
    {
      "cell_type": "markdown",
      "source": [
        "# 4. Model Training & Testing"
      ],
      "metadata": {
        "id": "OFMSRL-aRqE5"
      }
    },
    {
      "cell_type": "markdown",
      "source": [
        "#### Data splits"
      ],
      "metadata": {
        "id": "eQIigmmYSy2j"
      }
    },
    {
      "cell_type": "markdown",
      "source": [
        "Before training, we need to split data into training (80%) & testing (20%)"
      ],
      "metadata": {
        "id": "hEigqoFcS3kq"
      }
    },
    {
      "cell_type": "code",
      "source": [
        "from sklearn.model_selection import train_test_split\n",
        "from sklearn.linear_model import LogisticRegression\n",
        "features = ['Protocol', 'Flow_Duration', 'Tot_Fwd_Pkts', 'Tot_Bwd_Pkts',\n",
        "       'TotLen_Fwd_Pkts', 'TotLen_Bwd_Pkts', 'Fwd_Pkt_Len_Max',\n",
        "       'Fwd_Pkt_Len_Min', 'Fwd_Pkt_Len_Mean', 'Fwd_Pkt_Len_Std',\n",
        "       'Bwd_Pkt_Len_Max', 'Bwd_Pkt_Len_Min', 'Bwd_Pkt_Len_Mean',\n",
        "       'Bwd_Pkt_Len_Std', 'Flow_Byts/s', 'Flow_Pkts/s', 'Flow_IAT_Mean',\n",
        "       'Flow_IAT_Std', 'Flow_IAT_Max', 'Flow_IAT_Min', 'Fwd_IAT_Tot',\n",
        "       'Fwd_IAT_Mean', 'Bwd_IAT_Mean', 'Fwd_IAT_Max', 'Fwd_IAT_Min',\n",
        "       'Bwd_IAT_Tot', 'Bwd_IAT_Mean.1', 'Bwd_IAT_Std', 'Bwd_IAT_Max',\n",
        "       'Bwd_IAT_Min', 'Bwd_PSH_Flags', 'Bwd_URG_Flags', 'Fwd_Header_Len',\n",
        "       'Bwd_Header_Len', 'Fwd_Pkts/s', 'Bwd_Pkts/s', 'Pkt_Len_Min',\n",
        "       'Pkt_Len_Max', 'Pkt_Len_Mean', 'Pkt_Len_Std', 'Pkt_Len_Var',\n",
        "       'FIN_Flag_Cnt', 'SYN_Flag_Cnt', 'RST_Flag_Cnt', 'PSH_Flag_Cnt',\n",
        "       'ACK_Flag_Cnt', 'URG_Flag_Cnt', 'CWE_Flag_Count', 'ECE_Flag_Cnt',\n",
        "       'Down/Up_Ratio', 'Pkt_Size_Avg', 'Fwd_Seg_Size_Avg', 'Bwd_Seg_Size_Avg',\n",
        "       'Subflow_Fwd_Pkts', 'Subflow_Fwd_Byts', 'Subflow_Bwd_Pkts',\n",
        "       'Subflow_Bwd_Byts', 'Init_Bwd_Win_Byts', 'Fwd_Act_Data_Pkts',\n",
        "       'Active_Mean', 'Active_Std', 'Active_Max', 'Active_Min', 'Idle_Mean',\n",
        "       'Idle_Std', 'Idle_Max', 'Idle_Min']\n",
        "X = df[features]\n",
        "\n",
        "y = df['Label_encoded']\n",
        "\n",
        "# split dataset in a 80/20 split\n",
        "x_train, x_test, y_train, y_test = train_test_split(X, y, test_size=0.2, random_state=42)\n",
        "\n",
        "\n",
        "print(x_train.shape, y_train.shape)\n",
        "print(x_test.shape, y_test.shape)"
      ],
      "metadata": {
        "colab": {
          "base_uri": "https://localhost:8080/"
        },
        "id": "vyUXxoPiRpXl",
        "outputId": "645f98de-c8fb-4bfa-b1b4-d28d057315b1"
      },
      "execution_count": 59,
      "outputs": [
        {
          "output_type": "stream",
          "name": "stdout",
          "text": [
            "(129904, 67) (129904,)\n",
            "(32477, 67) (32477,)\n"
          ]
        }
      ]
    },
    {
      "cell_type": "markdown",
      "source": [
        "## Model 1 : Logistic Regression Modeling"
      ],
      "metadata": {
        "id": "uhH1kTv-VrcC"
      }
    },
    {
      "cell_type": "code",
      "source": [
        "from sklearn.linear_model import LogisticRegression\n",
        "# define our regression model\n",
        "model = LogisticRegression()\n",
        "# train our model\n",
        "model.fit(x_train, y_train)"
      ],
      "metadata": {
        "colab": {
          "base_uri": "https://localhost:8080/",
          "height": 238
        },
        "id": "MFQlNTjIVkk0",
        "outputId": "2f94a81e-0b16-4394-d526-0bf186bb4711"
      },
      "execution_count": 60,
      "outputs": [
        {
          "output_type": "stream",
          "name": "stderr",
          "text": [
            "/usr/local/lib/python3.10/dist-packages/sklearn/linear_model/_logistic.py:458: ConvergenceWarning: lbfgs failed to converge (status=1):\n",
            "STOP: TOTAL NO. of ITERATIONS REACHED LIMIT.\n",
            "\n",
            "Increase the number of iterations (max_iter) or scale the data as shown in:\n",
            "    https://scikit-learn.org/stable/modules/preprocessing.html\n",
            "Please also refer to the documentation for alternative solver options:\n",
            "    https://scikit-learn.org/stable/modules/linear_model.html#logistic-regression\n",
            "  n_iter_i = _check_optimize_result(\n"
          ]
        },
        {
          "output_type": "execute_result",
          "data": {
            "text/plain": [
              "LogisticRegression()"
            ],
            "text/html": [
              "<style>#sk-container-id-3 {color: black;background-color: white;}#sk-container-id-3 pre{padding: 0;}#sk-container-id-3 div.sk-toggleable {background-color: white;}#sk-container-id-3 label.sk-toggleable__label {cursor: pointer;display: block;width: 100%;margin-bottom: 0;padding: 0.3em;box-sizing: border-box;text-align: center;}#sk-container-id-3 label.sk-toggleable__label-arrow:before {content: \"▸\";float: left;margin-right: 0.25em;color: #696969;}#sk-container-id-3 label.sk-toggleable__label-arrow:hover:before {color: black;}#sk-container-id-3 div.sk-estimator:hover label.sk-toggleable__label-arrow:before {color: black;}#sk-container-id-3 div.sk-toggleable__content {max-height: 0;max-width: 0;overflow: hidden;text-align: left;background-color: #f0f8ff;}#sk-container-id-3 div.sk-toggleable__content pre {margin: 0.2em;color: black;border-radius: 0.25em;background-color: #f0f8ff;}#sk-container-id-3 input.sk-toggleable__control:checked~div.sk-toggleable__content {max-height: 200px;max-width: 100%;overflow: auto;}#sk-container-id-3 input.sk-toggleable__control:checked~label.sk-toggleable__label-arrow:before {content: \"▾\";}#sk-container-id-3 div.sk-estimator input.sk-toggleable__control:checked~label.sk-toggleable__label {background-color: #d4ebff;}#sk-container-id-3 div.sk-label input.sk-toggleable__control:checked~label.sk-toggleable__label {background-color: #d4ebff;}#sk-container-id-3 input.sk-hidden--visually {border: 0;clip: rect(1px 1px 1px 1px);clip: rect(1px, 1px, 1px, 1px);height: 1px;margin: -1px;overflow: hidden;padding: 0;position: absolute;width: 1px;}#sk-container-id-3 div.sk-estimator {font-family: monospace;background-color: #f0f8ff;border: 1px dotted black;border-radius: 0.25em;box-sizing: border-box;margin-bottom: 0.5em;}#sk-container-id-3 div.sk-estimator:hover {background-color: #d4ebff;}#sk-container-id-3 div.sk-parallel-item::after {content: \"\";width: 100%;border-bottom: 1px solid gray;flex-grow: 1;}#sk-container-id-3 div.sk-label:hover label.sk-toggleable__label {background-color: #d4ebff;}#sk-container-id-3 div.sk-serial::before {content: \"\";position: absolute;border-left: 1px solid gray;box-sizing: border-box;top: 0;bottom: 0;left: 50%;z-index: 0;}#sk-container-id-3 div.sk-serial {display: flex;flex-direction: column;align-items: center;background-color: white;padding-right: 0.2em;padding-left: 0.2em;position: relative;}#sk-container-id-3 div.sk-item {position: relative;z-index: 1;}#sk-container-id-3 div.sk-parallel {display: flex;align-items: stretch;justify-content: center;background-color: white;position: relative;}#sk-container-id-3 div.sk-item::before, #sk-container-id-3 div.sk-parallel-item::before {content: \"\";position: absolute;border-left: 1px solid gray;box-sizing: border-box;top: 0;bottom: 0;left: 50%;z-index: -1;}#sk-container-id-3 div.sk-parallel-item {display: flex;flex-direction: column;z-index: 1;position: relative;background-color: white;}#sk-container-id-3 div.sk-parallel-item:first-child::after {align-self: flex-end;width: 50%;}#sk-container-id-3 div.sk-parallel-item:last-child::after {align-self: flex-start;width: 50%;}#sk-container-id-3 div.sk-parallel-item:only-child::after {width: 0;}#sk-container-id-3 div.sk-dashed-wrapped {border: 1px dashed gray;margin: 0 0.4em 0.5em 0.4em;box-sizing: border-box;padding-bottom: 0.4em;background-color: white;}#sk-container-id-3 div.sk-label label {font-family: monospace;font-weight: bold;display: inline-block;line-height: 1.2em;}#sk-container-id-3 div.sk-label-container {text-align: center;}#sk-container-id-3 div.sk-container {/* jupyter's `normalize.less` sets `[hidden] { display: none; }` but bootstrap.min.css set `[hidden] { display: none !important; }` so we also need the `!important` here to be able to override the default hidden behavior on the sphinx rendered scikit-learn.org. See: https://github.com/scikit-learn/scikit-learn/issues/21755 */display: inline-block !important;position: relative;}#sk-container-id-3 div.sk-text-repr-fallback {display: none;}</style><div id=\"sk-container-id-3\" class=\"sk-top-container\"><div class=\"sk-text-repr-fallback\"><pre>LogisticRegression()</pre><b>In a Jupyter environment, please rerun this cell to show the HTML representation or trust the notebook. <br />On GitHub, the HTML representation is unable to render, please try loading this page with nbviewer.org.</b></div><div class=\"sk-container\" hidden><div class=\"sk-item\"><div class=\"sk-estimator sk-toggleable\"><input class=\"sk-toggleable__control sk-hidden--visually\" id=\"sk-estimator-id-3\" type=\"checkbox\" checked><label for=\"sk-estimator-id-3\" class=\"sk-toggleable__label sk-toggleable__label-arrow\">LogisticRegression</label><div class=\"sk-toggleable__content\"><pre>LogisticRegression()</pre></div></div></div></div></div>"
            ]
          },
          "metadata": {},
          "execution_count": 60
        }
      ]
    },
    {
      "cell_type": "markdown",
      "source": [
        "#### Evaluation"
      ],
      "metadata": {
        "id": "-FjqHnEWV69W"
      }
    },
    {
      "cell_type": "code",
      "source": [
        "y_pred = model.predict(x_test)\n",
        "\n",
        "from sklearn.metrics import accuracy_score, precision_score, recall_score, f1_score\n",
        "\n",
        "accuracy_model_1 = accuracy_score(y_pred, y_test)\n",
        "precision_model1 = precision_score(y_test, y_pred)\n",
        "recall_model1 = recall_score(y_test, y_pred)\n",
        "f1_score_model1 = f1_score(y_test, y_pred)\n",
        "\n",
        "print(\"Accuracy:\", accuracy_model_1,\n",
        "      \"\\nPrecision:\",precision_model1,\n",
        "      \"\\nRecall:\", recall_model1,\n",
        "      \"\\nF1 Score:\", f1_score_model1)"
      ],
      "metadata": {
        "colab": {
          "base_uri": "https://localhost:8080/"
        },
        "id": "eYt_qNr6W3DE",
        "outputId": "a1f0e385-8fb7-4e07-cd31-64522ceca6b4"
      },
      "execution_count": 61,
      "outputs": [
        {
          "output_type": "stream",
          "name": "stdout",
          "text": [
            "Accuracy: 0.9073806078147613 \n",
            "Precision: 0.805279665446942 \n",
            "Recall: 0.5765344311377245 \n",
            "F1 Score: 0.6719738276990185\n"
          ]
        }
      ]
    },
    {
      "cell_type": "code",
      "source": [
        "df['Label'].hist()"
      ],
      "metadata": {
        "colab": {
          "base_uri": "https://localhost:8080/",
          "height": 448
        },
        "id": "usa4mYHNm1cF",
        "outputId": "a81db5da-1feb-47ae-bfee-ecb63f80dbd8"
      },
      "execution_count": null,
      "outputs": [
        {
          "output_type": "execute_result",
          "data": {
            "text/plain": [
              "<Axes: >"
            ]
          },
          "metadata": {},
          "execution_count": 25
        },
        {
          "output_type": "display_data",
          "data": {
            "text/plain": [
              "<Figure size 640x480 with 1 Axes>"
            ],
            "image/png": "[encoded data removed]"
          },
          "metadata": {}
        }
      ]
    },
    {
      "cell_type": "markdown",
      "source": [
        "##5. Model Improvement"
      ],
      "metadata": {
        "id": "OOcKcVPfn0jX"
      }
    },
    {
      "cell_type": "markdown",
      "source": [
        "we can see that we have a clearly imbalanced dataset. To handle it, we choose to do 2 steps:\n",
        "* Oversampling the minority class with a factor of 0.5\n",
        "* Undersampling the majority class to obtain the same number in the 2 classes\n",
        "<br>\n",
        "We do that by using the RandomOverSaampler and RandomUnderSampler from the imblearn library."
      ],
      "metadata": {
        "id": "raZ3CE55oDVF"
      }
    },
    {
      "cell_type": "code",
      "source": [
        "from imblearn.over_sampling import RandomOverSampler\n",
        "from imblearn.under_sampling import RandomUnderSampler\n",
        "\n",
        "over = RandomOverSampler(sampling_strategy= 0.5)\n",
        "x_new, y_new = over.fit_resample(X, y)\n",
        "under = RandomUnderSampler(sampling_strategy= 1)\n",
        "x_new, y_new = under.fit_resample(x_new, y_new)"
      ],
      "metadata": {
        "id": "AI7nLnfeoFQ1"
      },
      "execution_count": null,
      "outputs": []
    },
    {
      "cell_type": "code",
      "source": [
        "plt.hist(y_new)"
      ],
      "metadata": {
        "colab": {
          "base_uri": "https://localhost:8080/",
          "height": 501
        },
        "id": "s9JJAazxog6k",
        "outputId": "0bed6a09-09f1-4b4e-ef03-ff7c4bf70278"
      },
      "execution_count": null,
      "outputs": [
        {
          "output_type": "execute_result",
          "data": {
            "text/plain": [
              "(array([67790.,     0.,     0.,     0.,     0.,     0.,     0.,     0.,\n",
              "            0., 67790.]),\n",
              " array([0. , 0.1, 0.2, 0.3, 0.4, 0.5, 0.6, 0.7, 0.8, 0.9, 1. ]),\n",
              " <BarContainer object of 10 artists>)"
            ]
          },
          "metadata": {},
          "execution_count": 27
        },
        {
          "output_type": "display_data",
          "data": {
            "text/plain": [
              "<Figure size 640x480 with 1 Axes>"
            ],
            "image/png": "[encoded data removed]"
          },
          "metadata": {}
        }
      ]
    },
    {
      "cell_type": "code",
      "source": [
        "x_train, x_test, y_train, y_test = train_test_split(x_new, y_new, test_size=0.2, random_state=42)\n",
        "model = LogisticRegression()\n",
        "model.fit(x_train, y_train)"
      ],
      "metadata": {
        "colab": {
          "base_uri": "https://localhost:8080/",
          "height": 238
        },
        "id": "y2Ajc-vyo7Fp",
        "outputId": "24aeb5e2-f409-4c20-94c7-2264c8af2800"
      },
      "execution_count": null,
      "outputs": [
        {
          "output_type": "stream",
          "name": "stderr",
          "text": [
            "/usr/local/lib/python3.10/dist-packages/sklearn/linear_model/_logistic.py:458: ConvergenceWarning: lbfgs failed to converge (status=1):\n",
            "STOP: TOTAL NO. of ITERATIONS REACHED LIMIT.\n",
            "\n",
            "Increase the number of iterations (max_iter) or scale the data as shown in:\n",
            "    https://scikit-learn.org/stable/modules/preprocessing.html\n",
            "Please also refer to the documentation for alternative solver options:\n",
            "    https://scikit-learn.org/stable/modules/linear_model.html#logistic-regression\n",
            "  n_iter_i = _check_optimize_result(\n"
          ]
        },
        {
          "output_type": "execute_result",
          "data": {
            "text/plain": [
              "LogisticRegression()"
            ],
            "text/html": [
              "<style>#sk-container-id-2 {color: black;background-color: white;}#sk-container-id-2 pre{padding: 0;}#sk-container-id-2 div.sk-toggleable {background-color: white;}#sk-container-id-2 label.sk-toggleable__label {cursor: pointer;display: block;width: 100%;margin-bottom: 0;padding: 0.3em;box-sizing: border-box;text-align: center;}#sk-container-id-2 label.sk-toggleable__label-arrow:before {content: \"▸\";float: left;margin-right: 0.25em;color: #696969;}#sk-container-id-2 label.sk-toggleable__label-arrow:hover:before {color: black;}#sk-container-id-2 div.sk-estimator:hover label.sk-toggleable__label-arrow:before {color: black;}#sk-container-id-2 div.sk-toggleable__content {max-height: 0;max-width: 0;overflow: hidden;text-align: left;background-color: #f0f8ff;}#sk-container-id-2 div.sk-toggleable__content pre {margin: 0.2em;color: black;border-radius: 0.25em;background-color: #f0f8ff;}#sk-container-id-2 input.sk-toggleable__control:checked~div.sk-toggleable__content {max-height: 200px;max-width: 100%;overflow: auto;}#sk-container-id-2 input.sk-toggleable__control:checked~label.sk-toggleable__label-arrow:before {content: \"▾\";}#sk-container-id-2 div.sk-estimator input.sk-toggleable__control:checked~label.sk-toggleable__label {background-color: #d4ebff;}#sk-container-id-2 div.sk-label input.sk-toggleable__control:checked~label.sk-toggleable__label {background-color: #d4ebff;}#sk-container-id-2 input.sk-hidden--visually {border: 0;clip: rect(1px 1px 1px 1px);clip: rect(1px, 1px, 1px, 1px);height: 1px;margin: -1px;overflow: hidden;padding: 0;position: absolute;width: 1px;}#sk-container-id-2 div.sk-estimator {font-family: monospace;background-color: #f0f8ff;border: 1px dotted black;border-radius: 0.25em;box-sizing: border-box;margin-bottom: 0.5em;}#sk-container-id-2 div.sk-estimator:hover {background-color: #d4ebff;}#sk-container-id-2 div.sk-parallel-item::after {content: \"\";width: 100%;border-bottom: 1px solid gray;flex-grow: 1;}#sk-container-id-2 div.sk-label:hover label.sk-toggleable__label {background-color: #d4ebff;}#sk-container-id-2 div.sk-serial::before {content: \"\";position: absolute;border-left: 1px solid gray;box-sizing: border-box;top: 0;bottom: 0;left: 50%;z-index: 0;}#sk-container-id-2 div.sk-serial {display: flex;flex-direction: column;align-items: center;background-color: white;padding-right: 0.2em;padding-left: 0.2em;position: relative;}#sk-container-id-2 div.sk-item {position: relative;z-index: 1;}#sk-container-id-2 div.sk-parallel {display: flex;align-items: stretch;justify-content: center;background-color: white;position: relative;}#sk-container-id-2 div.sk-item::before, #sk-container-id-2 div.sk-parallel-item::before {content: \"\";position: absolute;border-left: 1px solid gray;box-sizing: border-box;top: 0;bottom: 0;left: 50%;z-index: -1;}#sk-container-id-2 div.sk-parallel-item {display: flex;flex-direction: column;z-index: 1;position: relative;background-color: white;}#sk-container-id-2 div.sk-parallel-item:first-child::after {align-self: flex-end;width: 50%;}#sk-container-id-2 div.sk-parallel-item:last-child::after {align-self: flex-start;width: 50%;}#sk-container-id-2 div.sk-parallel-item:only-child::after {width: 0;}#sk-container-id-2 div.sk-dashed-wrapped {border: 1px dashed gray;margin: 0 0.4em 0.5em 0.4em;box-sizing: border-box;padding-bottom: 0.4em;background-color: white;}#sk-container-id-2 div.sk-label label {font-family: monospace;font-weight: bold;display: inline-block;line-height: 1.2em;}#sk-container-id-2 div.sk-label-container {text-align: center;}#sk-container-id-2 div.sk-container {/* jupyter's `normalize.less` sets `[hidden] { display: none; }` but bootstrap.min.css set `[hidden] { display: none !important; }` so we also need the `!important` here to be able to override the default hidden behavior on the sphinx rendered scikit-learn.org. See: https://github.com/scikit-learn/scikit-learn/issues/21755 */display: inline-block !important;position: relative;}#sk-container-id-2 div.sk-text-repr-fallback {display: none;}</style><div id=\"sk-container-id-2\" class=\"sk-top-container\"><div class=\"sk-text-repr-fallback\"><pre>LogisticRegression()</pre><b>In a Jupyter environment, please rerun this cell to show the HTML representation or trust the notebook. <br />On GitHub, the HTML representation is unable to render, please try loading this page with nbviewer.org.</b></div><div class=\"sk-container\" hidden><div class=\"sk-item\"><div class=\"sk-estimator sk-toggleable\"><input class=\"sk-toggleable__control sk-hidden--visually\" id=\"sk-estimator-id-2\" type=\"checkbox\" checked><label for=\"sk-estimator-id-2\" class=\"sk-toggleable__label sk-toggleable__label-arrow\">LogisticRegression</label><div class=\"sk-toggleable__content\"><pre>LogisticRegression()</pre></div></div></div></div></div>"
            ]
          },
          "metadata": {},
          "execution_count": 28
        }
      ]
    },
    {
      "cell_type": "code",
      "source": [
        "y_pred = model.predict(x_test)\n",
        "\n",
        "accuracy_model2 = accuracy_score(y_test, y_pred)\n",
        "precision_model2 = precision_score(y_test, y_pred)\n",
        "recall_model2 = recall_score(y_test, y_pred)\n",
        "f1_score_model2 = f1_score(y_test, y_pred)\n",
        "\n",
        "print(\"Accuracy:\", accuracy_model2,\n",
        "      \"\\nPrecision:\",precision_model2,\n",
        "      \"\\nRecall:\", recall_model2,\n",
        "      \"\\nF1 Score:\", f1_score_model2)"
      ],
      "metadata": {
        "colab": {
          "base_uri": "https://localhost:8080/"
        },
        "id": "CIypNAlqpCHS",
        "outputId": "48abb9a9-6737-430a-ac84-371537ecbc14"
      },
      "execution_count": null,
      "outputs": [
        {
          "output_type": "stream",
          "name": "stdout",
          "text": [
            "Accuracy: 0.8879628263755717 \n",
            "Precision: 0.8519894615956225 \n",
            "Recall: 0.9370681328479085 \n",
            "F1 Score: 0.8925058382280093\n"
          ]
        }
      ]
    },
    {
      "cell_type": "markdown",
      "source": [
        "###Explanation why the model performance is changed after making the dataset balanced\n",
        "\n",
        "performance differences arise because in imbalanced datasets, there are many more instances of one class than the other. This often leads to high accuracy but poor recall or precision for the minority class. Models can simply predict the majority class for all instances and still achieve high accuracy, but this is not usually desirable.\n",
        "\n",
        "When the dataset is balanced, the distribution of classes is more even. This means that the model has to learn to distinguish between the classes more effectively, rather than predominantly predicting the majority class. As a result, the precision, recall, and F1 scores are usually more indicative of the model's true performance.\n",
        "\n",
        "For the imbalanced dataset (model before improvment), even with a high accuracy of 90.73%, the recall is relatively low (57.65%). This suggests that the model likely predicted the majority class well but missed a significant portion of the minority class.\n",
        "\n",
        "For the balanced dataset (model after improvment), the accuracy decreased slightly to 88.52%, but the precision, recall, and F1 scores increased significantly, indicating a model that is better at classifying instances of the minority class. This is a more desirable outcome in most real-world classification tasks because it demonstrates that the model is more robust and performs well across all classes.\n",
        "\n",
        "\n",
        "\n",
        "\n",
        "\n",
        "\n",
        "\n"
      ],
      "metadata": {
        "id": "1Izt00xKq1kD"
      }
    },
    {
      "cell_type": "markdown",
      "source": [
        " ### Model 2:  Random Forest classifier"
      ],
      "metadata": {
        "id": "kJ6TNLSNYU0B"
      }
    },
    {
      "cell_type": "code",
      "source": [
        "from sklearn.datasets import make_classification\n",
        "from sklearn.model_selection import train_test_split\n",
        "from sklearn.linear_model import LogisticRegression\n",
        "from sklearn.ensemble import RandomForestClassifier\n",
        "from sklearn.metrics import accuracy_score\n",
        "from sklearn.model_selection import cross_val_score\n",
        "\n",
        "# Split the dataset into training and testing sets\n",
        "X_train, X_test, y_train, y_test = train_test_split(X, y, test_size=0.2, random_state=42)\n",
        "\n",
        "# Initialize the Random Forest classifier\n",
        "random_forest_model = RandomForestClassifier(n_estimators=100, random_state=42)\n",
        "\n",
        "# Train the Random Forest classifier\n",
        "random_forest_model.fit(X_train, y_train)\n",
        "\n",
        "# Predict the labels for the test set with Random Forest Classifier\n",
        "random_forest_predictions = random_forest_model.predict(X_test)\n",
        "\n",
        "# Calculate performance  for both mRandom Forest Classifier\n",
        "random_forest_accuracy = accuracy_score(y_test, random_forest_predictions)\n",
        "random_forest_precision= precision_score(y_test, random_forest_predictions)\n",
        "random_forest_recall_score= recall_score(y_test, random_forest_predictions)\n",
        "random_forest_f1_score= f1_score(y_test, random_forest_predictions)\n",
        "\n",
        "print(f'Random Forest Classifier Accuracy: {random_forest_accuracy:.2f}')\n",
        "print(f'Random_forest_recall_score: {random_forest_precision:.2f}')\n",
        "print(f'Random_forest_recall_score: {random_forest_recall_score:.2f}')\n",
        "print(f'Random_forest_f1_score: {random_forest_f1_score:.2f}')\n"
      ],
      "metadata": {
        "id": "46qGj7tjaZUb",
        "colab": {
          "base_uri": "https://localhost:8080/"
        },
        "outputId": "70fca195-e49b-4ed5-9d8b-ef1b76906b3b"
      },
      "execution_count": null,
      "outputs": [
        {
          "output_type": "stream",
          "name": "stdout",
          "text": [
            "Random Forest Classifier Accuracy: 0.90\n",
            "Random_forest_recall_score: 0.95\n",
            "Random_forest_recall_score: 0.86\n",
            "Random_forest_f1_score: 0.90\n"
          ]
        }
      ]
    },
    {
      "cell_type": "markdown",
      "source": [
        " ### Model 3:  Support Vector Machine (SVM)"
      ],
      "metadata": {
        "id": "QqjuC6fp7WrC"
      }
    },
    {
      "cell_type": "code",
      "source": [
        "from sklearn.datasets import make_classification\n",
        "from sklearn.model_selection import train_test_split\n",
        "from sklearn.svm import SVC\n",
        "from sklearn.metrics import accuracy_score, classification_report\n",
        "from sklearn.preprocessing import StandardScaler\n",
        "\n",
        "# Generating a synthetic dataset\n",
        "X1, y1 = make_classification(n_samples=1000, n_features=20, n_informative=2, n_redundant=10, n_classes=2, random_state=42)\n",
        "\n",
        "# Splitting the dataset into training and testing sets\n",
        "X_train, X_test, y_train, y_test = train_test_split(X1, y1, test_size=0.25, random_state=42)\n",
        "\n",
        "# Initializing the SVM\n",
        "svm_classifier = SVC(kernel='linear', C=1.0, random_state=42)\n",
        "\n",
        "# Training the model\n",
        "svm_classifier.fit(X_train, y_train)\n",
        "\n",
        "# Making predictions on the test set\n",
        "svm_predictions = svm_classifier.predict(X_test)\n",
        "\n",
        "# Evaluating the model\n",
        "svm_accuracy = accuracy_score(y_test, svm_predictions)\n",
        "report = classification_report(y_test, svm_predictions)\n",
        "\n",
        "# Calculate performance  for SVM\n",
        "svm_accuracy = accuracy_score(y_test, svm_predictions)\n",
        "svm_precision= precision_score(y_test, svm_predictions)\n",
        "svm_recall_score= recall_score(y_test, svm_predictions)\n",
        "svm_f1_score= f1_score(y_test, svm_predictions)\n",
        "\n",
        "print(f'svm_Accuracy: {svm_accuracy:.2f}')\n",
        "print(f'svm_recall_score: {svm_precision:.2f}')\n",
        "print(f'svm_recall_score: {svm_recall_score:.2f}')\n",
        "print(f'svm__f1_score: {svm_f1_score:.2f}')"
      ],
      "metadata": {
        "colab": {
          "base_uri": "https://localhost:8080/"
        },
        "id": "KzhatZUO8U6z",
        "outputId": "9f6921a6-8752-4314-bbf1-b27adea78168"
      },
      "execution_count": 50,
      "outputs": [
        {
          "output_type": "stream",
          "name": "stdout",
          "text": [
            "svm_Accuracy: 0.88\n",
            "svm_recall_score: 0.85\n",
            "svm_recall_score: 0.89\n",
            "svm__f1_score: 0.87\n"
          ]
        }
      ]
    },
    {
      "cell_type": "markdown",
      "source": [
        " ### Model 4: the Gradient Boosting Classifier (XGBoost)"
      ],
      "metadata": {
        "id": "yUICjwZ8NUEY"
      }
    },
    {
      "cell_type": "code",
      "source": [
        "pip install xgboost"
      ],
      "metadata": {
        "colab": {
          "base_uri": "https://localhost:8080/"
        },
        "id": "NCcUi6fhN2MT",
        "outputId": "abf71140-dbf5-4b33-c492-16646e6bf821"
      },
      "execution_count": 63,
      "outputs": [
        {
          "output_type": "stream",
          "name": "stdout",
          "text": [
            "Requirement already satisfied: xgboost in /usr/local/lib/python3.10/dist-packages (2.0.3)\n",
            "Requirement already satisfied: numpy in /usr/local/lib/python3.10/dist-packages (from xgboost) (1.25.2)\n",
            "Requirement already satisfied: scipy in /usr/local/lib/python3.10/dist-packages (from xgboost) (1.11.4)\n"
          ]
        }
      ]
    },
    {
      "cell_type": "code",
      "source": [
        "import xgboost as xgb\n",
        "from sklearn.model_selection import train_test_split\n",
        "from sklearn.metrics import accuracy_score\n",
        "from sklearn.datasets import make_classification\n",
        "\n",
        "# Generate a synthetic dataset\n",
        "X3, y3 = make_classification(n_samples=1000, n_features=20, n_informative=2, n_redundant=10, n_classes=2, random_state=42)\n",
        "\n",
        "# Split the dataset into training and testing sets\n",
        "X_train, X_test, y_train, y_test = train_test_split(X3, y3, test_size=0.2, random_state=42)\n",
        "\n",
        "# Initialize the XGBoost classifier\n",
        "xgb_classifier = xgb.XGBClassifier(use_label_encoder=False, eval_metric='logloss')\n",
        "\n",
        "# Train the model\n",
        "xgb_classifier.fit(X_train, y_train)\n",
        "\n",
        "# Predict the labels for the test set\n",
        "xgb_predictions = xgb_classifier.predict(X_test)\n",
        "\n",
        "# Calculate performance  for SVM\n",
        "xgb_accuracy = accuracy_score(y_test, xgb_predictions)\n",
        "xgb_precision= precision_score(y_test, xgb_predictions)\n",
        "xgb_recall_score= recall_score(y_test, xgb_predictions)\n",
        "xgb_f1_score= f1_score(y_test, xgb_predictions)\n",
        "\n",
        "print(f'Accuracy of the XGBoost classifier:: {xgb_accuracy:.2f}')\n",
        "print(f'The precision of the XGBoost classifier: {xgb_precision:.2f}')\n",
        "print(f'The recall of the XGBoost classifier: {xgb_recall_score:.2f}')\n",
        "print(f'f1_score of the XGBoost classifier: {xgb_f1_score:.2f}')"
      ],
      "metadata": {
        "colab": {
          "base_uri": "https://localhost:8080/"
        },
        "id": "KVy260TXN5Fz",
        "outputId": "a6e36f77-75ba-41d9-e396-2fa2105a297f"
      },
      "execution_count": 65,
      "outputs": [
        {
          "output_type": "stream",
          "name": "stdout",
          "text": [
            "Accuracy of the XGBoost classifier:: 0.92\n",
            "The precision of the XGBoost classifier: 0.89\n",
            "The recall of the XGBoost classifier: 0.92\n",
            "f1_score of the XGBoost classifier: 0.91\n"
          ]
        }
      ]
    },
    {
      "cell_type": "markdown",
      "source": [
        "#Comparison between the performance of  \n",
        "(Logistic Regression Modeling+ Random Forest classifier+ Support Vector Machine (SVM))+Gradient Boosting Classifier (XGBoost)"
      ],
      "metadata": {
        "id": "kwxKrYFDFbht"
      }
    },
    {
      "cell_type": "code",
      "source": [
        "import matplotlib.pyplot as plt\n",
        "\n",
        "\n",
        "# Model names\n",
        "models = ['Logistic Regression', 'Random Forest', 'SVM', 'xgboost']\n",
        "\n",
        "# Accuracy scores\n",
        "accuracies = [accuracy_model2, random_forest_accuracy, svm_accuracy, xgb_accuracy]\n",
        "\n",
        "\n",
        "# Create a bar chart\n",
        "fig, ax = plt.subplots()\n",
        "bars = ax.bar(models, accuracies, color=['yellow', 'green', 'pink','grey'])\n",
        "\n",
        "# Add the accuracy values on top of the bars\n",
        "for bar in bars:\n",
        "    height = bar.get_height()\n",
        "    ax.annotate(f'{height:.2f}%',\n",
        "                xy=(bar.get_x() + bar.get_width() / 2, height),\n",
        "                xytext=(0, 3),  # 3 points vertical offset\n",
        "                textcoords=\"offset points\",\n",
        "                ha='center', va='bottom')\n",
        "plt.xlabel('Model')\n",
        "plt.ylabel('Accuracy')\n",
        "plt.title('Comparison of Model Accuracies')\n",
        "plt.ylim(0, 1)  # Assuming accuracy scores are between 0 and 1\n",
        "plt.show()"
      ],
      "metadata": {
        "colab": {
          "base_uri": "https://localhost:8080/",
          "height": 472
        },
        "id": "3PVAMjjdFZ_n",
        "outputId": "9b8e3c16-bd22-448e-d907-7f233d195b42"
      },
      "execution_count": 87,
      "outputs": [
        {
          "output_type": "display_data",
          "data": {
            "text/plain": [
              "<Figure size 640x480 with 1 Axes>"
            ],
            "image/png": "[encoded data removed]"
          },
          "metadata": {}
        }
      ]
    },
    {
      "cell_type": "code",
      "source": [
        "import matplotlib.pyplot as plt\n",
        "\n",
        "\n",
        "# Model names\n",
        "models = ['Logistic Regression', 'Random Forest', 'SVM', 'xgboost']\n",
        "\n",
        "# Accuracy scores\n",
        "precisions = [precision_model2, random_forest_precision, svm_precision, xgb_precision]\n",
        "\n",
        "\n",
        "# Create a bar chart\n",
        "fig, ax = plt.subplots()\n",
        "bars = ax.bar(models, precisions, color=['yellow', 'green', 'pink','grey'])\n",
        "\n",
        "# Add the accuracy values on top of the bars\n",
        "for bar in bars:\n",
        "    height = bar.get_height()\n",
        "    ax.annotate(f'{height:.2f}%',\n",
        "                xy=(bar.get_x() + bar.get_width() / 2, height),\n",
        "                xytext=(0, 3),  # 3 points vertical offset\n",
        "                textcoords=\"offset points\",\n",
        "                ha='center', va='bottom')\n",
        "plt.xlabel('Model')\n",
        "plt.ylabel('precision')\n",
        "plt.title('Comparison of Model precisions')\n",
        "plt.ylim(0, 1)  # Assuming accuracy scores are between 0 and 1\n",
        "plt.show()"
      ],
      "metadata": {
        "colab": {
          "base_uri": "https://localhost:8080/",
          "height": 472
        },
        "id": "nuymEvCQVJMA",
        "outputId": "18ca824e-4142-4729-d46c-418b067bd022"
      },
      "execution_count": 88,
      "outputs": [
        {
          "output_type": "display_data",
          "data": {
            "text/plain": [
              "<Figure size 640x480 with 1 Axes>"
            ],
            "image/png": "[encoded data removed]"
          },
          "metadata": {}
        }
      ]
    }
  ]
}