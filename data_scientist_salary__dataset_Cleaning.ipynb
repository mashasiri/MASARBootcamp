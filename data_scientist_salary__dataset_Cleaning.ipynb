{
  "nbformat": 4,
  "nbformat_minor": 0,
  "metadata": {
    "colab": {
      "provenance": [],
      "include_colab_link": true
    },
    "kernelspec": {
      "name": "python3",
      "display_name": "Python 3"
    },
    "language_info": {
      "name": "python"
    }
  },
  "cells": [
    {
      "cell_type": "markdown",
      "metadata": {
        "id": "view-in-github",
        "colab_type": "text"
      },
      "source": [
        "<a href=\"https://colab.research.google.com/github/mashasiri/MASARBootcamp/blob/main/data_scientist_salary__dataset_Cleaning.ipynb\" target=\"_parent\"><img src=\"https://colab.research.google.com/assets/colab-badge.svg\" alt=\"Open In Colab\"/></a>"
      ]
    },
    {
      "cell_type": "markdown",
      "source": [
        "The Data Scientist salary Dataset\n",
        "---\n",
        "**Objective:**\n",
        "\n",
        "In this notebook, we are going to create some visualizations to better explore our dataset and clean it as a next step."
      ],
      "metadata": {
        "id": "Kd4zWx7KZDqP"
      }
    },
    {
      "cell_type": "markdown",
      "metadata": {
        "id": "CeNQp4N2Ni1y"
      },
      "source": [
        "# Import Libraries"
      ]
    },
    {
      "cell_type": "code",
      "metadata": {
        "id": "wD4a1PLmNi1z"
      },
      "source": [
        "import pandas as pd\n",
        "import numpy as np\n",
        "import matplotlib.pyplot as plt"
      ],
      "execution_count": 3,
      "outputs": []
    },
    {
      "cell_type": "markdown",
      "metadata": {
        "id": "nOKlj2e4Ni11"
      },
      "source": [
        "# Load Dataset"
      ]
    },
    {
      "cell_type": "markdown",
      "source": [
        "### Data Description\n",
        "\n",
        "To conduct this analysis, a dataset containing relevant information about Data Scientists was used. The dataset includes the following variables:\n",
        "\n",
        "- work_year:The year the salary was paid.\n",
        "\n",
        "- experience_level: The experience level in the job during the year.\n",
        "\n",
        "EN > Entry-level / Junior\n",
        "MI> Mid-level / Intermediate\n",
        "SE > Senior-level / Expert\n",
        "EX > Executive-level / Director\n",
        "- employment_type: The type of employment for the role.\n",
        "\n",
        "PT > Part-time\n",
        "FT > Full-time\n",
        "CT > Contract\n",
        "FL > Freelance\n",
        "- job_title: The role worked in during the year.\n",
        "\n",
        "- salary: The total gross salary amount paid.\n",
        "\n",
        "- salary_currency: The currency of the salary paid as an ISO 4217 currency code.\n",
        "\n",
        "- salaryinusd: The salary in USD.\n",
        "\n",
        "- employee_residence: Employee's primary country of residence during the work year as an ISO 3166 country code.\n",
        "\n",
        "- remote_ratio:The overall amount of work done remotely.\n",
        "\n",
        "- company_location: The country of the employer's main office or contracting branch.\n",
        "\n",
        "- company_size: The median number of people that worked for the company during the year.\n",
        "The goal of analyzing the Titanic dataset is often to explore patterns and factors that influenced the survival of passengers during the tragic event."
      ],
      "metadata": {
        "id": "CLeCPqpDZinC"
      }
    },
    {
      "cell_type": "code",
      "source": [
        "df = pd.read_csv('/content/ds_salaries.csv')\n"
      ],
      "metadata": {
        "id": "u2PKdBCWZMq2"
      },
      "execution_count": 4,
      "outputs": []
    },
    {
      "cell_type": "markdown",
      "source": [
        "# 1. Explore the Dataset"
      ],
      "metadata": {
        "id": "Bwr0W83DdmUH"
      }
    },
    {
      "cell_type": "markdown",
      "metadata": {
        "id": "4rKJxGj0Ni15"
      },
      "source": [
        "## 1.1 Diagnose data for cleaning"
      ]
    },
    {
      "cell_type": "markdown",
      "metadata": {
        "id": "BtV9JXgVNi15"
      },
      "source": [
        "When you get a new DataFrame to work with, the first thing you need to do is explore it and see what it contains. There are several useful methods and attributes for this.\n",
        "\n",
        "- .head() returns the first few rows (the “head” of the DataFrame).\n",
        "- .tail() returns the last few rows (the “tail” of the DataFrame).\n",
        "- .info() shows information on each of the columns, such as the data type and number of missing values.\n",
        "- .shape returns the number of rows and columns of the DataFrame.\n",
        "- .columns: An index of columns: the column names.\n"
      ]
    },
    {
      "cell_type": "code",
      "source": [
        "df.head()"
      ],
      "metadata": {
        "id": "ealvb2MMeJDk",
        "colab": {
          "base_uri": "https://localhost:8080/",
          "height": 330
        },
        "outputId": "10483b06-c4c4-4983-8ef4-d2b2d4ae59ab"
      },
      "execution_count": 5,
      "outputs": [
        {
          "output_type": "execute_result",
          "data": {
            "text/plain": [
              "   work_year experience_level employment_type                 job_title  \\\n",
              "0       2023               SE              FT  Principal Data Scientist   \n",
              "1       2023               MI              CT               ML Engineer   \n",
              "2       2023               MI              CT               ML Engineer   \n",
              "3       2023               SE              FT            Data Scientist   \n",
              "4       2023               SE              FT            Data Scientist   \n",
              "\n",
              "   salary salary_currency  salary_in_usd employee_residence  remote_ratio  \\\n",
              "0   80000             EUR          85847                 ES           100   \n",
              "1   30000             USD          30000                 US           100   \n",
              "2   25500             USD          25500                 US           100   \n",
              "3  175000             USD         175000                 CA           100   \n",
              "4  120000             USD         120000                 CA           100   \n",
              "\n",
              "  company_location company_size  \n",
              "0               ES            L  \n",
              "1               US            S  \n",
              "2               US            S  \n",
              "3               CA            M  \n",
              "4               CA            M  "
            ],
            "text/html": [
              "\n",
              "  <div id=\"df-68d23204-1ee2-47f7-82c2-82dbcd8e5d3a\" class=\"colab-df-container\">\n",
              "    <div>\n",
              "<style scoped>\n",
              "    .dataframe tbody tr th:only-of-type {\n",
              "        vertical-align: middle;\n",
              "    }\n",
              "\n",
              "    .dataframe tbody tr th {\n",
              "        vertical-align: top;\n",
              "    }\n",
              "\n",
              "    .dataframe thead th {\n",
              "        text-align: right;\n",
              "    }\n",
              "</style>\n",
              "<table border=\"1\" class=\"dataframe\">\n",
              "  <thead>\n",
              "    <tr style=\"text-align: right;\">\n",
              "      <th></th>\n",
              "      <th>work_year</th>\n",
              "      <th>experience_level</th>\n",
              "      <th>employment_type</th>\n",
              "      <th>job_title</th>\n",
              "      <th>salary</th>\n",
              "      <th>salary_currency</th>\n",
              "      <th>salary_in_usd</th>\n",
              "      <th>employee_residence</th>\n",
              "      <th>remote_ratio</th>\n",
              "      <th>company_location</th>\n",
              "      <th>company_size</th>\n",
              "    </tr>\n",
              "  </thead>\n",
              "  <tbody>\n",
              "    <tr>\n",
              "      <th>0</th>\n",
              "      <td>2023</td>\n",
              "      <td>SE</td>\n",
              "      <td>FT</td>\n",
              "      <td>Principal Data Scientist</td>\n",
              "      <td>80000</td>\n",
              "      <td>EUR</td>\n",
              "      <td>85847</td>\n",
              "      <td>ES</td>\n",
              "      <td>100</td>\n",
              "      <td>ES</td>\n",
              "      <td>L</td>\n",
              "    </tr>\n",
              "    <tr>\n",
              "      <th>1</th>\n",
              "      <td>2023</td>\n",
              "      <td>MI</td>\n",
              "      <td>CT</td>\n",
              "      <td>ML Engineer</td>\n",
              "      <td>30000</td>\n",
              "      <td>USD</td>\n",
              "      <td>30000</td>\n",
              "      <td>US</td>\n",
              "      <td>100</td>\n",
              "      <td>US</td>\n",
              "      <td>S</td>\n",
              "    </tr>\n",
              "    <tr>\n",
              "      <th>2</th>\n",
              "      <td>2023</td>\n",
              "      <td>MI</td>\n",
              "      <td>CT</td>\n",
              "      <td>ML Engineer</td>\n",
              "      <td>25500</td>\n",
              "      <td>USD</td>\n",
              "      <td>25500</td>\n",
              "      <td>US</td>\n",
              "      <td>100</td>\n",
              "      <td>US</td>\n",
              "      <td>S</td>\n",
              "    </tr>\n",
              "    <tr>\n",
              "      <th>3</th>\n",
              "      <td>2023</td>\n",
              "      <td>SE</td>\n",
              "      <td>FT</td>\n",
              "      <td>Data Scientist</td>\n",
              "      <td>175000</td>\n",
              "      <td>USD</td>\n",
              "      <td>175000</td>\n",
              "      <td>CA</td>\n",
              "      <td>100</td>\n",
              "      <td>CA</td>\n",
              "      <td>M</td>\n",
              "    </tr>\n",
              "    <tr>\n",
              "      <th>4</th>\n",
              "      <td>2023</td>\n",
              "      <td>SE</td>\n",
              "      <td>FT</td>\n",
              "      <td>Data Scientist</td>\n",
              "      <td>120000</td>\n",
              "      <td>USD</td>\n",
              "      <td>120000</td>\n",
              "      <td>CA</td>\n",
              "      <td>100</td>\n",
              "      <td>CA</td>\n",
              "      <td>M</td>\n",
              "    </tr>\n",
              "  </tbody>\n",
              "</table>\n",
              "</div>\n",
              "    <div class=\"colab-df-buttons\">\n",
              "\n",
              "  <div class=\"colab-df-container\">\n",
              "    <button class=\"colab-df-convert\" onclick=\"convertToInteractive('df-68d23204-1ee2-47f7-82c2-82dbcd8e5d3a')\"\n",
              "            title=\"Convert this dataframe to an interactive table.\"\n",
              "            style=\"display:none;\">\n",
              "\n",
              "  <svg xmlns=\"http://www.w3.org/2000/svg\" height=\"24px\" viewBox=\"0 -960 960 960\">\n",
              "    <path d=\"M120-120v-720h720v720H120Zm60-500h600v-160H180v160Zm220 220h160v-160H400v160Zm0 220h160v-160H400v160ZM180-400h160v-160H180v160Zm440 0h160v-160H620v160ZM180-180h160v-160H180v160Zm440 0h160v-160H620v160Z\"/>\n",
              "  </svg>\n",
              "    </button>\n",
              "\n",
              "  <style>\n",
              "    .colab-df-container {\n",
              "      display:flex;\n",
              "      gap: 12px;\n",
              "    }\n",
              "\n",
              "    .colab-df-convert {\n",
              "      background-color: #E8F0FE;\n",
              "      border: none;\n",
              "      border-radius: 50%;\n",
              "      cursor: pointer;\n",
              "      display: none;\n",
              "      fill: #1967D2;\n",
              "      height: 32px;\n",
              "      padding: 0 0 0 0;\n",
              "      width: 32px;\n",
              "    }\n",
              "\n",
              "    .colab-df-convert:hover {\n",
              "      background-color: #E2EBFA;\n",
              "      box-shadow: 0px 1px 2px rgba(60, 64, 67, 0.3), 0px 1px 3px 1px rgba(60, 64, 67, 0.15);\n",
              "      fill: #174EA6;\n",
              "    }\n",
              "\n",
              "    .colab-df-buttons div {\n",
              "      margin-bottom: 4px;\n",
              "    }\n",
              "\n",
              "    [theme=dark] .colab-df-convert {\n",
              "      background-color: #3B4455;\n",
              "      fill: #D2E3FC;\n",
              "    }\n",
              "\n",
              "    [theme=dark] .colab-df-convert:hover {\n",
              "      background-color: #434B5C;\n",
              "      box-shadow: 0px 1px 3px 1px rgba(0, 0, 0, 0.15);\n",
              "      filter: drop-shadow(0px 1px 2px rgba(0, 0, 0, 0.3));\n",
              "      fill: #FFFFFF;\n",
              "    }\n",
              "  </style>\n",
              "\n",
              "    <script>\n",
              "      const buttonEl =\n",
              "        document.querySelector('#df-68d23204-1ee2-47f7-82c2-82dbcd8e5d3a button.colab-df-convert');\n",
              "      buttonEl.style.display =\n",
              "        google.colab.kernel.accessAllowed ? 'block' : 'none';\n",
              "\n",
              "      async function convertToInteractive(key) {\n",
              "        const element = document.querySelector('#df-68d23204-1ee2-47f7-82c2-82dbcd8e5d3a');\n",
              "        const dataTable =\n",
              "          await google.colab.kernel.invokeFunction('convertToInteractive',\n",
              "                                                    [key], {});\n",
              "        if (!dataTable) return;\n",
              "\n",
              "        const docLinkHtml = 'Like what you see? Visit the ' +\n",
              "          '<a target=\"_blank\" href=https://colab.research.google.com/notebooks/data_table.ipynb>data table notebook</a>'\n",
              "          + ' to learn more about interactive tables.';\n",
              "        element.innerHTML = '';\n",
              "        dataTable['output_type'] = 'display_data';\n",
              "        await google.colab.output.renderOutput(dataTable, element);\n",
              "        const docLink = document.createElement('div');\n",
              "        docLink.innerHTML = docLinkHtml;\n",
              "        element.appendChild(docLink);\n",
              "      }\n",
              "    </script>\n",
              "  </div>\n",
              "\n",
              "\n",
              "<div id=\"df-59bfd2b3-6fec-4b4f-88ff-a39c7d591af8\">\n",
              "  <button class=\"colab-df-quickchart\" onclick=\"quickchart('df-59bfd2b3-6fec-4b4f-88ff-a39c7d591af8')\"\n",
              "            title=\"Suggest charts\"\n",
              "            style=\"display:none;\">\n",
              "\n",
              "<svg xmlns=\"http://www.w3.org/2000/svg\" height=\"24px\"viewBox=\"0 0 24 24\"\n",
              "     width=\"24px\">\n",
              "    <g>\n",
              "        <path d=\"M19 3H5c-1.1 0-2 .9-2 2v14c0 1.1.9 2 2 2h14c1.1 0 2-.9 2-2V5c0-1.1-.9-2-2-2zM9 17H7v-7h2v7zm4 0h-2V7h2v10zm4 0h-2v-4h2v4z\"/>\n",
              "    </g>\n",
              "</svg>\n",
              "  </button>\n",
              "\n",
              "<style>\n",
              "  .colab-df-quickchart {\n",
              "      --bg-color: #E8F0FE;\n",
              "      --fill-color: #1967D2;\n",
              "      --hover-bg-color: #E2EBFA;\n",
              "      --hover-fill-color: #174EA6;\n",
              "      --disabled-fill-color: #AAA;\n",
              "      --disabled-bg-color: #DDD;\n",
              "  }\n",
              "\n",
              "  [theme=dark] .colab-df-quickchart {\n",
              "      --bg-color: #3B4455;\n",
              "      --fill-color: #D2E3FC;\n",
              "      --hover-bg-color: #434B5C;\n",
              "      --hover-fill-color: #FFFFFF;\n",
              "      --disabled-bg-color: #3B4455;\n",
              "      --disabled-fill-color: #666;\n",
              "  }\n",
              "\n",
              "  .colab-df-quickchart {\n",
              "    background-color: var(--bg-color);\n",
              "    border: none;\n",
              "    border-radius: 50%;\n",
              "    cursor: pointer;\n",
              "    display: none;\n",
              "    fill: var(--fill-color);\n",
              "    height: 32px;\n",
              "    padding: 0;\n",
              "    width: 32px;\n",
              "  }\n",
              "\n",
              "  .colab-df-quickchart:hover {\n",
              "    background-color: var(--hover-bg-color);\n",
              "    box-shadow: 0 1px 2px rgba(60, 64, 67, 0.3), 0 1px 3px 1px rgba(60, 64, 67, 0.15);\n",
              "    fill: var(--button-hover-fill-color);\n",
              "  }\n",
              "\n",
              "  .colab-df-quickchart-complete:disabled,\n",
              "  .colab-df-quickchart-complete:disabled:hover {\n",
              "    background-color: var(--disabled-bg-color);\n",
              "    fill: var(--disabled-fill-color);\n",
              "    box-shadow: none;\n",
              "  }\n",
              "\n",
              "  .colab-df-spinner {\n",
              "    border: 2px solid var(--fill-color);\n",
              "    border-color: transparent;\n",
              "    border-bottom-color: var(--fill-color);\n",
              "    animation:\n",
              "      spin 1s steps(1) infinite;\n",
              "  }\n",
              "\n",
              "  @keyframes spin {\n",
              "    0% {\n",
              "      border-color: transparent;\n",
              "      border-bottom-color: var(--fill-color);\n",
              "      border-left-color: var(--fill-color);\n",
              "    }\n",
              "    20% {\n",
              "      border-color: transparent;\n",
              "      border-left-color: var(--fill-color);\n",
              "      border-top-color: var(--fill-color);\n",
              "    }\n",
              "    30% {\n",
              "      border-color: transparent;\n",
              "      border-left-color: var(--fill-color);\n",
              "      border-top-color: var(--fill-color);\n",
              "      border-right-color: var(--fill-color);\n",
              "    }\n",
              "    40% {\n",
              "      border-color: transparent;\n",
              "      border-right-color: var(--fill-color);\n",
              "      border-top-color: var(--fill-color);\n",
              "    }\n",
              "    60% {\n",
              "      border-color: transparent;\n",
              "      border-right-color: var(--fill-color);\n",
              "    }\n",
              "    80% {\n",
              "      border-color: transparent;\n",
              "      border-right-color: var(--fill-color);\n",
              "      border-bottom-color: var(--fill-color);\n",
              "    }\n",
              "    90% {\n",
              "      border-color: transparent;\n",
              "      border-bottom-color: var(--fill-color);\n",
              "    }\n",
              "  }\n",
              "</style>\n",
              "\n",
              "  <script>\n",
              "    async function quickchart(key) {\n",
              "      const quickchartButtonEl =\n",
              "        document.querySelector('#' + key + ' button');\n",
              "      quickchartButtonEl.disabled = true;  // To prevent multiple clicks.\n",
              "      quickchartButtonEl.classList.add('colab-df-spinner');\n",
              "      try {\n",
              "        const charts = await google.colab.kernel.invokeFunction(\n",
              "            'suggestCharts', [key], {});\n",
              "      } catch (error) {\n",
              "        console.error('Error during call to suggestCharts:', error);\n",
              "      }\n",
              "      quickchartButtonEl.classList.remove('colab-df-spinner');\n",
              "      quickchartButtonEl.classList.add('colab-df-quickchart-complete');\n",
              "    }\n",
              "    (() => {\n",
              "      let quickchartButtonEl =\n",
              "        document.querySelector('#df-59bfd2b3-6fec-4b4f-88ff-a39c7d591af8 button');\n",
              "      quickchartButtonEl.style.display =\n",
              "        google.colab.kernel.accessAllowed ? 'block' : 'none';\n",
              "    })();\n",
              "  </script>\n",
              "</div>\n",
              "\n",
              "    </div>\n",
              "  </div>\n"
            ],
            "application/vnd.google.colaboratory.intrinsic+json": {
              "type": "dataframe",
              "variable_name": "df",
              "summary": "{\n  \"name\": \"df\",\n  \"rows\": 3755,\n  \"fields\": [\n    {\n      \"column\": \"work_year\",\n      \"properties\": {\n        \"dtype\": \"number\",\n        \"std\": 0,\n        \"min\": 2020,\n        \"max\": 2023,\n        \"samples\": [\n          2022,\n          2021,\n          2023\n        ],\n        \"num_unique_values\": 4,\n        \"semantic_type\": \"\",\n        \"description\": \"\"\n      }\n    },\n    {\n      \"column\": \"experience_level\",\n      \"properties\": {\n        \"dtype\": \"category\",\n        \"samples\": [\n          \"MI\",\n          \"EX\",\n          \"SE\"\n        ],\n        \"num_unique_values\": 4,\n        \"semantic_type\": \"\",\n        \"description\": \"\"\n      }\n    },\n    {\n      \"column\": \"employment_type\",\n      \"properties\": {\n        \"dtype\": \"category\",\n        \"samples\": [\n          \"CT\",\n          \"PT\",\n          \"FT\"\n        ],\n        \"num_unique_values\": 4,\n        \"semantic_type\": \"\",\n        \"description\": \"\"\n      }\n    },\n    {\n      \"column\": \"job_title\",\n      \"properties\": {\n        \"dtype\": \"category\",\n        \"samples\": [\n          \"Cloud Database Engineer\",\n          \"Staff Data Analyst\",\n          \"Insight Analyst\"\n        ],\n        \"num_unique_values\": 93,\n        \"semantic_type\": \"\",\n        \"description\": \"\"\n      }\n    },\n    {\n      \"column\": \"salary\",\n      \"properties\": {\n        \"dtype\": \"number\",\n        \"std\": 671676,\n        \"min\": 6000,\n        \"max\": 30400000,\n        \"samples\": [\n          84570,\n          138000,\n          370000\n        ],\n        \"num_unique_values\": 815,\n        \"semantic_type\": \"\",\n        \"description\": \"\"\n      }\n    },\n    {\n      \"column\": \"salary_currency\",\n      \"properties\": {\n        \"dtype\": \"category\",\n        \"samples\": [\n          \"EUR\",\n          \"MXN\",\n          \"DKK\"\n        ],\n        \"num_unique_values\": 20,\n        \"semantic_type\": \"\",\n        \"description\": \"\"\n      }\n    },\n    {\n      \"column\": \"salary_in_usd\",\n      \"properties\": {\n        \"dtype\": \"number\",\n        \"std\": 63055,\n        \"min\": 5132,\n        \"max\": 450000,\n        \"samples\": [\n          205600,\n          375000,\n          140700\n        ],\n        \"num_unique_values\": 1035,\n        \"semantic_type\": \"\",\n        \"description\": \"\"\n      }\n    },\n    {\n      \"column\": \"employee_residence\",\n      \"properties\": {\n        \"dtype\": \"category\",\n        \"samples\": [\n          \"AR\",\n          \"ES\",\n          \"AM\"\n        ],\n        \"num_unique_values\": 78,\n        \"semantic_type\": \"\",\n        \"description\": \"\"\n      }\n    },\n    {\n      \"column\": \"remote_ratio\",\n      \"properties\": {\n        \"dtype\": \"number\",\n        \"std\": 48,\n        \"min\": 0,\n        \"max\": 100,\n        \"samples\": [\n          100,\n          0,\n          50\n        ],\n        \"num_unique_values\": 3,\n        \"semantic_type\": \"\",\n        \"description\": \"\"\n      }\n    },\n    {\n      \"column\": \"company_location\",\n      \"properties\": {\n        \"dtype\": \"category\",\n        \"samples\": [\n          \"GB\",\n          \"MY\",\n          \"SG\"\n        ],\n        \"num_unique_values\": 72,\n        \"semantic_type\": \"\",\n        \"description\": \"\"\n      }\n    },\n    {\n      \"column\": \"company_size\",\n      \"properties\": {\n        \"dtype\": \"category\",\n        \"samples\": [\n          \"L\",\n          \"S\",\n          \"M\"\n        ],\n        \"num_unique_values\": 3,\n        \"semantic_type\": \"\",\n        \"description\": \"\"\n      }\n    }\n  ]\n}"
            }
          },
          "metadata": {},
          "execution_count": 5
        }
      ]
    },
    {
      "cell_type": "code",
      "source": [
        "df.tail()"
      ],
      "metadata": {
        "id": "4lrFrpU-eQ7L",
        "colab": {
          "base_uri": "https://localhost:8080/",
          "height": 365
        },
        "outputId": "a2016211-fae6-4399-c666-82caaa26bda8"
      },
      "execution_count": 6,
      "outputs": [
        {
          "output_type": "execute_result",
          "data": {
            "text/plain": [
              "      work_year experience_level employment_type                 job_title  \\\n",
              "3750       2020               SE              FT            Data Scientist   \n",
              "3751       2021               MI              FT  Principal Data Scientist   \n",
              "3752       2020               EN              FT            Data Scientist   \n",
              "3753       2020               EN              CT     Business Data Analyst   \n",
              "3754       2021               SE              FT      Data Science Manager   \n",
              "\n",
              "       salary salary_currency  salary_in_usd employee_residence  remote_ratio  \\\n",
              "3750   412000             USD         412000                 US           100   \n",
              "3751   151000             USD         151000                 US           100   \n",
              "3752   105000             USD         105000                 US           100   \n",
              "3753   100000             USD         100000                 US           100   \n",
              "3754  7000000             INR          94665                 IN            50   \n",
              "\n",
              "     company_location company_size  \n",
              "3750               US            L  \n",
              "3751               US            L  \n",
              "3752               US            S  \n",
              "3753               US            L  \n",
              "3754               IN            L  "
            ],
            "text/html": [
              "\n",
              "  <div id=\"df-95601b13-2218-46fa-abed-814b5bc10473\" class=\"colab-df-container\">\n",
              "    <div>\n",
              "<style scoped>\n",
              "    .dataframe tbody tr th:only-of-type {\n",
              "        vertical-align: middle;\n",
              "    }\n",
              "\n",
              "    .dataframe tbody tr th {\n",
              "        vertical-align: top;\n",
              "    }\n",
              "\n",
              "    .dataframe thead th {\n",
              "        text-align: right;\n",
              "    }\n",
              "</style>\n",
              "<table border=\"1\" class=\"dataframe\">\n",
              "  <thead>\n",
              "    <tr style=\"text-align: right;\">\n",
              "      <th></th>\n",
              "      <th>work_year</th>\n",
              "      <th>experience_level</th>\n",
              "      <th>employment_type</th>\n",
              "      <th>job_title</th>\n",
              "      <th>salary</th>\n",
              "      <th>salary_currency</th>\n",
              "      <th>salary_in_usd</th>\n",
              "      <th>employee_residence</th>\n",
              "      <th>remote_ratio</th>\n",
              "      <th>company_location</th>\n",
              "      <th>company_size</th>\n",
              "    </tr>\n",
              "  </thead>\n",
              "  <tbody>\n",
              "    <tr>\n",
              "      <th>3750</th>\n",
              "      <td>2020</td>\n",
              "      <td>SE</td>\n",
              "      <td>FT</td>\n",
              "      <td>Data Scientist</td>\n",
              "      <td>412000</td>\n",
              "      <td>USD</td>\n",
              "      <td>412000</td>\n",
              "      <td>US</td>\n",
              "      <td>100</td>\n",
              "      <td>US</td>\n",
              "      <td>L</td>\n",
              "    </tr>\n",
              "    <tr>\n",
              "      <th>3751</th>\n",
              "      <td>2021</td>\n",
              "      <td>MI</td>\n",
              "      <td>FT</td>\n",
              "      <td>Principal Data Scientist</td>\n",
              "      <td>151000</td>\n",
              "      <td>USD</td>\n",
              "      <td>151000</td>\n",
              "      <td>US</td>\n",
              "      <td>100</td>\n",
              "      <td>US</td>\n",
              "      <td>L</td>\n",
              "    </tr>\n",
              "    <tr>\n",
              "      <th>3752</th>\n",
              "      <td>2020</td>\n",
              "      <td>EN</td>\n",
              "      <td>FT</td>\n",
              "      <td>Data Scientist</td>\n",
              "      <td>105000</td>\n",
              "      <td>USD</td>\n",
              "      <td>105000</td>\n",
              "      <td>US</td>\n",
              "      <td>100</td>\n",
              "      <td>US</td>\n",
              "      <td>S</td>\n",
              "    </tr>\n",
              "    <tr>\n",
              "      <th>3753</th>\n",
              "      <td>2020</td>\n",
              "      <td>EN</td>\n",
              "      <td>CT</td>\n",
              "      <td>Business Data Analyst</td>\n",
              "      <td>100000</td>\n",
              "      <td>USD</td>\n",
              "      <td>100000</td>\n",
              "      <td>US</td>\n",
              "      <td>100</td>\n",
              "      <td>US</td>\n",
              "      <td>L</td>\n",
              "    </tr>\n",
              "    <tr>\n",
              "      <th>3754</th>\n",
              "      <td>2021</td>\n",
              "      <td>SE</td>\n",
              "      <td>FT</td>\n",
              "      <td>Data Science Manager</td>\n",
              "      <td>7000000</td>\n",
              "      <td>INR</td>\n",
              "      <td>94665</td>\n",
              "      <td>IN</td>\n",
              "      <td>50</td>\n",
              "      <td>IN</td>\n",
              "      <td>L</td>\n",
              "    </tr>\n",
              "  </tbody>\n",
              "</table>\n",
              "</div>\n",
              "    <div class=\"colab-df-buttons\">\n",
              "\n",
              "  <div class=\"colab-df-container\">\n",
              "    <button class=\"colab-df-convert\" onclick=\"convertToInteractive('df-95601b13-2218-46fa-abed-814b5bc10473')\"\n",
              "            title=\"Convert this dataframe to an interactive table.\"\n",
              "            style=\"display:none;\">\n",
              "\n",
              "  <svg xmlns=\"http://www.w3.org/2000/svg\" height=\"24px\" viewBox=\"0 -960 960 960\">\n",
              "    <path d=\"M120-120v-720h720v720H120Zm60-500h600v-160H180v160Zm220 220h160v-160H400v160Zm0 220h160v-160H400v160ZM180-400h160v-160H180v160Zm440 0h160v-160H620v160ZM180-180h160v-160H180v160Zm440 0h160v-160H620v160Z\"/>\n",
              "  </svg>\n",
              "    </button>\n",
              "\n",
              "  <style>\n",
              "    .colab-df-container {\n",
              "      display:flex;\n",
              "      gap: 12px;\n",
              "    }\n",
              "\n",
              "    .colab-df-convert {\n",
              "      background-color: #E8F0FE;\n",
              "      border: none;\n",
              "      border-radius: 50%;\n",
              "      cursor: pointer;\n",
              "      display: none;\n",
              "      fill: #1967D2;\n",
              "      height: 32px;\n",
              "      padding: 0 0 0 0;\n",
              "      width: 32px;\n",
              "    }\n",
              "\n",
              "    .colab-df-convert:hover {\n",
              "      background-color: #E2EBFA;\n",
              "      box-shadow: 0px 1px 2px rgba(60, 64, 67, 0.3), 0px 1px 3px 1px rgba(60, 64, 67, 0.15);\n",
              "      fill: #174EA6;\n",
              "    }\n",
              "\n",
              "    .colab-df-buttons div {\n",
              "      margin-bottom: 4px;\n",
              "    }\n",
              "\n",
              "    [theme=dark] .colab-df-convert {\n",
              "      background-color: #3B4455;\n",
              "      fill: #D2E3FC;\n",
              "    }\n",
              "\n",
              "    [theme=dark] .colab-df-convert:hover {\n",
              "      background-color: #434B5C;\n",
              "      box-shadow: 0px 1px 3px 1px rgba(0, 0, 0, 0.15);\n",
              "      filter: drop-shadow(0px 1px 2px rgba(0, 0, 0, 0.3));\n",
              "      fill: #FFFFFF;\n",
              "    }\n",
              "  </style>\n",
              "\n",
              "    <script>\n",
              "      const buttonEl =\n",
              "        document.querySelector('#df-95601b13-2218-46fa-abed-814b5bc10473 button.colab-df-convert');\n",
              "      buttonEl.style.display =\n",
              "        google.colab.kernel.accessAllowed ? 'block' : 'none';\n",
              "\n",
              "      async function convertToInteractive(key) {\n",
              "        const element = document.querySelector('#df-95601b13-2218-46fa-abed-814b5bc10473');\n",
              "        const dataTable =\n",
              "          await google.colab.kernel.invokeFunction('convertToInteractive',\n",
              "                                                    [key], {});\n",
              "        if (!dataTable) return;\n",
              "\n",
              "        const docLinkHtml = 'Like what you see? Visit the ' +\n",
              "          '<a target=\"_blank\" href=https://colab.research.google.com/notebooks/data_table.ipynb>data table notebook</a>'\n",
              "          + ' to learn more about interactive tables.';\n",
              "        element.innerHTML = '';\n",
              "        dataTable['output_type'] = 'display_data';\n",
              "        await google.colab.output.renderOutput(dataTable, element);\n",
              "        const docLink = document.createElement('div');\n",
              "        docLink.innerHTML = docLinkHtml;\n",
              "        element.appendChild(docLink);\n",
              "      }\n",
              "    </script>\n",
              "  </div>\n",
              "\n",
              "\n",
              "<div id=\"df-8d9b51d8-0fe7-4c73-81a0-3affb48ed137\">\n",
              "  <button class=\"colab-df-quickchart\" onclick=\"quickchart('df-8d9b51d8-0fe7-4c73-81a0-3affb48ed137')\"\n",
              "            title=\"Suggest charts\"\n",
              "            style=\"display:none;\">\n",
              "\n",
              "<svg xmlns=\"http://www.w3.org/2000/svg\" height=\"24px\"viewBox=\"0 0 24 24\"\n",
              "     width=\"24px\">\n",
              "    <g>\n",
              "        <path d=\"M19 3H5c-1.1 0-2 .9-2 2v14c0 1.1.9 2 2 2h14c1.1 0 2-.9 2-2V5c0-1.1-.9-2-2-2zM9 17H7v-7h2v7zm4 0h-2V7h2v10zm4 0h-2v-4h2v4z\"/>\n",
              "    </g>\n",
              "</svg>\n",
              "  </button>\n",
              "\n",
              "<style>\n",
              "  .colab-df-quickchart {\n",
              "      --bg-color: #E8F0FE;\n",
              "      --fill-color: #1967D2;\n",
              "      --hover-bg-color: #E2EBFA;\n",
              "      --hover-fill-color: #174EA6;\n",
              "      --disabled-fill-color: #AAA;\n",
              "      --disabled-bg-color: #DDD;\n",
              "  }\n",
              "\n",
              "  [theme=dark] .colab-df-quickchart {\n",
              "      --bg-color: #3B4455;\n",
              "      --fill-color: #D2E3FC;\n",
              "      --hover-bg-color: #434B5C;\n",
              "      --hover-fill-color: #FFFFFF;\n",
              "      --disabled-bg-color: #3B4455;\n",
              "      --disabled-fill-color: #666;\n",
              "  }\n",
              "\n",
              "  .colab-df-quickchart {\n",
              "    background-color: var(--bg-color);\n",
              "    border: none;\n",
              "    border-radius: 50%;\n",
              "    cursor: pointer;\n",
              "    display: none;\n",
              "    fill: var(--fill-color);\n",
              "    height: 32px;\n",
              "    padding: 0;\n",
              "    width: 32px;\n",
              "  }\n",
              "\n",
              "  .colab-df-quickchart:hover {\n",
              "    background-color: var(--hover-bg-color);\n",
              "    box-shadow: 0 1px 2px rgba(60, 64, 67, 0.3), 0 1px 3px 1px rgba(60, 64, 67, 0.15);\n",
              "    fill: var(--button-hover-fill-color);\n",
              "  }\n",
              "\n",
              "  .colab-df-quickchart-complete:disabled,\n",
              "  .colab-df-quickchart-complete:disabled:hover {\n",
              "    background-color: var(--disabled-bg-color);\n",
              "    fill: var(--disabled-fill-color);\n",
              "    box-shadow: none;\n",
              "  }\n",
              "\n",
              "  .colab-df-spinner {\n",
              "    border: 2px solid var(--fill-color);\n",
              "    border-color: transparent;\n",
              "    border-bottom-color: var(--fill-color);\n",
              "    animation:\n",
              "      spin 1s steps(1) infinite;\n",
              "  }\n",
              "\n",
              "  @keyframes spin {\n",
              "    0% {\n",
              "      border-color: transparent;\n",
              "      border-bottom-color: var(--fill-color);\n",
              "      border-left-color: var(--fill-color);\n",
              "    }\n",
              "    20% {\n",
              "      border-color: transparent;\n",
              "      border-left-color: var(--fill-color);\n",
              "      border-top-color: var(--fill-color);\n",
              "    }\n",
              "    30% {\n",
              "      border-color: transparent;\n",
              "      border-left-color: var(--fill-color);\n",
              "      border-top-color: var(--fill-color);\n",
              "      border-right-color: var(--fill-color);\n",
              "    }\n",
              "    40% {\n",
              "      border-color: transparent;\n",
              "      border-right-color: var(--fill-color);\n",
              "      border-top-color: var(--fill-color);\n",
              "    }\n",
              "    60% {\n",
              "      border-color: transparent;\n",
              "      border-right-color: var(--fill-color);\n",
              "    }\n",
              "    80% {\n",
              "      border-color: transparent;\n",
              "      border-right-color: var(--fill-color);\n",
              "      border-bottom-color: var(--fill-color);\n",
              "    }\n",
              "    90% {\n",
              "      border-color: transparent;\n",
              "      border-bottom-color: var(--fill-color);\n",
              "    }\n",
              "  }\n",
              "</style>\n",
              "\n",
              "  <script>\n",
              "    async function quickchart(key) {\n",
              "      const quickchartButtonEl =\n",
              "        document.querySelector('#' + key + ' button');\n",
              "      quickchartButtonEl.disabled = true;  // To prevent multiple clicks.\n",
              "      quickchartButtonEl.classList.add('colab-df-spinner');\n",
              "      try {\n",
              "        const charts = await google.colab.kernel.invokeFunction(\n",
              "            'suggestCharts', [key], {});\n",
              "      } catch (error) {\n",
              "        console.error('Error during call to suggestCharts:', error);\n",
              "      }\n",
              "      quickchartButtonEl.classList.remove('colab-df-spinner');\n",
              "      quickchartButtonEl.classList.add('colab-df-quickchart-complete');\n",
              "    }\n",
              "    (() => {\n",
              "      let quickchartButtonEl =\n",
              "        document.querySelector('#df-8d9b51d8-0fe7-4c73-81a0-3affb48ed137 button');\n",
              "      quickchartButtonEl.style.display =\n",
              "        google.colab.kernel.accessAllowed ? 'block' : 'none';\n",
              "    })();\n",
              "  </script>\n",
              "</div>\n",
              "\n",
              "    </div>\n",
              "  </div>\n"
            ],
            "application/vnd.google.colaboratory.intrinsic+json": {
              "type": "dataframe",
              "summary": "{\n  \"name\": \"df\",\n  \"rows\": 5,\n  \"fields\": [\n    {\n      \"column\": \"work_year\",\n      \"properties\": {\n        \"dtype\": \"number\",\n        \"std\": 0,\n        \"min\": 2020,\n        \"max\": 2021,\n        \"samples\": [\n          2021,\n          2020\n        ],\n        \"num_unique_values\": 2,\n        \"semantic_type\": \"\",\n        \"description\": \"\"\n      }\n    },\n    {\n      \"column\": \"experience_level\",\n      \"properties\": {\n        \"dtype\": \"string\",\n        \"samples\": [\n          \"SE\",\n          \"MI\"\n        ],\n        \"num_unique_values\": 3,\n        \"semantic_type\": \"\",\n        \"description\": \"\"\n      }\n    },\n    {\n      \"column\": \"employment_type\",\n      \"properties\": {\n        \"dtype\": \"category\",\n        \"samples\": [\n          \"CT\",\n          \"FT\"\n        ],\n        \"num_unique_values\": 2,\n        \"semantic_type\": \"\",\n        \"description\": \"\"\n      }\n    },\n    {\n      \"column\": \"job_title\",\n      \"properties\": {\n        \"dtype\": \"string\",\n        \"samples\": [\n          \"Principal Data Scientist\",\n          \"Data Science Manager\"\n        ],\n        \"num_unique_values\": 4,\n        \"semantic_type\": \"\",\n        \"description\": \"\"\n      }\n    },\n    {\n      \"column\": \"salary\",\n      \"properties\": {\n        \"dtype\": \"number\",\n        \"std\": 3047343,\n        \"min\": 100000,\n        \"max\": 7000000,\n        \"samples\": [\n          151000,\n          7000000\n        ],\n        \"num_unique_values\": 5,\n        \"semantic_type\": \"\",\n        \"description\": \"\"\n      }\n    },\n    {\n      \"column\": \"salary_currency\",\n      \"properties\": {\n        \"dtype\": \"category\",\n        \"samples\": [\n          \"INR\",\n          \"USD\"\n        ],\n        \"num_unique_values\": 2,\n        \"semantic_type\": \"\",\n        \"description\": \"\"\n      }\n    },\n    {\n      \"column\": \"salary_in_usd\",\n      \"properties\": {\n        \"dtype\": \"number\",\n        \"std\": 135732,\n        \"min\": 94665,\n        \"max\": 412000,\n        \"samples\": [\n          151000,\n          94665\n        ],\n        \"num_unique_values\": 5,\n        \"semantic_type\": \"\",\n        \"description\": \"\"\n      }\n    },\n    {\n      \"column\": \"employee_residence\",\n      \"properties\": {\n        \"dtype\": \"category\",\n        \"samples\": [\n          \"IN\",\n          \"US\"\n        ],\n        \"num_unique_values\": 2,\n        \"semantic_type\": \"\",\n        \"description\": \"\"\n      }\n    },\n    {\n      \"column\": \"remote_ratio\",\n      \"properties\": {\n        \"dtype\": \"number\",\n        \"std\": 22,\n        \"min\": 50,\n        \"max\": 100,\n        \"samples\": [\n          50,\n          100\n        ],\n        \"num_unique_values\": 2,\n        \"semantic_type\": \"\",\n        \"description\": \"\"\n      }\n    },\n    {\n      \"column\": \"company_location\",\n      \"properties\": {\n        \"dtype\": \"category\",\n        \"samples\": [\n          \"IN\",\n          \"US\"\n        ],\n        \"num_unique_values\": 2,\n        \"semantic_type\": \"\",\n        \"description\": \"\"\n      }\n    },\n    {\n      \"column\": \"company_size\",\n      \"properties\": {\n        \"dtype\": \"category\",\n        \"samples\": [\n          \"S\",\n          \"L\"\n        ],\n        \"num_unique_values\": 2,\n        \"semantic_type\": \"\",\n        \"description\": \"\"\n      }\n    }\n  ]\n}"
            }
          },
          "metadata": {},
          "execution_count": 6
        }
      ]
    },
    {
      "cell_type": "code",
      "source": [
        "df.info()"
      ],
      "metadata": {
        "id": "GLVRivn5eTGE",
        "colab": {
          "base_uri": "https://localhost:8080/"
        },
        "outputId": "a6b0a8bd-2916-458b-a261-7adda60b3d57"
      },
      "execution_count": 7,
      "outputs": [
        {
          "output_type": "stream",
          "name": "stdout",
          "text": [
            "<class 'pandas.core.frame.DataFrame'>\n",
            "RangeIndex: 3755 entries, 0 to 3754\n",
            "Data columns (total 11 columns):\n",
            " #   Column              Non-Null Count  Dtype \n",
            "---  ------              --------------  ----- \n",
            " 0   work_year           3755 non-null   int64 \n",
            " 1   experience_level    3755 non-null   object\n",
            " 2   employment_type     3755 non-null   object\n",
            " 3   job_title           3755 non-null   object\n",
            " 4   salary              3755 non-null   int64 \n",
            " 5   salary_currency     3755 non-null   object\n",
            " 6   salary_in_usd       3755 non-null   int64 \n",
            " 7   employee_residence  3755 non-null   object\n",
            " 8   remote_ratio        3755 non-null   int64 \n",
            " 9   company_location    3755 non-null   object\n",
            " 10  company_size        3755 non-null   object\n",
            "dtypes: int64(4), object(7)\n",
            "memory usage: 322.8+ KB\n"
          ]
        }
      ]
    },
    {
      "cell_type": "code",
      "source": [
        "df.shape"
      ],
      "metadata": {
        "id": "DQnsp5cgeU6J",
        "colab": {
          "base_uri": "https://localhost:8080/"
        },
        "outputId": "dcf55238-86dc-49a7-de9f-f50222be2fcb"
      },
      "execution_count": 8,
      "outputs": [
        {
          "output_type": "execute_result",
          "data": {
            "text/plain": [
              "(3755, 11)"
            ]
          },
          "metadata": {},
          "execution_count": 8
        }
      ]
    },
    {
      "cell_type": "code",
      "source": [
        "df.columns"
      ],
      "metadata": {
        "id": "xxAA5ISleW4J",
        "colab": {
          "base_uri": "https://localhost:8080/"
        },
        "outputId": "20f1b0ab-88f0-4043-e557-164d377f9a8f"
      },
      "execution_count": 9,
      "outputs": [
        {
          "output_type": "execute_result",
          "data": {
            "text/plain": [
              "Index(['work_year', 'experience_level', 'employment_type', 'job_title',\n",
              "       'salary', 'salary_currency', 'salary_in_usd', 'employee_residence',\n",
              "       'remote_ratio', 'company_location', 'company_size'],\n",
              "      dtype='object')"
            ]
          },
          "metadata": {},
          "execution_count": 9
        }
      ]
    },
    {
      "cell_type": "markdown",
      "source": [],
      "metadata": {
        "id": "VS1p4aiYeeAt"
      }
    },
    {
      "cell_type": "markdown",
      "metadata": {
        "id": "ZiSKFycMYjGZ"
      },
      "source": [
        "## 1.2 Exploratory data analysis"
      ]
    },
    {
      "cell_type": "markdown",
      "source": [
        "### Check for missing Values\n",
        "\n",
        " Missing data can affect your analysis and models. Determine if any columns have missing values and decide how to handle them."
      ],
      "metadata": {
        "id": "5IJdch6he9IT"
      }
    },
    {
      "cell_type": "code",
      "source": [
        "df.isnull().sum() # Count of missing values in each column\n"
      ],
      "metadata": {
        "id": "c8KLsL1OfLbB",
        "colab": {
          "base_uri": "https://localhost:8080/"
        },
        "outputId": "f5fc4654-d5ee-46c5-e8ec-1d1a1b6a70b1"
      },
      "execution_count": 10,
      "outputs": [
        {
          "output_type": "execute_result",
          "data": {
            "text/plain": [
              "work_year             0\n",
              "experience_level      0\n",
              "employment_type       0\n",
              "job_title             0\n",
              "salary                0\n",
              "salary_currency       0\n",
              "salary_in_usd         0\n",
              "employee_residence    0\n",
              "remote_ratio          0\n",
              "company_location      0\n",
              "company_size          0\n",
              "dtype: int64"
            ]
          },
          "metadata": {},
          "execution_count": 10
        }
      ]
    },
    {
      "cell_type": "markdown",
      "source": [
        "### Explore descriptive statistics"
      ],
      "metadata": {
        "id": "ZM89hqPIfR6e"
      }
    },
    {
      "cell_type": "code",
      "source": [
        "df.describe() # Summary statistics for numerical columns\n"
      ],
      "metadata": {
        "id": "znf0BOUafUoE",
        "colab": {
          "base_uri": "https://localhost:8080/",
          "height": 300
        },
        "outputId": "7b3b3c54-17ad-461f-a3f0-48e390c05652"
      },
      "execution_count": 11,
      "outputs": [
        {
          "output_type": "execute_result",
          "data": {
            "text/plain": [
              "         work_year        salary  salary_in_usd  remote_ratio\n",
              "count  3755.000000  3.755000e+03    3755.000000   3755.000000\n",
              "mean   2022.373635  1.906956e+05  137570.389880     46.271638\n",
              "std       0.691448  6.716765e+05   63055.625278     48.589050\n",
              "min    2020.000000  6.000000e+03    5132.000000      0.000000\n",
              "25%    2022.000000  1.000000e+05   95000.000000      0.000000\n",
              "50%    2022.000000  1.380000e+05  135000.000000      0.000000\n",
              "75%    2023.000000  1.800000e+05  175000.000000    100.000000\n",
              "max    2023.000000  3.040000e+07  450000.000000    100.000000"
            ],
            "text/html": [
              "\n",
              "  <div id=\"df-684c73c8-63f5-48d6-b359-660f3892d282\" class=\"colab-df-container\">\n",
              "    <div>\n",
              "<style scoped>\n",
              "    .dataframe tbody tr th:only-of-type {\n",
              "        vertical-align: middle;\n",
              "    }\n",
              "\n",
              "    .dataframe tbody tr th {\n",
              "        vertical-align: top;\n",
              "    }\n",
              "\n",
              "    .dataframe thead th {\n",
              "        text-align: right;\n",
              "    }\n",
              "</style>\n",
              "<table border=\"1\" class=\"dataframe\">\n",
              "  <thead>\n",
              "    <tr style=\"text-align: right;\">\n",
              "      <th></th>\n",
              "      <th>work_year</th>\n",
              "      <th>salary</th>\n",
              "      <th>salary_in_usd</th>\n",
              "      <th>remote_ratio</th>\n",
              "    </tr>\n",
              "  </thead>\n",
              "  <tbody>\n",
              "    <tr>\n",
              "      <th>count</th>\n",
              "      <td>3755.000000</td>\n",
              "      <td>3.755000e+03</td>\n",
              "      <td>3755.000000</td>\n",
              "      <td>3755.000000</td>\n",
              "    </tr>\n",
              "    <tr>\n",
              "      <th>mean</th>\n",
              "      <td>2022.373635</td>\n",
              "      <td>1.906956e+05</td>\n",
              "      <td>137570.389880</td>\n",
              "      <td>46.271638</td>\n",
              "    </tr>\n",
              "    <tr>\n",
              "      <th>std</th>\n",
              "      <td>0.691448</td>\n",
              "      <td>6.716765e+05</td>\n",
              "      <td>63055.625278</td>\n",
              "      <td>48.589050</td>\n",
              "    </tr>\n",
              "    <tr>\n",
              "      <th>min</th>\n",
              "      <td>2020.000000</td>\n",
              "      <td>6.000000e+03</td>\n",
              "      <td>5132.000000</td>\n",
              "      <td>0.000000</td>\n",
              "    </tr>\n",
              "    <tr>\n",
              "      <th>25%</th>\n",
              "      <td>2022.000000</td>\n",
              "      <td>1.000000e+05</td>\n",
              "      <td>95000.000000</td>\n",
              "      <td>0.000000</td>\n",
              "    </tr>\n",
              "    <tr>\n",
              "      <th>50%</th>\n",
              "      <td>2022.000000</td>\n",
              "      <td>1.380000e+05</td>\n",
              "      <td>135000.000000</td>\n",
              "      <td>0.000000</td>\n",
              "    </tr>\n",
              "    <tr>\n",
              "      <th>75%</th>\n",
              "      <td>2023.000000</td>\n",
              "      <td>1.800000e+05</td>\n",
              "      <td>175000.000000</td>\n",
              "      <td>100.000000</td>\n",
              "    </tr>\n",
              "    <tr>\n",
              "      <th>max</th>\n",
              "      <td>2023.000000</td>\n",
              "      <td>3.040000e+07</td>\n",
              "      <td>450000.000000</td>\n",
              "      <td>100.000000</td>\n",
              "    </tr>\n",
              "  </tbody>\n",
              "</table>\n",
              "</div>\n",
              "    <div class=\"colab-df-buttons\">\n",
              "\n",
              "  <div class=\"colab-df-container\">\n",
              "    <button class=\"colab-df-convert\" onclick=\"convertToInteractive('df-684c73c8-63f5-48d6-b359-660f3892d282')\"\n",
              "            title=\"Convert this dataframe to an interactive table.\"\n",
              "            style=\"display:none;\">\n",
              "\n",
              "  <svg xmlns=\"http://www.w3.org/2000/svg\" height=\"24px\" viewBox=\"0 -960 960 960\">\n",
              "    <path d=\"M120-120v-720h720v720H120Zm60-500h600v-160H180v160Zm220 220h160v-160H400v160Zm0 220h160v-160H400v160ZM180-400h160v-160H180v160Zm440 0h160v-160H620v160ZM180-180h160v-160H180v160Zm440 0h160v-160H620v160Z\"/>\n",
              "  </svg>\n",
              "    </button>\n",
              "\n",
              "  <style>\n",
              "    .colab-df-container {\n",
              "      display:flex;\n",
              "      gap: 12px;\n",
              "    }\n",
              "\n",
              "    .colab-df-convert {\n",
              "      background-color: #E8F0FE;\n",
              "      border: none;\n",
              "      border-radius: 50%;\n",
              "      cursor: pointer;\n",
              "      display: none;\n",
              "      fill: #1967D2;\n",
              "      height: 32px;\n",
              "      padding: 0 0 0 0;\n",
              "      width: 32px;\n",
              "    }\n",
              "\n",
              "    .colab-df-convert:hover {\n",
              "      background-color: #E2EBFA;\n",
              "      box-shadow: 0px 1px 2px rgba(60, 64, 67, 0.3), 0px 1px 3px 1px rgba(60, 64, 67, 0.15);\n",
              "      fill: #174EA6;\n",
              "    }\n",
              "\n",
              "    .colab-df-buttons div {\n",
              "      margin-bottom: 4px;\n",
              "    }\n",
              "\n",
              "    [theme=dark] .colab-df-convert {\n",
              "      background-color: #3B4455;\n",
              "      fill: #D2E3FC;\n",
              "    }\n",
              "\n",
              "    [theme=dark] .colab-df-convert:hover {\n",
              "      background-color: #434B5C;\n",
              "      box-shadow: 0px 1px 3px 1px rgba(0, 0, 0, 0.15);\n",
              "      filter: drop-shadow(0px 1px 2px rgba(0, 0, 0, 0.3));\n",
              "      fill: #FFFFFF;\n",
              "    }\n",
              "  </style>\n",
              "\n",
              "    <script>\n",
              "      const buttonEl =\n",
              "        document.querySelector('#df-684c73c8-63f5-48d6-b359-660f3892d282 button.colab-df-convert');\n",
              "      buttonEl.style.display =\n",
              "        google.colab.kernel.accessAllowed ? 'block' : 'none';\n",
              "\n",
              "      async function convertToInteractive(key) {\n",
              "        const element = document.querySelector('#df-684c73c8-63f5-48d6-b359-660f3892d282');\n",
              "        const dataTable =\n",
              "          await google.colab.kernel.invokeFunction('convertToInteractive',\n",
              "                                                    [key], {});\n",
              "        if (!dataTable) return;\n",
              "\n",
              "        const docLinkHtml = 'Like what you see? Visit the ' +\n",
              "          '<a target=\"_blank\" href=https://colab.research.google.com/notebooks/data_table.ipynb>data table notebook</a>'\n",
              "          + ' to learn more about interactive tables.';\n",
              "        element.innerHTML = '';\n",
              "        dataTable['output_type'] = 'display_data';\n",
              "        await google.colab.output.renderOutput(dataTable, element);\n",
              "        const docLink = document.createElement('div');\n",
              "        docLink.innerHTML = docLinkHtml;\n",
              "        element.appendChild(docLink);\n",
              "      }\n",
              "    </script>\n",
              "  </div>\n",
              "\n",
              "\n",
              "<div id=\"df-5ab8eab4-320b-403b-80a2-6100d6f6b77e\">\n",
              "  <button class=\"colab-df-quickchart\" onclick=\"quickchart('df-5ab8eab4-320b-403b-80a2-6100d6f6b77e')\"\n",
              "            title=\"Suggest charts\"\n",
              "            style=\"display:none;\">\n",
              "\n",
              "<svg xmlns=\"http://www.w3.org/2000/svg\" height=\"24px\"viewBox=\"0 0 24 24\"\n",
              "     width=\"24px\">\n",
              "    <g>\n",
              "        <path d=\"M19 3H5c-1.1 0-2 .9-2 2v14c0 1.1.9 2 2 2h14c1.1 0 2-.9 2-2V5c0-1.1-.9-2-2-2zM9 17H7v-7h2v7zm4 0h-2V7h2v10zm4 0h-2v-4h2v4z\"/>\n",
              "    </g>\n",
              "</svg>\n",
              "  </button>\n",
              "\n",
              "<style>\n",
              "  .colab-df-quickchart {\n",
              "      --bg-color: #E8F0FE;\n",
              "      --fill-color: #1967D2;\n",
              "      --hover-bg-color: #E2EBFA;\n",
              "      --hover-fill-color: #174EA6;\n",
              "      --disabled-fill-color: #AAA;\n",
              "      --disabled-bg-color: #DDD;\n",
              "  }\n",
              "\n",
              "  [theme=dark] .colab-df-quickchart {\n",
              "      --bg-color: #3B4455;\n",
              "      --fill-color: #D2E3FC;\n",
              "      --hover-bg-color: #434B5C;\n",
              "      --hover-fill-color: #FFFFFF;\n",
              "      --disabled-bg-color: #3B4455;\n",
              "      --disabled-fill-color: #666;\n",
              "  }\n",
              "\n",
              "  .colab-df-quickchart {\n",
              "    background-color: var(--bg-color);\n",
              "    border: none;\n",
              "    border-radius: 50%;\n",
              "    cursor: pointer;\n",
              "    display: none;\n",
              "    fill: var(--fill-color);\n",
              "    height: 32px;\n",
              "    padding: 0;\n",
              "    width: 32px;\n",
              "  }\n",
              "\n",
              "  .colab-df-quickchart:hover {\n",
              "    background-color: var(--hover-bg-color);\n",
              "    box-shadow: 0 1px 2px rgba(60, 64, 67, 0.3), 0 1px 3px 1px rgba(60, 64, 67, 0.15);\n",
              "    fill: var(--button-hover-fill-color);\n",
              "  }\n",
              "\n",
              "  .colab-df-quickchart-complete:disabled,\n",
              "  .colab-df-quickchart-complete:disabled:hover {\n",
              "    background-color: var(--disabled-bg-color);\n",
              "    fill: var(--disabled-fill-color);\n",
              "    box-shadow: none;\n",
              "  }\n",
              "\n",
              "  .colab-df-spinner {\n",
              "    border: 2px solid var(--fill-color);\n",
              "    border-color: transparent;\n",
              "    border-bottom-color: var(--fill-color);\n",
              "    animation:\n",
              "      spin 1s steps(1) infinite;\n",
              "  }\n",
              "\n",
              "  @keyframes spin {\n",
              "    0% {\n",
              "      border-color: transparent;\n",
              "      border-bottom-color: var(--fill-color);\n",
              "      border-left-color: var(--fill-color);\n",
              "    }\n",
              "    20% {\n",
              "      border-color: transparent;\n",
              "      border-left-color: var(--fill-color);\n",
              "      border-top-color: var(--fill-color);\n",
              "    }\n",
              "    30% {\n",
              "      border-color: transparent;\n",
              "      border-left-color: var(--fill-color);\n",
              "      border-top-color: var(--fill-color);\n",
              "      border-right-color: var(--fill-color);\n",
              "    }\n",
              "    40% {\n",
              "      border-color: transparent;\n",
              "      border-right-color: var(--fill-color);\n",
              "      border-top-color: var(--fill-color);\n",
              "    }\n",
              "    60% {\n",
              "      border-color: transparent;\n",
              "      border-right-color: var(--fill-color);\n",
              "    }\n",
              "    80% {\n",
              "      border-color: transparent;\n",
              "      border-right-color: var(--fill-color);\n",
              "      border-bottom-color: var(--fill-color);\n",
              "    }\n",
              "    90% {\n",
              "      border-color: transparent;\n",
              "      border-bottom-color: var(--fill-color);\n",
              "    }\n",
              "  }\n",
              "</style>\n",
              "\n",
              "  <script>\n",
              "    async function quickchart(key) {\n",
              "      const quickchartButtonEl =\n",
              "        document.querySelector('#' + key + ' button');\n",
              "      quickchartButtonEl.disabled = true;  // To prevent multiple clicks.\n",
              "      quickchartButtonEl.classList.add('colab-df-spinner');\n",
              "      try {\n",
              "        const charts = await google.colab.kernel.invokeFunction(\n",
              "            'suggestCharts', [key], {});\n",
              "      } catch (error) {\n",
              "        console.error('Error during call to suggestCharts:', error);\n",
              "      }\n",
              "      quickchartButtonEl.classList.remove('colab-df-spinner');\n",
              "      quickchartButtonEl.classList.add('colab-df-quickchart-complete');\n",
              "    }\n",
              "    (() => {\n",
              "      let quickchartButtonEl =\n",
              "        document.querySelector('#df-5ab8eab4-320b-403b-80a2-6100d6f6b77e button');\n",
              "      quickchartButtonEl.style.display =\n",
              "        google.colab.kernel.accessAllowed ? 'block' : 'none';\n",
              "    })();\n",
              "  </script>\n",
              "</div>\n",
              "\n",
              "    </div>\n",
              "  </div>\n"
            ],
            "application/vnd.google.colaboratory.intrinsic+json": {
              "type": "dataframe",
              "summary": "{\n  \"name\": \"df\",\n  \"rows\": 8,\n  \"fields\": [\n    {\n      \"column\": \"work_year\",\n      \"properties\": {\n        \"dtype\": \"number\",\n        \"std\": 1005.6000402402909,\n        \"min\": 0.6914482342671989,\n        \"max\": 3755.0,\n        \"samples\": [\n          3755.0,\n          2022.3736351531293,\n          2023.0\n        ],\n        \"num_unique_values\": 6,\n        \"semantic_type\": \"\",\n        \"description\": \"\"\n      }\n    },\n    {\n      \"column\": \"salary\",\n      \"properties\": {\n        \"dtype\": \"number\",\n        \"std\": 10684942.602896208,\n        \"min\": 3755.0,\n        \"max\": 30400000.0,\n        \"samples\": [\n          190695.57177097205,\n          138000.0,\n          3755.0\n        ],\n        \"num_unique_values\": 8,\n        \"semantic_type\": \"\",\n        \"description\": \"\"\n      }\n    },\n    {\n      \"column\": \"salary_in_usd\",\n      \"properties\": {\n        \"dtype\": \"number\",\n        \"std\": 142261.61341988808,\n        \"min\": 3755.0,\n        \"max\": 450000.0,\n        \"samples\": [\n          137570.38988015978,\n          135000.0,\n          3755.0\n        ],\n        \"num_unique_values\": 8,\n        \"semantic_type\": \"\",\n        \"description\": \"\"\n      }\n    },\n    {\n      \"column\": \"remote_ratio\",\n      \"properties\": {\n        \"dtype\": \"number\",\n        \"std\": 1313.3575027917377,\n        \"min\": 0.0,\n        \"max\": 3755.0,\n        \"samples\": [\n          46.271637816245004,\n          100.0,\n          48.589050470587566\n        ],\n        \"num_unique_values\": 5,\n        \"semantic_type\": \"\",\n        \"description\": \"\"\n      }\n    }\n  ]\n}"
            }
          },
          "metadata": {},
          "execution_count": 11
        }
      ]
    },
    {
      "cell_type": "markdown",
      "source": [
        "\n",
        "```\n",
        "# This is formatted as code\n",
        "```\n",
        "\n",
        "### Data Types"
      ],
      "metadata": {
        "id": "DrztxVnHyjhU"
      }
    },
    {
      "cell_type": "markdown",
      "source": [
        "Check Unique Values for df column to know whether column type is correct or not"
      ],
      "metadata": {
        "id": "N3wfosAo1Jd0"
      }
    },
    {
      "cell_type": "code",
      "source": [
        "for i in df.columns:\n",
        "    x = df[i].value_counts()\n",
        "    print(\"Column name \",i,\" has different values of:\",len(x))"
      ],
      "metadata": {
        "colab": {
          "base_uri": "https://localhost:8080/"
        },
        "id": "Y74M6kf0x8H8",
        "outputId": "99faa1dc-acdb-4e03-ccde-5e449ce75036"
      },
      "execution_count": 12,
      "outputs": [
        {
          "output_type": "stream",
          "name": "stdout",
          "text": [
            "Column name  work_year  has different values of: 4\n",
            "Column name  experience_level  has different values of: 4\n",
            "Column name  employment_type  has different values of: 4\n",
            "Column name  job_title  has different values of: 93\n",
            "Column name  salary  has different values of: 815\n",
            "Column name  salary_currency  has different values of: 20\n",
            "Column name  salary_in_usd  has different values of: 1035\n",
            "Column name  employee_residence  has different values of: 78\n",
            "Column name  remote_ratio  has different values of: 3\n",
            "Column name  company_location  has different values of: 72\n",
            "Column name  company_size  has different values of: 3\n"
          ]
        }
      ]
    },
    {
      "cell_type": "code",
      "source": [
        "#check the experience_level column values if there is entering error\n",
        "df['experience_level'].unique()"
      ],
      "metadata": {
        "colab": {
          "base_uri": "https://localhost:8080/"
        },
        "id": "IsiWx8ZYsqRJ",
        "outputId": "dd9bcd50-04fd-4553-9b74-090ff25dc16c"
      },
      "execution_count": 13,
      "outputs": [
        {
          "output_type": "execute_result",
          "data": {
            "text/plain": [
              "array(['SE', 'MI', 'EN', 'EX'], dtype=object)"
            ]
          },
          "metadata": {},
          "execution_count": 13
        }
      ]
    },
    {
      "cell_type": "code",
      "source": [
        "#check the employment_type column values if there is entering error\n",
        "df['employment_type'].unique()"
      ],
      "metadata": {
        "colab": {
          "base_uri": "https://localhost:8080/"
        },
        "id": "4oTS7TPws8GA",
        "outputId": "e8101d0d-fe46-42bd-b400-3ace70d8a965"
      },
      "execution_count": 14,
      "outputs": [
        {
          "output_type": "execute_result",
          "data": {
            "text/plain": [
              "array(['FT', 'CT', 'FL', 'PT'], dtype=object)"
            ]
          },
          "metadata": {},
          "execution_count": 14
        }
      ]
    },
    {
      "cell_type": "code",
      "source": [
        "#check the job_title column values if there is entering error\n",
        "df['job_title'].unique()"
      ],
      "metadata": {
        "colab": {
          "base_uri": "https://localhost:8080/"
        },
        "id": "MwCi_v18tjV5",
        "outputId": "35312344-2836-4233-df74-10d80b0a6422"
      },
      "execution_count": 15,
      "outputs": [
        {
          "output_type": "execute_result",
          "data": {
            "text/plain": [
              "array(['Principal Data Scientist', 'ML Engineer', 'Data Scientist',\n",
              "       'Applied Scientist', 'Data Analyst', 'Data Modeler',\n",
              "       'Research Engineer', 'Analytics Engineer',\n",
              "       'Business Intelligence Engineer', 'Machine Learning Engineer',\n",
              "       'Data Strategist', 'Data Engineer', 'Computer Vision Engineer',\n",
              "       'Data Quality Analyst', 'Compliance Data Analyst',\n",
              "       'Data Architect', 'Applied Machine Learning Engineer',\n",
              "       'AI Developer', 'Research Scientist', 'Data Analytics Manager',\n",
              "       'Business Data Analyst', 'Applied Data Scientist',\n",
              "       'Staff Data Analyst', 'ETL Engineer', 'Data DevOps Engineer',\n",
              "       'Head of Data', 'Data Science Manager', 'Data Manager',\n",
              "       'Machine Learning Researcher', 'Big Data Engineer',\n",
              "       'Data Specialist', 'Lead Data Analyst', 'BI Data Engineer',\n",
              "       'Director of Data Science', 'Machine Learning Scientist',\n",
              "       'MLOps Engineer', 'AI Scientist', 'Autonomous Vehicle Technician',\n",
              "       'Applied Machine Learning Scientist', 'Lead Data Scientist',\n",
              "       'Cloud Database Engineer', 'Financial Data Analyst',\n",
              "       'Data Infrastructure Engineer', 'Software Data Engineer',\n",
              "       'AI Programmer', 'Data Operations Engineer', 'BI Developer',\n",
              "       'Data Science Lead', 'Deep Learning Researcher', 'BI Analyst',\n",
              "       'Data Science Consultant', 'Data Analytics Specialist',\n",
              "       'Machine Learning Infrastructure Engineer', 'BI Data Analyst',\n",
              "       'Head of Data Science', 'Insight Analyst',\n",
              "       'Deep Learning Engineer', 'Machine Learning Software Engineer',\n",
              "       'Big Data Architect', 'Product Data Analyst',\n",
              "       'Computer Vision Software Engineer', 'Azure Data Engineer',\n",
              "       'Marketing Data Engineer', 'Data Analytics Lead', 'Data Lead',\n",
              "       'Data Science Engineer', 'Machine Learning Research Engineer',\n",
              "       'NLP Engineer', 'Manager Data Management',\n",
              "       'Machine Learning Developer', '3D Computer Vision Researcher',\n",
              "       'Principal Machine Learning Engineer', 'Data Analytics Engineer',\n",
              "       'Data Analytics Consultant', 'Data Management Specialist',\n",
              "       'Data Science Tech Lead', 'Data Scientist Lead',\n",
              "       'Cloud Data Engineer', 'Data Operations Analyst',\n",
              "       'Marketing Data Analyst', 'Power BI Developer',\n",
              "       'Product Data Scientist', 'Principal Data Architect',\n",
              "       'Machine Learning Manager', 'Lead Machine Learning Engineer',\n",
              "       'ETL Developer', 'Cloud Data Architect', 'Lead Data Engineer',\n",
              "       'Head of Machine Learning', 'Principal Data Analyst',\n",
              "       'Principal Data Engineer', 'Staff Data Scientist',\n",
              "       'Finance Data Analyst'], dtype=object)"
            ]
          },
          "metadata": {},
          "execution_count": 15
        }
      ]
    },
    {
      "cell_type": "code",
      "source": [
        "#check the salary_currency column values if there is entering error\n",
        "df['salary_currency'].unique()\n"
      ],
      "metadata": {
        "colab": {
          "base_uri": "https://localhost:8080/"
        },
        "id": "AbAWJD--y_2d",
        "outputId": "c9f3fa48-093c-43d6-f112-71e3ec88989c"
      },
      "execution_count": 16,
      "outputs": [
        {
          "output_type": "execute_result",
          "data": {
            "text/plain": [
              "array(['EUR', 'USD', 'INR', 'HKD', 'CHF', 'GBP', 'AUD', 'SGD', 'CAD',\n",
              "       'ILS', 'BRL', 'THB', 'PLN', 'HUF', 'CZK', 'DKK', 'JPY', 'MXN',\n",
              "       'TRY', 'CLP'], dtype=object)"
            ]
          },
          "metadata": {},
          "execution_count": 16
        }
      ]
    },
    {
      "cell_type": "code",
      "source": [
        "#check the employee_residence column values if there is entering error\n",
        "df['employee_residence'].unique()"
      ],
      "metadata": {
        "colab": {
          "base_uri": "https://localhost:8080/"
        },
        "id": "CboU6VSTzWTo",
        "outputId": "889158f2-0e5b-4918-9736-9c6458c5c258"
      },
      "execution_count": 17,
      "outputs": [
        {
          "output_type": "execute_result",
          "data": {
            "text/plain": [
              "array(['ES', 'US', 'CA', 'DE', 'GB', 'NG', 'IN', 'HK', 'PT', 'NL', 'CH',\n",
              "       'CF', 'FR', 'AU', 'FI', 'UA', 'IE', 'IL', 'GH', 'AT', 'CO', 'SG',\n",
              "       'SE', 'SI', 'MX', 'UZ', 'BR', 'TH', 'HR', 'PL', 'KW', 'VN', 'CY',\n",
              "       'AR', 'AM', 'BA', 'KE', 'GR', 'MK', 'LV', 'RO', 'PK', 'IT', 'MA',\n",
              "       'LT', 'BE', 'AS', 'IR', 'HU', 'SK', 'CN', 'CZ', 'CR', 'TR', 'CL',\n",
              "       'PR', 'DK', 'BO', 'PH', 'DO', 'EG', 'ID', 'AE', 'MY', 'JP', 'EE',\n",
              "       'HN', 'TN', 'RU', 'DZ', 'IQ', 'BG', 'JE', 'RS', 'NZ', 'MD', 'LU',\n",
              "       'MT'], dtype=object)"
            ]
          },
          "metadata": {},
          "execution_count": 17
        }
      ]
    },
    {
      "cell_type": "code",
      "source": [
        "#check the company_location column values if there is entering error\n",
        "df['company_location'].unique()"
      ],
      "metadata": {
        "colab": {
          "base_uri": "https://localhost:8080/"
        },
        "id": "lz6v4ZODz6j7",
        "outputId": "85e0cbea-4e57-453b-dabe-509b1a1ba373"
      },
      "execution_count": 18,
      "outputs": [
        {
          "output_type": "execute_result",
          "data": {
            "text/plain": [
              "array(['ES', 'US', 'CA', 'DE', 'GB', 'NG', 'IN', 'HK', 'NL', 'CH', 'CF',\n",
              "       'FR', 'FI', 'UA', 'IE', 'IL', 'GH', 'CO', 'SG', 'AU', 'SE', 'SI',\n",
              "       'MX', 'BR', 'PT', 'RU', 'TH', 'HR', 'VN', 'EE', 'AM', 'BA', 'KE',\n",
              "       'GR', 'MK', 'LV', 'RO', 'PK', 'IT', 'MA', 'PL', 'AL', 'AR', 'LT',\n",
              "       'AS', 'CR', 'IR', 'BS', 'HU', 'AT', 'SK', 'CZ', 'TR', 'PR', 'DK',\n",
              "       'BO', 'PH', 'BE', 'ID', 'EG', 'AE', 'LU', 'MY', 'HN', 'JP', 'DZ',\n",
              "       'IQ', 'CN', 'NZ', 'CL', 'MD', 'MT'], dtype=object)"
            ]
          },
          "metadata": {},
          "execution_count": 18
        }
      ]
    },
    {
      "cell_type": "code",
      "source": [
        "#check the company_location column values if there is entering error\n",
        "df['company_size'].unique()"
      ],
      "metadata": {
        "colab": {
          "base_uri": "https://localhost:8080/"
        },
        "id": "-Z3eSIvb0Od-",
        "outputId": "01252a96-9c4a-4d26-a5c3-5d8bee095528"
      },
      "execution_count": 19,
      "outputs": [
        {
          "output_type": "execute_result",
          "data": {
            "text/plain": [
              "array(['L', 'S', 'M'], dtype=object)"
            ]
          },
          "metadata": {},
          "execution_count": 19
        }
      ]
    },
    {
      "cell_type": "markdown",
      "source": [
        "According to the unqiue values per each column the following columns should be change to\n",
        "1. **categorical columns:**   experience_level,employment_type, job_title, salary_currency, employee_residence, company_location,company_size\n",
        "\n",
        "2. **int:** work_year,salary, salary in used, remote ratio.\n"
      ],
      "metadata": {
        "id": "nZaunyqO1YL5"
      }
    },
    {
      "cell_type": "code",
      "source": [
        "df_cat=df[['experience_level','employment_type', 'job_title', 'salary_currency', 'employee_residence', 'company_location','company_size']]\n",
        "\n",
        "for i in df_cat.columns:\n",
        "    x = df_cat[i].value_counts()\n",
        "    print(\"Column name is:\",i,\"and its value counts are:\")\n",
        "    print(x)\n",
        "    print()"
      ],
      "metadata": {
        "colab": {
          "base_uri": "https://localhost:8080/"
        },
        "id": "cYRytnds0566",
        "outputId": "55f8baba-b48e-4870-9707-90147ca313de"
      },
      "execution_count": 20,
      "outputs": [
        {
          "output_type": "stream",
          "name": "stdout",
          "text": [
            "Column name is: experience_level and its value counts are:\n",
            "SE    2516\n",
            "MI     805\n",
            "EN     320\n",
            "EX     114\n",
            "Name: experience_level, dtype: int64\n",
            "\n",
            "Column name is: employment_type and its value counts are:\n",
            "FT    3718\n",
            "PT      17\n",
            "CT      10\n",
            "FL      10\n",
            "Name: employment_type, dtype: int64\n",
            "\n",
            "Column name is: job_title and its value counts are:\n",
            "Data Engineer                          1040\n",
            "Data Scientist                          840\n",
            "Data Analyst                            612\n",
            "Machine Learning Engineer               289\n",
            "Analytics Engineer                      103\n",
            "                                       ... \n",
            "Principal Machine Learning Engineer       1\n",
            "Azure Data Engineer                       1\n",
            "Manager Data Management                   1\n",
            "Marketing Data Engineer                   1\n",
            "Finance Data Analyst                      1\n",
            "Name: job_title, Length: 93, dtype: int64\n",
            "\n",
            "Column name is: salary_currency and its value counts are:\n",
            "USD    3224\n",
            "EUR     236\n",
            "GBP     161\n",
            "INR      60\n",
            "CAD      25\n",
            "AUD       9\n",
            "SGD       6\n",
            "BRL       6\n",
            "PLN       5\n",
            "CHF       4\n",
            "HUF       3\n",
            "DKK       3\n",
            "JPY       3\n",
            "TRY       3\n",
            "THB       2\n",
            "ILS       1\n",
            "HKD       1\n",
            "CZK       1\n",
            "MXN       1\n",
            "CLP       1\n",
            "Name: salary_currency, dtype: int64\n",
            "\n",
            "Column name is: employee_residence and its value counts are:\n",
            "US    3004\n",
            "GB     167\n",
            "CA      85\n",
            "ES      80\n",
            "IN      71\n",
            "      ... \n",
            "BA       1\n",
            "AM       1\n",
            "CY       1\n",
            "KW       1\n",
            "MT       1\n",
            "Name: employee_residence, Length: 78, dtype: int64\n",
            "\n",
            "Column name is: company_location and its value counts are:\n",
            "US    3040\n",
            "GB     172\n",
            "CA      87\n",
            "ES      77\n",
            "IN      58\n",
            "      ... \n",
            "MK       1\n",
            "BS       1\n",
            "IR       1\n",
            "CR       1\n",
            "MT       1\n",
            "Name: company_location, Length: 72, dtype: int64\n",
            "\n",
            "Column name is: company_size and its value counts are:\n",
            "M    3153\n",
            "L     454\n",
            "S     148\n",
            "Name: company_size, dtype: int64\n",
            "\n"
          ]
        }
      ]
    },
    {
      "cell_type": "markdown",
      "source": [
        "### Data Visualization"
      ],
      "metadata": {
        "id": "m0FrovnZfbtT"
      }
    },
    {
      "cell_type": "code",
      "source": [
        "import matplotlib.pyplot as plt\n",
        "import seaborn as sns\n",
        "\n",
        "# bar Chart for job title\n",
        "# Assuming 'df' is your DataFrame and 'job_title' is the column of interest\n",
        "# First, calculate the counts of each job title\n",
        "job_title_counts = df['job_title'].value_counts().nlargest(10)\n",
        "\n",
        "# Now, create a bar chart\n",
        "plt.figure(figsize=(12, 8)) # You can adjust the size to fit your needs\n",
        "sns.barplot(x=job_title_counts.values, y=job_title_counts.index)\n",
        "\n",
        "# Add title and labels to the plot\n",
        "plt.title('Top 10 Job Titles')\n",
        "plt.xlabel('Frequency')\n",
        "plt.ylabel('Job Title')\n",
        "\n",
        "# Show the plot\n",
        "plt.show()\n"
      ],
      "metadata": {
        "id": "8TZ9FmEDffrL",
        "colab": {
          "base_uri": "https://localhost:8080/",
          "height": 479
        },
        "outputId": "91a908e9-0288-4a82-c065-90c07241fe53"
      },
      "execution_count": 21,
      "outputs": [
        {
          "output_type": "display_data",
          "data": {
            "text/plain": [
              "<Figure size 1200x800 with 1 Axes>"
            ],
            "image/png": "[encoded data removed]"
          },
          "metadata": {}
        }
      ]
    },
    {
      "cell_type": "code",
      "source": [
        "# Box Plot Chart for Experience Level and salary_in_usd\n",
        "# Assuming 'df' is your DataFrame, 'salary_in_usd' is the numerical salary column,\n",
        "# and 'experience_level' is the categorical employee experience column.\n",
        "plt.figure(figsize=(12, 8))  # Adjust the figure size as needed\n",
        "sns.boxplot(x='experience_level', y='salary_in_usd', data=df)\n",
        "\n",
        "plt.title('Salary Distribution by Employee Experience Level')\n",
        "plt.xlabel('Experience Level')\n",
        "plt.ylabel('Salary in USD')\n",
        "plt.xticks(rotation=45)  # Rotate the x labels if they overlap or are too long\n",
        "plt.show()"
      ],
      "metadata": {
        "colab": {
          "base_uri": "https://localhost:8080/",
          "height": 548
        },
        "id": "U4wqEmWDD-IL",
        "outputId": "e742d1bd-5829-4193-bb7f-5cceb0e3d7ec"
      },
      "execution_count": 22,
      "outputs": [
        {
          "output_type": "display_data",
          "data": {
            "text/plain": [
              "<Figure size 1200x800 with 1 Axes>"
            ],
            "image/png": "[encoded data removed]"
          },
          "metadata": {}
        }
      ]
    },
    {
      "cell_type": "code",
      "source": [
        "# Calculate the correlation matrix\n",
        "corr = df.corr()\n",
        "\n",
        "# Set up the matplotlib figure\n",
        "plt.figure(figsize=(10, 8))\n",
        "\n",
        "# Draw the heatmap\n",
        "sns.heatmap(corr, annot=True, fmt=\".2f\", cmap='coolwarm', square=True)\n",
        "\n",
        "# Add title\n",
        "plt.title('Heatmap of Correlation Between Numerical Features')\n",
        "\n",
        "# Show the plot\n",
        "plt.show()"
      ],
      "metadata": {
        "colab": {
          "base_uri": "https://localhost:8080/",
          "height": 753
        },
        "id": "LMBNnSVYHCma",
        "outputId": "d17ada8f-f40f-4910-fa68-90032bcffb00"
      },
      "execution_count": 23,
      "outputs": [
        {
          "output_type": "stream",
          "name": "stderr",
          "text": [
            "<ipython-input-23-4efddab488d9>:2: FutureWarning: The default value of numeric_only in DataFrame.corr is deprecated. In a future version, it will default to False. Select only valid columns or specify the value of numeric_only to silence this warning.\n",
            "  corr = df.corr()\n"
          ]
        },
        {
          "output_type": "display_data",
          "data": {
            "text/plain": [
              "<Figure size 1000x800 with 2 Axes>"
            ],
            "image/png": "[encoded data removed]"
          },
          "metadata": {}
        }
      ]
    },
    {
      "cell_type": "markdown",
      "source": [
        "## 1.3 Cleaning"
      ],
      "metadata": {
        "id": "aew0aHNCf_4k"
      }
    },
    {
      "cell_type": "markdown",
      "source": [
        "### Handling Missing Values"
      ],
      "metadata": {
        "id": "5GMF3ltFgwvm"
      }
    },
    {
      "cell_type": "markdown",
      "source": [
        "No missing data on this dataset"
      ],
      "metadata": {
        "id": "usMD-3Uw7_ZB"
      }
    },
    {
      "cell_type": "code",
      "source": [
        "# check duplicated rows\n",
        "df.duplicated()\n"
      ],
      "metadata": {
        "id": "pe8JZOfPghj_",
        "colab": {
          "base_uri": "https://localhost:8080/"
        },
        "outputId": "96083688-2a5a-471c-d2e5-04f30f8a7dc5"
      },
      "execution_count": 24,
      "outputs": [
        {
          "output_type": "execute_result",
          "data": {
            "text/plain": [
              "0       False\n",
              "1       False\n",
              "2       False\n",
              "3       False\n",
              "4       False\n",
              "        ...  \n",
              "3750    False\n",
              "3751    False\n",
              "3752    False\n",
              "3753    False\n",
              "3754    False\n",
              "Length: 3755, dtype: bool"
            ]
          },
          "metadata": {},
          "execution_count": 24
        }
      ]
    },
    {
      "cell_type": "code",
      "source": [
        "# remove duplicated rows\n",
        "df.drop_duplicates(inplace=True)"
      ],
      "metadata": {
        "id": "kT6WZC0T828E"
      },
      "execution_count": 25,
      "outputs": []
    },
    {
      "cell_type": "code",
      "source": [
        "# check number of rows after removed the duplication\n",
        "df.shape"
      ],
      "metadata": {
        "colab": {
          "base_uri": "https://localhost:8080/"
        },
        "id": "rlE57Y-JGA2a",
        "outputId": "ba38a039-40ea-4337-a93b-c01e036b172a"
      },
      "execution_count": 26,
      "outputs": [
        {
          "output_type": "execute_result",
          "data": {
            "text/plain": [
              "(2584, 11)"
            ]
          },
          "metadata": {},
          "execution_count": 26
        }
      ]
    },
    {
      "cell_type": "markdown",
      "source": [
        "### Data Encoding for catagoical columns (preprocessing)"
      ],
      "metadata": {
        "id": "1_ybKxh1gzoG"
      }
    },
    {
      "cell_type": "code",
      "source": [
        "df.info()"
      ],
      "metadata": {
        "colab": {
          "base_uri": "https://localhost:8080/"
        },
        "id": "TVsGS_HZRlXX",
        "outputId": "cc696d1f-c4f9-4ad7-fb8d-98b5b5ca5c8b"
      },
      "execution_count": 27,
      "outputs": [
        {
          "output_type": "stream",
          "name": "stdout",
          "text": [
            "<class 'pandas.core.frame.DataFrame'>\n",
            "Int64Index: 2584 entries, 0 to 3754\n",
            "Data columns (total 11 columns):\n",
            " #   Column              Non-Null Count  Dtype \n",
            "---  ------              --------------  ----- \n",
            " 0   work_year           2584 non-null   int64 \n",
            " 1   experience_level    2584 non-null   object\n",
            " 2   employment_type     2584 non-null   object\n",
            " 3   job_title           2584 non-null   object\n",
            " 4   salary              2584 non-null   int64 \n",
            " 5   salary_currency     2584 non-null   object\n",
            " 6   salary_in_usd       2584 non-null   int64 \n",
            " 7   employee_residence  2584 non-null   object\n",
            " 8   remote_ratio        2584 non-null   int64 \n",
            " 9   company_location    2584 non-null   object\n",
            " 10  company_size        2584 non-null   object\n",
            "dtypes: int64(4), object(7)\n",
            "memory usage: 242.2+ KB\n"
          ]
        }
      ]
    },
    {
      "cell_type": "code",
      "source": [
        "from sklearn.preprocessing import LabelEncoder\n",
        "# encoding 'experience_level' is the column with job titles.\n",
        "# Initialize the label encoder\n",
        "label_encoder = LabelEncoder()\n",
        "\n",
        "# Fit label encoder and return encoded labels\n",
        "df['experience_level_encoded'] = label_encoder.fit_transform(df['experience_level'])\n",
        "\n",
        "# Now df['job_title_encoded'] contains the encoded values for the job titles\n",
        "df['experience_level_encoded']"
      ],
      "metadata": {
        "colab": {
          "base_uri": "https://localhost:8080/"
        },
        "id": "JEUder5hRicU",
        "outputId": "b89e7bba-9214-4702-9c76-83d647dc5438"
      },
      "execution_count": 29,
      "outputs": [
        {
          "output_type": "execute_result",
          "data": {
            "text/plain": [
              "0       3\n",
              "1       2\n",
              "2       2\n",
              "3       3\n",
              "4       3\n",
              "       ..\n",
              "3750    3\n",
              "3751    2\n",
              "3752    0\n",
              "3753    0\n",
              "3754    3\n",
              "Name: experience_level_encoded, Length: 2584, dtype: int64"
            ]
          },
          "metadata": {},
          "execution_count": 29
        }
      ]
    },
    {
      "cell_type": "code",
      "source": [
        "# encoding 'employment_type' is the column with job titles.\n",
        "# Initialize the label encoder\n",
        "label_encoder = LabelEncoder()\n",
        "\n",
        "# Fit label encoder and return encoded labels\n",
        "df['employment_type_encoded'] = label_encoder.fit_transform(df['employment_type'])\n",
        "\n",
        "# Now df['job_title_encoded'] contains the encoded values for the job titles\n",
        "df['employment_type_encoded']"
      ],
      "metadata": {
        "id": "cg8BdNWOSEN7"
      },
      "execution_count": null,
      "outputs": []
    },
    {
      "cell_type": "code",
      "source": [
        "# encoding 'job_title' is the column with job titles.\n",
        "# Initialize the label encoder\n",
        "label_encoder = LabelEncoder()\n",
        "\n",
        "# Fit label encoder and return encoded labels\n",
        "df['job_title_encoded'] = label_encoder.fit_transform(df['job_title'])\n",
        "\n",
        "# Now df['job_title_encoded'] contains the encoded values for the job titles\n",
        "df['job_title_encoded']"
      ],
      "metadata": {
        "colab": {
          "base_uri": "https://localhost:8080/"
        },
        "id": "qdoxepe-M-d4",
        "outputId": "703f62f7-0a39-4327-83ea-a851e619fd4b"
      },
      "execution_count": 32,
      "outputs": [
        {
          "output_type": "execute_result",
          "data": {
            "text/plain": [
              "0       84\n",
              "1       66\n",
              "2       66\n",
              "3       47\n",
              "4       47\n",
              "        ..\n",
              "3750    47\n",
              "3751    84\n",
              "3752    47\n",
              "3753    17\n",
              "3754    45\n",
              "Name: job_title_encoded, Length: 2584, dtype: int64"
            ]
          },
          "metadata": {},
          "execution_count": 32
        }
      ]
    },
    {
      "cell_type": "code",
      "source": [
        "# encoding 'salary_currency' is the column with job titles.\n",
        "# Initialize the label encoder\n",
        "label_encoder = LabelEncoder()\n",
        "\n",
        "# Fit label encoder and return encoded labels\n",
        "df['salary_currency_encoded'] = label_encoder.fit_transform(df['salary_currency'])\n",
        "\n",
        "# Now df['job_title_encoded'] contains the encoded values for the job titles\n",
        "df['salary_currency_encoded']"
      ],
      "metadata": {
        "id": "PfDEOOc2g5gN",
        "colab": {
          "base_uri": "https://localhost:8080/"
        },
        "outputId": "cc3f4119-5003-46c1-e417-f1a7bea38542"
      },
      "execution_count": 31,
      "outputs": [
        {
          "output_type": "execute_result",
          "data": {
            "text/plain": [
              "0        7\n",
              "1       19\n",
              "2       19\n",
              "3       19\n",
              "4       19\n",
              "        ..\n",
              "3750    19\n",
              "3751    19\n",
              "3752    19\n",
              "3753    19\n",
              "3754    12\n",
              "Name: salary_currency_encoded, Length: 2584, dtype: int64"
            ]
          },
          "metadata": {},
          "execution_count": 31
        }
      ]
    },
    {
      "cell_type": "code",
      "source": [
        "\n",
        "# encoding 'employee_residence' is the column with job titles.\n",
        "# Initialize the label encoder\n",
        "label_encoder = LabelEncoder()\n",
        "\n",
        "# Fit label encoder and return encoded labels\n",
        "df['employee_residence_encoded'] = label_encoder.fit_transform(df['employee_residence'])\n",
        "\n",
        "# Now df['job_title_encoded'] contains the encoded values for the job titles\n",
        "df['employee_residence_encoded']"
      ],
      "metadata": {
        "colab": {
          "base_uri": "https://localhost:8080/"
        },
        "id": "IIDmlOpvS-cP",
        "outputId": "2bd30878-ce2c-4753-9309-2ad99303ca3e"
      },
      "execution_count": 33,
      "outputs": [
        {
          "output_type": "execute_result",
          "data": {
            "text/plain": [
              "0       26\n",
              "1       75\n",
              "2       75\n",
              "3       11\n",
              "4       11\n",
              "        ..\n",
              "3750    75\n",
              "3751    75\n",
              "3752    75\n",
              "3753    75\n",
              "3754    39\n",
              "Name: employee_residence_encoded, Length: 2584, dtype: int64"
            ]
          },
          "metadata": {},
          "execution_count": 33
        }
      ]
    },
    {
      "cell_type": "code",
      "source": [
        "# encoding 'company_location' is the column with job titles.\n",
        "# Initialize the label encoder\n",
        "label_encoder = LabelEncoder()\n",
        "\n",
        "# Fit label encoder and return encoded labels\n",
        "df['company_location_encoded'] = label_encoder.fit_transform(df['company_location'])\n",
        "\n",
        "# Now df['job_title_encoded'] contains the encoded values for the job titles\n",
        "df['company_location_encoded']"
      ],
      "metadata": {
        "colab": {
          "base_uri": "https://localhost:8080/"
        },
        "id": "2fZp2oVZTpIg",
        "outputId": "16d9a4f9-b210-41b2-8032-8ff5adf5b3b1"
      },
      "execution_count": 34,
      "outputs": [
        {
          "output_type": "execute_result",
          "data": {
            "text/plain": [
              "0       25\n",
              "1       70\n",
              "2       70\n",
              "3       12\n",
              "4       12\n",
              "        ..\n",
              "3750    70\n",
              "3751    70\n",
              "3752    70\n",
              "3753    70\n",
              "3754    38\n",
              "Name: company_location_encoded, Length: 2584, dtype: int64"
            ]
          },
          "metadata": {},
          "execution_count": 34
        }
      ]
    },
    {
      "cell_type": "code",
      "source": [
        "# encoding 'company_size ' is the column with job titles.\n",
        "# Initialize the label encoder\n",
        "label_encoder = LabelEncoder()\n",
        "\n",
        "# Fit label encoder and return encoded labels\n",
        "df['company_size_encoded'] = label_encoder.fit_transform(df['company_size'])\n",
        "\n",
        "# Now df['job_title_encoded'] contains the encoded values for the job titles\n",
        "df['company_size_encoded']"
      ],
      "metadata": {
        "colab": {
          "base_uri": "https://localhost:8080/"
        },
        "id": "IuMzU5uCTbZf",
        "outputId": "822cf248-220a-4e26-808f-17458325e130"
      },
      "execution_count": 35,
      "outputs": [
        {
          "output_type": "execute_result",
          "data": {
            "text/plain": [
              "0       0\n",
              "1       2\n",
              "2       2\n",
              "3       1\n",
              "4       1\n",
              "       ..\n",
              "3750    0\n",
              "3751    0\n",
              "3752    2\n",
              "3753    0\n",
              "3754    0\n",
              "Name: company_size_encoded, Length: 2584, dtype: int64"
            ]
          },
          "metadata": {},
          "execution_count": 35
        }
      ]
    },
    {
      "cell_type": "code",
      "source": [
        "df.info()"
      ],
      "metadata": {
        "colab": {
          "base_uri": "https://localhost:8080/"
        },
        "id": "MzSg09ULT6jw",
        "outputId": "ad6c0264-8cf5-4cc7-ddb9-35762f0e5ea7"
      },
      "execution_count": 36,
      "outputs": [
        {
          "output_type": "stream",
          "name": "stdout",
          "text": [
            "<class 'pandas.core.frame.DataFrame'>\n",
            "Int64Index: 2584 entries, 0 to 3754\n",
            "Data columns (total 18 columns):\n",
            " #   Column                      Non-Null Count  Dtype \n",
            "---  ------                      --------------  ----- \n",
            " 0   work_year                   2584 non-null   int64 \n",
            " 1   experience_level            2584 non-null   object\n",
            " 2   employment_type             2584 non-null   object\n",
            " 3   job_title                   2584 non-null   object\n",
            " 4   salary                      2584 non-null   int64 \n",
            " 5   salary_currency             2584 non-null   object\n",
            " 6   salary_in_usd               2584 non-null   int64 \n",
            " 7   employee_residence          2584 non-null   object\n",
            " 8   remote_ratio                2584 non-null   int64 \n",
            " 9   company_location            2584 non-null   object\n",
            " 10  company_size                2584 non-null   object\n",
            " 11  experience_level_encoded    2584 non-null   int64 \n",
            " 12  employment_type_encoded     2584 non-null   int64 \n",
            " 13  salary_currency_encoded     2584 non-null   int64 \n",
            " 14  job_title_encoded           2584 non-null   int64 \n",
            " 15  employee_residence_encoded  2584 non-null   int64 \n",
            " 16  company_location_encoded    2584 non-null   int64 \n",
            " 17  company_size_encoded        2584 non-null   int64 \n",
            "dtypes: int64(11), object(7)\n",
            "memory usage: 383.6+ KB\n"
          ]
        }
      ]
    },
    {
      "cell_type": "markdown",
      "source": [
        "###Normalization and Standarization of data to convert it from 0 to 1"
      ],
      "metadata": {
        "id": "bE6zdvWeUIdA"
      }
    },
    {
      "cell_type": "code",
      "source": [
        "from sklearn.preprocessing import MinMaxScaler\n",
        "import pandas as pd\n",
        "\n",
        "# Assuming 'df' is your DataFrame\n",
        "\n",
        "# Initialize the MinMaxScaler to scale the data between 0 and 1\n",
        "scaler = MinMaxScaler()\n",
        "\n",
        "# Select the numerical (int64 and float64) columns in the DataFrame\n",
        "numerical_columns = df.select_dtypes(include=['int64', 'float64']).columns\n",
        "\n",
        "# Fit the scaler to the data and then transform it\n",
        "df[numerical_columns] = scaler.fit_transform(df[numerical_columns])"
      ],
      "metadata": {
        "id": "5H9w_HxEUXBx"
      },
      "execution_count": 37,
      "outputs": []
    },
    {
      "cell_type": "code",
      "source": [
        "df.head()"
      ],
      "metadata": {
        "colab": {
          "base_uri": "https://localhost:8080/",
          "height": 330
        },
        "id": "LiEFJaU6WUTM",
        "outputId": "28be4990-9d63-41c6-c47a-a0134bb07ead"
      },
      "execution_count": 38,
      "outputs": [
        {
          "output_type": "execute_result",
          "data": {
            "text/plain": [
              "   work_year experience_level employment_type                 job_title  \\\n",
              "0        1.0               SE              FT  Principal Data Scientist   \n",
              "1        1.0               MI              CT               ML Engineer   \n",
              "2        1.0               MI              CT               ML Engineer   \n",
              "3        1.0               SE              FT            Data Scientist   \n",
              "4        1.0               SE              FT            Data Scientist   \n",
              "\n",
              "     salary salary_currency  salary_in_usd employee_residence  remote_ratio  \\\n",
              "0  0.002435             EUR       0.181436                 ES           1.0   \n",
              "1  0.000790             USD       0.055900                 US           1.0   \n",
              "2  0.000642             USD       0.045784                 US           1.0   \n",
              "3  0.005560             USD       0.381839                 CA           1.0   \n",
              "4  0.003751             USD       0.258207                 CA           1.0   \n",
              "\n",
              "  company_location company_size  experience_level_encoded  \\\n",
              "0               ES            L                  1.000000   \n",
              "1               US            S                  0.666667   \n",
              "2               US            S                  0.666667   \n",
              "3               CA            M                  1.000000   \n",
              "4               CA            M                  1.000000   \n",
              "\n",
              "   employment_type_encoded  salary_currency_encoded  job_title_encoded  \\\n",
              "0                 0.666667                 0.368421           0.913043   \n",
              "1                 0.000000                 1.000000           0.717391   \n",
              "2                 0.000000                 1.000000           0.717391   \n",
              "3                 0.666667                 1.000000           0.510870   \n",
              "4                 0.666667                 1.000000           0.510870   \n",
              "\n",
              "   employee_residence_encoded  company_location_encoded  company_size_encoded  \n",
              "0                    0.337662                  0.352113                   0.0  \n",
              "1                    0.974026                  0.985915                   1.0  \n",
              "2                    0.974026                  0.985915                   1.0  \n",
              "3                    0.142857                  0.169014                   0.5  \n",
              "4                    0.142857                  0.169014                   0.5  "
            ],
            "text/html": [
              "\n",
              "  <div id=\"df-46d77212-0c12-466f-a6bc-bda92ceb40dd\" class=\"colab-df-container\">\n",
              "    <div>\n",
              "<style scoped>\n",
              "    .dataframe tbody tr th:only-of-type {\n",
              "        vertical-align: middle;\n",
              "    }\n",
              "\n",
              "    .dataframe tbody tr th {\n",
              "        vertical-align: top;\n",
              "    }\n",
              "\n",
              "    .dataframe thead th {\n",
              "        text-align: right;\n",
              "    }\n",
              "</style>\n",
              "<table border=\"1\" class=\"dataframe\">\n",
              "  <thead>\n",
              "    <tr style=\"text-align: right;\">\n",
              "      <th></th>\n",
              "      <th>work_year</th>\n",
              "      <th>experience_level</th>\n",
              "      <th>employment_type</th>\n",
              "      <th>job_title</th>\n",
              "      <th>salary</th>\n",
              "      <th>salary_currency</th>\n",
              "      <th>salary_in_usd</th>\n",
              "      <th>employee_residence</th>\n",
              "      <th>remote_ratio</th>\n",
              "      <th>company_location</th>\n",
              "      <th>company_size</th>\n",
              "      <th>experience_level_encoded</th>\n",
              "      <th>employment_type_encoded</th>\n",
              "      <th>salary_currency_encoded</th>\n",
              "      <th>job_title_encoded</th>\n",
              "      <th>employee_residence_encoded</th>\n",
              "      <th>company_location_encoded</th>\n",
              "      <th>company_size_encoded</th>\n",
              "    </tr>\n",
              "  </thead>\n",
              "  <tbody>\n",
              "    <tr>\n",
              "      <th>0</th>\n",
              "      <td>1.0</td>\n",
              "      <td>SE</td>\n",
              "      <td>FT</td>\n",
              "      <td>Principal Data Scientist</td>\n",
              "      <td>0.002435</td>\n",
              "      <td>EUR</td>\n",
              "      <td>0.181436</td>\n",
              "      <td>ES</td>\n",
              "      <td>1.0</td>\n",
              "      <td>ES</td>\n",
              "      <td>L</td>\n",
              "      <td>1.000000</td>\n",
              "      <td>0.666667</td>\n",
              "      <td>0.368421</td>\n",
              "      <td>0.913043</td>\n",
              "      <td>0.337662</td>\n",
              "      <td>0.352113</td>\n",
              "      <td>0.0</td>\n",
              "    </tr>\n",
              "    <tr>\n",
              "      <th>1</th>\n",
              "      <td>1.0</td>\n",
              "      <td>MI</td>\n",
              "      <td>CT</td>\n",
              "      <td>ML Engineer</td>\n",
              "      <td>0.000790</td>\n",
              "      <td>USD</td>\n",
              "      <td>0.055900</td>\n",
              "      <td>US</td>\n",
              "      <td>1.0</td>\n",
              "      <td>US</td>\n",
              "      <td>S</td>\n",
              "      <td>0.666667</td>\n",
              "      <td>0.000000</td>\n",
              "      <td>1.000000</td>\n",
              "      <td>0.717391</td>\n",
              "      <td>0.974026</td>\n",
              "      <td>0.985915</td>\n",
              "      <td>1.0</td>\n",
              "    </tr>\n",
              "    <tr>\n",
              "      <th>2</th>\n",
              "      <td>1.0</td>\n",
              "      <td>MI</td>\n",
              "      <td>CT</td>\n",
              "      <td>ML Engineer</td>\n",
              "      <td>0.000642</td>\n",
              "      <td>USD</td>\n",
              "      <td>0.045784</td>\n",
              "      <td>US</td>\n",
              "      <td>1.0</td>\n",
              "      <td>US</td>\n",
              "      <td>S</td>\n",
              "      <td>0.666667</td>\n",
              "      <td>0.000000</td>\n",
              "      <td>1.000000</td>\n",
              "      <td>0.717391</td>\n",
              "      <td>0.974026</td>\n",
              "      <td>0.985915</td>\n",
              "      <td>1.0</td>\n",
              "    </tr>\n",
              "    <tr>\n",
              "      <th>3</th>\n",
              "      <td>1.0</td>\n",
              "      <td>SE</td>\n",
              "      <td>FT</td>\n",
              "      <td>Data Scientist</td>\n",
              "      <td>0.005560</td>\n",
              "      <td>USD</td>\n",
              "      <td>0.381839</td>\n",
              "      <td>CA</td>\n",
              "      <td>1.0</td>\n",
              "      <td>CA</td>\n",
              "      <td>M</td>\n",
              "      <td>1.000000</td>\n",
              "      <td>0.666667</td>\n",
              "      <td>1.000000</td>\n",
              "      <td>0.510870</td>\n",
              "      <td>0.142857</td>\n",
              "      <td>0.169014</td>\n",
              "      <td>0.5</td>\n",
              "    </tr>\n",
              "    <tr>\n",
              "      <th>4</th>\n",
              "      <td>1.0</td>\n",
              "      <td>SE</td>\n",
              "      <td>FT</td>\n",
              "      <td>Data Scientist</td>\n",
              "      <td>0.003751</td>\n",
              "      <td>USD</td>\n",
              "      <td>0.258207</td>\n",
              "      <td>CA</td>\n",
              "      <td>1.0</td>\n",
              "      <td>CA</td>\n",
              "      <td>M</td>\n",
              "      <td>1.000000</td>\n",
              "      <td>0.666667</td>\n",
              "      <td>1.000000</td>\n",
              "      <td>0.510870</td>\n",
              "      <td>0.142857</td>\n",
              "      <td>0.169014</td>\n",
              "      <td>0.5</td>\n",
              "    </tr>\n",
              "  </tbody>\n",
              "</table>\n",
              "</div>\n",
              "    <div class=\"colab-df-buttons\">\n",
              "\n",
              "  <div class=\"colab-df-container\">\n",
              "    <button class=\"colab-df-convert\" onclick=\"convertToInteractive('df-46d77212-0c12-466f-a6bc-bda92ceb40dd')\"\n",
              "            title=\"Convert this dataframe to an interactive table.\"\n",
              "            style=\"display:none;\">\n",
              "\n",
              "  <svg xmlns=\"http://www.w3.org/2000/svg\" height=\"24px\" viewBox=\"0 -960 960 960\">\n",
              "    <path d=\"M120-120v-720h720v720H120Zm60-500h600v-160H180v160Zm220 220h160v-160H400v160Zm0 220h160v-160H400v160ZM180-400h160v-160H180v160Zm440 0h160v-160H620v160ZM180-180h160v-160H180v160Zm440 0h160v-160H620v160Z\"/>\n",
              "  </svg>\n",
              "    </button>\n",
              "\n",
              "  <style>\n",
              "    .colab-df-container {\n",
              "      display:flex;\n",
              "      gap: 12px;\n",
              "    }\n",
              "\n",
              "    .colab-df-convert {\n",
              "      background-color: #E8F0FE;\n",
              "      border: none;\n",
              "      border-radius: 50%;\n",
              "      cursor: pointer;\n",
              "      display: none;\n",
              "      fill: #1967D2;\n",
              "      height: 32px;\n",
              "      padding: 0 0 0 0;\n",
              "      width: 32px;\n",
              "    }\n",
              "\n",
              "    .colab-df-convert:hover {\n",
              "      background-color: #E2EBFA;\n",
              "      box-shadow: 0px 1px 2px rgba(60, 64, 67, 0.3), 0px 1px 3px 1px rgba(60, 64, 67, 0.15);\n",
              "      fill: #174EA6;\n",
              "    }\n",
              "\n",
              "    .colab-df-buttons div {\n",
              "      margin-bottom: 4px;\n",
              "    }\n",
              "\n",
              "    [theme=dark] .colab-df-convert {\n",
              "      background-color: #3B4455;\n",
              "      fill: #D2E3FC;\n",
              "    }\n",
              "\n",
              "    [theme=dark] .colab-df-convert:hover {\n",
              "      background-color: #434B5C;\n",
              "      box-shadow: 0px 1px 3px 1px rgba(0, 0, 0, 0.15);\n",
              "      filter: drop-shadow(0px 1px 2px rgba(0, 0, 0, 0.3));\n",
              "      fill: #FFFFFF;\n",
              "    }\n",
              "  </style>\n",
              "\n",
              "    <script>\n",
              "      const buttonEl =\n",
              "        document.querySelector('#df-46d77212-0c12-466f-a6bc-bda92ceb40dd button.colab-df-convert');\n",
              "      buttonEl.style.display =\n",
              "        google.colab.kernel.accessAllowed ? 'block' : 'none';\n",
              "\n",
              "      async function convertToInteractive(key) {\n",
              "        const element = document.querySelector('#df-46d77212-0c12-466f-a6bc-bda92ceb40dd');\n",
              "        const dataTable =\n",
              "          await google.colab.kernel.invokeFunction('convertToInteractive',\n",
              "                                                    [key], {});\n",
              "        if (!dataTable) return;\n",
              "\n",
              "        const docLinkHtml = 'Like what you see? Visit the ' +\n",
              "          '<a target=\"_blank\" href=https://colab.research.google.com/notebooks/data_table.ipynb>data table notebook</a>'\n",
              "          + ' to learn more about interactive tables.';\n",
              "        element.innerHTML = '';\n",
              "        dataTable['output_type'] = 'display_data';\n",
              "        await google.colab.output.renderOutput(dataTable, element);\n",
              "        const docLink = document.createElement('div');\n",
              "        docLink.innerHTML = docLinkHtml;\n",
              "        element.appendChild(docLink);\n",
              "      }\n",
              "    </script>\n",
              "  </div>\n",
              "\n",
              "\n",
              "<div id=\"df-7fa120a1-e448-4059-a420-0f2e04c8c539\">\n",
              "  <button class=\"colab-df-quickchart\" onclick=\"quickchart('df-7fa120a1-e448-4059-a420-0f2e04c8c539')\"\n",
              "            title=\"Suggest charts\"\n",
              "            style=\"display:none;\">\n",
              "\n",
              "<svg xmlns=\"http://www.w3.org/2000/svg\" height=\"24px\"viewBox=\"0 0 24 24\"\n",
              "     width=\"24px\">\n",
              "    <g>\n",
              "        <path d=\"M19 3H5c-1.1 0-2 .9-2 2v14c0 1.1.9 2 2 2h14c1.1 0 2-.9 2-2V5c0-1.1-.9-2-2-2zM9 17H7v-7h2v7zm4 0h-2V7h2v10zm4 0h-2v-4h2v4z\"/>\n",
              "    </g>\n",
              "</svg>\n",
              "  </button>\n",
              "\n",
              "<style>\n",
              "  .colab-df-quickchart {\n",
              "      --bg-color: #E8F0FE;\n",
              "      --fill-color: #1967D2;\n",
              "      --hover-bg-color: #E2EBFA;\n",
              "      --hover-fill-color: #174EA6;\n",
              "      --disabled-fill-color: #AAA;\n",
              "      --disabled-bg-color: #DDD;\n",
              "  }\n",
              "\n",
              "  [theme=dark] .colab-df-quickchart {\n",
              "      --bg-color: #3B4455;\n",
              "      --fill-color: #D2E3FC;\n",
              "      --hover-bg-color: #434B5C;\n",
              "      --hover-fill-color: #FFFFFF;\n",
              "      --disabled-bg-color: #3B4455;\n",
              "      --disabled-fill-color: #666;\n",
              "  }\n",
              "\n",
              "  .colab-df-quickchart {\n",
              "    background-color: var(--bg-color);\n",
              "    border: none;\n",
              "    border-radius: 50%;\n",
              "    cursor: pointer;\n",
              "    display: none;\n",
              "    fill: var(--fill-color);\n",
              "    height: 32px;\n",
              "    padding: 0;\n",
              "    width: 32px;\n",
              "  }\n",
              "\n",
              "  .colab-df-quickchart:hover {\n",
              "    background-color: var(--hover-bg-color);\n",
              "    box-shadow: 0 1px 2px rgba(60, 64, 67, 0.3), 0 1px 3px 1px rgba(60, 64, 67, 0.15);\n",
              "    fill: var(--button-hover-fill-color);\n",
              "  }\n",
              "\n",
              "  .colab-df-quickchart-complete:disabled,\n",
              "  .colab-df-quickchart-complete:disabled:hover {\n",
              "    background-color: var(--disabled-bg-color);\n",
              "    fill: var(--disabled-fill-color);\n",
              "    box-shadow: none;\n",
              "  }\n",
              "\n",
              "  .colab-df-spinner {\n",
              "    border: 2px solid var(--fill-color);\n",
              "    border-color: transparent;\n",
              "    border-bottom-color: var(--fill-color);\n",
              "    animation:\n",
              "      spin 1s steps(1) infinite;\n",
              "  }\n",
              "\n",
              "  @keyframes spin {\n",
              "    0% {\n",
              "      border-color: transparent;\n",
              "      border-bottom-color: var(--fill-color);\n",
              "      border-left-color: var(--fill-color);\n",
              "    }\n",
              "    20% {\n",
              "      border-color: transparent;\n",
              "      border-left-color: var(--fill-color);\n",
              "      border-top-color: var(--fill-color);\n",
              "    }\n",
              "    30% {\n",
              "      border-color: transparent;\n",
              "      border-left-color: var(--fill-color);\n",
              "      border-top-color: var(--fill-color);\n",
              "      border-right-color: var(--fill-color);\n",
              "    }\n",
              "    40% {\n",
              "      border-color: transparent;\n",
              "      border-right-color: var(--fill-color);\n",
              "      border-top-color: var(--fill-color);\n",
              "    }\n",
              "    60% {\n",
              "      border-color: transparent;\n",
              "      border-right-color: var(--fill-color);\n",
              "    }\n",
              "    80% {\n",
              "      border-color: transparent;\n",
              "      border-right-color: var(--fill-color);\n",
              "      border-bottom-color: var(--fill-color);\n",
              "    }\n",
              "    90% {\n",
              "      border-color: transparent;\n",
              "      border-bottom-color: var(--fill-color);\n",
              "    }\n",
              "  }\n",
              "</style>\n",
              "\n",
              "  <script>\n",
              "    async function quickchart(key) {\n",
              "      const quickchartButtonEl =\n",
              "        document.querySelector('#' + key + ' button');\n",
              "      quickchartButtonEl.disabled = true;  // To prevent multiple clicks.\n",
              "      quickchartButtonEl.classList.add('colab-df-spinner');\n",
              "      try {\n",
              "        const charts = await google.colab.kernel.invokeFunction(\n",
              "            'suggestCharts', [key], {});\n",
              "      } catch (error) {\n",
              "        console.error('Error during call to suggestCharts:', error);\n",
              "      }\n",
              "      quickchartButtonEl.classList.remove('colab-df-spinner');\n",
              "      quickchartButtonEl.classList.add('colab-df-quickchart-complete');\n",
              "    }\n",
              "    (() => {\n",
              "      let quickchartButtonEl =\n",
              "        document.querySelector('#df-7fa120a1-e448-4059-a420-0f2e04c8c539 button');\n",
              "      quickchartButtonEl.style.display =\n",
              "        google.colab.kernel.accessAllowed ? 'block' : 'none';\n",
              "    })();\n",
              "  </script>\n",
              "</div>\n",
              "\n",
              "    </div>\n",
              "  </div>\n"
            ],
            "application/vnd.google.colaboratory.intrinsic+json": {
              "type": "dataframe",
              "variable_name": "df",
              "summary": "{\n  \"name\": \"df\",\n  \"rows\": 2584,\n  \"fields\": [\n    {\n      \"column\": \"work_year\",\n      \"properties\": {\n        \"dtype\": \"number\",\n        \"std\": 0.2497262204550785,\n        \"min\": 0.0,\n        \"max\": 1.0,\n        \"samples\": [\n          0.6666666666667425,\n          0.33333333333337123,\n          1.0\n        ],\n        \"num_unique_values\": 4,\n        \"semantic_type\": \"\",\n        \"description\": \"\"\n      }\n    },\n    {\n      \"column\": \"experience_level\",\n      \"properties\": {\n        \"dtype\": \"category\",\n        \"samples\": [\n          \"MI\",\n          \"EX\",\n          \"SE\"\n        ],\n        \"num_unique_values\": 4,\n        \"semantic_type\": \"\",\n        \"description\": \"\"\n      }\n    },\n    {\n      \"column\": \"employment_type\",\n      \"properties\": {\n        \"dtype\": \"category\",\n        \"samples\": [\n          \"CT\",\n          \"PT\",\n          \"FT\"\n        ],\n        \"num_unique_values\": 4,\n        \"semantic_type\": \"\",\n        \"description\": \"\"\n      }\n    },\n    {\n      \"column\": \"job_title\",\n      \"properties\": {\n        \"dtype\": \"category\",\n        \"samples\": [\n          \"Cloud Database Engineer\",\n          \"Staff Data Analyst\",\n          \"Insight Analyst\"\n        ],\n        \"num_unique_values\": 93,\n        \"semantic_type\": \"\",\n        \"description\": \"\"\n      }\n    },\n    {\n      \"column\": \"salary\",\n      \"properties\": {\n        \"dtype\": \"number\",\n        \"std\": 0.026585429216582048,\n        \"min\": 0.0,\n        \"max\": 0.9999999999999999,\n        \"samples\": [\n          0.002585049680858064,\n          0.0043429624267947615,\n          0.011976047904191616\n        ],\n        \"num_unique_values\": 815,\n        \"semantic_type\": \"\",\n        \"description\": \"\"\n      }\n    },\n    {\n      \"column\": \"salary_currency\",\n      \"properties\": {\n        \"dtype\": \"category\",\n        \"samples\": [\n          \"EUR\",\n          \"MXN\",\n          \"DKK\"\n        ],\n        \"num_unique_values\": 20,\n        \"semantic_type\": \"\",\n        \"description\": \"\"\n      }\n    },\n    {\n      \"column\": \"salary_in_usd\",\n      \"properties\": {\n        \"dtype\": \"number\",\n        \"std\": 0.15091406288887974,\n        \"min\": 0.0,\n        \"max\": 1.0,\n        \"samples\": [\n          0.45062355575136903,\n          0.8314106656356494,\n          0.30473758508141746\n        ],\n        \"num_unique_values\": 1035,\n        \"semantic_type\": \"\",\n        \"description\": \"\"\n      }\n    },\n    {\n      \"column\": \"employee_residence\",\n      \"properties\": {\n        \"dtype\": \"category\",\n        \"samples\": [\n          \"AR\",\n          \"ES\",\n          \"AM\"\n        ],\n        \"num_unique_values\": 78,\n        \"semantic_type\": \"\",\n        \"description\": \"\"\n      }\n    },\n    {\n      \"column\": \"remote_ratio\",\n      \"properties\": {\n        \"dtype\": \"number\",\n        \"std\": 0.4816370698234963,\n        \"min\": 0.0,\n        \"max\": 1.0,\n        \"samples\": [\n          1.0,\n          0.0,\n          0.5\n        ],\n        \"num_unique_values\": 3,\n        \"semantic_type\": \"\",\n        \"description\": \"\"\n      }\n    },\n    {\n      \"column\": \"company_location\",\n      \"properties\": {\n        \"dtype\": \"category\",\n        \"samples\": [\n          \"GB\",\n          \"MY\",\n          \"SG\"\n        ],\n        \"num_unique_values\": 72,\n        \"semantic_type\": \"\",\n        \"description\": \"\"\n      }\n    },\n    {\n      \"column\": \"company_size\",\n      \"properties\": {\n        \"dtype\": \"category\",\n        \"samples\": [\n          \"L\",\n          \"S\",\n          \"M\"\n        ],\n        \"num_unique_values\": 3,\n        \"semantic_type\": \"\",\n        \"description\": \"\"\n      }\n    },\n    {\n      \"column\": \"experience_level_encoded\",\n      \"properties\": {\n        \"dtype\": \"number\",\n        \"std\": 0.3215673067993623,\n        \"min\": 0.0,\n        \"max\": 1.0,\n        \"samples\": [\n          0.6666666666666666,\n          0.3333333333333333,\n          1.0\n        ],\n        \"num_unique_values\": 4,\n        \"semantic_type\": \"\",\n        \"description\": \"\"\n      }\n    },\n    {\n      \"column\": \"employment_type_encoded\",\n      \"properties\": {\n        \"dtype\": \"number\",\n        \"std\": 0.053658912961564866,\n        \"min\": 0.0,\n        \"max\": 1.0,\n        \"samples\": [\n          0.0,\n          1.0,\n          0.6666666666666666\n        ],\n        \"num_unique_values\": 4,\n        \"semantic_type\": \"\",\n        \"description\": \"\"\n      }\n    },\n    {\n      \"column\": \"salary_currency_encoded\",\n      \"properties\": {\n        \"dtype\": \"number\",\n        \"std\": 0.23865540634567528,\n        \"min\": 0.0,\n        \"max\": 1.0,\n        \"samples\": [\n          0.3684210526315789,\n          0.7368421052631579,\n          0.3157894736842105\n        ],\n        \"num_unique_values\": 20,\n        \"semantic_type\": \"\",\n        \"description\": \"\"\n      }\n    },\n    {\n      \"column\": \"job_title_encoded\",\n      \"properties\": {\n        \"dtype\": \"number\",\n        \"std\": 0.21756653744435223,\n        \"min\": 0.0,\n        \"max\": 1.0,\n        \"samples\": [\n          0.22826086956521738,\n          0.9891304347826086,\n          0.6630434782608695\n        ],\n        \"num_unique_values\": 93,\n        \"semantic_type\": \"\",\n        \"description\": \"\"\n      }\n    },\n    {\n      \"column\": \"employee_residence_encoded\",\n      \"properties\": {\n        \"dtype\": \"number\",\n        \"std\": 0.2780100792452342,\n        \"min\": 0.0,\n        \"max\": 1.0,\n        \"samples\": [\n          0.025974025974025976,\n          0.33766233766233766,\n          0.012987012987012988\n        ],\n        \"num_unique_values\": 78,\n        \"semantic_type\": \"\",\n        \"description\": \"\"\n      }\n    },\n    {\n      \"column\": \"company_location_encoded\",\n      \"properties\": {\n        \"dtype\": \"number\",\n        \"std\": 0.27454041972407356,\n        \"min\": 0.0,\n        \"max\": 1.0,\n        \"samples\": [\n          0.3943661971830986,\n          0.7323943661971831,\n          0.9014084507042254\n        ],\n        \"num_unique_values\": 72,\n        \"semantic_type\": \"\",\n        \"description\": \"\"\n      }\n    },\n    {\n      \"column\": \"company_size_encoded\",\n      \"properties\": {\n        \"dtype\": \"number\",\n        \"std\": 0.2263675232165205,\n        \"min\": 0.0,\n        \"max\": 1.0,\n        \"samples\": [\n          0.0,\n          1.0,\n          0.5\n        ],\n        \"num_unique_values\": 3,\n        \"semantic_type\": \"\",\n        \"description\": \"\"\n      }\n    }\n  ]\n}"
            }
          },
          "metadata": {},
          "execution_count": 38
        }
      ]
    },
    {
      "cell_type": "markdown",
      "source": [
        "## 1.4 Feature Correlation"
      ],
      "metadata": {
        "id": "i3h1z12shBLI"
      }
    },
    {
      "cell_type": "code",
      "source": [
        "# Calculate the correlation matrix\n",
        "corr = df.corr()\n",
        "\n",
        "# Set up the matplotlib figure\n",
        "plt.figure(figsize=(10, 8))\n",
        "\n",
        "# Draw the heatmap\n",
        "sns.heatmap(corr, annot=True, fmt=\".2f\", cmap='coolwarm', square=True)\n",
        "\n",
        "# Add title\n",
        "plt.title('Heatmap of Correlation Between Numerical Features')\n",
        "\n",
        "# Show the plot\n",
        "plt.show()"
      ],
      "metadata": {
        "colab": {
          "base_uri": "https://localhost:8080/",
          "height": 771
        },
        "id": "FA480K1XWqbQ",
        "outputId": "53d23847-012f-4aaa-a1fc-b91e39ed30f4"
      },
      "execution_count": 39,
      "outputs": [
        {
          "output_type": "stream",
          "name": "stderr",
          "text": [
            "<ipython-input-39-4efddab488d9>:2: FutureWarning: The default value of numeric_only in DataFrame.corr is deprecated. In a future version, it will default to False. Select only valid columns or specify the value of numeric_only to silence this warning.\n",
            "  corr = df.corr()\n"
          ]
        },
        {
          "output_type": "display_data",
          "data": {
            "text/plain": [
              "<Figure size 1000x800 with 2 Axes>"
            ],
            "image/png": "[encoded data removed]"
          },
          "metadata": {}
        }
      ]
    },
    {
      "cell_type": "code",
      "source": [
        "#saving the new dataframe into a csv file\n",
        "\n",
        "df.to_csv('ds_salaries_after_cleaning_and_processing.csv')\n",
        "\n"
      ],
      "metadata": {
        "id": "aO5xt8LCiJjv"
      },
      "execution_count": 41,
      "outputs": []
    }
  ]
}